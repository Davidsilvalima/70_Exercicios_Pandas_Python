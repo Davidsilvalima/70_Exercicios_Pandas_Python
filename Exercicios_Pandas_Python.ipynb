{
 "cells": [
  {
   "cell_type": "code",
   "execution_count": 1,
   "id": "4a783e93",
   "metadata": {},
   "outputs": [],
   "source": [
    "import numpy as np\n",
    "import pandas as pd"
   ]
  },
  {
   "cell_type": "code",
   "execution_count": null,
   "id": "0a377072",
   "metadata": {},
   "outputs": [],
   "source": []
  },
  {
   "cell_type": "code",
   "execution_count": null,
   "id": "d73101de",
   "metadata": {},
   "outputs": [],
   "source": []
  },
  {
   "cell_type": "code",
   "execution_count": 2,
   "id": "a9ed47d8",
   "metadata": {},
   "outputs": [],
   "source": [
    "lista =  ['a', 'b', 'c', 'd']\n",
    "serie1 = pd.Series(lista)"
   ]
  },
  {
   "cell_type": "code",
   "execution_count": 3,
   "id": "882ad56e",
   "metadata": {},
   "outputs": [
    {
     "data": {
      "text/plain": [
       "['a', 'b', 'c', 'd']"
      ]
     },
     "execution_count": 3,
     "metadata": {},
     "output_type": "execute_result"
    }
   ],
   "source": [
    "lista"
   ]
  },
  {
   "cell_type": "code",
   "execution_count": 4,
   "id": "a81adfb5",
   "metadata": {},
   "outputs": [
    {
     "data": {
      "text/plain": [
       "0    a\n",
       "1    b\n",
       "2    c\n",
       "3    d\n",
       "dtype: object"
      ]
     },
     "execution_count": 4,
     "metadata": {},
     "output_type": "execute_result"
    }
   ],
   "source": [
    "serie1"
   ]
  },
  {
   "cell_type": "code",
   "execution_count": 5,
   "id": "c2e97da7",
   "metadata": {},
   "outputs": [],
   "source": [
    "serie2 = pd.Series(lista, index= [10, 11, 12, 13])"
   ]
  },
  {
   "cell_type": "code",
   "execution_count": 6,
   "id": "646b1b81",
   "metadata": {},
   "outputs": [
    {
     "data": {
      "text/plain": [
       "10    a\n",
       "11    b\n",
       "12    c\n",
       "13    d\n",
       "dtype: object"
      ]
     },
     "execution_count": 6,
     "metadata": {},
     "output_type": "execute_result"
    }
   ],
   "source": [
    "serie2"
   ]
  },
  {
   "cell_type": "code",
   "execution_count": 8,
   "id": "de4f7b8c",
   "metadata": {},
   "outputs": [],
   "source": [
    "serie3 = pd.Series(10, index= range(1, 6), dtype= float)"
   ]
  },
  {
   "cell_type": "code",
   "execution_count": 9,
   "id": "01240575",
   "metadata": {},
   "outputs": [
    {
     "data": {
      "text/plain": [
       "1    10.0\n",
       "2    10.0\n",
       "3    10.0\n",
       "4    10.0\n",
       "5    10.0\n",
       "dtype: float64"
      ]
     },
     "execution_count": 9,
     "metadata": {},
     "output_type": "execute_result"
    }
   ],
   "source": [
    "serie3"
   ]
  },
  {
   "cell_type": "code",
   "execution_count": 28,
   "id": "2e002df1",
   "metadata": {},
   "outputs": [],
   "source": [
    "array= np.arange(10, 20, 2)"
   ]
  },
  {
   "cell_type": "code",
   "execution_count": 29,
   "id": "eddd9814",
   "metadata": {},
   "outputs": [],
   "source": [
    "serie4= pd.Series(array, index= range(1, 6), dtype= float)"
   ]
  },
  {
   "cell_type": "code",
   "execution_count": 30,
   "id": "890e0744",
   "metadata": {},
   "outputs": [
    {
     "data": {
      "text/plain": [
       "1    10.0\n",
       "2    12.0\n",
       "3    14.0\n",
       "4    16.0\n",
       "5    18.0\n",
       "dtype: float64"
      ]
     },
     "execution_count": 30,
     "metadata": {},
     "output_type": "execute_result"
    }
   ],
   "source": [
    "serie4"
   ]
  },
  {
   "cell_type": "markdown",
   "id": "50bb5965",
   "metadata": {},
   "source": [
    "Exercício 2\n",
    "Uma Series (array unidimensional) da biblioteca Pandas pode ser criada utilizando-se o construtor:\n",
    "\n",
    "pd.Series( data, index, dtype, copy )\n",
    "\n",
    "Então, podemos criar objetos do tipo Series a partir de array, dicionários, escalares e iteráveis. Com base nessas informações responda as questões a seguir.\n",
    "\n",
    "a) A partir da lista abaixo crie um objeto do tipo Series.\n",
    "\n",
    "data = ['k','w','z','y']\n",
    "\n",
    "Resultado esperado:\n",
    "\n",
    "0    k\n",
    "1    w\n",
    "2    z\n",
    "3    y\n",
    "dtype: object\n",
    "\n",
    "b) A partir do dicionário abaixo crie um objeto do tipo Series.\n",
    "\n",
    "dic = {'a':10,'b':30,'c':15,'d':12}\n",
    "\n",
    "Resultado esperado:\n",
    "\n",
    "a    10\n",
    "b    30\n",
    "c    15\n",
    "d    12\n",
    "dtype: int64\n",
    "\n",
    "c) Converta os objetos do tipo Series criados anteriormente para uma lista.\n",
    "\n",
    "Dica: use o método do pandas to_list().\n",
    "\n",
    "d) Converta os objetos do tipo Series criados nas letras a) e b) para DataFrame. Coloque um nome para as colunas. Use o construtor pd.DataFrame().\n",
    "\n",
    "Resultados esperados:\n",
    "\n",
    "\tLetras\n",
    "0\tk\n",
    "1\tw\n",
    "2\tz\n",
    "3\ty\n",
    "\n",
    "    Valores\n",
    "a\t10\n",
    "b\t30\n",
    "c\t15\n",
    "d\t12"
   ]
  },
  {
   "cell_type": "code",
   "execution_count": 31,
   "id": "fa1eceb5",
   "metadata": {},
   "outputs": [],
   "source": [
    "### a)\n",
    "data= ['k', 'w', 'z', 'y']\n",
    "serie1= pd.Series(data= data)"
   ]
  },
  {
   "cell_type": "code",
   "execution_count": 32,
   "id": "9d43fbad",
   "metadata": {},
   "outputs": [
    {
     "data": {
      "text/plain": [
       "0    k\n",
       "1    w\n",
       "2    z\n",
       "3    y\n",
       "dtype: object"
      ]
     },
     "execution_count": 32,
     "metadata": {},
     "output_type": "execute_result"
    }
   ],
   "source": [
    "serie1"
   ]
  },
  {
   "cell_type": "code",
   "execution_count": 33,
   "id": "f5678ee5",
   "metadata": {},
   "outputs": [],
   "source": [
    "### b) \n",
    "dic= {'a':10, 'b':30, 'c':15, 'd':12}\n",
    "serie2= pd.Series(data= dic)"
   ]
  },
  {
   "cell_type": "code",
   "execution_count": 34,
   "id": "5740daa5",
   "metadata": {},
   "outputs": [
    {
     "data": {
      "text/plain": [
       "a    10\n",
       "b    30\n",
       "c    15\n",
       "d    12\n",
       "dtype: int64"
      ]
     },
     "execution_count": 34,
     "metadata": {},
     "output_type": "execute_result"
    }
   ],
   "source": [
    "serie2"
   ]
  },
  {
   "cell_type": "code",
   "execution_count": 35,
   "id": "0244f882",
   "metadata": {},
   "outputs": [],
   "source": [
    "### c)\n",
    "lista1= serie1.to_list()\n",
    "lista2= serie2.to_list()"
   ]
  },
  {
   "cell_type": "code",
   "execution_count": 36,
   "id": "a890ecbf",
   "metadata": {},
   "outputs": [
    {
     "data": {
      "text/plain": [
       "['k', 'w', 'z', 'y']"
      ]
     },
     "execution_count": 36,
     "metadata": {},
     "output_type": "execute_result"
    }
   ],
   "source": [
    "lista1"
   ]
  },
  {
   "cell_type": "code",
   "execution_count": 37,
   "id": "5285a4c7",
   "metadata": {},
   "outputs": [
    {
     "data": {
      "text/plain": [
       "[10, 30, 15, 12]"
      ]
     },
     "execution_count": 37,
     "metadata": {},
     "output_type": "execute_result"
    }
   ],
   "source": [
    "lista2"
   ]
  },
  {
   "cell_type": "code",
   "execution_count": 38,
   "id": "2ad4b74b",
   "metadata": {},
   "outputs": [],
   "source": [
    "### d) \n",
    "df1= pd.DataFrame(serie1, columns= ['letras'])\n",
    "df2= pd.DataFrame(serie2, columns= ['valores'])"
   ]
  },
  {
   "cell_type": "code",
   "execution_count": 39,
   "id": "aa776553",
   "metadata": {},
   "outputs": [
    {
     "data": {
      "text/html": [
       "<div>\n",
       "<style scoped>\n",
       "    .dataframe tbody tr th:only-of-type {\n",
       "        vertical-align: middle;\n",
       "    }\n",
       "\n",
       "    .dataframe tbody tr th {\n",
       "        vertical-align: top;\n",
       "    }\n",
       "\n",
       "    .dataframe thead th {\n",
       "        text-align: right;\n",
       "    }\n",
       "</style>\n",
       "<table border=\"1\" class=\"dataframe\">\n",
       "  <thead>\n",
       "    <tr style=\"text-align: right;\">\n",
       "      <th></th>\n",
       "      <th>letras</th>\n",
       "    </tr>\n",
       "  </thead>\n",
       "  <tbody>\n",
       "    <tr>\n",
       "      <th>0</th>\n",
       "      <td>k</td>\n",
       "    </tr>\n",
       "    <tr>\n",
       "      <th>1</th>\n",
       "      <td>w</td>\n",
       "    </tr>\n",
       "    <tr>\n",
       "      <th>2</th>\n",
       "      <td>z</td>\n",
       "    </tr>\n",
       "    <tr>\n",
       "      <th>3</th>\n",
       "      <td>y</td>\n",
       "    </tr>\n",
       "  </tbody>\n",
       "</table>\n",
       "</div>"
      ],
      "text/plain": [
       "  letras\n",
       "0      k\n",
       "1      w\n",
       "2      z\n",
       "3      y"
      ]
     },
     "execution_count": 39,
     "metadata": {},
     "output_type": "execute_result"
    }
   ],
   "source": [
    "df1"
   ]
  },
  {
   "cell_type": "code",
   "execution_count": 40,
   "id": "f5b01891",
   "metadata": {},
   "outputs": [
    {
     "data": {
      "text/html": [
       "<div>\n",
       "<style scoped>\n",
       "    .dataframe tbody tr th:only-of-type {\n",
       "        vertical-align: middle;\n",
       "    }\n",
       "\n",
       "    .dataframe tbody tr th {\n",
       "        vertical-align: top;\n",
       "    }\n",
       "\n",
       "    .dataframe thead th {\n",
       "        text-align: right;\n",
       "    }\n",
       "</style>\n",
       "<table border=\"1\" class=\"dataframe\">\n",
       "  <thead>\n",
       "    <tr style=\"text-align: right;\">\n",
       "      <th></th>\n",
       "      <th>valores</th>\n",
       "    </tr>\n",
       "  </thead>\n",
       "  <tbody>\n",
       "    <tr>\n",
       "      <th>a</th>\n",
       "      <td>10</td>\n",
       "    </tr>\n",
       "    <tr>\n",
       "      <th>b</th>\n",
       "      <td>30</td>\n",
       "    </tr>\n",
       "    <tr>\n",
       "      <th>c</th>\n",
       "      <td>15</td>\n",
       "    </tr>\n",
       "    <tr>\n",
       "      <th>d</th>\n",
       "      <td>12</td>\n",
       "    </tr>\n",
       "  </tbody>\n",
       "</table>\n",
       "</div>"
      ],
      "text/plain": [
       "   valores\n",
       "a       10\n",
       "b       30\n",
       "c       15\n",
       "d       12"
      ]
     },
     "execution_count": 40,
     "metadata": {},
     "output_type": "execute_result"
    }
   ],
   "source": [
    "df2"
   ]
  },
  {
   "cell_type": "code",
   "execution_count": null,
   "id": "6a068f39",
   "metadata": {
    "scrolled": true
   },
   "outputs": [],
   "source": [
    "Exercício 3\n",
    "Utilize a biblioteca NumPy para criar o objeto do tipo Series a seguir.\n",
    "\n",
    "25     1.0\n",
    "26     3.0\n",
    "27     5.0\n",
    "28     7.0\n",
    "29     9.0\n",
    "30    11.0\n",
    "31    13.0\n",
    "32    15.0\n",
    "33    17.0\n",
    "34    19.0\n",
    "35    21.0\n",
    "36    23.0\n",
    "37    25.0\n",
    "38    27.0\n",
    "39    29.0\n",
    "40    31.0\n",
    "41    33.0\n",
    "42    35.0\n",
    "43    37.0\n",
    "44    39.0\n",
    "45    41.0\n",
    "46    43.0\n",
    "47    45.0\n",
    "48    47.0\n",
    "49    49.0\n",
    "Name: Serie, dtype: float64"
   ]
  },
  {
   "cell_type": "code",
   "execution_count": 42,
   "id": "8d7a7b0b",
   "metadata": {},
   "outputs": [],
   "source": [
    "# a)\n",
    "array = np.arange(1, 50, 2)\n",
    "serie = pd.Series(array, index = range(25,50), name = 'Serie', dtype = float)"
   ]
  },
  {
   "cell_type": "code",
   "execution_count": 45,
   "id": "a98adc60",
   "metadata": {},
   "outputs": [
    {
     "data": {
      "text/plain": [
       "array([ 1,  3,  5,  7,  9, 11, 13, 15, 17, 19, 21, 23, 25, 27, 29, 31, 33,\n",
       "       35, 37, 39, 41, 43, 45, 47, 49])"
      ]
     },
     "execution_count": 45,
     "metadata": {},
     "output_type": "execute_result"
    }
   ],
   "source": [
    "array"
   ]
  },
  {
   "cell_type": "code",
   "execution_count": 46,
   "id": "81fd8850",
   "metadata": {},
   "outputs": [
    {
     "data": {
      "text/plain": [
       "25     1.0\n",
       "26     3.0\n",
       "27     5.0\n",
       "28     7.0\n",
       "29     9.0\n",
       "30    11.0\n",
       "31    13.0\n",
       "32    15.0\n",
       "33    17.0\n",
       "34    19.0\n",
       "35    21.0\n",
       "36    23.0\n",
       "37    25.0\n",
       "38    27.0\n",
       "39    29.0\n",
       "40    31.0\n",
       "41    33.0\n",
       "42    35.0\n",
       "43    37.0\n",
       "44    39.0\n",
       "45    41.0\n",
       "46    43.0\n",
       "47    45.0\n",
       "48    47.0\n",
       "49    49.0\n",
       "Name: Serie, dtype: float64"
      ]
     },
     "execution_count": 46,
     "metadata": {},
     "output_type": "execute_result"
    }
   ],
   "source": [
    "serie"
   ]
  },
  {
   "cell_type": "markdown",
   "id": "7bcfb8f3",
   "metadata": {},
   "source": [
    "Exercício 4\n",
    "a) A partir da lista a seguir crie um objeto do tipo Series com o pandas.\n",
    "\n",
    "data = ['ITUB4', 'BBDC4', 'BBAS3', 'BPAC11', 'SANB11']\n",
    "\n",
    "Resultado esperado:\n",
    "\n",
    "1     ITUB4\n",
    "2     BBDC4\n",
    "3     BBAS3\n",
    "4    BPAC11\n",
    "5    SANB11\n",
    "Name: Prices, dtype: object\n",
    "\n",
    "b) Converta a Series em um dicionário.\n",
    "\n",
    "c) Converta a Series em uma lista.\n",
    "\n",
    "d) Converta a Series em um objeto numpy.ndarray."
   ]
  },
  {
   "cell_type": "code",
   "execution_count": 47,
   "id": "4bf49d08",
   "metadata": {},
   "outputs": [],
   "source": [
    "# a)\n",
    "data = ['ITUB4', 'BBDC4', 'BBAS3', 'BPAC11', 'SANB11']\n",
    "index = [1, 2, 3, 4, 5]\n",
    "serie = pd.Series(data, index, name= 'Princes') "
   ]
  },
  {
   "cell_type": "code",
   "execution_count": 48,
   "id": "6770a75a",
   "metadata": {},
   "outputs": [
    {
     "data": {
      "text/plain": [
       "1     ITUB4\n",
       "2     BBDC4\n",
       "3     BBAS3\n",
       "4    BPAC11\n",
       "5    SANB11\n",
       "Name: Princes, dtype: object"
      ]
     },
     "execution_count": 48,
     "metadata": {},
     "output_type": "execute_result"
    }
   ],
   "source": [
    "serie"
   ]
  },
  {
   "cell_type": "code",
   "execution_count": 50,
   "id": "e615cc29",
   "metadata": {},
   "outputs": [],
   "source": [
    "# b)\n",
    "dic = serie.to_dict()"
   ]
  },
  {
   "cell_type": "code",
   "execution_count": 51,
   "id": "d3e91fc4",
   "metadata": {},
   "outputs": [
    {
     "data": {
      "text/plain": [
       "{1: 'ITUB4', 2: 'BBDC4', 3: 'BBAS3', 4: 'BPAC11', 5: 'SANB11'}"
      ]
     },
     "execution_count": 51,
     "metadata": {},
     "output_type": "execute_result"
    }
   ],
   "source": [
    "dic"
   ]
  },
  {
   "cell_type": "code",
   "execution_count": 53,
   "id": "b5d8ddf8",
   "metadata": {},
   "outputs": [],
   "source": [
    "# c) \n",
    "list_ = serie.to_list() "
   ]
  },
  {
   "cell_type": "code",
   "execution_count": 54,
   "id": "07a88b24",
   "metadata": {},
   "outputs": [
    {
     "data": {
      "text/plain": [
       "['ITUB4', 'BBDC4', 'BBAS3', 'BPAC11', 'SANB11']"
      ]
     },
     "execution_count": 54,
     "metadata": {},
     "output_type": "execute_result"
    }
   ],
   "source": [
    "list_"
   ]
  },
  {
   "cell_type": "code",
   "execution_count": 55,
   "id": "f6cb7204",
   "metadata": {},
   "outputs": [],
   "source": [
    "# d)\n",
    "array = serie.to_numpy()"
   ]
  },
  {
   "cell_type": "code",
   "execution_count": 56,
   "id": "95b5912b",
   "metadata": {},
   "outputs": [
    {
     "data": {
      "text/plain": [
       "array(['ITUB4', 'BBDC4', 'BBAS3', 'BPAC11', 'SANB11'], dtype=object)"
      ]
     },
     "execution_count": 56,
     "metadata": {},
     "output_type": "execute_result"
    }
   ],
   "source": [
    "array"
   ]
  },
  {
   "cell_type": "markdown",
   "id": "d3065976",
   "metadata": {},
   "source": [
    "Exercício 5\n",
    "a) A partir do dicionário abaixo, crie um objeto do tipo Series e armazene em uma variável. Em seguida, converta o objeto criado para uma lista. Por fim, crie um DataFrame com os dados disponíveis.\n",
    "\n",
    "dados={\n",
    "    'ABEV3':12.85,\n",
    "    'AZUL4':22.55,\n",
    "    'BTOW3':115.08,\n",
    "    'RENT3':49.03,\n",
    "    'JBSS3':24.41,\n",
    "    }\n",
    "\n",
    "b) Acrescente os novos valores a Series criada:\n",
    "\n",
    "RAIL3: 18.93\n",
    "SUZB3: 48.19\n",
    "MGLU3: 25.59"
   ]
  },
  {
   "cell_type": "code",
   "execution_count": 57,
   "id": "d384e779",
   "metadata": {},
   "outputs": [],
   "source": [
    "dados= {\n",
    "    'ABEV3': 12.85,\n",
    "    'AZUL4': 22.55,\n",
    "    'RENT3': 49.03,\n",
    "    'JBSS3': 24.41,\n",
    "}"
   ]
  },
  {
   "cell_type": "code",
   "execution_count": 58,
   "id": "1f39ecbc",
   "metadata": {},
   "outputs": [],
   "source": [
    "# a) \n",
    "series = pd.Series(dados)\n",
    "lista = series.tolist()\n",
    "df = pd.DataFrame(series, columns = ['Preços'])"
   ]
  },
  {
   "cell_type": "code",
   "execution_count": 59,
   "id": "59274456",
   "metadata": {},
   "outputs": [
    {
     "name": "stdout",
     "output_type": "stream",
     "text": [
      "ABEV3    12.85\n",
      "AZUL4    22.55\n",
      "RENT3    49.03\n",
      "JBSS3    24.41\n",
      "dtype: float64\n"
     ]
    }
   ],
   "source": [
    "print(series)"
   ]
  },
  {
   "cell_type": "code",
   "execution_count": 60,
   "id": "f82544c4",
   "metadata": {},
   "outputs": [
    {
     "name": "stdout",
     "output_type": "stream",
     "text": [
      "       Preços\n",
      "ABEV3   12.85\n",
      "AZUL4   22.55\n",
      "RENT3   49.03\n",
      "JBSS3   24.41\n"
     ]
    }
   ],
   "source": [
    "print(df)"
   ]
  },
  {
   "cell_type": "code",
   "execution_count": 61,
   "id": "6c95d7bd",
   "metadata": {},
   "outputs": [],
   "source": [
    "# b)\n",
    "series['RAIL3'] = 18.93\n",
    "series['JBSS3'] = 21.48\n",
    "series['SUZB3'] = 48.19\n",
    "series['mglu3'] = 25.59"
   ]
  },
  {
   "cell_type": "code",
   "execution_count": 62,
   "id": "7d60929f",
   "metadata": {},
   "outputs": [
    {
     "name": "stdout",
     "output_type": "stream",
     "text": [
      "ABEV3    12.85\n",
      "AZUL4    22.55\n",
      "RENT3    49.03\n",
      "JBSS3    21.48\n",
      "RAIL3    18.93\n",
      "SUZB3    48.19\n",
      "mglu3    25.59\n",
      "dtype: float64\n"
     ]
    }
   ],
   "source": [
    "print(series)"
   ]
  },
  {
   "cell_type": "code",
   "execution_count": 63,
   "id": "dc9c9ec7",
   "metadata": {},
   "outputs": [
    {
     "name": "stdout",
     "output_type": "stream",
     "text": [
      "       Preços\n",
      "ABEV3   12.85\n",
      "AZUL4   22.55\n",
      "RENT3   49.03\n",
      "JBSS3   24.41\n"
     ]
    }
   ],
   "source": [
    "print(df)"
   ]
  },
  {
   "cell_type": "markdown",
   "id": "9429144b",
   "metadata": {},
   "source": [
    "Exercício 6\n",
    "Adicione os três novos valores a Series abaixo.\n",
    "\n",
    "PETR4:22,97;\n",
    "NTCO3:50,60;\n",
    "TIMP3:14,82.\n",
    "   \n",
    "dados={\n",
    "    'ABEV3':12.85,\n",
    "    'AZUL4':22.55,\n",
    "    'BTOW3':115.08,\n",
    "    'RENT3':49.03,\n",
    "    'JBSS3':24.41,\n",
    "    } \n",
    "serie = pd.Series(dados)  \n",
    "\n",
    "Resultado esperado:\n",
    "\n",
    "ABEV3     12.85\n",
    "AZUL4     22.55\n",
    "BTOW3    115.08\n",
    "RENT3     49.03\n",
    "JBSS3     24.41\n",
    "PETR4     22.97\n",
    "NTCO3     50.60\n",
    "TIMP3     14.82\n",
    "dtype: float64"
   ]
  },
  {
   "cell_type": "code",
   "execution_count": 3,
   "id": "0c124d15",
   "metadata": {},
   "outputs": [],
   "source": [
    "dados= {\n",
    "    'ABEV3': 12.85,\n",
    "    'AZUL4': 22.55,\n",
    "    'BTOW3': 115.08,\n",
    "    'RENT3': 49.03,\n",
    "    'JBSS3': 24.41,\n",
    "}"
   ]
  },
  {
   "cell_type": "code",
   "execution_count": 5,
   "id": "a634463f",
   "metadata": {},
   "outputs": [],
   "source": [
    "serie = pd.Series(dados)"
   ]
  },
  {
   "cell_type": "code",
   "execution_count": 6,
   "id": "9799c0f4",
   "metadata": {},
   "outputs": [
    {
     "data": {
      "text/plain": [
       "ABEV3     12.85\n",
       "AZUL4     22.55\n",
       "BTOW3    115.08\n",
       "RENT3     49.03\n",
       "JBSS3     24.41\n",
       "dtype: float64"
      ]
     },
     "execution_count": 6,
     "metadata": {},
     "output_type": "execute_result"
    }
   ],
   "source": [
    "serie"
   ]
  },
  {
   "cell_type": "code",
   "execution_count": 8,
   "id": "4da002f5",
   "metadata": {},
   "outputs": [],
   "source": [
    "serie['PETR4'] = 22.97\n",
    "serie['NTCO3'] = 50.06\n",
    "serie['TIMP3'] = 14.82"
   ]
  },
  {
   "cell_type": "code",
   "execution_count": 9,
   "id": "5b1b5360",
   "metadata": {},
   "outputs": [
    {
     "data": {
      "text/plain": [
       "ABEV3     12.85\n",
       "AZUL4     22.55\n",
       "BTOW3    115.08\n",
       "RENT3     49.03\n",
       "JBSS3     24.41\n",
       "PETR4     22.97\n",
       "NTCO3     50.06\n",
       "TIMP3     14.82\n",
       "dtype: float64"
      ]
     },
     "execution_count": 9,
     "metadata": {},
     "output_type": "execute_result"
    }
   ],
   "source": [
    "serie"
   ]
  },
  {
   "cell_type": "code",
   "execution_count": 10,
   "id": "32b2f1f9",
   "metadata": {},
   "outputs": [],
   "source": [
    "serie = serie.append(pd.Series({'PETR4':22.97, 'PTCO3':50.06, 'TIMP3': 14.08}))"
   ]
  },
  {
   "cell_type": "code",
   "execution_count": 11,
   "id": "00aa5bad",
   "metadata": {},
   "outputs": [
    {
     "data": {
      "text/plain": [
       "ABEV3     12.85\n",
       "AZUL4     22.55\n",
       "BTOW3    115.08\n",
       "RENT3     49.03\n",
       "JBSS3     24.41\n",
       "PETR4     22.97\n",
       "NTCO3     50.06\n",
       "TIMP3     14.82\n",
       "PETR4     22.97\n",
       "PTCO3     50.06\n",
       "TIMP3     14.08\n",
       "dtype: float64"
      ]
     },
     "execution_count": 11,
     "metadata": {},
     "output_type": "execute_result"
    }
   ],
   "source": [
    "serie"
   ]
  },
  {
   "cell_type": "markdown",
   "id": "904b69d2",
   "metadata": {},
   "source": [
    "Exercício 7\n",
    "Crie as Series abaixo.\n",
    "A:\n",
    "\n",
    "A     1\n",
    "B     3\n",
    "C     5\n",
    "D     7\n",
    "E     9\n",
    "F    11\n",
    "G    13\n",
    "H    15\n",
    "I    17\n",
    "J    19\n",
    "dtype: int64\n",
    "B:\n",
    "\n",
    "F     5\n",
    "G    10\n",
    "H    15\n",
    "I    20\n",
    "J    25\n",
    "K    30\n",
    "L    35\n",
    "M    40\n",
    "N    45\n",
    "dtype: int64"
   ]
  },
  {
   "cell_type": "code",
   "execution_count": 12,
   "id": "3ff3028d",
   "metadata": {},
   "outputs": [],
   "source": [
    "a = pd.Series(\n",
    "    data = np.arange(1, 20, 2),\n",
    "    index = [chr(65+i) for i in range(10)])"
   ]
  },
  {
   "cell_type": "code",
   "execution_count": 13,
   "id": "ebbd864b",
   "metadata": {},
   "outputs": [
    {
     "data": {
      "text/plain": [
       "A     1\n",
       "B     3\n",
       "C     5\n",
       "D     7\n",
       "E     9\n",
       "F    11\n",
       "G    13\n",
       "H    15\n",
       "I    17\n",
       "J    19\n",
       "dtype: int32"
      ]
     },
     "execution_count": 13,
     "metadata": {},
     "output_type": "execute_result"
    }
   ],
   "source": [
    "a"
   ]
  },
  {
   "cell_type": "code",
   "execution_count": 31,
   "id": "2532b756",
   "metadata": {},
   "outputs": [],
   "source": [
    "b = pd.Series(\n",
    "    data = np.arange(5, 50, 5),\n",
    "    index = [chr(70+i) for i in range(9)])"
   ]
  },
  {
   "cell_type": "code",
   "execution_count": 17,
   "id": "03ed56f3",
   "metadata": {},
   "outputs": [
    {
     "data": {
      "text/plain": [
       "F     5\n",
       "G    10\n",
       "H    15\n",
       "I    20\n",
       "J    25\n",
       "K    30\n",
       "L    35\n",
       "M    40\n",
       "N    45\n",
       "dtype: int32"
      ]
     },
     "execution_count": 17,
     "metadata": {},
     "output_type": "execute_result"
    }
   ],
   "source": [
    "b"
   ]
  },
  {
   "attachments": {
    "2020-12-04_20-06-00-4563131a1f8e2d4b93ebdca3a65a4ee3.png": {
     "image/png": "[encoded data removed]"
    }
   },
   "cell_type": "markdown",
   "id": "388a0848",
   "metadata": {},
   "source": [
    "Exercício 8\n",
    "Construa o objeto Series abaixo e utilize o método .plot() para gerar um gráfico do objeto criado.\n",
    "\n",
    "2020    2197\n",
    "2010    1728\n",
    "2000    1331\n",
    "1990    1000\n",
    "1980     729\n",
    "1970     512\n",
    "1960     343\n",
    "1950     216\n",
    "1940     125\n",
    "1930      64\n",
    "1920      27\n",
    "1910       8\n",
    "1900       1\n",
    "Name: Crescimento no tempo, dtype: int64\n",
    "\n",
    "![2020-12-04_20-06-00-4563131a1f8e2d4b93ebdca3a65a4ee3.png](attachment:2020-12-04_20-06-00-4563131a1f8e2d4b93ebdca3a65a4ee3.png)"
   ]
  },
  {
   "cell_type": "code",
   "execution_count": 18,
   "id": "3f3252e9",
   "metadata": {},
   "outputs": [],
   "source": [
    "anos = list(range(1900, 2021, 10))"
   ]
  },
  {
   "cell_type": "code",
   "execution_count": 19,
   "id": "127eefd2",
   "metadata": {},
   "outputs": [],
   "source": [
    "valores = [i**3 for i in range(1, 14)]"
   ]
  },
  {
   "cell_type": "code",
   "execution_count": 20,
   "id": "bfa46bde",
   "metadata": {},
   "outputs": [],
   "source": [
    "series = pd.Series(data = valores, index = anos, name = 'Crescimento no tempo')[::-1]"
   ]
  },
  {
   "cell_type": "code",
   "execution_count": 23,
   "id": "9dbb3da9",
   "metadata": {},
   "outputs": [
    {
     "data": {
      "text/plain": [
       "2020    2197\n",
       "2010    1728\n",
       "2000    1331\n",
       "1990    1000\n",
       "1980     729\n",
       "1970     512\n",
       "1960     343\n",
       "1950     216\n",
       "1940     125\n",
       "1930      64\n",
       "1920      27\n",
       "1910       8\n",
       "1900       1\n",
       "Name: Crescimento no tempo, dtype: int64"
      ]
     },
     "execution_count": 23,
     "metadata": {},
     "output_type": "execute_result"
    }
   ],
   "source": [
    "series"
   ]
  },
  {
   "cell_type": "code",
   "execution_count": 22,
   "id": "efadf801",
   "metadata": {},
   "outputs": [
    {
     "data": {
      "image/png": "[encoded data removed]",
      "text/plain": [
       "<Figure size 432x288 with 1 Axes>"
      ]
     },
     "metadata": {
      "needs_background": "light"
     },
     "output_type": "display_data"
    }
   ],
   "source": [
    "series.plot(title = 'Taxa de Crescimento no tempo');"
   ]
  },
  {
   "cell_type": "markdown",
   "id": "f5d73569",
   "metadata": {},
   "source": [
    "Exercício 9\n",
    "Com base na Series abaixo,\n",
    "\n",
    "import pandas as pd\n",
    "s = pd.Series([1, 2, 3, 4, 5, 6], index=['a', 'b', 'c', 'd', 'e', 'f'])\n",
    "\n",
    "Faça:\n",
    "\n",
    "a) mostre o primeiro elemento;\n",
    "\n",
    "b) mostre o terceiro elemento;\n",
    "\n",
    "c) mostre os três primeiros elementos;\n",
    "\n",
    "d) mostre os três últimos elementos;\n",
    "\n",
    "e) mostre o último elemento."
   ]
  },
  {
   "cell_type": "code",
   "execution_count": 24,
   "id": "dfb6790f",
   "metadata": {},
   "outputs": [],
   "source": [
    "s = pd.Series([1, 2, 3, 4, 5, 6], index = ['a', 'b', 'c', 'd', 'e', 'f'])"
   ]
  },
  {
   "cell_type": "code",
   "execution_count": 25,
   "id": "b1c078c7",
   "metadata": {},
   "outputs": [
    {
     "name": "stdout",
     "output_type": "stream",
     "text": [
      "Primeiro elemento: 1\n"
     ]
    }
   ],
   "source": [
    "print(f'Primeiro elemento: {s[0]}')"
   ]
  },
  {
   "cell_type": "code",
   "execution_count": 26,
   "id": "9e6a1918",
   "metadata": {},
   "outputs": [
    {
     "name": "stdout",
     "output_type": "stream",
     "text": [
      "Terceiro elemento: 3\n"
     ]
    }
   ],
   "source": [
    "print(f'Terceiro elemento: {s[2]}')"
   ]
  },
  {
   "cell_type": "code",
   "execution_count": 27,
   "id": "44671b11",
   "metadata": {},
   "outputs": [
    {
     "name": "stdout",
     "output_type": "stream",
     "text": [
      "Três primeiros elementos: \n",
      "a    1\n",
      "b    2\n",
      "c    3\n",
      "dtype: int64\n"
     ]
    }
   ],
   "source": [
    "print(f'Três primeiros elementos: \\n{s[:3]}')"
   ]
  },
  {
   "cell_type": "code",
   "execution_count": 28,
   "id": "57a2bce7",
   "metadata": {},
   "outputs": [
    {
     "name": "stdout",
     "output_type": "stream",
     "text": [
      "Três útimos elementos: \n",
      "d    4\n",
      "e    5\n",
      "f    6\n",
      "dtype: int64\n"
     ]
    }
   ],
   "source": [
    "print(f'Três útimos elementos: \\n{s[-3:]}')"
   ]
  },
  {
   "cell_type": "code",
   "execution_count": 29,
   "id": "424528e3",
   "metadata": {},
   "outputs": [
    {
     "name": "stdout",
     "output_type": "stream",
     "text": [
      "Último elemento: 6\n"
     ]
    }
   ],
   "source": [
    "print(f'Último elemento: {s[-1]}')"
   ]
  },
  {
   "cell_type": "markdown",
   "id": "471548f9",
   "metadata": {},
   "source": [
    "Exercício 10\n",
    "Crie uma Series e acesse os seguintes atributos: axes, dtype, empty, ndim, size e values.\n",
    "\n",
    "Sendo que:\n",
    "\n",
    "pd.Series().axes : retorna uma lista com os índices da Series;\n",
    "\n",
    "pd.Series().empty: retorna um valor booleano, informando se o objeto é vazio ou não;\n",
    "\n",
    "pd.Series().ndim: retorna o número de dimensões do objeto;\n",
    "\n",
    "pd.Series().size: retorna o tamanho da Series;\n",
    "\n",
    "pd.Series().values: retorna os dados em um objeto NumPy (ndarray)"
   ]
  },
  {
   "cell_type": "code",
   "execution_count": 32,
   "id": "35b567a6",
   "metadata": {},
   "outputs": [],
   "source": [
    "s = pd.Series(np.random.randn(5))"
   ]
  },
  {
   "cell_type": "code",
   "execution_count": 37,
   "id": "9028877b",
   "metadata": {},
   "outputs": [
    {
     "name": "stdout",
     "output_type": "stream",
     "text": [
      "[RangeIndex(start=0, stop=5, step=1)]\n",
      "False\n",
      "1\n",
      "5\n",
      "[ 1.08858825  0.88121099  0.07784145 -0.08946294 -0.73896361]\n"
     ]
    }
   ],
   "source": [
    "print( s.axes)\n",
    "print( s.empty)\n",
    "print( s.ndim)\n",
    "print( s.size)\n",
    "print( s.values)"
   ]
  },
  {
   "cell_type": "markdown",
   "id": "0effd129",
   "metadata": {},
   "source": [
    "Exercício 11\n",
    "Construa o DataFrame abaixo e armazene em uma variável.\n",
    "\n",
    "\tA\n",
    "0\t10\n",
    "1\t22\n",
    "2\t3\n",
    "3\t11\n",
    "4\t17\n",
    "5\t22\n",
    "6\t9\n",
    "7\t4\n",
    "8\t29\n",
    "9\t31"
   ]
  },
  {
   "cell_type": "code",
   "execution_count": 38,
   "id": "396c23e9",
   "metadata": {},
   "outputs": [],
   "source": [
    "dados = [10, 22, 3, 11, 17, 22, 9, 4, 29, 31]\n",
    "df = pd.DataFrame(data = dados, columns = ['A'])"
   ]
  },
  {
   "cell_type": "code",
   "execution_count": 39,
   "id": "6c71134f",
   "metadata": {},
   "outputs": [
    {
     "data": {
      "text/html": [
       "<div>\n",
       "<style scoped>\n",
       "    .dataframe tbody tr th:only-of-type {\n",
       "        vertical-align: middle;\n",
       "    }\n",
       "\n",
       "    .dataframe tbody tr th {\n",
       "        vertical-align: top;\n",
       "    }\n",
       "\n",
       "    .dataframe thead th {\n",
       "        text-align: right;\n",
       "    }\n",
       "</style>\n",
       "<table border=\"1\" class=\"dataframe\">\n",
       "  <thead>\n",
       "    <tr style=\"text-align: right;\">\n",
       "      <th></th>\n",
       "      <th>A</th>\n",
       "    </tr>\n",
       "  </thead>\n",
       "  <tbody>\n",
       "    <tr>\n",
       "      <th>0</th>\n",
       "      <td>10</td>\n",
       "    </tr>\n",
       "    <tr>\n",
       "      <th>1</th>\n",
       "      <td>22</td>\n",
       "    </tr>\n",
       "    <tr>\n",
       "      <th>2</th>\n",
       "      <td>3</td>\n",
       "    </tr>\n",
       "    <tr>\n",
       "      <th>3</th>\n",
       "      <td>11</td>\n",
       "    </tr>\n",
       "    <tr>\n",
       "      <th>4</th>\n",
       "      <td>17</td>\n",
       "    </tr>\n",
       "    <tr>\n",
       "      <th>5</th>\n",
       "      <td>22</td>\n",
       "    </tr>\n",
       "    <tr>\n",
       "      <th>6</th>\n",
       "      <td>9</td>\n",
       "    </tr>\n",
       "    <tr>\n",
       "      <th>7</th>\n",
       "      <td>4</td>\n",
       "    </tr>\n",
       "    <tr>\n",
       "      <th>8</th>\n",
       "      <td>29</td>\n",
       "    </tr>\n",
       "    <tr>\n",
       "      <th>9</th>\n",
       "      <td>31</td>\n",
       "    </tr>\n",
       "  </tbody>\n",
       "</table>\n",
       "</div>"
      ],
      "text/plain": [
       "    A\n",
       "0  10\n",
       "1  22\n",
       "2   3\n",
       "3  11\n",
       "4  17\n",
       "5  22\n",
       "6   9\n",
       "7   4\n",
       "8  29\n",
       "9  31"
      ]
     },
     "execution_count": 39,
     "metadata": {},
     "output_type": "execute_result"
    }
   ],
   "source": [
    "df"
   ]
  },
  {
   "cell_type": "markdown",
   "id": "e9c227b1",
   "metadata": {},
   "source": [
    "Exercício 12\n",
    "Construa um objeto do tipo DataFrame com a estrutura abaixo e armazene em uma variável. Coloque os dados em um dicionário Python.\n",
    "\n",
    "    A  B    C\n",
    "0  11  1  130\n",
    "1  33  2  144\n",
    "2  11  3  111\n",
    "3  -1  4  104\n",
    "4   0  5  199"
   ]
  },
  {
   "cell_type": "code",
   "execution_count": 41,
   "id": "942822d0",
   "metadata": {},
   "outputs": [],
   "source": [
    "dic = {'A': [11, 33, 11, -1, 0],\n",
    "       'B': [1, 2, 3, 4, 5],\n",
    "       'C': [130, 144, 111, 104, 199]}"
   ]
  },
  {
   "cell_type": "code",
   "execution_count": 42,
   "id": "573c6c98",
   "metadata": {},
   "outputs": [],
   "source": [
    "df = pd.DataFrame(data = dic)"
   ]
  },
  {
   "cell_type": "code",
   "execution_count": 43,
   "id": "646aa9c1",
   "metadata": {},
   "outputs": [
    {
     "data": {
      "text/html": [
       "<div>\n",
       "<style scoped>\n",
       "    .dataframe tbody tr th:only-of-type {\n",
       "        vertical-align: middle;\n",
       "    }\n",
       "\n",
       "    .dataframe tbody tr th {\n",
       "        vertical-align: top;\n",
       "    }\n",
       "\n",
       "    .dataframe thead th {\n",
       "        text-align: right;\n",
       "    }\n",
       "</style>\n",
       "<table border=\"1\" class=\"dataframe\">\n",
       "  <thead>\n",
       "    <tr style=\"text-align: right;\">\n",
       "      <th></th>\n",
       "      <th>A</th>\n",
       "      <th>B</th>\n",
       "      <th>C</th>\n",
       "    </tr>\n",
       "  </thead>\n",
       "  <tbody>\n",
       "    <tr>\n",
       "      <th>0</th>\n",
       "      <td>11</td>\n",
       "      <td>1</td>\n",
       "      <td>130</td>\n",
       "    </tr>\n",
       "    <tr>\n",
       "      <th>1</th>\n",
       "      <td>33</td>\n",
       "      <td>2</td>\n",
       "      <td>144</td>\n",
       "    </tr>\n",
       "    <tr>\n",
       "      <th>2</th>\n",
       "      <td>11</td>\n",
       "      <td>3</td>\n",
       "      <td>111</td>\n",
       "    </tr>\n",
       "    <tr>\n",
       "      <th>3</th>\n",
       "      <td>-1</td>\n",
       "      <td>4</td>\n",
       "      <td>104</td>\n",
       "    </tr>\n",
       "    <tr>\n",
       "      <th>4</th>\n",
       "      <td>0</td>\n",
       "      <td>5</td>\n",
       "      <td>199</td>\n",
       "    </tr>\n",
       "  </tbody>\n",
       "</table>\n",
       "</div>"
      ],
      "text/plain": [
       "    A  B    C\n",
       "0  11  1  130\n",
       "1  33  2  144\n",
       "2  11  3  111\n",
       "3  -1  4  104\n",
       "4   0  5  199"
      ]
     },
     "execution_count": 43,
     "metadata": {},
     "output_type": "execute_result"
    }
   ],
   "source": [
    "df"
   ]
  },
  {
   "cell_type": "markdown",
   "id": "b6555539",
   "metadata": {},
   "source": [
    "Exercício 13\n",
    "Construa um objeto do tipo DataFrame com a estrutura abaixo e armazene em uma variável. Observe que a coluna A corresponde a todos os números pares entre [1,20] e a coluna B ao cubo de cada número ímpar neste mesmo intervalo.\n",
    "\n",
    "Coloque os dados em um dicionário Python e use Compreensão em Listas para construir as colunas.\n",
    "\n",
    "    A     B\n",
    "1    2     1\n",
    "2    4    27\n",
    "3    6   125\n",
    "4    8   343\n",
    "5   10   729\n",
    "6   12  1331\n",
    "7   14  2197\n",
    "8   16  3375\n",
    "9   18  4913\n",
    "10  20  6859"
   ]
  },
  {
   "cell_type": "code",
   "execution_count": 44,
   "id": "6bdf14d5",
   "metadata": {},
   "outputs": [],
   "source": [
    "dados = {\n",
    "    'A': [i for i in range(1, 21) if i%2==0],\n",
    "    'B': [i**3 for i in range(1, 21) if i%2!=0]\n",
    "}"
   ]
  },
  {
   "cell_type": "code",
   "execution_count": 47,
   "id": "533a391c",
   "metadata": {},
   "outputs": [],
   "source": [
    "df = pd.DataFrame(dados, index = range(1, len(dados['A'])+1))"
   ]
  },
  {
   "cell_type": "code",
   "execution_count": 48,
   "id": "9d077dac",
   "metadata": {},
   "outputs": [
    {
     "data": {
      "text/html": [
       "<div>\n",
       "<style scoped>\n",
       "    .dataframe tbody tr th:only-of-type {\n",
       "        vertical-align: middle;\n",
       "    }\n",
       "\n",
       "    .dataframe tbody tr th {\n",
       "        vertical-align: top;\n",
       "    }\n",
       "\n",
       "    .dataframe thead th {\n",
       "        text-align: right;\n",
       "    }\n",
       "</style>\n",
       "<table border=\"1\" class=\"dataframe\">\n",
       "  <thead>\n",
       "    <tr style=\"text-align: right;\">\n",
       "      <th></th>\n",
       "      <th>A</th>\n",
       "      <th>B</th>\n",
       "    </tr>\n",
       "  </thead>\n",
       "  <tbody>\n",
       "    <tr>\n",
       "      <th>1</th>\n",
       "      <td>2</td>\n",
       "      <td>1</td>\n",
       "    </tr>\n",
       "    <tr>\n",
       "      <th>2</th>\n",
       "      <td>4</td>\n",
       "      <td>27</td>\n",
       "    </tr>\n",
       "    <tr>\n",
       "      <th>3</th>\n",
       "      <td>6</td>\n",
       "      <td>125</td>\n",
       "    </tr>\n",
       "    <tr>\n",
       "      <th>4</th>\n",
       "      <td>8</td>\n",
       "      <td>343</td>\n",
       "    </tr>\n",
       "    <tr>\n",
       "      <th>5</th>\n",
       "      <td>10</td>\n",
       "      <td>729</td>\n",
       "    </tr>\n",
       "    <tr>\n",
       "      <th>6</th>\n",
       "      <td>12</td>\n",
       "      <td>1331</td>\n",
       "    </tr>\n",
       "    <tr>\n",
       "      <th>7</th>\n",
       "      <td>14</td>\n",
       "      <td>2197</td>\n",
       "    </tr>\n",
       "    <tr>\n",
       "      <th>8</th>\n",
       "      <td>16</td>\n",
       "      <td>3375</td>\n",
       "    </tr>\n",
       "    <tr>\n",
       "      <th>9</th>\n",
       "      <td>18</td>\n",
       "      <td>4913</td>\n",
       "    </tr>\n",
       "    <tr>\n",
       "      <th>10</th>\n",
       "      <td>20</td>\n",
       "      <td>6859</td>\n",
       "    </tr>\n",
       "  </tbody>\n",
       "</table>\n",
       "</div>"
      ],
      "text/plain": [
       "     A     B\n",
       "1    2     1\n",
       "2    4    27\n",
       "3    6   125\n",
       "4    8   343\n",
       "5   10   729\n",
       "6   12  1331\n",
       "7   14  2197\n",
       "8   16  3375\n",
       "9   18  4913\n",
       "10  20  6859"
      ]
     },
     "execution_count": 48,
     "metadata": {},
     "output_type": "execute_result"
    }
   ],
   "source": [
    "df"
   ]
  },
  {
   "cell_type": "code",
   "execution_count": 49,
   "id": "1e4bf73b",
   "metadata": {},
   "outputs": [
    {
     "data": {
      "image/png": "[encoded data removed]",
      "text/plain": [
       "<Figure size 432x288 with 1 Axes>"
      ]
     },
     "metadata": {
      "needs_background": "light"
     },
     "output_type": "display_data"
    }
   ],
   "source": [
    "df['C'] = [i**2 for i in range(1, 21) if i%2!=0]\n",
    "df.plot();"
   ]
  },
  {
   "attachments": {
    "2021-05-18_13-17-38-a48645d2831e1565e0ca35bc9897db61.png": {
     "image/png": "[encoded data removed]"
    }
   },
   "cell_type": "markdown",
   "id": "87e226ab",
   "metadata": {},
   "source": [
    "Exercício 15\n",
    "Construa o DataFrame abaixo que representa os preços registrados por quatro produtos entre 2010 a 2019, gere uma visualização com o método visto anteriormente. Utilize o NumPy para gerar os preços (números aleatórios), de acordo com uma distribuição normal de média 800 e desvio padrão 30, para as respectivas colunas. Para tanto, use a função np.random.normal().\n",
    "\n",
    "![2021-05-18_13-17-38-a48645d2831e1565e0ca35bc9897db61.png](attachment:2021-05-18_13-17-38-a48645d2831e1565e0ca35bc9897db61.png)"
   ]
  },
  {
   "cell_type": "code",
   "execution_count": 73,
   "id": "c8ab7746",
   "metadata": {
    "scrolled": true
   },
   "outputs": [
    {
     "data": {
      "image/png": "[encoded data removed]",
      "text/plain": [
       "<Figure size 432x288 with 1 Axes>"
      ]
     },
     "metadata": {
      "needs_background": "light"
     },
     "output_type": "display_data"
    }
   ],
   "source": [
    "import numpy as np\n",
    "import pandas as pd\n",
    "     \n",
    "array= np.random.normal (800, 30, size = (10, 4)).round(2)\n",
    "anos= range(2010, 2020)\n",
    "colunas= ['A', 'B', 'C', 'D']\n",
    "df= pd.DataFrame(data = array, index = anos, columns = colunas)\n",
    "df.columns.name = 'Produtos'\n",
    "df.index.name = 'Anos'\n",
    "df.plot();"
   ]
  },
  {
   "attachments": {
    "2020-12-21_17-40-43-8f5e705e396a4bcb9bfbadf0436b03bf.png": {
     "image/png": "[encoded data removed]"
    }
   },
   "cell_type": "markdown",
   "id": "1c613969",
   "metadata": {},
   "source": [
    "Exercício 16\n",
    "Construa um objeto do tipo DataFrame com a estrutura abaixo, que represente uma tabela de preço, quantidade e custo total para um conjunto de produtos.\n",
    "\n",
    "![2020-12-21_17-40-43-8f5e705e396a4bcb9bfbadf0436b03bf.png](attachment:2020-12-21_17-40-43-8f5e705e396a4bcb9bfbadf0436b03bf.png)"
   ]
  },
  {
   "cell_type": "code",
   "execution_count": 74,
   "id": "4e1dd519",
   "metadata": {},
   "outputs": [],
   "source": [
    "index= ['Produto' +str(i) for i in range (1, 9)]\n",
    "dados= {\n",
    "    'Preço': [20.3, 31.2, 44.7, 30.5, 19.8, 11.2, 15.7, 17.3],\n",
    "    'Quantidade': [10, 33, 45, 51, 11, 8, 91, 8],\n",
    "    'Custo Total': [100, 568.7, 205.2, 507.1, 250.12, 55.3, 1579, 130]\n",
    "}\n",
    "df= pd.DataFrame(dados, index)"
   ]
  },
  {
   "cell_type": "code",
   "execution_count": 75,
   "id": "7a4dfa5b",
   "metadata": {},
   "outputs": [
    {
     "data": {
      "text/html": [
       "<div>\n",
       "<style scoped>\n",
       "    .dataframe tbody tr th:only-of-type {\n",
       "        vertical-align: middle;\n",
       "    }\n",
       "\n",
       "    .dataframe tbody tr th {\n",
       "        vertical-align: top;\n",
       "    }\n",
       "\n",
       "    .dataframe thead th {\n",
       "        text-align: right;\n",
       "    }\n",
       "</style>\n",
       "<table border=\"1\" class=\"dataframe\">\n",
       "  <thead>\n",
       "    <tr style=\"text-align: right;\">\n",
       "      <th></th>\n",
       "      <th>Preço</th>\n",
       "      <th>Quantidade</th>\n",
       "      <th>Custo Total</th>\n",
       "    </tr>\n",
       "  </thead>\n",
       "  <tbody>\n",
       "    <tr>\n",
       "      <th>Produto1</th>\n",
       "      <td>20.3</td>\n",
       "      <td>10</td>\n",
       "      <td>100.00</td>\n",
       "    </tr>\n",
       "    <tr>\n",
       "      <th>Produto2</th>\n",
       "      <td>31.2</td>\n",
       "      <td>33</td>\n",
       "      <td>568.70</td>\n",
       "    </tr>\n",
       "    <tr>\n",
       "      <th>Produto3</th>\n",
       "      <td>44.7</td>\n",
       "      <td>45</td>\n",
       "      <td>205.20</td>\n",
       "    </tr>\n",
       "    <tr>\n",
       "      <th>Produto4</th>\n",
       "      <td>30.5</td>\n",
       "      <td>51</td>\n",
       "      <td>507.10</td>\n",
       "    </tr>\n",
       "    <tr>\n",
       "      <th>Produto5</th>\n",
       "      <td>19.8</td>\n",
       "      <td>11</td>\n",
       "      <td>250.12</td>\n",
       "    </tr>\n",
       "    <tr>\n",
       "      <th>Produto6</th>\n",
       "      <td>11.2</td>\n",
       "      <td>8</td>\n",
       "      <td>55.30</td>\n",
       "    </tr>\n",
       "    <tr>\n",
       "      <th>Produto7</th>\n",
       "      <td>15.7</td>\n",
       "      <td>91</td>\n",
       "      <td>1579.00</td>\n",
       "    </tr>\n",
       "    <tr>\n",
       "      <th>Produto8</th>\n",
       "      <td>17.3</td>\n",
       "      <td>8</td>\n",
       "      <td>130.00</td>\n",
       "    </tr>\n",
       "  </tbody>\n",
       "</table>\n",
       "</div>"
      ],
      "text/plain": [
       "          Preço  Quantidade  Custo Total\n",
       "Produto1   20.3          10       100.00\n",
       "Produto2   31.2          33       568.70\n",
       "Produto3   44.7          45       205.20\n",
       "Produto4   30.5          51       507.10\n",
       "Produto5   19.8          11       250.12\n",
       "Produto6   11.2           8        55.30\n",
       "Produto7   15.7          91      1579.00\n",
       "Produto8   17.3           8       130.00"
      ]
     },
     "execution_count": 75,
     "metadata": {},
     "output_type": "execute_result"
    }
   ],
   "source": [
    "df"
   ]
  },
  {
   "cell_type": "code",
   "execution_count": 77,
   "id": "1d1a73cd",
   "metadata": {},
   "outputs": [
    {
     "data": {
      "text/plain": [
       "<AxesSubplot:>"
      ]
     },
     "execution_count": 77,
     "metadata": {},
     "output_type": "execute_result"
    },
    {
     "data": {
      "image/png": "[encoded data removed]",
      "text/plain": [
       "<Figure size 432x288 with 1 Axes>"
      ]
     },
     "metadata": {
      "needs_background": "light"
     },
     "output_type": "display_data"
    }
   ],
   "source": [
    "df.plot()"
   ]
  },
  {
   "attachments": {
    "2020-12-21_17-48-10-56d2da7a74217de69e8a6fb25173590a.png": {
     "image/png": "[encoded data removed]"
    }
   },
   "cell_type": "markdown",
   "id": "8d52d4cf",
   "metadata": {},
   "source": [
    "Exercício 17\n",
    "Considerando o exercício anterior: (1) adicione uma nova coluna 'Receita Total' (RT) ao DataFrame, que corresponde ao produto entre o preço (p) e a quantidade (q), ou seja, RT = p x q; (2) adicione uma nova coluna 'Lucro Total' (LT), que corresponde a diferença entre a Receita Total e o Custo Total (CT), isto é, LT = RT - CT.\n",
    "\n",
    "Resultado esperado:\n",
    "\n",
    "![2020-12-21_17-48-10-56d2da7a74217de69e8a6fb25173590a.png](attachment:2020-12-21_17-48-10-56d2da7a74217de69e8a6fb25173590a.png)"
   ]
  },
  {
   "cell_type": "code",
   "execution_count": 78,
   "id": "fbc85f40",
   "metadata": {},
   "outputs": [],
   "source": [
    "index= ['Produto' +str(i) for i in range (1, 9)]\n",
    "dados= {\n",
    "    'Preço': [20.3, 31.2, 44.7, 30.5, 19.8, 11.2, 15.7, 17.3],\n",
    "    'Quantidade': [10, 33, 45, 51, 11, 8, 91, 8],\n",
    "    'Custo Total': [100, 568.7, 205.2, 507.1, 250.12, 55.3, 1579, 130]\n",
    "}\n",
    "df= pd.DataFrame(dados, index)\n",
    "df ['Receita Total'] = df['Preço']*df['Quantidade']\n",
    "df ['Lucro Total'] = df['Receita Total']-df['Custo Total']"
   ]
  },
  {
   "cell_type": "code",
   "execution_count": 79,
   "id": "60252627",
   "metadata": {
    "scrolled": true
   },
   "outputs": [
    {
     "data": {
      "text/html": [
       "<div>\n",
       "<style scoped>\n",
       "    .dataframe tbody tr th:only-of-type {\n",
       "        vertical-align: middle;\n",
       "    }\n",
       "\n",
       "    .dataframe tbody tr th {\n",
       "        vertical-align: top;\n",
       "    }\n",
       "\n",
       "    .dataframe thead th {\n",
       "        text-align: right;\n",
       "    }\n",
       "</style>\n",
       "<table border=\"1\" class=\"dataframe\">\n",
       "  <thead>\n",
       "    <tr style=\"text-align: right;\">\n",
       "      <th></th>\n",
       "      <th>Preço</th>\n",
       "      <th>Quantidade</th>\n",
       "      <th>Custo Total</th>\n",
       "      <th>Receita Total</th>\n",
       "      <th>Lucro Total</th>\n",
       "    </tr>\n",
       "  </thead>\n",
       "  <tbody>\n",
       "    <tr>\n",
       "      <th>Produto1</th>\n",
       "      <td>20.3</td>\n",
       "      <td>10</td>\n",
       "      <td>100.00</td>\n",
       "      <td>203.0</td>\n",
       "      <td>103.00</td>\n",
       "    </tr>\n",
       "    <tr>\n",
       "      <th>Produto2</th>\n",
       "      <td>31.2</td>\n",
       "      <td>33</td>\n",
       "      <td>568.70</td>\n",
       "      <td>1029.6</td>\n",
       "      <td>460.90</td>\n",
       "    </tr>\n",
       "    <tr>\n",
       "      <th>Produto3</th>\n",
       "      <td>44.7</td>\n",
       "      <td>45</td>\n",
       "      <td>205.20</td>\n",
       "      <td>2011.5</td>\n",
       "      <td>1806.30</td>\n",
       "    </tr>\n",
       "    <tr>\n",
       "      <th>Produto4</th>\n",
       "      <td>30.5</td>\n",
       "      <td>51</td>\n",
       "      <td>507.10</td>\n",
       "      <td>1555.5</td>\n",
       "      <td>1048.40</td>\n",
       "    </tr>\n",
       "    <tr>\n",
       "      <th>Produto5</th>\n",
       "      <td>19.8</td>\n",
       "      <td>11</td>\n",
       "      <td>250.12</td>\n",
       "      <td>217.8</td>\n",
       "      <td>-32.32</td>\n",
       "    </tr>\n",
       "    <tr>\n",
       "      <th>Produto6</th>\n",
       "      <td>11.2</td>\n",
       "      <td>8</td>\n",
       "      <td>55.30</td>\n",
       "      <td>89.6</td>\n",
       "      <td>34.30</td>\n",
       "    </tr>\n",
       "    <tr>\n",
       "      <th>Produto7</th>\n",
       "      <td>15.7</td>\n",
       "      <td>91</td>\n",
       "      <td>1579.00</td>\n",
       "      <td>1428.7</td>\n",
       "      <td>-150.30</td>\n",
       "    </tr>\n",
       "    <tr>\n",
       "      <th>Produto8</th>\n",
       "      <td>17.3</td>\n",
       "      <td>8</td>\n",
       "      <td>130.00</td>\n",
       "      <td>138.4</td>\n",
       "      <td>8.40</td>\n",
       "    </tr>\n",
       "  </tbody>\n",
       "</table>\n",
       "</div>"
      ],
      "text/plain": [
       "          Preço  Quantidade  Custo Total  Receita Total  Lucro Total\n",
       "Produto1   20.3          10       100.00          203.0       103.00\n",
       "Produto2   31.2          33       568.70         1029.6       460.90\n",
       "Produto3   44.7          45       205.20         2011.5      1806.30\n",
       "Produto4   30.5          51       507.10         1555.5      1048.40\n",
       "Produto5   19.8          11       250.12          217.8       -32.32\n",
       "Produto6   11.2           8        55.30           89.6        34.30\n",
       "Produto7   15.7          91      1579.00         1428.7      -150.30\n",
       "Produto8   17.3           8       130.00          138.4         8.40"
      ]
     },
     "execution_count": 79,
     "metadata": {},
     "output_type": "execute_result"
    }
   ],
   "source": [
    "df"
   ]
  },
  {
   "cell_type": "code",
   "execution_count": null,
   "id": "0fc30fa6",
   "metadata": {},
   "outputs": [],
   "source": [
    "### Exercício 18\n",
    "Construa um objeto do tipo DataFrame com a estrutura abaixo. Utilize np.random.random() para gerar números aleatórios.\n",
    "\n",
    "Resultado esperado:\n",
    "https://img-b.udemycdn.com/redactor/raw/article_lecture/2020-12-21_17-50-43-2c319851d1b31b83e7f51adeeda3e278.png?secure=kQZ0LlFvichp3HI5lEkrvQ%3D%3D%2C1646932148\n",
    "    "
   ]
  },
  {
   "cell_type": "code",
   "execution_count": 2,
   "id": "159092ab",
   "metadata": {},
   "outputs": [],
   "source": [
    "df = pd.DataFrame(np.random.random(50).reshape((10,5)),\n",
    "                 index = range(1, 11),\n",
    "                 columns = list('ABCDE'))"
   ]
  },
  {
   "cell_type": "code",
   "execution_count": 3,
   "id": "b4de42cc",
   "metadata": {},
   "outputs": [
    {
     "data": {
      "text/html": [
       "<div>\n",
       "<style scoped>\n",
       "    .dataframe tbody tr th:only-of-type {\n",
       "        vertical-align: middle;\n",
       "    }\n",
       "\n",
       "    .dataframe tbody tr th {\n",
       "        vertical-align: top;\n",
       "    }\n",
       "\n",
       "    .dataframe thead th {\n",
       "        text-align: right;\n",
       "    }\n",
       "</style>\n",
       "<table border=\"1\" class=\"dataframe\">\n",
       "  <thead>\n",
       "    <tr style=\"text-align: right;\">\n",
       "      <th></th>\n",
       "      <th>A</th>\n",
       "      <th>B</th>\n",
       "      <th>C</th>\n",
       "      <th>D</th>\n",
       "      <th>E</th>\n",
       "    </tr>\n",
       "  </thead>\n",
       "  <tbody>\n",
       "    <tr>\n",
       "      <th>1</th>\n",
       "      <td>0.570968</td>\n",
       "      <td>0.705504</td>\n",
       "      <td>0.449349</td>\n",
       "      <td>0.680635</td>\n",
       "      <td>0.181951</td>\n",
       "    </tr>\n",
       "    <tr>\n",
       "      <th>2</th>\n",
       "      <td>0.930384</td>\n",
       "      <td>0.862719</td>\n",
       "      <td>0.936219</td>\n",
       "      <td>0.723640</td>\n",
       "      <td>0.491554</td>\n",
       "    </tr>\n",
       "    <tr>\n",
       "      <th>3</th>\n",
       "      <td>0.968692</td>\n",
       "      <td>0.239596</td>\n",
       "      <td>0.577042</td>\n",
       "      <td>0.282725</td>\n",
       "      <td>0.497774</td>\n",
       "    </tr>\n",
       "    <tr>\n",
       "      <th>4</th>\n",
       "      <td>0.241568</td>\n",
       "      <td>0.743657</td>\n",
       "      <td>0.791079</td>\n",
       "      <td>0.990456</td>\n",
       "      <td>0.824174</td>\n",
       "    </tr>\n",
       "    <tr>\n",
       "      <th>5</th>\n",
       "      <td>0.410725</td>\n",
       "      <td>0.455536</td>\n",
       "      <td>0.596812</td>\n",
       "      <td>0.944777</td>\n",
       "      <td>0.564833</td>\n",
       "    </tr>\n",
       "    <tr>\n",
       "      <th>6</th>\n",
       "      <td>0.861272</td>\n",
       "      <td>0.595518</td>\n",
       "      <td>0.955157</td>\n",
       "      <td>0.098919</td>\n",
       "      <td>0.028489</td>\n",
       "    </tr>\n",
       "    <tr>\n",
       "      <th>7</th>\n",
       "      <td>0.850288</td>\n",
       "      <td>0.683113</td>\n",
       "      <td>0.122772</td>\n",
       "      <td>0.541573</td>\n",
       "      <td>0.359774</td>\n",
       "    </tr>\n",
       "    <tr>\n",
       "      <th>8</th>\n",
       "      <td>0.562279</td>\n",
       "      <td>0.548218</td>\n",
       "      <td>0.836191</td>\n",
       "      <td>0.288281</td>\n",
       "      <td>0.138256</td>\n",
       "    </tr>\n",
       "    <tr>\n",
       "      <th>9</th>\n",
       "      <td>0.025761</td>\n",
       "      <td>0.454158</td>\n",
       "      <td>0.314650</td>\n",
       "      <td>0.312997</td>\n",
       "      <td>0.925657</td>\n",
       "    </tr>\n",
       "    <tr>\n",
       "      <th>10</th>\n",
       "      <td>0.504838</td>\n",
       "      <td>0.763100</td>\n",
       "      <td>0.254627</td>\n",
       "      <td>0.631701</td>\n",
       "      <td>0.337025</td>\n",
       "    </tr>\n",
       "  </tbody>\n",
       "</table>\n",
       "</div>"
      ],
      "text/plain": [
       "           A         B         C         D         E\n",
       "1   0.570968  0.705504  0.449349  0.680635  0.181951\n",
       "2   0.930384  0.862719  0.936219  0.723640  0.491554\n",
       "3   0.968692  0.239596  0.577042  0.282725  0.497774\n",
       "4   0.241568  0.743657  0.791079  0.990456  0.824174\n",
       "5   0.410725  0.455536  0.596812  0.944777  0.564833\n",
       "6   0.861272  0.595518  0.955157  0.098919  0.028489\n",
       "7   0.850288  0.683113  0.122772  0.541573  0.359774\n",
       "8   0.562279  0.548218  0.836191  0.288281  0.138256\n",
       "9   0.025761  0.454158  0.314650  0.312997  0.925657\n",
       "10  0.504838  0.763100  0.254627  0.631701  0.337025"
      ]
     },
     "execution_count": 3,
     "metadata": {},
     "output_type": "execute_result"
    }
   ],
   "source": [
    "df"
   ]
  },
  {
   "attachments": {
    "2020-12-21_18-00-30-bde75e30f930239ea21d8de60af3bc64.png": {
     "image/png": "[encoded data removed]"
    }
   },
   "cell_type": "markdown",
   "id": "add5b7ca",
   "metadata": {},
   "source": [
    "### Exercício 19\n",
    "Use uma estrutura de dados com nested dict (dicionário aninhado) para criar o DataFrame a seguir.\n",
    "\n",
    "![2020-12-21_18-00-30-bde75e30f930239ea21d8de60af3bc64.png](attachment:2020-12-21_18-00-30-bde75e30f930239ea21d8de60af3bc64.png)"
   ]
  },
  {
   "cell_type": "code",
   "execution_count": 5,
   "id": "3092bb0e",
   "metadata": {},
   "outputs": [],
   "source": [
    "produtos = {\n",
    "    'produto1': {2008:7, 2009:9, 2010:10, 2011:15, 2012:50, 2013:47},\n",
    "    'produto2': {2008:14, 2009:13, 2010:7, 2011:13, 2012:77, 2013:94},\n",
    "    'produto3': {2008:5, 2009:11, 2010:3, 2011:45, 2012:21, 2013:33},\n",
    "    'produto4': {2008:4, 2009:2, 2010:3, 2011:45, 2012:21, 2013: 33}}\n",
    "df = pd.DataFrame(produtos)\n",
    "df.columns.name= 'Produtos'\n",
    "df.index.name= 'Ano'"
   ]
  },
  {
   "cell_type": "code",
   "execution_count": 6,
   "id": "4fe662d4",
   "metadata": {},
   "outputs": [
    {
     "data": {
      "text/html": [
       "<div>\n",
       "<style scoped>\n",
       "    .dataframe tbody tr th:only-of-type {\n",
       "        vertical-align: middle;\n",
       "    }\n",
       "\n",
       "    .dataframe tbody tr th {\n",
       "        vertical-align: top;\n",
       "    }\n",
       "\n",
       "    .dataframe thead th {\n",
       "        text-align: right;\n",
       "    }\n",
       "</style>\n",
       "<table border=\"1\" class=\"dataframe\">\n",
       "  <thead>\n",
       "    <tr style=\"text-align: right;\">\n",
       "      <th>Produtos</th>\n",
       "      <th>produto1</th>\n",
       "      <th>produto2</th>\n",
       "      <th>produto3</th>\n",
       "      <th>produto4</th>\n",
       "    </tr>\n",
       "    <tr>\n",
       "      <th>Ano</th>\n",
       "      <th></th>\n",
       "      <th></th>\n",
       "      <th></th>\n",
       "      <th></th>\n",
       "    </tr>\n",
       "  </thead>\n",
       "  <tbody>\n",
       "    <tr>\n",
       "      <th>2008</th>\n",
       "      <td>7</td>\n",
       "      <td>14</td>\n",
       "      <td>5</td>\n",
       "      <td>4</td>\n",
       "    </tr>\n",
       "    <tr>\n",
       "      <th>2009</th>\n",
       "      <td>9</td>\n",
       "      <td>13</td>\n",
       "      <td>11</td>\n",
       "      <td>2</td>\n",
       "    </tr>\n",
       "    <tr>\n",
       "      <th>2010</th>\n",
       "      <td>10</td>\n",
       "      <td>7</td>\n",
       "      <td>3</td>\n",
       "      <td>3</td>\n",
       "    </tr>\n",
       "    <tr>\n",
       "      <th>2011</th>\n",
       "      <td>15</td>\n",
       "      <td>13</td>\n",
       "      <td>45</td>\n",
       "      <td>45</td>\n",
       "    </tr>\n",
       "    <tr>\n",
       "      <th>2012</th>\n",
       "      <td>50</td>\n",
       "      <td>77</td>\n",
       "      <td>21</td>\n",
       "      <td>21</td>\n",
       "    </tr>\n",
       "    <tr>\n",
       "      <th>2013</th>\n",
       "      <td>47</td>\n",
       "      <td>94</td>\n",
       "      <td>33</td>\n",
       "      <td>33</td>\n",
       "    </tr>\n",
       "  </tbody>\n",
       "</table>\n",
       "</div>"
      ],
      "text/plain": [
       "Produtos  produto1  produto2  produto3  produto4\n",
       "Ano                                             \n",
       "2008             7        14         5         4\n",
       "2009             9        13        11         2\n",
       "2010            10         7         3         3\n",
       "2011            15        13        45        45\n",
       "2012            50        77        21        21\n",
       "2013            47        94        33        33"
      ]
     },
     "execution_count": 6,
     "metadata": {},
     "output_type": "execute_result"
    }
   ],
   "source": [
    "df"
   ]
  },
  {
   "attachments": {
    "2020-12-21_18-06-02-d8ef079a4681fa226f274658cc71dd0a.png": {
     "image/png": "[encoded data removed]"
    }
   },
   "cell_type": "markdown",
   "id": "ebf14b4e",
   "metadata": {},
   "source": [
    "### Exercício 20\n",
    "Construa o DataFrame abaixo e faça as seguintes operações:\n",
    "\n",
    "dados = {\n",
    "    'Cliente': ['Jéssica', 'Carlos', 'Rafael', 'João', 'Pedro', 'Júnior', 'Laís', 'Tales'],\n",
    "    'Idade': [36, 39, 33, 32, 27, 35, 28, 18],\n",
    "    'Rating': [6.2, 2.17, 6.56, 8.32, 9.15, 1.34, 0.57, 1.66] \n",
    "        }\n",
    "\n",
    "a) Leia as 5 primeiras linhas com o método df.head();\n",
    "\n",
    "b) Leia as 3 primeiras linhas com o método df.head(n = 10);\n",
    "\n",
    "c) Leia as últimas 5 linhas com o método df.tail();\n",
    "\n",
    "d) Leia as últimas 2 linhas com o método df.tail(n = 2).\n",
    "\n",
    "![2020-12-21_18-06-02-d8ef079a4681fa226f274658cc71dd0a.png](attachment:2020-12-21_18-06-02-d8ef079a4681fa226f274658cc71dd0a.png)"
   ]
  },
  {
   "cell_type": "code",
   "execution_count": 7,
   "id": "2ad44b4f",
   "metadata": {},
   "outputs": [],
   "source": [
    "dados = {\n",
    "    'Cliente': ['Jéssica', 'Carlos', 'Rafael', 'João', 'Pedro', 'Júnior', 'Laís', 'Tales'],\n",
    "    'Idade': [36, 39, 33, 32, 27, 35, 28, 18],\n",
    "    'Rating': [6.2, 2.17, 6.56, 8.32, 9.15, 1.34, 0.57, 1.66]\n",
    "        }\n",
    "df= pd.DataFrame(dados, index = range(1,9))"
   ]
  },
  {
   "cell_type": "code",
   "execution_count": 9,
   "id": "6d54ad1e",
   "metadata": {},
   "outputs": [
    {
     "data": {
      "text/html": [
       "<div>\n",
       "<style scoped>\n",
       "    .dataframe tbody tr th:only-of-type {\n",
       "        vertical-align: middle;\n",
       "    }\n",
       "\n",
       "    .dataframe tbody tr th {\n",
       "        vertical-align: top;\n",
       "    }\n",
       "\n",
       "    .dataframe thead th {\n",
       "        text-align: right;\n",
       "    }\n",
       "</style>\n",
       "<table border=\"1\" class=\"dataframe\">\n",
       "  <thead>\n",
       "    <tr style=\"text-align: right;\">\n",
       "      <th></th>\n",
       "      <th>Cliente</th>\n",
       "      <th>Idade</th>\n",
       "      <th>Rating</th>\n",
       "    </tr>\n",
       "  </thead>\n",
       "  <tbody>\n",
       "    <tr>\n",
       "      <th>1</th>\n",
       "      <td>Jéssica</td>\n",
       "      <td>36</td>\n",
       "      <td>6.20</td>\n",
       "    </tr>\n",
       "    <tr>\n",
       "      <th>2</th>\n",
       "      <td>Carlos</td>\n",
       "      <td>39</td>\n",
       "      <td>2.17</td>\n",
       "    </tr>\n",
       "    <tr>\n",
       "      <th>3</th>\n",
       "      <td>Rafael</td>\n",
       "      <td>33</td>\n",
       "      <td>6.56</td>\n",
       "    </tr>\n",
       "    <tr>\n",
       "      <th>4</th>\n",
       "      <td>João</td>\n",
       "      <td>32</td>\n",
       "      <td>8.32</td>\n",
       "    </tr>\n",
       "    <tr>\n",
       "      <th>5</th>\n",
       "      <td>Pedro</td>\n",
       "      <td>27</td>\n",
       "      <td>9.15</td>\n",
       "    </tr>\n",
       "    <tr>\n",
       "      <th>6</th>\n",
       "      <td>Júnior</td>\n",
       "      <td>35</td>\n",
       "      <td>1.34</td>\n",
       "    </tr>\n",
       "    <tr>\n",
       "      <th>7</th>\n",
       "      <td>Laís</td>\n",
       "      <td>28</td>\n",
       "      <td>0.57</td>\n",
       "    </tr>\n",
       "    <tr>\n",
       "      <th>8</th>\n",
       "      <td>Tales</td>\n",
       "      <td>18</td>\n",
       "      <td>1.66</td>\n",
       "    </tr>\n",
       "  </tbody>\n",
       "</table>\n",
       "</div>"
      ],
      "text/plain": [
       "   Cliente  Idade  Rating\n",
       "1  Jéssica     36    6.20\n",
       "2   Carlos     39    2.17\n",
       "3   Rafael     33    6.56\n",
       "4     João     32    8.32\n",
       "5    Pedro     27    9.15\n",
       "6   Júnior     35    1.34\n",
       "7     Laís     28    0.57\n",
       "8    Tales     18    1.66"
      ]
     },
     "execution_count": 9,
     "metadata": {},
     "output_type": "execute_result"
    }
   ],
   "source": [
    "df"
   ]
  },
  {
   "cell_type": "code",
   "execution_count": 8,
   "id": "d7f71db2",
   "metadata": {},
   "outputs": [
    {
     "name": "stdout",
     "output_type": "stream",
     "text": [
      "   Cliente  Idade  Rating\n",
      "1  Jéssica     36    6.20\n",
      "2   Carlos     39    2.17\n",
      "3   Rafael     33    6.56\n",
      "4     João     32    8.32\n",
      "5    Pedro     27    9.15\n"
     ]
    }
   ],
   "source": [
    "print(df.head())"
   ]
  },
  {
   "cell_type": "code",
   "execution_count": 10,
   "id": "32ffc03c",
   "metadata": {},
   "outputs": [
    {
     "name": "stdout",
     "output_type": "stream",
     "text": [
      "   Cliente  Idade  Rating\n",
      "1  Jéssica     36    6.20\n",
      "2   Carlos     39    2.17\n",
      "3   Rafael     33    6.56\n"
     ]
    }
   ],
   "source": [
    "print(df.head(n = 3))"
   ]
  },
  {
   "cell_type": "code",
   "execution_count": 11,
   "id": "b451c235",
   "metadata": {},
   "outputs": [
    {
     "name": "stdout",
     "output_type": "stream",
     "text": [
      "  Cliente  Idade  Rating\n",
      "4    João     32    8.32\n",
      "5   Pedro     27    9.15\n",
      "6  Júnior     35    1.34\n",
      "7    Laís     28    0.57\n",
      "8   Tales     18    1.66\n"
     ]
    }
   ],
   "source": [
    "print(df.tail())"
   ]
  },
  {
   "cell_type": "code",
   "execution_count": 12,
   "id": "2599d029",
   "metadata": {},
   "outputs": [
    {
     "name": "stdout",
     "output_type": "stream",
     "text": [
      "  Cliente  Idade  Rating\n",
      "7    Laís     28    0.57\n",
      "8   Tales     18    1.66\n"
     ]
    }
   ],
   "source": [
    "print(df.tail(n = 2))"
   ]
  },
  {
   "attachments": {
    "2020-12-21_18-08-02-37dd923b637961f9ccae7c28449763ee.png": {
     "image/png": "[encoded data removed]"
    }
   },
   "cell_type": "markdown",
   "id": "5df5eb64",
   "metadata": {},
   "source": [
    "### Exercício 21\n",
    "Construa o DataFrame abaixo. Use Compreensão em Listas para criar a coluna 'Resultado Final' (Dica: se Nota>=7 'Sim'). Utilize a função info() para mostrar informações do dataset.\n",
    "\n",
    "nomes = ['Carlos', 'Rafael', 'Rogério', 'Ana', 'Beatriz', 'Jorge', 'Milena', 'Tales']\n",
    "notas = [7, 8 , 4.7, 10, 9.5, 6, 5, 7.7]\n",
    "\n",
    "![2020-12-21_18-08-02-37dd923b637961f9ccae7c28449763ee.png](attachment:2020-12-21_18-08-02-37dd923b637961f9ccae7c28449763ee.png)"
   ]
  },
  {
   "cell_type": "code",
   "execution_count": 15,
   "id": "bd513412",
   "metadata": {},
   "outputs": [],
   "source": [
    "nomes= ['Carlos', 'Rafael', 'Rogério', 'Ana', 'Beatriz', 'Jorge', 'Milena', 'Tales']\n",
    "notas= [7, 8, 4.7, 10, 9.5, 6, 5, 7.7]\n",
    "aprovado= ['Sim' if nota >= 7 else 'Não' for nota in notas]\n",
    "dados = {\n",
    "    'Nome': nomes,\n",
    "    'Nota': notas, \n",
    "    'Resultado Final': aprovado\n",
    "        }\n",
    "df= pd.DataFrame(dados)"
   ]
  },
  {
   "cell_type": "code",
   "execution_count": 19,
   "id": "63be7228",
   "metadata": {},
   "outputs": [
    {
     "name": "stdout",
     "output_type": "stream",
     "text": [
      "      Nome  Nota Resultado Final\n",
      "0   Carlos   7.0             Sim\n",
      "1   Rafael   8.0             Sim\n",
      "2  Rogério   4.7             Não\n",
      "3      Ana  10.0             Sim\n",
      "4  Beatriz   9.5             Sim\n",
      "5    Jorge   6.0             Não\n",
      "6   Milena   5.0             Não\n",
      "7    Tales   7.7             Sim\n"
     ]
    }
   ],
   "source": [
    "print(df)"
   ]
  },
  {
   "cell_type": "markdown",
   "id": "a799892d",
   "metadata": {},
   "source": [
    "### Exercício 22\n",
    "Com base no exercício anterior:\n",
    "\n",
    "a) aplice o método describe() para obter estatísticas descritivas das colunas numéricas;\n",
    "\n",
    "b) imprima o aluno que tirou nota máxima;\n",
    "\n",
    "c) imprima o aluno que tirou nota mínima;\n",
    "\n",
    "d) selecione apenas os alunos aprovados e armazene em uma variável."
   ]
  },
  {
   "cell_type": "code",
   "execution_count": 2,
   "id": "92c4261e",
   "metadata": {},
   "outputs": [],
   "source": [
    "import pandas as pd \n",
    "nomes = ['Carlos', 'Rafael', 'Rogério', 'Ana', 'Beatriz', 'Jorge', 'Milena', 'Tales']\n",
    "notas = [7, 8, 4.7, 10, 9.5, 6, 5, 7.7]\n",
    "aprovado= ['sim' if nota >= 7 else 'Não' for nota in notas]\n",
    "dados = {\n",
    "    'Nome': nomes,\n",
    "    'Nota': notas, \n",
    "    'Resultado final': aprovado\n",
    "        }\n",
    "df = pd.DataFrame(dados)\n",
    "aprovados = df[df['Resultado final'] == 'Sim']\n"
   ]
  },
  {
   "cell_type": "code",
   "execution_count": 7,
   "id": "7d708059",
   "metadata": {},
   "outputs": [
    {
     "name": "stdout",
     "output_type": "stream",
     "text": [
      "                                         Sumário das notas:                                         \n"
     ]
    }
   ],
   "source": [
    "print('Sumário das notas:'.center(100, ' '))"
   ]
  },
  {
   "cell_type": "code",
   "execution_count": 8,
   "id": "418df3e0",
   "metadata": {},
   "outputs": [
    {
     "name": "stdout",
     "output_type": "stream",
     "text": [
      "           Nota\n",
      "count   8.00000\n",
      "mean    7.23750\n",
      "std     1.94858\n",
      "min     4.70000\n",
      "25%     5.75000\n",
      "50%     7.35000\n",
      "75%     8.37500\n",
      "max    10.00000\n"
     ]
    }
   ],
   "source": [
    "print(df.describe())"
   ]
  },
  {
   "cell_type": "code",
   "execution_count": 9,
   "id": "3a711d0e",
   "metadata": {},
   "outputs": [
    {
     "name": "stdout",
     "output_type": "stream",
     "text": [
      "Maior nota: \n",
      "Nome               Tales\n",
      "Nota                10.0\n",
      "Resultado final      sim\n",
      "dtype: object\n"
     ]
    }
   ],
   "source": [
    "print(f'Maior nota: \\n{df.max()}')"
   ]
  },
  {
   "cell_type": "code",
   "execution_count": 11,
   "id": "fc07d523",
   "metadata": {},
   "outputs": [
    {
     "name": "stdout",
     "output_type": "stream",
     "text": [
      "      Nome  Nota Resultado final\n",
      "0   Carlos   7.0             sim\n",
      "1   Rafael   8.0             sim\n",
      "2  Rogério   4.7             Não\n",
      "3      Ana  10.0             sim\n",
      "4  Beatriz   9.5             sim\n",
      "5    Jorge   6.0             Não\n",
      "6   Milena   5.0             Não\n",
      "7    Tales   7.7             sim\n"
     ]
    }
   ],
   "source": [
    "print(df)"
   ]
  },
  {
   "cell_type": "code",
   "execution_count": 14,
   "id": "7c7504e9",
   "metadata": {},
   "outputs": [
    {
     "name": "stdout",
     "output_type": "stream",
     "text": [
      "Menor nota: \n",
      "Nome               Ana\n",
      "Nota               4.7\n",
      "Resultado final    Não\n",
      "dtype: object\n"
     ]
    }
   ],
   "source": [
    "print(f'Menor nota: \\n{df.min()}')"
   ]
  },
  {
   "cell_type": "markdown",
   "id": "918f8402",
   "metadata": {},
   "source": [
    "### Exercício 23\n",
    "Com base no DataFrame abaixo,\n",
    "\n",
    "import pandas as pd\n",
    "import numpy as np\n",
    " \n",
    "dados = np.random.uniform(low = 0, high = 5, size = (100,5))\n",
    "df = pd.DataFrame(dados, \n",
    "                  index = range(1,dados.shape[0]+1), \n",
    "                  columns = list('ABCDE'))\n",
    " \n",
    "Mostre na tela as seguintes informações:   \n",
    "\n",
    "a) números de linhas;\n",
    "\n",
    "b) número de colunas;\n",
    "\n",
    "c) shape;\n",
    "\n",
    "d) número total de elementos;\n",
    "\n",
    "e) Número de dimensões;\n",
    "\n",
    "f) informações do dataset com a função info();\n",
    "\n",
    "g) o dtype de cada coluna;\n",
    "\n",
    "h) estatísticas descritivas de cada coluna."
   ]
  },
  {
   "cell_type": "code",
   "execution_count": 19,
   "id": "fd869728",
   "metadata": {},
   "outputs": [],
   "source": [
    "dados = np.random.uniform(low=0, high=5, size = (100,5))\n",
    "df = pd.DataFrame(dados, index = range(1, dados.shape[0]+1), columns= list('ABCDE'))\n"
   ]
  },
  {
   "cell_type": "code",
   "execution_count": 20,
   "id": "73084ad3",
   "metadata": {},
   "outputs": [
    {
     "name": "stdout",
     "output_type": "stream",
     "text": [
      "Número de linhas: 100\n"
     ]
    }
   ],
   "source": [
    "print(f'Número de linhas: {df.shape[0]}')"
   ]
  },
  {
   "cell_type": "code",
   "execution_count": 21,
   "id": "93ed16c0",
   "metadata": {},
   "outputs": [
    {
     "name": "stdout",
     "output_type": "stream",
     "text": [
      "Número de colunas: 5\n"
     ]
    }
   ],
   "source": [
    "print(f'Número de colunas: {df.shape[1]}')"
   ]
  },
  {
   "cell_type": "code",
   "execution_count": 22,
   "id": "b016e89a",
   "metadata": {},
   "outputs": [
    {
     "name": "stdout",
     "output_type": "stream",
     "text": [
      "shape: (100, 5)\n"
     ]
    }
   ],
   "source": [
    "print(f'shape: {df.shape}')"
   ]
  },
  {
   "cell_type": "code",
   "execution_count": 23,
   "id": "9faa96f7",
   "metadata": {},
   "outputs": [
    {
     "name": "stdout",
     "output_type": "stream",
     "text": [
      "Número total de elementos: 500\n"
     ]
    }
   ],
   "source": [
    "print(f'Número total de elementos: {df.size}')"
   ]
  },
  {
   "cell_type": "code",
   "execution_count": 24,
   "id": "93e55ba3",
   "metadata": {},
   "outputs": [
    {
     "name": "stdout",
     "output_type": "stream",
     "text": [
      "Número de dimenções: 2\n"
     ]
    }
   ],
   "source": [
    "print(f'Número de dimenções: {df.ndim}')"
   ]
  },
  {
   "cell_type": "code",
   "execution_count": 25,
   "id": "9c114008",
   "metadata": {},
   "outputs": [
    {
     "name": "stdout",
     "output_type": "stream",
     "text": [
      "----------------------------------------------------------------------------------------------------\n"
     ]
    }
   ],
   "source": [
    "print('-'*100)"
   ]
  },
  {
   "cell_type": "code",
   "execution_count": 26,
   "id": "8149c2b8",
   "metadata": {},
   "outputs": [
    {
     "name": "stdout",
     "output_type": "stream",
     "text": [
      "Informação do dataset:\n"
     ]
    }
   ],
   "source": [
    "print(f'Informação do dataset:')"
   ]
  },
  {
   "cell_type": "code",
   "execution_count": 27,
   "id": "54a6891f",
   "metadata": {},
   "outputs": [
    {
     "name": "stdout",
     "output_type": "stream",
     "text": [
      "<class 'pandas.core.frame.DataFrame'>\n",
      "RangeIndex: 100 entries, 1 to 100\n",
      "Data columns (total 5 columns):\n",
      " #   Column  Non-Null Count  Dtype  \n",
      "---  ------  --------------  -----  \n",
      " 0   A       100 non-null    float64\n",
      " 1   B       100 non-null    float64\n",
      " 2   C       100 non-null    float64\n",
      " 3   D       100 non-null    float64\n",
      " 4   E       100 non-null    float64\n",
      "dtypes: float64(5)\n",
      "memory usage: 4.0 KB\n",
      "None\n"
     ]
    }
   ],
   "source": [
    "print(df.info())"
   ]
  },
  {
   "cell_type": "code",
   "execution_count": 34,
   "id": "9a18d36e",
   "metadata": {},
   "outputs": [
    {
     "name": "stdout",
     "output_type": "stream",
     "text": [
      "----------------------------------------------------------------------------------------------------\n"
     ]
    }
   ],
   "source": [
    "print('-'*100)"
   ]
  },
  {
   "cell_type": "code",
   "execution_count": 35,
   "id": "45b600ea",
   "metadata": {},
   "outputs": [
    {
     "name": "stdout",
     "output_type": "stream",
     "text": [
      "Dtype de cada coluna: \n",
      "A    float64\n",
      "B    float64\n",
      "C    float64\n",
      "D    float64\n",
      "E    float64\n",
      "dtype: object\n"
     ]
    }
   ],
   "source": [
    "print(f'Dtype de cada coluna: \\n{df.dtypes}')"
   ]
  },
  {
   "cell_type": "code",
   "execution_count": 37,
   "id": "cc8e5787",
   "metadata": {},
   "outputs": [
    {
     "name": "stdout",
     "output_type": "stream",
     "text": [
      "----------------------------------------------------------------------------------------------------\n"
     ]
    }
   ],
   "source": [
    "print('-'*100)"
   ]
  },
  {
   "cell_type": "code",
   "execution_count": 38,
   "id": "9eb1cc3b",
   "metadata": {},
   "outputs": [
    {
     "name": "stdout",
     "output_type": "stream",
     "text": [
      "Estatísticas descritivas: \n",
      "                A           B           C           D           E\n",
      "count  100.000000  100.000000  100.000000  100.000000  100.000000\n",
      "mean     2.495536    2.441617    2.356222    2.615317    2.925428\n",
      "std      1.427845    1.505016    1.483525    1.565371    1.473443\n",
      "min      0.002836    0.037072    0.013778    0.063853    0.006117\n",
      "25%      1.321202    1.043970    0.968116    1.114607    1.662264\n",
      "50%      2.562690    2.464118    2.479922    2.744582    3.184585\n",
      "75%      3.715131    3.881166    3.734752    4.007243    4.093853\n",
      "max      4.964510    4.956110    4.902607    4.959173    4.976573\n"
     ]
    }
   ],
   "source": [
    "print(f'Estatísticas descritivas: \\n{df.describe()}')"
   ]
  },
  {
   "cell_type": "code",
   "execution_count": 40,
   "id": "d94fb114",
   "metadata": {},
   "outputs": [
    {
     "name": "stdout",
     "output_type": "stream",
     "text": [
      "Número de linhas: 100\n",
      "Número de colunas: 5\n",
      "Shape: (100, 5)\n",
      "Número total de elementos: 500\n",
      "Número de dimensões: 2\n",
      "====================================================================================================\n",
      "Informações do dataset:\n",
      "<class 'pandas.core.frame.DataFrame'>\n",
      "RangeIndex: 100 entries, 1 to 100\n",
      "Data columns (total 5 columns):\n",
      " #   Column  Non-Null Count  Dtype  \n",
      "---  ------  --------------  -----  \n",
      " 0   A       100 non-null    float64\n",
      " 1   B       100 non-null    float64\n",
      " 2   C       100 non-null    float64\n",
      " 3   D       100 non-null    float64\n",
      " 4   E       100 non-null    float64\n",
      "dtypes: float64(5)\n",
      "memory usage: 4.0 KB\n",
      "None\n",
      "====================================================================================================\n",
      "Dtype de cada coluna: \n",
      "A    float64\n",
      "B    float64\n",
      "C    float64\n",
      "D    float64\n",
      "E    float64\n",
      "dtype: object\n",
      "====================================================================================================\n",
      "Estatísticas descritivas: \n",
      "                A           B           C           D           E\n",
      "count  100.000000  100.000000  100.000000  100.000000  100.000000\n",
      "mean     2.495536    2.441617    2.356222    2.615317    2.925428\n",
      "std      1.427845    1.505016    1.483525    1.565371    1.473443\n",
      "min      0.002836    0.037072    0.013778    0.063853    0.006117\n",
      "25%      1.321202    1.043970    0.968116    1.114607    1.662264\n",
      "50%      2.562690    2.464118    2.479922    2.744582    3.184585\n",
      "75%      3.715131    3.881166    3.734752    4.007243    4.093853\n",
      "max      4.964510    4.956110    4.902607    4.959173    4.976573\n"
     ]
    }
   ],
   "source": [
    "print(f'Número de linhas: {df.shape[0]}')\n",
    "print(f'Número de colunas: {df.shape[1]}')\n",
    "print(f'Shape: {df.shape}')\n",
    "print(f'Número total de elementos: {df.size}')\n",
    "print(f'Número de dimensões: {df.ndim}')\n",
    "print('='*100)\n",
    "print(f'Informações do dataset:')\n",
    "print(df.info())\n",
    "print('='*100)\n",
    "print(f'Dtype de cada coluna: \\n{df.dtypes}')\n",
    "print('='*100)\n",
    "print(f'Estatísticas descritivas: \\n{df.describe()}')"
   ]
  },
  {
   "attachments": {
    "2020-12-21_19-02-05-c2eb6aed7d8a635cea547dc4c496693f.png": {
     "image/png": "[encoded data removed]"
    }
   },
   "cell_type": "markdown",
   "id": "8d8229fd",
   "metadata": {},
   "source": [
    "### Exercício 24\n",
    "Construa o DataFrame abaixo e faça:\n",
    "\n",
    "![2020-12-21_19-02-05-c2eb6aed7d8a635cea547dc4c496693f.png](attachment:2020-12-21_19-02-05-c2eb6aed7d8a635cea547dc4c496693f.png)\n",
    "\n",
    "a) exiba o tipo de dados de cada coluna;\n",
    "\n",
    "b) converta o dtype das colunas 'C' e 'E' para category (Dica: df['columns'].astype('category'));\n",
    "\n",
    "c) selecione e imprima apenas as colunas do tipo category (Dica: df.select_dtypes('category'));\n",
    "\n",
    "d) selecione e imprima apenas as colunas do tipo bool;\n",
    "\n",
    "f) selecione e imprima apenas as colunas numéricas;\n",
    "\n",
    "g) imprima estatísticas descritivas de cada coluna, incluindo as colunas categóricas.\n",
    "\n",
    "dic = {\n",
    "    'A': [11, 3, 7, 99, 100, 130, 150],\n",
    "    'B': [1.2, 0.5, 1.2, 3.2, 0.9, 1.7, 9.5],\n",
    "    'C': ['A', 'Z', 'W', 'K', 'A', 'Z', 'Z'],\n",
    "    'D': [True, False, True, False, True, False, True],    \n",
    "    'E': ['A', 'A', 'B', 'B', 'A', 'A', 'B'],\n",
    "    'F': [True, True, False, False, True, False, True],}"
   ]
  },
  {
   "cell_type": "code",
   "execution_count": 10,
   "id": "768643c5",
   "metadata": {},
   "outputs": [
    {
     "name": "stdout",
     "output_type": "stream",
     "text": [
      "====================================================================================================\n",
      "Dtype de cada coluna: \n",
      "A       int64\n",
      "B     float64\n",
      "C    category\n",
      "D        bool\n",
      "E    category\n",
      "F        bool\n",
      "dtype: object\n",
      "====================================================================================================\n",
      "Colunas do tipo category: \n",
      "     C  E\n",
      "10  A  A\n",
      "20  Z  A\n",
      "30  W  B\n",
      "40  K  B\n",
      "50  A  A\n",
      "60  Z  A\n",
      "70  Z  B\n",
      "====================================================================================================\n",
      "Colunas do tipo bool: \n",
      "         D      F\n",
      "10   True   True\n",
      "20   True   True\n",
      "30  False  False\n",
      "40  False  False\n",
      "50   True   True\n",
      "60  False  False\n",
      "70   True   True\n",
      "====================================================================================================\n",
      "Colunas numéricas: \n",
      "       A    B\n",
      "10   11  1.2\n",
      "20    3  0.5\n",
      "30    7  1.2\n",
      "40   99  3.2\n",
      "50  100  0.9\n",
      "60  130  1.7\n",
      "70  150  9.5\n",
      "====================================================================================================\n",
      "                                      Estatísticas descritivas                                      \n",
      "  count unique   top freq       mean        std  min   25%   50%    75%    max\n",
      "A   7.0    NaN   NaN  NaN  71.428571  62.803549  3.0   9.0  99.0  115.0  150.0\n",
      "B   7.0    NaN   NaN  NaN        2.6   3.162278  0.5  1.05   1.2   2.45    9.5\n",
      "C     7      4     Z    3        NaN        NaN  NaN   NaN   NaN    NaN    NaN\n",
      "D     7      2  True    4        NaN        NaN  NaN   NaN   NaN    NaN    NaN\n",
      "E     7      2     A    4        NaN        NaN  NaN   NaN   NaN    NaN    NaN\n",
      "F     7      2  True    4        NaN        NaN  NaN   NaN   NaN    NaN    NaN\n",
      "====================================================================================================\n"
     ]
    }
   ],
   "source": [
    "import pandas as pd\n",
    "import numpy as np\n",
    "\n",
    "dic ={\n",
    "    'A': [11, 3, 7, 99, 100, 130, 150],\n",
    "    'B': [1.2, 0.5, 1.2, 3.2, 0.9, 1.7, 9.5],\n",
    "    'C': ['A', 'Z', 'W', 'K', 'A', 'Z', 'Z'],\n",
    "    'D': [True, True, False, False, True, False, True],\n",
    "    'E': ['A', 'A', 'B', 'B', 'A', 'A', 'B'], \n",
    "    'F': [True, True, False, False, True, False, True],}\n",
    "\n",
    "index = list (range(10, 71, 10))\n",
    "df = pd.DataFrame(data = dic, index = index)\n",
    "df[['C','E']] = df[['C', 'E']].astype('category')\n",
    "\n",
    "print('='*100)\n",
    "print(f'Dtype de cada coluna: \\n{df.dtypes}')\n",
    "print('='*100)\n",
    "print(f\"Colunas do tipo category: \\n {df.select_dtypes('category')}\")\n",
    "print('='*100)\n",
    "print(f'Colunas do tipo bool: \\n {df.select_dtypes(bool)}')\n",
    "print('='*100)\n",
    "print(f'Colunas numéricas: \\n {df.select_dtypes(include= [float, int])}')\n",
    "print('='*100)\n",
    "print(f'Estatísticas descritivas'.center(100, ' '))\n",
    "print(df.describe(include = 'all').T)\n",
    "print('='*100)"
   ]
  },
  {
   "attachments": {
    "2020-12-21_19-11-24-1f686ebebfcd9e467454b1a55a120c33.png": {
     "image/png": "[encoded data removed]"
    }
   },
   "cell_type": "markdown",
   "id": "f8f32720",
   "metadata": {},
   "source": [
    "### Exercício 25\n",
    "Construa o DataFrame abaixo. Use o NumPy para construir os dados das colunas, com a função np.random.normal(), considere uma distribuição com média 10 e desvio padrão 0.5. Utilize Compreensão em Listas para configurar os índices e as colunas.\n",
    "\n",
    "![2020-12-21_19-11-24-1f686ebebfcd9e467454b1a55a120c33.png](attachment:2020-12-21_19-11-24-1f686ebebfcd9e467454b1a55a120c33.png)"
   ]
  },
  {
   "cell_type": "code",
   "execution_count": 11,
   "id": "9d50275b",
   "metadata": {},
   "outputs": [],
   "source": [
    "array = np.random.normal(10, 0.5, (10, 10)).round(1)\n",
    "col = [chr(64+i)for i in range(1, array.shape[1]+1)]\n",
    "index = [chr(64+i)+str(i) for i in range(1, array.shape[0]+1)]\n",
    "df = pd.DataFrame(data = array, columns = col, index = index)"
   ]
  },
  {
   "cell_type": "code",
   "execution_count": 12,
   "id": "f9793672",
   "metadata": {},
   "outputs": [
    {
     "name": "stdout",
     "output_type": "stream",
     "text": [
      "        A     B     C     D     E     F     G     H     I     J\n",
      "A1   10.2  11.0  10.4  10.7  10.2  10.1   9.3   9.7  10.6  10.5\n",
      "B2   10.7   9.9  10.9  10.3   9.8   9.3   9.9   9.7   9.4  10.9\n",
      "C3   10.0   9.0  10.0  10.2  10.0  10.4   9.9  10.1  10.5   9.9\n",
      "D4   11.0  10.4   9.6  10.8   9.8  10.0  10.0  10.1   9.0   9.8\n",
      "E5   10.0   9.5  10.7   9.3  10.4  10.1   9.4   9.8   9.8  10.3\n",
      "F6   10.3  10.2  10.0  10.8  10.1   9.6  10.4  10.4  10.4  10.1\n",
      "G7    9.3   9.3  10.2   9.8   9.8   9.7  10.3   9.8   8.8   9.6\n",
      "H8   10.6   9.5   9.7  10.3  10.6  10.3  10.1   9.4   9.3   9.9\n",
      "I9    9.1   9.4  10.3  10.2  10.1  10.1  10.9  10.5  10.2   9.8\n",
      "J10   9.5  10.7  10.0  10.6  10.2   9.9  10.0   9.8   9.9   9.8\n"
     ]
    }
   ],
   "source": [
    "print(df)"
   ]
  },
  {
   "attachments": {
    "2020-12-21_19-13-02-b397a186faccf7b1e518731a29452718.png": {
     "image/png": "[encoded data removed]"
    }
   },
   "cell_type": "markdown",
   "id": "9522c523",
   "metadata": {},
   "source": [
    "### Exercício 26\n",
    "Com base no DataFrame a seguir obtenha:\n",
    "\n",
    "a) selecione a coluna 'Nome' e armazene em uma variável;\n",
    "\n",
    "b) selecione a coluna 'Resultado Final' e armazene em uma variável;\n",
    "\n",
    "c) selecione e imprima as coluna 'Nome' e 'Resultado Final';\n",
    "\n",
    "d) selecione a linha 6 do DataFrame;\n",
    "\n",
    "e) selecione as linhas 3 a 5 do DataFrame.\n",
    "\n",
    "![2020-12-21_19-13-02-b397a186faccf7b1e518731a29452718.png](attachment:2020-12-21_19-13-02-b397a186faccf7b1e518731a29452718.png)"
   ]
  },
  {
   "cell_type": "code",
   "execution_count": 13,
   "id": "0a90877f",
   "metadata": {},
   "outputs": [
    {
     "name": "stdout",
     "output_type": "stream",
     "text": [
      "      Nome Resultado final\n",
      "0   Carlos             Sim\n",
      "1   Rafael             Sim\n",
      "2  Rogério             Não\n",
      "3      Ana             Sim\n",
      "4  Beatriz             Sim\n",
      "5    jorge             Não\n",
      "6   Milena             Não\n",
      "7    Tales             Sim\n",
      "\n",
      "     Nome Resultado final\n",
      "6  Milena             Não\n",
      "\n",
      "      Nome Resultado final\n",
      "3      Ana             Sim\n",
      "4  Beatriz             Sim\n",
      "5    jorge             Não\n"
     ]
    }
   ],
   "source": [
    "notas = [ 7, 8, 4.7, 10, 9.5, 6, 5, 7.7]\n",
    "dados = {\n",
    "    'Nome': ['Carlos', 'Rafael', 'Rogério', 'Ana', 'Beatriz', 'jorge', 'Milena', 'Tales'],\n",
    "    'Resultado final': ['Sim' if nota >=7 else 'Não' for nota in notas]\n",
    "        }\n",
    "df = pd.DataFrame(dados)\n",
    "\n",
    "nomes = df.Nome                                  #a)\n",
    "resultado_final = df['Resultado final']          #b)\n",
    "print(df[['Nome', 'Resultado final']])           #c)\n",
    "print()\n",
    "print(df.iloc[6:7])                              #d)\n",
    "print()\n",
    "print(df.iloc[3:6])"
   ]
  },
  {
   "cell_type": "code",
   "execution_count": null,
   "id": "d786b939",
   "metadata": {},
   "outputs": [],
   "source": [
    "### Exercício 27\n",
    "Ainda com base no DataFrame do exercício anterior:\n",
    "\n",
    "a) selecione os nomes 'Rafael', 'Rogério' e 'Ana' e armazene em uma lista;\n",
    "\n",
    "b) selecione os nomes 'Carlos', 'Rogério' e 'Tales' e armazene em uma lista;\n",
    "\n",
    "c) selecione o nome 'Carlos';\n",
    "\n",
    "d) selecione a nota 7.7."
   ]
  },
  {
   "cell_type": "code",
   "execution_count": 2,
   "id": "eafef217",
   "metadata": {},
   "outputs": [
    {
     "name": "stdout",
     "output_type": "stream",
     "text": [
      "['Rafael', 'Rogério', 'Ana']\n",
      "['Carlos', 'Rogério', 'Tales']\n",
      "Carlos\n",
      "7.7\n"
     ]
    }
   ],
   "source": [
    "notas = [7, 8, 4.7, 10, 9.5, 6, 5, 7.7]\n",
    "dados = {\n",
    "    'Nome' : ['Carlos', 'Rafael', 'Rogério', 'Ana', 'Beatriz', 'Jorge', 'Milena', 'Tales'],\n",
    "    'Nota' : [7, 8, 4.7, 10, 9.5, 6, 5, 7.7],\n",
    "    'Resultado Final' : ['Sim' if nota >= 7 else 'Não' for nota in notas]}\n",
    "\n",
    "df = pd.DataFrame(dados)\n",
    "\n",
    "print(df.Nome[1:4].tolist())                # a)\n",
    "print(df.Nome.loc[[0, 2, 7]].tolist())      # b)\n",
    "print(df.Nome.iloc[0:1][0])                 # c)\n",
    "print(df.Nota.iloc[-1])                     # d)"
   ]
  },
  {
   "attachments": {
    "2020-12-21_19-31-31-5ca8f3ab6b388e0001fb26f8f9f49af0.png": {
     "image/png": "[encoded data removed]"
    }
   },
   "cell_type": "markdown",
   "id": "e6fbbe83",
   "metadata": {},
   "source": [
    "Exercício 28\n",
    "Crie o DataFrame abaixo, que representa o lucro de distintas marcas em anos de atuação de uma empresa. Use Compreensão em Listas para construir as colunas e os índices. Para constuir os valores use np.random.seed(7), de modo que os valores aleatórios sejam iguais aos definidos aqui neste exercício.\n",
    "\n",
    "![2020-12-21_19-31-31-5ca8f3ab6b388e0001fb26f8f9f49af0.png](attachment:2020-12-21_19-31-31-5ca8f3ab6b388e0001fb26f8f9f49af0.png)\n",
    "\n",
    "a) acesse os seguintes atributos: columns, index, shape e values;\n",
    "\n",
    "b) selecione as colunas 'Marca A' e 'Marca C', individualmente;\n",
    "\n",
    "c) mostre as estatísticas descritivas de cada coluna com a função describe();\n",
    "\n",
    "d) mostre informações do dataset com a função info();\n",
    "\n",
    "e) mostre o tipo de dado de cada coluna do dataset;\n",
    "\n",
    "f) converta o data type das colunas para float;\n",
    "\n",
    "g) selecione o lucro das marcas no ano 1 (use as funções loc e iloc);\n",
    "\n",
    "h) selecione o lucro da Marca C nos anos 1 e 3 (use as funções loc e iloc);\n",
    "\n",
    "i) selecione o lucro das marcas A, C e D, nos anos 2 e 4 (use as funções loc e iloc);\n",
    "\n",
    "j) mostre o lucro médio de cada marca neste intervalo temporal;\n",
    "\n",
    "l) mostre o lucro médio de todas as marcas em cada ano."
   ]
  },
  {
   "cell_type": "markdown",
   "id": "c12469de",
   "metadata": {},
   "source": [
    "## Construção do DataFrame:"
   ]
  },
  {
   "cell_type": "code",
   "execution_count": 21,
   "id": "f22857ac",
   "metadata": {},
   "outputs": [],
   "source": [
    "np.random.seed(7)\n",
    "dados = np.random.randint(1, 50, 16, ).reshape((4, 4))\n",
    "index = ['Ano '+str(i) for i in range(1, 5)]\n",
    "col = ['Marca '+chr(65+i) for i in range(4)]\n",
    "df = pd.DataFrame(dados, columns = col, index = index)"
   ]
  },
  {
   "cell_type": "code",
   "execution_count": 22,
   "id": "b2af1146",
   "metadata": {},
   "outputs": [
    {
     "data": {
      "text/html": [
       "<div>\n",
       "<style scoped>\n",
       "    .dataframe tbody tr th:only-of-type {\n",
       "        vertical-align: middle;\n",
       "    }\n",
       "\n",
       "    .dataframe tbody tr th {\n",
       "        vertical-align: top;\n",
       "    }\n",
       "\n",
       "    .dataframe thead th {\n",
       "        text-align: right;\n",
       "    }\n",
       "</style>\n",
       "<table border=\"1\" class=\"dataframe\">\n",
       "  <thead>\n",
       "    <tr style=\"text-align: right;\">\n",
       "      <th></th>\n",
       "      <th>Marca A</th>\n",
       "      <th>Marca B</th>\n",
       "      <th>Marca C</th>\n",
       "      <th>Marca D</th>\n",
       "    </tr>\n",
       "  </thead>\n",
       "  <tbody>\n",
       "    <tr>\n",
       "      <th>Ano 1</th>\n",
       "      <td>48</td>\n",
       "      <td>5</td>\n",
       "      <td>26</td>\n",
       "      <td>4</td>\n",
       "    </tr>\n",
       "    <tr>\n",
       "      <th>Ano 2</th>\n",
       "      <td>20</td>\n",
       "      <td>24</td>\n",
       "      <td>40</td>\n",
       "      <td>29</td>\n",
       "    </tr>\n",
       "    <tr>\n",
       "      <th>Ano 3</th>\n",
       "      <td>15</td>\n",
       "      <td>24</td>\n",
       "      <td>9</td>\n",
       "      <td>26</td>\n",
       "    </tr>\n",
       "    <tr>\n",
       "      <th>Ano 4</th>\n",
       "      <td>47</td>\n",
       "      <td>43</td>\n",
       "      <td>27</td>\n",
       "      <td>9</td>\n",
       "    </tr>\n",
       "  </tbody>\n",
       "</table>\n",
       "</div>"
      ],
      "text/plain": [
       "       Marca A  Marca B  Marca C  Marca D\n",
       "Ano 1       48        5       26        4\n",
       "Ano 2       20       24       40       29\n",
       "Ano 3       15       24        9       26\n",
       "Ano 4       47       43       27        9"
      ]
     },
     "execution_count": 22,
     "metadata": {},
     "output_type": "execute_result"
    }
   ],
   "source": [
    "df"
   ]
  },
  {
   "cell_type": "markdown",
   "id": "6f1a2557",
   "metadata": {},
   "source": [
    "### a) acesse os seguintes atributos: columns, index, shape e values;"
   ]
  },
  {
   "cell_type": "code",
   "execution_count": 23,
   "id": "3970ecfb",
   "metadata": {},
   "outputs": [
    {
     "data": {
      "text/plain": [
       "Index(['Marca A', 'Marca B', 'Marca C', 'Marca D'], dtype='object')"
      ]
     },
     "execution_count": 23,
     "metadata": {},
     "output_type": "execute_result"
    }
   ],
   "source": [
    "df.columns"
   ]
  },
  {
   "cell_type": "code",
   "execution_count": 24,
   "id": "62c1665a",
   "metadata": {},
   "outputs": [
    {
     "data": {
      "text/plain": [
       "Index(['Ano 1', 'Ano 2', 'Ano 3', 'Ano 4'], dtype='object')"
      ]
     },
     "execution_count": 24,
     "metadata": {},
     "output_type": "execute_result"
    }
   ],
   "source": [
    "df.index"
   ]
  },
  {
   "cell_type": "code",
   "execution_count": 25,
   "id": "db736ca6",
   "metadata": {},
   "outputs": [
    {
     "data": {
      "text/plain": [
       "(4, 4)"
      ]
     },
     "execution_count": 25,
     "metadata": {},
     "output_type": "execute_result"
    }
   ],
   "source": [
    "df.shape"
   ]
  },
  {
   "cell_type": "code",
   "execution_count": 27,
   "id": "a3585faf",
   "metadata": {},
   "outputs": [
    {
     "data": {
      "text/plain": [
       "array([[48,  5, 26,  4],\n",
       "       [20, 24, 40, 29],\n",
       "       [15, 24,  9, 26],\n",
       "       [47, 43, 27,  9]])"
      ]
     },
     "execution_count": 27,
     "metadata": {},
     "output_type": "execute_result"
    }
   ],
   "source": [
    "df.values"
   ]
  },
  {
   "cell_type": "markdown",
   "id": "643fb6d1",
   "metadata": {},
   "source": [
    "### b) selecione as colunas 'Marca A' e 'Marca C', individualmente;"
   ]
  },
  {
   "cell_type": "code",
   "execution_count": 28,
   "id": "f584783a",
   "metadata": {},
   "outputs": [
    {
     "data": {
      "text/plain": [
       "Ano 1    48\n",
       "Ano 2    20\n",
       "Ano 3    15\n",
       "Ano 4    47\n",
       "Name: Marca A, dtype: int32"
      ]
     },
     "execution_count": 28,
     "metadata": {},
     "output_type": "execute_result"
    }
   ],
   "source": [
    "df['Marca A']"
   ]
  },
  {
   "cell_type": "code",
   "execution_count": 29,
   "id": "4a7eaf1e",
   "metadata": {},
   "outputs": [
    {
     "data": {
      "text/plain": [
       "Ano 1    26\n",
       "Ano 2    40\n",
       "Ano 3     9\n",
       "Ano 4    27\n",
       "Name: Marca C, dtype: int32"
      ]
     },
     "execution_count": 29,
     "metadata": {},
     "output_type": "execute_result"
    }
   ],
   "source": [
    "df['Marca C']"
   ]
  },
  {
   "cell_type": "markdown",
   "id": "658794d5",
   "metadata": {},
   "source": [
    "### c) mostre as estatísticas descritivas de cada coluna com a função describe();"
   ]
  },
  {
   "cell_type": "code",
   "execution_count": 30,
   "id": "dadeb501",
   "metadata": {},
   "outputs": [
    {
     "data": {
      "text/html": [
       "<div>\n",
       "<style scoped>\n",
       "    .dataframe tbody tr th:only-of-type {\n",
       "        vertical-align: middle;\n",
       "    }\n",
       "\n",
       "    .dataframe tbody tr th {\n",
       "        vertical-align: top;\n",
       "    }\n",
       "\n",
       "    .dataframe thead th {\n",
       "        text-align: right;\n",
       "    }\n",
       "</style>\n",
       "<table border=\"1\" class=\"dataframe\">\n",
       "  <thead>\n",
       "    <tr style=\"text-align: right;\">\n",
       "      <th></th>\n",
       "      <th>Marca A</th>\n",
       "      <th>Marca B</th>\n",
       "      <th>Marca C</th>\n",
       "      <th>Marca D</th>\n",
       "    </tr>\n",
       "  </thead>\n",
       "  <tbody>\n",
       "    <tr>\n",
       "      <th>count</th>\n",
       "      <td>4.000000</td>\n",
       "      <td>4.000000</td>\n",
       "      <td>4.000000</td>\n",
       "      <td>4.000000</td>\n",
       "    </tr>\n",
       "    <tr>\n",
       "      <th>mean</th>\n",
       "      <td>32.500000</td>\n",
       "      <td>24.000000</td>\n",
       "      <td>25.500000</td>\n",
       "      <td>17.000000</td>\n",
       "    </tr>\n",
       "    <tr>\n",
       "      <th>std</th>\n",
       "      <td>17.445152</td>\n",
       "      <td>15.513435</td>\n",
       "      <td>12.714821</td>\n",
       "      <td>12.355835</td>\n",
       "    </tr>\n",
       "    <tr>\n",
       "      <th>min</th>\n",
       "      <td>15.000000</td>\n",
       "      <td>5.000000</td>\n",
       "      <td>9.000000</td>\n",
       "      <td>4.000000</td>\n",
       "    </tr>\n",
       "    <tr>\n",
       "      <th>25%</th>\n",
       "      <td>18.750000</td>\n",
       "      <td>19.250000</td>\n",
       "      <td>21.750000</td>\n",
       "      <td>7.750000</td>\n",
       "    </tr>\n",
       "    <tr>\n",
       "      <th>50%</th>\n",
       "      <td>33.500000</td>\n",
       "      <td>24.000000</td>\n",
       "      <td>26.500000</td>\n",
       "      <td>17.500000</td>\n",
       "    </tr>\n",
       "    <tr>\n",
       "      <th>75%</th>\n",
       "      <td>47.250000</td>\n",
       "      <td>28.750000</td>\n",
       "      <td>30.250000</td>\n",
       "      <td>26.750000</td>\n",
       "    </tr>\n",
       "    <tr>\n",
       "      <th>max</th>\n",
       "      <td>48.000000</td>\n",
       "      <td>43.000000</td>\n",
       "      <td>40.000000</td>\n",
       "      <td>29.000000</td>\n",
       "    </tr>\n",
       "  </tbody>\n",
       "</table>\n",
       "</div>"
      ],
      "text/plain": [
       "         Marca A    Marca B    Marca C    Marca D\n",
       "count   4.000000   4.000000   4.000000   4.000000\n",
       "mean   32.500000  24.000000  25.500000  17.000000\n",
       "std    17.445152  15.513435  12.714821  12.355835\n",
       "min    15.000000   5.000000   9.000000   4.000000\n",
       "25%    18.750000  19.250000  21.750000   7.750000\n",
       "50%    33.500000  24.000000  26.500000  17.500000\n",
       "75%    47.250000  28.750000  30.250000  26.750000\n",
       "max    48.000000  43.000000  40.000000  29.000000"
      ]
     },
     "execution_count": 30,
     "metadata": {},
     "output_type": "execute_result"
    }
   ],
   "source": [
    "df.describe()"
   ]
  },
  {
   "cell_type": "markdown",
   "id": "73ed699c",
   "metadata": {},
   "source": [
    "### d) mostre informações do dataset com a função info();"
   ]
  },
  {
   "cell_type": "code",
   "execution_count": 31,
   "id": "f0482aac",
   "metadata": {},
   "outputs": [
    {
     "name": "stdout",
     "output_type": "stream",
     "text": [
      "<class 'pandas.core.frame.DataFrame'>\n",
      "Index: 4 entries, Ano 1 to Ano 4\n",
      "Data columns (total 4 columns):\n",
      " #   Column   Non-Null Count  Dtype\n",
      "---  ------   --------------  -----\n",
      " 0   Marca A  4 non-null      int32\n",
      " 1   Marca B  4 non-null      int32\n",
      " 2   Marca C  4 non-null      int32\n",
      " 3   Marca D  4 non-null      int32\n",
      "dtypes: int32(4)\n",
      "memory usage: 268.0+ bytes\n"
     ]
    }
   ],
   "source": [
    "df.info()"
   ]
  },
  {
   "cell_type": "markdown",
   "id": "07219fff",
   "metadata": {},
   "source": [
    "### e) mostre o tipo de dado de cada coluna do dataset;"
   ]
  },
  {
   "cell_type": "code",
   "execution_count": 32,
   "id": "c5f3fb54",
   "metadata": {},
   "outputs": [
    {
     "data": {
      "text/plain": [
       "Marca A    int32\n",
       "Marca B    int32\n",
       "Marca C    int32\n",
       "Marca D    int32\n",
       "dtype: object"
      ]
     },
     "execution_count": 32,
     "metadata": {},
     "output_type": "execute_result"
    }
   ],
   "source": [
    "df.dtypes"
   ]
  },
  {
   "cell_type": "markdown",
   "id": "77f0c519",
   "metadata": {},
   "source": [
    "### f) converta o data type das colunas para float;"
   ]
  },
  {
   "cell_type": "code",
   "execution_count": 33,
   "id": "06ecee03",
   "metadata": {},
   "outputs": [],
   "source": [
    "df = df.astype(float)"
   ]
  },
  {
   "cell_type": "code",
   "execution_count": 34,
   "id": "9cb6b19e",
   "metadata": {},
   "outputs": [
    {
     "data": {
      "text/plain": [
       "Marca A    float64\n",
       "Marca B    float64\n",
       "Marca C    float64\n",
       "Marca D    float64\n",
       "dtype: object"
      ]
     },
     "execution_count": 34,
     "metadata": {},
     "output_type": "execute_result"
    }
   ],
   "source": [
    "df.dtypes"
   ]
  },
  {
   "cell_type": "code",
   "execution_count": null,
   "id": "23ba8528",
   "metadata": {},
   "outputs": [],
   "source": [
    "### g) selecione o lucro das marcas no ano 1 (use as funções loc e iloc);"
   ]
  },
  {
   "cell_type": "code",
   "execution_count": 35,
   "id": "7f647ed8",
   "metadata": {},
   "outputs": [
    {
     "data": {
      "text/plain": [
       "Marca A    48.0\n",
       "Marca B     5.0\n",
       "Marca C    26.0\n",
       "Marca D     4.0\n",
       "Name: Ano 1, dtype: float64"
      ]
     },
     "execution_count": 35,
     "metadata": {},
     "output_type": "execute_result"
    }
   ],
   "source": [
    "df.loc['Ano 1']\n"
   ]
  },
  {
   "cell_type": "code",
   "execution_count": 36,
   "id": "4015822b",
   "metadata": {},
   "outputs": [
    {
     "data": {
      "text/html": [
       "<div>\n",
       "<style scoped>\n",
       "    .dataframe tbody tr th:only-of-type {\n",
       "        vertical-align: middle;\n",
       "    }\n",
       "\n",
       "    .dataframe tbody tr th {\n",
       "        vertical-align: top;\n",
       "    }\n",
       "\n",
       "    .dataframe thead th {\n",
       "        text-align: right;\n",
       "    }\n",
       "</style>\n",
       "<table border=\"1\" class=\"dataframe\">\n",
       "  <thead>\n",
       "    <tr style=\"text-align: right;\">\n",
       "      <th></th>\n",
       "      <th>Marca A</th>\n",
       "      <th>Marca B</th>\n",
       "      <th>Marca C</th>\n",
       "      <th>Marca D</th>\n",
       "    </tr>\n",
       "  </thead>\n",
       "  <tbody>\n",
       "    <tr>\n",
       "      <th>Ano 1</th>\n",
       "      <td>48.0</td>\n",
       "      <td>5.0</td>\n",
       "      <td>26.0</td>\n",
       "      <td>4.0</td>\n",
       "    </tr>\n",
       "  </tbody>\n",
       "</table>\n",
       "</div>"
      ],
      "text/plain": [
       "       Marca A  Marca B  Marca C  Marca D\n",
       "Ano 1     48.0      5.0     26.0      4.0"
      ]
     },
     "execution_count": 36,
     "metadata": {},
     "output_type": "execute_result"
    }
   ],
   "source": [
    "df.iloc[0:1, :]"
   ]
  },
  {
   "cell_type": "markdown",
   "id": "7e3b12e0",
   "metadata": {},
   "source": [
    "### h) selecione o lucro da Marca C nos anos 1 e 3 (use as funções loc e iloc);"
   ]
  },
  {
   "cell_type": "code",
   "execution_count": 37,
   "id": "8e6de6c8",
   "metadata": {},
   "outputs": [
    {
     "data": {
      "text/plain": [
       "Ano 1    26.0\n",
       "Ano 3     9.0\n",
       "Name: Marca C, dtype: float64"
      ]
     },
     "execution_count": 37,
     "metadata": {},
     "output_type": "execute_result"
    }
   ],
   "source": [
    "df.loc[['Ano 1', 'Ano 3'], 'Marca C']"
   ]
  },
  {
   "cell_type": "code",
   "execution_count": 38,
   "id": "c48cb698",
   "metadata": {},
   "outputs": [
    {
     "data": {
      "text/html": [
       "<div>\n",
       "<style scoped>\n",
       "    .dataframe tbody tr th:only-of-type {\n",
       "        vertical-align: middle;\n",
       "    }\n",
       "\n",
       "    .dataframe tbody tr th {\n",
       "        vertical-align: top;\n",
       "    }\n",
       "\n",
       "    .dataframe thead th {\n",
       "        text-align: right;\n",
       "    }\n",
       "</style>\n",
       "<table border=\"1\" class=\"dataframe\">\n",
       "  <thead>\n",
       "    <tr style=\"text-align: right;\">\n",
       "      <th></th>\n",
       "      <th>Marca C</th>\n",
       "    </tr>\n",
       "  </thead>\n",
       "  <tbody>\n",
       "    <tr>\n",
       "      <th>Ano 1</th>\n",
       "      <td>26.0</td>\n",
       "    </tr>\n",
       "    <tr>\n",
       "      <th>Ano 3</th>\n",
       "      <td>9.0</td>\n",
       "    </tr>\n",
       "  </tbody>\n",
       "</table>\n",
       "</div>"
      ],
      "text/plain": [
       "       Marca C\n",
       "Ano 1     26.0\n",
       "Ano 3      9.0"
      ]
     },
     "execution_count": 38,
     "metadata": {},
     "output_type": "execute_result"
    }
   ],
   "source": [
    "df.iloc[[0,2], 2:3]"
   ]
  },
  {
   "cell_type": "markdown",
   "id": "53197aed",
   "metadata": {},
   "source": [
    "### i) selecione o lucro das marcas A, C e D, nos anos 2 e 4 (use as funções loc e iloc);"
   ]
  },
  {
   "cell_type": "code",
   "execution_count": 39,
   "id": "c62c0c19",
   "metadata": {},
   "outputs": [
    {
     "data": {
      "text/html": [
       "<div>\n",
       "<style scoped>\n",
       "    .dataframe tbody tr th:only-of-type {\n",
       "        vertical-align: middle;\n",
       "    }\n",
       "\n",
       "    .dataframe tbody tr th {\n",
       "        vertical-align: top;\n",
       "    }\n",
       "\n",
       "    .dataframe thead th {\n",
       "        text-align: right;\n",
       "    }\n",
       "</style>\n",
       "<table border=\"1\" class=\"dataframe\">\n",
       "  <thead>\n",
       "    <tr style=\"text-align: right;\">\n",
       "      <th></th>\n",
       "      <th>Marca A</th>\n",
       "      <th>Marca C</th>\n",
       "      <th>Marca D</th>\n",
       "    </tr>\n",
       "  </thead>\n",
       "  <tbody>\n",
       "    <tr>\n",
       "      <th>Ano 2</th>\n",
       "      <td>20.0</td>\n",
       "      <td>40.0</td>\n",
       "      <td>29.0</td>\n",
       "    </tr>\n",
       "    <tr>\n",
       "      <th>Ano 4</th>\n",
       "      <td>47.0</td>\n",
       "      <td>27.0</td>\n",
       "      <td>9.0</td>\n",
       "    </tr>\n",
       "  </tbody>\n",
       "</table>\n",
       "</div>"
      ],
      "text/plain": [
       "       Marca A  Marca C  Marca D\n",
       "Ano 2     20.0     40.0     29.0\n",
       "Ano 4     47.0     27.0      9.0"
      ]
     },
     "execution_count": 39,
     "metadata": {},
     "output_type": "execute_result"
    }
   ],
   "source": [
    "df.loc[['Ano 2', 'Ano 4'], ['Marca A', 'Marca C', 'Marca D']]"
   ]
  },
  {
   "cell_type": "code",
   "execution_count": 40,
   "id": "5341f3e1",
   "metadata": {},
   "outputs": [
    {
     "data": {
      "text/html": [
       "<div>\n",
       "<style scoped>\n",
       "    .dataframe tbody tr th:only-of-type {\n",
       "        vertical-align: middle;\n",
       "    }\n",
       "\n",
       "    .dataframe tbody tr th {\n",
       "        vertical-align: top;\n",
       "    }\n",
       "\n",
       "    .dataframe thead th {\n",
       "        text-align: right;\n",
       "    }\n",
       "</style>\n",
       "<table border=\"1\" class=\"dataframe\">\n",
       "  <thead>\n",
       "    <tr style=\"text-align: right;\">\n",
       "      <th></th>\n",
       "      <th>Marca A</th>\n",
       "      <th>Marca C</th>\n",
       "      <th>Marca D</th>\n",
       "    </tr>\n",
       "  </thead>\n",
       "  <tbody>\n",
       "    <tr>\n",
       "      <th>Ano 2</th>\n",
       "      <td>20.0</td>\n",
       "      <td>40.0</td>\n",
       "      <td>29.0</td>\n",
       "    </tr>\n",
       "    <tr>\n",
       "      <th>Ano 4</th>\n",
       "      <td>47.0</td>\n",
       "      <td>27.0</td>\n",
       "      <td>9.0</td>\n",
       "    </tr>\n",
       "  </tbody>\n",
       "</table>\n",
       "</div>"
      ],
      "text/plain": [
       "       Marca A  Marca C  Marca D\n",
       "Ano 2     20.0     40.0     29.0\n",
       "Ano 4     47.0     27.0      9.0"
      ]
     },
     "execution_count": 40,
     "metadata": {},
     "output_type": "execute_result"
    }
   ],
   "source": [
    "df.iloc[[1, 3], [0, 2, 3]]"
   ]
  },
  {
   "cell_type": "markdown",
   "id": "b2755702",
   "metadata": {},
   "source": [
    "### j) mostre o lucro médio de cada marca neste intervalo temporal;"
   ]
  },
  {
   "cell_type": "code",
   "execution_count": 42,
   "id": "0170b2cf",
   "metadata": {},
   "outputs": [
    {
     "data": {
      "text/plain": [
       "Marca A    32.5\n",
       "Marca B    24.0\n",
       "Marca C    25.5\n",
       "Marca D    17.0\n",
       "dtype: float64"
      ]
     },
     "execution_count": 42,
     "metadata": {},
     "output_type": "execute_result"
    }
   ],
   "source": [
    "df.mean()"
   ]
  },
  {
   "cell_type": "markdown",
   "id": "435bb4a3",
   "metadata": {},
   "source": [
    "### l) mostre o lucro médio de todas as marcas em cada ano."
   ]
  },
  {
   "cell_type": "code",
   "execution_count": 43,
   "id": "61fa0991",
   "metadata": {},
   "outputs": [
    {
     "data": {
      "text/plain": [
       "Ano 1    20.75\n",
       "Ano 2    28.25\n",
       "Ano 3    18.50\n",
       "Ano 4    31.50\n",
       "dtype: float64"
      ]
     },
     "execution_count": 43,
     "metadata": {},
     "output_type": "execute_result"
    }
   ],
   "source": [
    "df.mean(axis = 1)"
   ]
  },
  {
   "cell_type": "markdown",
   "id": "eba59fdc",
   "metadata": {},
   "source": [
    "### Exercício 29\n",
    "Com base no dataset anterior:\n",
    "\n",
    "a) crie uma coluna para a 'Marca E', que registrou os seguintes lucros para os respectivos anos: 70, 77, 81, 103;\n",
    "\n",
    "b) renomeie o nome das colunas para, respectivamente: 'A', 'B','C', 'D', 'E';\n",
    "\n",
    "c) renomeie o índice do DataFrame para respectivamente: 'ANO 1', 'ANO 2', 'ANO 3', 'ANO 4';\n",
    "\n",
    "d) substitua o valor do lucro da 'Marca C' ('C' na nova notação) no ANO 2 de 40 para 37."
   ]
  },
  {
   "cell_type": "markdown",
   "id": "94950095",
   "metadata": {},
   "source": [
    "a) crie uma coluna para a 'Marca E', que registrou os seguintes lucros para os respectivos anos: 70, 77, 81, 103;"
   ]
  },
  {
   "cell_type": "code",
   "execution_count": 45,
   "id": "52ebeae1",
   "metadata": {},
   "outputs": [],
   "source": [
    "df['Marca E'] = [70, 77, 81, 103]"
   ]
  },
  {
   "cell_type": "code",
   "execution_count": 46,
   "id": "377a969f",
   "metadata": {},
   "outputs": [
    {
     "data": {
      "text/html": [
       "<div>\n",
       "<style scoped>\n",
       "    .dataframe tbody tr th:only-of-type {\n",
       "        vertical-align: middle;\n",
       "    }\n",
       "\n",
       "    .dataframe tbody tr th {\n",
       "        vertical-align: top;\n",
       "    }\n",
       "\n",
       "    .dataframe thead th {\n",
       "        text-align: right;\n",
       "    }\n",
       "</style>\n",
       "<table border=\"1\" class=\"dataframe\">\n",
       "  <thead>\n",
       "    <tr style=\"text-align: right;\">\n",
       "      <th></th>\n",
       "      <th>Marca A</th>\n",
       "      <th>Marca B</th>\n",
       "      <th>Marca C</th>\n",
       "      <th>Marca D</th>\n",
       "      <th>Marca E</th>\n",
       "    </tr>\n",
       "  </thead>\n",
       "  <tbody>\n",
       "    <tr>\n",
       "      <th>Ano 1</th>\n",
       "      <td>48.0</td>\n",
       "      <td>5.0</td>\n",
       "      <td>26.0</td>\n",
       "      <td>4.0</td>\n",
       "      <td>70</td>\n",
       "    </tr>\n",
       "    <tr>\n",
       "      <th>Ano 2</th>\n",
       "      <td>20.0</td>\n",
       "      <td>24.0</td>\n",
       "      <td>40.0</td>\n",
       "      <td>29.0</td>\n",
       "      <td>77</td>\n",
       "    </tr>\n",
       "    <tr>\n",
       "      <th>Ano 3</th>\n",
       "      <td>15.0</td>\n",
       "      <td>24.0</td>\n",
       "      <td>9.0</td>\n",
       "      <td>26.0</td>\n",
       "      <td>81</td>\n",
       "    </tr>\n",
       "    <tr>\n",
       "      <th>Ano 4</th>\n",
       "      <td>47.0</td>\n",
       "      <td>43.0</td>\n",
       "      <td>27.0</td>\n",
       "      <td>9.0</td>\n",
       "      <td>103</td>\n",
       "    </tr>\n",
       "  </tbody>\n",
       "</table>\n",
       "</div>"
      ],
      "text/plain": [
       "       Marca A  Marca B  Marca C  Marca D  Marca E\n",
       "Ano 1     48.0      5.0     26.0      4.0       70\n",
       "Ano 2     20.0     24.0     40.0     29.0       77\n",
       "Ano 3     15.0     24.0      9.0     26.0       81\n",
       "Ano 4     47.0     43.0     27.0      9.0      103"
      ]
     },
     "execution_count": 46,
     "metadata": {},
     "output_type": "execute_result"
    }
   ],
   "source": [
    "df"
   ]
  },
  {
   "cell_type": "markdown",
   "id": "16d46260",
   "metadata": {},
   "source": [
    "b) renomeie o nome das colunas para, respectivamente: 'A', 'B','C', 'D', 'E';"
   ]
  },
  {
   "cell_type": "code",
   "execution_count": 47,
   "id": "1d5abf4c",
   "metadata": {},
   "outputs": [],
   "source": [
    "df.rename(\n",
    "    columns = {\n",
    "        'Marca A': 'A',\n",
    "        'Marca B': 'B',\n",
    "        'Marca C': 'C',\n",
    "        'Marca D': 'D',\n",
    "        'Marca E': 'E'}, inplace = True)"
   ]
  },
  {
   "cell_type": "code",
   "execution_count": 48,
   "id": "996f5c44",
   "metadata": {},
   "outputs": [
    {
     "data": {
      "text/html": [
       "<div>\n",
       "<style scoped>\n",
       "    .dataframe tbody tr th:only-of-type {\n",
       "        vertical-align: middle;\n",
       "    }\n",
       "\n",
       "    .dataframe tbody tr th {\n",
       "        vertical-align: top;\n",
       "    }\n",
       "\n",
       "    .dataframe thead th {\n",
       "        text-align: right;\n",
       "    }\n",
       "</style>\n",
       "<table border=\"1\" class=\"dataframe\">\n",
       "  <thead>\n",
       "    <tr style=\"text-align: right;\">\n",
       "      <th></th>\n",
       "      <th>A</th>\n",
       "      <th>B</th>\n",
       "      <th>C</th>\n",
       "      <th>D</th>\n",
       "      <th>E</th>\n",
       "    </tr>\n",
       "  </thead>\n",
       "  <tbody>\n",
       "    <tr>\n",
       "      <th>Ano 1</th>\n",
       "      <td>48.0</td>\n",
       "      <td>5.0</td>\n",
       "      <td>26.0</td>\n",
       "      <td>4.0</td>\n",
       "      <td>70</td>\n",
       "    </tr>\n",
       "    <tr>\n",
       "      <th>Ano 2</th>\n",
       "      <td>20.0</td>\n",
       "      <td>24.0</td>\n",
       "      <td>40.0</td>\n",
       "      <td>29.0</td>\n",
       "      <td>77</td>\n",
       "    </tr>\n",
       "    <tr>\n",
       "      <th>Ano 3</th>\n",
       "      <td>15.0</td>\n",
       "      <td>24.0</td>\n",
       "      <td>9.0</td>\n",
       "      <td>26.0</td>\n",
       "      <td>81</td>\n",
       "    </tr>\n",
       "    <tr>\n",
       "      <th>Ano 4</th>\n",
       "      <td>47.0</td>\n",
       "      <td>43.0</td>\n",
       "      <td>27.0</td>\n",
       "      <td>9.0</td>\n",
       "      <td>103</td>\n",
       "    </tr>\n",
       "  </tbody>\n",
       "</table>\n",
       "</div>"
      ],
      "text/plain": [
       "          A     B     C     D    E\n",
       "Ano 1  48.0   5.0  26.0   4.0   70\n",
       "Ano 2  20.0  24.0  40.0  29.0   77\n",
       "Ano 3  15.0  24.0   9.0  26.0   81\n",
       "Ano 4  47.0  43.0  27.0   9.0  103"
      ]
     },
     "execution_count": 48,
     "metadata": {},
     "output_type": "execute_result"
    }
   ],
   "source": [
    "df"
   ]
  },
  {
   "cell_type": "markdown",
   "id": "ffa3bf06",
   "metadata": {},
   "source": [
    "### c) renomeie o índice do DataFrame para respectivamente: 'ANO 1', 'ANO 2', 'ANO 3', 'ANO 4';"
   ]
  },
  {
   "cell_type": "code",
   "execution_count": 50,
   "id": "ad339b0a",
   "metadata": {},
   "outputs": [],
   "source": [
    "df.rename(index = lambda coluna:coluna.upper(), inplace = True)"
   ]
  },
  {
   "cell_type": "code",
   "execution_count": 51,
   "id": "95f349f4",
   "metadata": {},
   "outputs": [
    {
     "data": {
      "text/html": [
       "<div>\n",
       "<style scoped>\n",
       "    .dataframe tbody tr th:only-of-type {\n",
       "        vertical-align: middle;\n",
       "    }\n",
       "\n",
       "    .dataframe tbody tr th {\n",
       "        vertical-align: top;\n",
       "    }\n",
       "\n",
       "    .dataframe thead th {\n",
       "        text-align: right;\n",
       "    }\n",
       "</style>\n",
       "<table border=\"1\" class=\"dataframe\">\n",
       "  <thead>\n",
       "    <tr style=\"text-align: right;\">\n",
       "      <th></th>\n",
       "      <th>A</th>\n",
       "      <th>B</th>\n",
       "      <th>C</th>\n",
       "      <th>D</th>\n",
       "      <th>E</th>\n",
       "    </tr>\n",
       "  </thead>\n",
       "  <tbody>\n",
       "    <tr>\n",
       "      <th>ANO 1</th>\n",
       "      <td>48.0</td>\n",
       "      <td>5.0</td>\n",
       "      <td>26.0</td>\n",
       "      <td>4.0</td>\n",
       "      <td>70</td>\n",
       "    </tr>\n",
       "    <tr>\n",
       "      <th>ANO 2</th>\n",
       "      <td>20.0</td>\n",
       "      <td>24.0</td>\n",
       "      <td>40.0</td>\n",
       "      <td>29.0</td>\n",
       "      <td>77</td>\n",
       "    </tr>\n",
       "    <tr>\n",
       "      <th>ANO 3</th>\n",
       "      <td>15.0</td>\n",
       "      <td>24.0</td>\n",
       "      <td>9.0</td>\n",
       "      <td>26.0</td>\n",
       "      <td>81</td>\n",
       "    </tr>\n",
       "    <tr>\n",
       "      <th>ANO 4</th>\n",
       "      <td>47.0</td>\n",
       "      <td>43.0</td>\n",
       "      <td>27.0</td>\n",
       "      <td>9.0</td>\n",
       "      <td>103</td>\n",
       "    </tr>\n",
       "  </tbody>\n",
       "</table>\n",
       "</div>"
      ],
      "text/plain": [
       "          A     B     C     D    E\n",
       "ANO 1  48.0   5.0  26.0   4.0   70\n",
       "ANO 2  20.0  24.0  40.0  29.0   77\n",
       "ANO 3  15.0  24.0   9.0  26.0   81\n",
       "ANO 4  47.0  43.0  27.0   9.0  103"
      ]
     },
     "execution_count": 51,
     "metadata": {},
     "output_type": "execute_result"
    }
   ],
   "source": [
    "df"
   ]
  },
  {
   "cell_type": "markdown",
   "id": "f2d4016c",
   "metadata": {},
   "source": [
    "### d) substitua o valor do lucro da 'Marca C' ('C' na nova notação) no ANO 2 de 40 para 37."
   ]
  },
  {
   "cell_type": "code",
   "execution_count": 52,
   "id": "4171d30b",
   "metadata": {},
   "outputs": [],
   "source": [
    "df.at['ANO 2', 'C'] = 37"
   ]
  },
  {
   "cell_type": "code",
   "execution_count": 53,
   "id": "1a89e8dd",
   "metadata": {},
   "outputs": [
    {
     "data": {
      "text/html": [
       "<div>\n",
       "<style scoped>\n",
       "    .dataframe tbody tr th:only-of-type {\n",
       "        vertical-align: middle;\n",
       "    }\n",
       "\n",
       "    .dataframe tbody tr th {\n",
       "        vertical-align: top;\n",
       "    }\n",
       "\n",
       "    .dataframe thead th {\n",
       "        text-align: right;\n",
       "    }\n",
       "</style>\n",
       "<table border=\"1\" class=\"dataframe\">\n",
       "  <thead>\n",
       "    <tr style=\"text-align: right;\">\n",
       "      <th></th>\n",
       "      <th>A</th>\n",
       "      <th>B</th>\n",
       "      <th>C</th>\n",
       "      <th>D</th>\n",
       "      <th>E</th>\n",
       "    </tr>\n",
       "  </thead>\n",
       "  <tbody>\n",
       "    <tr>\n",
       "      <th>ANO 1</th>\n",
       "      <td>48.0</td>\n",
       "      <td>5.0</td>\n",
       "      <td>26.0</td>\n",
       "      <td>4.0</td>\n",
       "      <td>70</td>\n",
       "    </tr>\n",
       "    <tr>\n",
       "      <th>ANO 2</th>\n",
       "      <td>20.0</td>\n",
       "      <td>24.0</td>\n",
       "      <td>37.0</td>\n",
       "      <td>29.0</td>\n",
       "      <td>77</td>\n",
       "    </tr>\n",
       "    <tr>\n",
       "      <th>ANO 3</th>\n",
       "      <td>15.0</td>\n",
       "      <td>24.0</td>\n",
       "      <td>9.0</td>\n",
       "      <td>26.0</td>\n",
       "      <td>81</td>\n",
       "    </tr>\n",
       "    <tr>\n",
       "      <th>ANO 4</th>\n",
       "      <td>47.0</td>\n",
       "      <td>43.0</td>\n",
       "      <td>27.0</td>\n",
       "      <td>9.0</td>\n",
       "      <td>103</td>\n",
       "    </tr>\n",
       "  </tbody>\n",
       "</table>\n",
       "</div>"
      ],
      "text/plain": [
       "          A     B     C     D    E\n",
       "ANO 1  48.0   5.0  26.0   4.0   70\n",
       "ANO 2  20.0  24.0  37.0  29.0   77\n",
       "ANO 3  15.0  24.0   9.0  26.0   81\n",
       "ANO 4  47.0  43.0  27.0   9.0  103"
      ]
     },
     "execution_count": 53,
     "metadata": {},
     "output_type": "execute_result"
    }
   ],
   "source": [
    "df"
   ]
  },
  {
   "attachments": {
    "2020-12-22_00-52-57-8a4bba1b4c3be4ca10d454fda8a3f407.png": {
     "image/png": "[encoded data removed]"
    }
   },
   "cell_type": "markdown",
   "id": "8362ce5c",
   "metadata": {},
   "source": [
    "Verifique se os valores do DataFrame estão contido na lista ['f', 'b', 'z']. Dica: df.isin().\n",
    "\n",
    "![2020-12-22_00-52-57-8a4bba1b4c3be4ca10d454fda8a3f407.png](attachment:2020-12-22_00-52-57-8a4bba1b4c3be4ca10d454fda8a3f407.png)\n",
    "\n",
    "dic = {\n",
    "    'A': ['a', 'b', 'c'],\n",
    "    'B': ['f', 'g', 'w'],\n",
    "    'C': ['z', 'k', 'm']}"
   ]
  },
  {
   "cell_type": "code",
   "execution_count": 54,
   "id": "d60432fb",
   "metadata": {},
   "outputs": [
    {
     "name": "stdout",
     "output_type": "stream",
     "text": [
      "       A      B      C\n",
      "0  False   True   True\n",
      "1   True  False  False\n",
      "2  False  False  False\n"
     ]
    }
   ],
   "source": [
    "dic = {\n",
    "    'A': ['a', 'b', 'c'],\n",
    "    'B': ['f', 'g', 'w'],\n",
    "    'C': ['z', 'k', 'm']}\n",
    "df = pd.DataFrame(dic)\n",
    "print(df.isin(['f', 'b', 'z']))"
   ]
  },
  {
   "attachments": {
    "2020-12-22_01-26-50-cb77a297f1ef868ad1a36dc0562d27fc.png": {
     "image/png": "[encoded data removed]"
    }
   },
   "cell_type": "markdown",
   "id": "851d5ce9",
   "metadata": {},
   "source": [
    "Exercício 31\n",
    "Delete as colunas 'B', 'Z' e 'W' do DataFrame abaixo.\n",
    "\n",
    "![2020-12-22_01-26-50-cb77a297f1ef868ad1a36dc0562d27fc.png](attachment:2020-12-22_01-26-50-cb77a297f1ef868ad1a36dc0562d27fc.png)\n",
    "\n",
    "data = {\n",
    "    'A': ['z', 'k' ,'m'],\n",
    "    'B': ['j', 'n' , 'o'],\n",
    "    'C': ['o', 'p', 'k'],\n",
    "    'Z': ['i', 'j' ,'k'],\n",
    "    'W': ['p', 'k', 'u']\n",
    "}"
   ]
  },
  {
   "cell_type": "code",
   "execution_count": 57,
   "id": "383886d6",
   "metadata": {},
   "outputs": [],
   "source": [
    "dados = {\n",
    "    'A': ['z', 'k', 'm'],\n",
    "    'B': ['j', 'n', 'o'],\n",
    "    'C': ['o', 'p', 'k'],\n",
    "    'Z': ['i', 'j', 'k'],\n",
    "    'W': ['p', 'k', 'u']}\n",
    "df = pd.DataFrame(dados, range(1, 4))\n"
   ]
  },
  {
   "cell_type": "code",
   "execution_count": 58,
   "id": "47be2d00",
   "metadata": {},
   "outputs": [
    {
     "data": {
      "text/html": [
       "<div>\n",
       "<style scoped>\n",
       "    .dataframe tbody tr th:only-of-type {\n",
       "        vertical-align: middle;\n",
       "    }\n",
       "\n",
       "    .dataframe tbody tr th {\n",
       "        vertical-align: top;\n",
       "    }\n",
       "\n",
       "    .dataframe thead th {\n",
       "        text-align: right;\n",
       "    }\n",
       "</style>\n",
       "<table border=\"1\" class=\"dataframe\">\n",
       "  <thead>\n",
       "    <tr style=\"text-align: right;\">\n",
       "      <th></th>\n",
       "      <th>A</th>\n",
       "      <th>B</th>\n",
       "      <th>C</th>\n",
       "      <th>Z</th>\n",
       "      <th>W</th>\n",
       "    </tr>\n",
       "  </thead>\n",
       "  <tbody>\n",
       "    <tr>\n",
       "      <th>1</th>\n",
       "      <td>z</td>\n",
       "      <td>j</td>\n",
       "      <td>o</td>\n",
       "      <td>i</td>\n",
       "      <td>p</td>\n",
       "    </tr>\n",
       "    <tr>\n",
       "      <th>2</th>\n",
       "      <td>k</td>\n",
       "      <td>n</td>\n",
       "      <td>p</td>\n",
       "      <td>j</td>\n",
       "      <td>k</td>\n",
       "    </tr>\n",
       "    <tr>\n",
       "      <th>3</th>\n",
       "      <td>m</td>\n",
       "      <td>o</td>\n",
       "      <td>k</td>\n",
       "      <td>k</td>\n",
       "      <td>u</td>\n",
       "    </tr>\n",
       "  </tbody>\n",
       "</table>\n",
       "</div>"
      ],
      "text/plain": [
       "   A  B  C  Z  W\n",
       "1  z  j  o  i  p\n",
       "2  k  n  p  j  k\n",
       "3  m  o  k  k  u"
      ]
     },
     "execution_count": 58,
     "metadata": {},
     "output_type": "execute_result"
    }
   ],
   "source": [
    "df"
   ]
  },
  {
   "cell_type": "code",
   "execution_count": 59,
   "id": "2f9db2cd",
   "metadata": {},
   "outputs": [],
   "source": [
    "df.drop(labels = ['B', 'Z', 'W'], axis = 1, inplace = True)"
   ]
  },
  {
   "cell_type": "code",
   "execution_count": 60,
   "id": "4ee5b3e6",
   "metadata": {},
   "outputs": [
    {
     "data": {
      "text/html": [
       "<div>\n",
       "<style scoped>\n",
       "    .dataframe tbody tr th:only-of-type {\n",
       "        vertical-align: middle;\n",
       "    }\n",
       "\n",
       "    .dataframe tbody tr th {\n",
       "        vertical-align: top;\n",
       "    }\n",
       "\n",
       "    .dataframe thead th {\n",
       "        text-align: right;\n",
       "    }\n",
       "</style>\n",
       "<table border=\"1\" class=\"dataframe\">\n",
       "  <thead>\n",
       "    <tr style=\"text-align: right;\">\n",
       "      <th></th>\n",
       "      <th>A</th>\n",
       "      <th>C</th>\n",
       "    </tr>\n",
       "  </thead>\n",
       "  <tbody>\n",
       "    <tr>\n",
       "      <th>1</th>\n",
       "      <td>z</td>\n",
       "      <td>o</td>\n",
       "    </tr>\n",
       "    <tr>\n",
       "      <th>2</th>\n",
       "      <td>k</td>\n",
       "      <td>p</td>\n",
       "    </tr>\n",
       "    <tr>\n",
       "      <th>3</th>\n",
       "      <td>m</td>\n",
       "      <td>k</td>\n",
       "    </tr>\n",
       "  </tbody>\n",
       "</table>\n",
       "</div>"
      ],
      "text/plain": [
       "   A  C\n",
       "1  z  o\n",
       "2  k  p\n",
       "3  m  k"
      ]
     },
     "execution_count": 60,
     "metadata": {},
     "output_type": "execute_result"
    }
   ],
   "source": [
    "df"
   ]
  },
  {
   "attachments": {
    "2020-12-22_01-29-27-29337580c48c40007f12646e3567c3ad.png": {
     "image/png": "[encoded data removed]"
    }
   },
   "cell_type": "markdown",
   "id": "c63377bd",
   "metadata": {},
   "source": [
    "### Exercício 32\n",
    "Construa o DataFrame abaixo e obtenha:\n",
    "\n",
    "![2020-12-22_01-29-27-29337580c48c40007f12646e3567c3ad.png](attachment:2020-12-22_01-29-27-29337580c48c40007f12646e3567c3ad.png)\n",
    "\n",
    "a) Estatística descritivas das notas;\n",
    "\n",
    "b) crie uma nova coluna para armazenar a média final dos alunos;\n",
    "\n",
    "c) crie uma nova coluna para informar se o aluno passou de ano ou não, com base na nota final (a nota deve ser maior ou igual a 7); para tanto crie uma função e use o método apply() do pandas.\n",
    "\n",
    "\n",
    "\n",
    "alunos = [\n",
    "    'Naomi', 'Yumi','Hinata',\n",
    "    'Hana', 'Akira', 'Yuki',\n",
    "    'Yudi', 'Sakura', 'Sasuke',\n",
    "    'Hiroshi', 'Ken', 'Emi']\n",
    "matematica = [1, 3, 1, 3, 4, 3, 1, 9, 5, 9, 1, 2]\n",
    "quimica = [6, 5, 5, 8, 6, 6, 5, 3, 7, 8, 6, 4]\n",
    "biologia = [8, 7, 9, 9, 7, 7, 8, 7, 7, 7, 7, 9]\n",
    "economia = [3, 2, 7, 8, 9, 9, 5, 9, 8, 6, 7, 9]"
   ]
  },
  {
   "cell_type": "code",
   "execution_count": 61,
   "id": "149702c3",
   "metadata": {},
   "outputs": [],
   "source": [
    "alunos = [\n",
    "    'Namomi', 'Yumi', 'Hinata',\n",
    "    'Hana', 'Akira', 'Yuki',\n",
    "    'Yudi', 'Sakura', 'Sasuke',\n",
    "    'Hirosh', 'Ken', 'Emi']\n",
    "\n",
    "matematica = [1, 3, 1, 3, 4, 3, 1, 9, 5, 9, 1, 2]\n",
    "quimica = [6, 5, 5, 8, 6, 6, 5, 3, 7, 8, 6, 4]\n",
    "biologia = [8, 7, 9, 9, 7, 7, 8, 7, 7, 7, 7, 9]\n",
    "economia = [3, 2, 7, 8, 9, 9, 5, 9, 8, 6, 7, 9]\n",
    "\n",
    "dados = {\n",
    "    'Alunos': alunos,\n",
    "    'Matemática': matematica,\n",
    "    'Química': quimica,\n",
    "    'Biologia': biologia,\n",
    "    'Economia': economia\n",
    "        }\n",
    "df= pd.DataFrame(data = dados, index = range(1, len(alunos)+1))"
   ]
  },
  {
   "cell_type": "code",
   "execution_count": 63,
   "id": "cc012541",
   "metadata": {},
   "outputs": [
    {
     "data": {
      "text/html": [
       "<div>\n",
       "<style scoped>\n",
       "    .dataframe tbody tr th:only-of-type {\n",
       "        vertical-align: middle;\n",
       "    }\n",
       "\n",
       "    .dataframe tbody tr th {\n",
       "        vertical-align: top;\n",
       "    }\n",
       "\n",
       "    .dataframe thead th {\n",
       "        text-align: right;\n",
       "    }\n",
       "</style>\n",
       "<table border=\"1\" class=\"dataframe\">\n",
       "  <thead>\n",
       "    <tr style=\"text-align: right;\">\n",
       "      <th></th>\n",
       "      <th>Alunos</th>\n",
       "      <th>Matemática</th>\n",
       "      <th>Química</th>\n",
       "      <th>Biologia</th>\n",
       "      <th>Economia</th>\n",
       "    </tr>\n",
       "  </thead>\n",
       "  <tbody>\n",
       "    <tr>\n",
       "      <th>1</th>\n",
       "      <td>Namomi</td>\n",
       "      <td>1</td>\n",
       "      <td>6</td>\n",
       "      <td>8</td>\n",
       "      <td>3</td>\n",
       "    </tr>\n",
       "    <tr>\n",
       "      <th>2</th>\n",
       "      <td>Yumi</td>\n",
       "      <td>3</td>\n",
       "      <td>5</td>\n",
       "      <td>7</td>\n",
       "      <td>2</td>\n",
       "    </tr>\n",
       "    <tr>\n",
       "      <th>3</th>\n",
       "      <td>Hinata</td>\n",
       "      <td>1</td>\n",
       "      <td>5</td>\n",
       "      <td>9</td>\n",
       "      <td>7</td>\n",
       "    </tr>\n",
       "    <tr>\n",
       "      <th>4</th>\n",
       "      <td>Hana</td>\n",
       "      <td>3</td>\n",
       "      <td>8</td>\n",
       "      <td>9</td>\n",
       "      <td>8</td>\n",
       "    </tr>\n",
       "    <tr>\n",
       "      <th>5</th>\n",
       "      <td>Akira</td>\n",
       "      <td>4</td>\n",
       "      <td>6</td>\n",
       "      <td>7</td>\n",
       "      <td>9</td>\n",
       "    </tr>\n",
       "    <tr>\n",
       "      <th>6</th>\n",
       "      <td>Yuki</td>\n",
       "      <td>3</td>\n",
       "      <td>6</td>\n",
       "      <td>7</td>\n",
       "      <td>9</td>\n",
       "    </tr>\n",
       "    <tr>\n",
       "      <th>7</th>\n",
       "      <td>Yudi</td>\n",
       "      <td>1</td>\n",
       "      <td>5</td>\n",
       "      <td>8</td>\n",
       "      <td>5</td>\n",
       "    </tr>\n",
       "    <tr>\n",
       "      <th>8</th>\n",
       "      <td>Sakura</td>\n",
       "      <td>9</td>\n",
       "      <td>3</td>\n",
       "      <td>7</td>\n",
       "      <td>9</td>\n",
       "    </tr>\n",
       "    <tr>\n",
       "      <th>9</th>\n",
       "      <td>Sasuke</td>\n",
       "      <td>5</td>\n",
       "      <td>7</td>\n",
       "      <td>7</td>\n",
       "      <td>8</td>\n",
       "    </tr>\n",
       "    <tr>\n",
       "      <th>10</th>\n",
       "      <td>Hirosh</td>\n",
       "      <td>9</td>\n",
       "      <td>8</td>\n",
       "      <td>7</td>\n",
       "      <td>6</td>\n",
       "    </tr>\n",
       "    <tr>\n",
       "      <th>11</th>\n",
       "      <td>Ken</td>\n",
       "      <td>1</td>\n",
       "      <td>6</td>\n",
       "      <td>7</td>\n",
       "      <td>7</td>\n",
       "    </tr>\n",
       "    <tr>\n",
       "      <th>12</th>\n",
       "      <td>Emi</td>\n",
       "      <td>2</td>\n",
       "      <td>4</td>\n",
       "      <td>9</td>\n",
       "      <td>9</td>\n",
       "    </tr>\n",
       "  </tbody>\n",
       "</table>\n",
       "</div>"
      ],
      "text/plain": [
       "    Alunos  Matemática  Química  Biologia  Economia\n",
       "1   Namomi           1        6         8         3\n",
       "2     Yumi           3        5         7         2\n",
       "3   Hinata           1        5         9         7\n",
       "4     Hana           3        8         9         8\n",
       "5    Akira           4        6         7         9\n",
       "6     Yuki           3        6         7         9\n",
       "7     Yudi           1        5         8         5\n",
       "8   Sakura           9        3         7         9\n",
       "9   Sasuke           5        7         7         8\n",
       "10  Hirosh           9        8         7         6\n",
       "11     Ken           1        6         7         7\n",
       "12     Emi           2        4         9         9"
      ]
     },
     "execution_count": 63,
     "metadata": {},
     "output_type": "execute_result"
    }
   ],
   "source": [
    "df"
   ]
  },
  {
   "cell_type": "markdown",
   "id": "3a714f1d",
   "metadata": {},
   "source": [
    "### a) Estatística descritivas das notas;"
   ]
  },
  {
   "cell_type": "code",
   "execution_count": 64,
   "id": "edb53139",
   "metadata": {},
   "outputs": [
    {
     "data": {
      "text/html": [
       "<div>\n",
       "<style scoped>\n",
       "    .dataframe tbody tr th:only-of-type {\n",
       "        vertical-align: middle;\n",
       "    }\n",
       "\n",
       "    .dataframe tbody tr th {\n",
       "        vertical-align: top;\n",
       "    }\n",
       "\n",
       "    .dataframe thead th {\n",
       "        text-align: right;\n",
       "    }\n",
       "</style>\n",
       "<table border=\"1\" class=\"dataframe\">\n",
       "  <thead>\n",
       "    <tr style=\"text-align: right;\">\n",
       "      <th></th>\n",
       "      <th>count</th>\n",
       "      <th>mean</th>\n",
       "      <th>std</th>\n",
       "      <th>min</th>\n",
       "      <th>25%</th>\n",
       "      <th>50%</th>\n",
       "      <th>75%</th>\n",
       "      <th>max</th>\n",
       "    </tr>\n",
       "  </thead>\n",
       "  <tbody>\n",
       "    <tr>\n",
       "      <th>Matemática</th>\n",
       "      <td>12.0</td>\n",
       "      <td>3.500000</td>\n",
       "      <td>2.876235</td>\n",
       "      <td>1.0</td>\n",
       "      <td>1.00</td>\n",
       "      <td>3.0</td>\n",
       "      <td>4.25</td>\n",
       "      <td>9.0</td>\n",
       "    </tr>\n",
       "    <tr>\n",
       "      <th>Química</th>\n",
       "      <td>12.0</td>\n",
       "      <td>5.750000</td>\n",
       "      <td>1.484771</td>\n",
       "      <td>3.0</td>\n",
       "      <td>5.00</td>\n",
       "      <td>6.0</td>\n",
       "      <td>6.25</td>\n",
       "      <td>8.0</td>\n",
       "    </tr>\n",
       "    <tr>\n",
       "      <th>Biologia</th>\n",
       "      <td>12.0</td>\n",
       "      <td>7.666667</td>\n",
       "      <td>0.887625</td>\n",
       "      <td>7.0</td>\n",
       "      <td>7.00</td>\n",
       "      <td>7.0</td>\n",
       "      <td>8.25</td>\n",
       "      <td>9.0</td>\n",
       "    </tr>\n",
       "    <tr>\n",
       "      <th>Economia</th>\n",
       "      <td>12.0</td>\n",
       "      <td>6.833333</td>\n",
       "      <td>2.405801</td>\n",
       "      <td>2.0</td>\n",
       "      <td>5.75</td>\n",
       "      <td>7.5</td>\n",
       "      <td>9.00</td>\n",
       "      <td>9.0</td>\n",
       "    </tr>\n",
       "  </tbody>\n",
       "</table>\n",
       "</div>"
      ],
      "text/plain": [
       "            count      mean       std  min   25%  50%   75%  max\n",
       "Matemática   12.0  3.500000  2.876235  1.0  1.00  3.0  4.25  9.0\n",
       "Química      12.0  5.750000  1.484771  3.0  5.00  6.0  6.25  8.0\n",
       "Biologia     12.0  7.666667  0.887625  7.0  7.00  7.0  8.25  9.0\n",
       "Economia     12.0  6.833333  2.405801  2.0  5.75  7.5  9.00  9.0"
      ]
     },
     "execution_count": 64,
     "metadata": {},
     "output_type": "execute_result"
    }
   ],
   "source": [
    "df.describe().T"
   ]
  },
  {
   "cell_type": "markdown",
   "id": "bef456fe",
   "metadata": {},
   "source": [
    "### b) crie uma nova coluna para armazenar a média final dos alunos;"
   ]
  },
  {
   "cell_type": "code",
   "execution_count": 65,
   "id": "c75f5777",
   "metadata": {},
   "outputs": [],
   "source": [
    "df['Média final'] = df.drop(['Alunos'], axis= 1).mean(axis= 1)"
   ]
  },
  {
   "cell_type": "code",
   "execution_count": 66,
   "id": "176d0af2",
   "metadata": {},
   "outputs": [
    {
     "data": {
      "text/html": [
       "<div>\n",
       "<style scoped>\n",
       "    .dataframe tbody tr th:only-of-type {\n",
       "        vertical-align: middle;\n",
       "    }\n",
       "\n",
       "    .dataframe tbody tr th {\n",
       "        vertical-align: top;\n",
       "    }\n",
       "\n",
       "    .dataframe thead th {\n",
       "        text-align: right;\n",
       "    }\n",
       "</style>\n",
       "<table border=\"1\" class=\"dataframe\">\n",
       "  <thead>\n",
       "    <tr style=\"text-align: right;\">\n",
       "      <th></th>\n",
       "      <th>Alunos</th>\n",
       "      <th>Matemática</th>\n",
       "      <th>Química</th>\n",
       "      <th>Biologia</th>\n",
       "      <th>Economia</th>\n",
       "      <th>Média final</th>\n",
       "    </tr>\n",
       "  </thead>\n",
       "  <tbody>\n",
       "    <tr>\n",
       "      <th>1</th>\n",
       "      <td>Namomi</td>\n",
       "      <td>1</td>\n",
       "      <td>6</td>\n",
       "      <td>8</td>\n",
       "      <td>3</td>\n",
       "      <td>4.50</td>\n",
       "    </tr>\n",
       "    <tr>\n",
       "      <th>2</th>\n",
       "      <td>Yumi</td>\n",
       "      <td>3</td>\n",
       "      <td>5</td>\n",
       "      <td>7</td>\n",
       "      <td>2</td>\n",
       "      <td>4.25</td>\n",
       "    </tr>\n",
       "    <tr>\n",
       "      <th>3</th>\n",
       "      <td>Hinata</td>\n",
       "      <td>1</td>\n",
       "      <td>5</td>\n",
       "      <td>9</td>\n",
       "      <td>7</td>\n",
       "      <td>5.50</td>\n",
       "    </tr>\n",
       "    <tr>\n",
       "      <th>4</th>\n",
       "      <td>Hana</td>\n",
       "      <td>3</td>\n",
       "      <td>8</td>\n",
       "      <td>9</td>\n",
       "      <td>8</td>\n",
       "      <td>7.00</td>\n",
       "    </tr>\n",
       "    <tr>\n",
       "      <th>5</th>\n",
       "      <td>Akira</td>\n",
       "      <td>4</td>\n",
       "      <td>6</td>\n",
       "      <td>7</td>\n",
       "      <td>9</td>\n",
       "      <td>6.50</td>\n",
       "    </tr>\n",
       "    <tr>\n",
       "      <th>6</th>\n",
       "      <td>Yuki</td>\n",
       "      <td>3</td>\n",
       "      <td>6</td>\n",
       "      <td>7</td>\n",
       "      <td>9</td>\n",
       "      <td>6.25</td>\n",
       "    </tr>\n",
       "    <tr>\n",
       "      <th>7</th>\n",
       "      <td>Yudi</td>\n",
       "      <td>1</td>\n",
       "      <td>5</td>\n",
       "      <td>8</td>\n",
       "      <td>5</td>\n",
       "      <td>4.75</td>\n",
       "    </tr>\n",
       "    <tr>\n",
       "      <th>8</th>\n",
       "      <td>Sakura</td>\n",
       "      <td>9</td>\n",
       "      <td>3</td>\n",
       "      <td>7</td>\n",
       "      <td>9</td>\n",
       "      <td>7.00</td>\n",
       "    </tr>\n",
       "    <tr>\n",
       "      <th>9</th>\n",
       "      <td>Sasuke</td>\n",
       "      <td>5</td>\n",
       "      <td>7</td>\n",
       "      <td>7</td>\n",
       "      <td>8</td>\n",
       "      <td>6.75</td>\n",
       "    </tr>\n",
       "    <tr>\n",
       "      <th>10</th>\n",
       "      <td>Hirosh</td>\n",
       "      <td>9</td>\n",
       "      <td>8</td>\n",
       "      <td>7</td>\n",
       "      <td>6</td>\n",
       "      <td>7.50</td>\n",
       "    </tr>\n",
       "    <tr>\n",
       "      <th>11</th>\n",
       "      <td>Ken</td>\n",
       "      <td>1</td>\n",
       "      <td>6</td>\n",
       "      <td>7</td>\n",
       "      <td>7</td>\n",
       "      <td>5.25</td>\n",
       "    </tr>\n",
       "    <tr>\n",
       "      <th>12</th>\n",
       "      <td>Emi</td>\n",
       "      <td>2</td>\n",
       "      <td>4</td>\n",
       "      <td>9</td>\n",
       "      <td>9</td>\n",
       "      <td>6.00</td>\n",
       "    </tr>\n",
       "  </tbody>\n",
       "</table>\n",
       "</div>"
      ],
      "text/plain": [
       "    Alunos  Matemática  Química  Biologia  Economia  Média final\n",
       "1   Namomi           1        6         8         3         4.50\n",
       "2     Yumi           3        5         7         2         4.25\n",
       "3   Hinata           1        5         9         7         5.50\n",
       "4     Hana           3        8         9         8         7.00\n",
       "5    Akira           4        6         7         9         6.50\n",
       "6     Yuki           3        6         7         9         6.25\n",
       "7     Yudi           1        5         8         5         4.75\n",
       "8   Sakura           9        3         7         9         7.00\n",
       "9   Sasuke           5        7         7         8         6.75\n",
       "10  Hirosh           9        8         7         6         7.50\n",
       "11     Ken           1        6         7         7         5.25\n",
       "12     Emi           2        4         9         9         6.00"
      ]
     },
     "execution_count": 66,
     "metadata": {},
     "output_type": "execute_result"
    }
   ],
   "source": [
    "df"
   ]
  },
  {
   "cell_type": "markdown",
   "id": "1c0054ee",
   "metadata": {},
   "source": [
    "### c) crie uma nova coluna para informar se o aluno passou de ano ou não, com base na nota final (a nota deve ser maior ou igual a 7); para tanto crie uma função e use o método apply() do pandas."
   ]
  },
  {
   "cell_type": "code",
   "execution_count": 68,
   "id": "2a7be291",
   "metadata": {},
   "outputs": [],
   "source": [
    "def resultado(nota): \n",
    "    if nota >= 7:\n",
    "        return 'Aprovado'\n",
    "    else:\n",
    "        return 'Reprovado'\n",
    "    \n",
    "df['Resultado'] = df['Média final'].apply(resultado)    "
   ]
  },
  {
   "cell_type": "code",
   "execution_count": 69,
   "id": "fbfbf6d0",
   "metadata": {},
   "outputs": [
    {
     "data": {
      "text/html": [
       "<div>\n",
       "<style scoped>\n",
       "    .dataframe tbody tr th:only-of-type {\n",
       "        vertical-align: middle;\n",
       "    }\n",
       "\n",
       "    .dataframe tbody tr th {\n",
       "        vertical-align: top;\n",
       "    }\n",
       "\n",
       "    .dataframe thead th {\n",
       "        text-align: right;\n",
       "    }\n",
       "</style>\n",
       "<table border=\"1\" class=\"dataframe\">\n",
       "  <thead>\n",
       "    <tr style=\"text-align: right;\">\n",
       "      <th></th>\n",
       "      <th>Alunos</th>\n",
       "      <th>Matemática</th>\n",
       "      <th>Química</th>\n",
       "      <th>Biologia</th>\n",
       "      <th>Economia</th>\n",
       "      <th>Média final</th>\n",
       "      <th>Resultado</th>\n",
       "    </tr>\n",
       "  </thead>\n",
       "  <tbody>\n",
       "    <tr>\n",
       "      <th>1</th>\n",
       "      <td>Namomi</td>\n",
       "      <td>1</td>\n",
       "      <td>6</td>\n",
       "      <td>8</td>\n",
       "      <td>3</td>\n",
       "      <td>4.50</td>\n",
       "      <td>Reprovado</td>\n",
       "    </tr>\n",
       "    <tr>\n",
       "      <th>2</th>\n",
       "      <td>Yumi</td>\n",
       "      <td>3</td>\n",
       "      <td>5</td>\n",
       "      <td>7</td>\n",
       "      <td>2</td>\n",
       "      <td>4.25</td>\n",
       "      <td>Reprovado</td>\n",
       "    </tr>\n",
       "    <tr>\n",
       "      <th>3</th>\n",
       "      <td>Hinata</td>\n",
       "      <td>1</td>\n",
       "      <td>5</td>\n",
       "      <td>9</td>\n",
       "      <td>7</td>\n",
       "      <td>5.50</td>\n",
       "      <td>Reprovado</td>\n",
       "    </tr>\n",
       "    <tr>\n",
       "      <th>4</th>\n",
       "      <td>Hana</td>\n",
       "      <td>3</td>\n",
       "      <td>8</td>\n",
       "      <td>9</td>\n",
       "      <td>8</td>\n",
       "      <td>7.00</td>\n",
       "      <td>Aprovado</td>\n",
       "    </tr>\n",
       "    <tr>\n",
       "      <th>5</th>\n",
       "      <td>Akira</td>\n",
       "      <td>4</td>\n",
       "      <td>6</td>\n",
       "      <td>7</td>\n",
       "      <td>9</td>\n",
       "      <td>6.50</td>\n",
       "      <td>Reprovado</td>\n",
       "    </tr>\n",
       "    <tr>\n",
       "      <th>6</th>\n",
       "      <td>Yuki</td>\n",
       "      <td>3</td>\n",
       "      <td>6</td>\n",
       "      <td>7</td>\n",
       "      <td>9</td>\n",
       "      <td>6.25</td>\n",
       "      <td>Reprovado</td>\n",
       "    </tr>\n",
       "    <tr>\n",
       "      <th>7</th>\n",
       "      <td>Yudi</td>\n",
       "      <td>1</td>\n",
       "      <td>5</td>\n",
       "      <td>8</td>\n",
       "      <td>5</td>\n",
       "      <td>4.75</td>\n",
       "      <td>Reprovado</td>\n",
       "    </tr>\n",
       "    <tr>\n",
       "      <th>8</th>\n",
       "      <td>Sakura</td>\n",
       "      <td>9</td>\n",
       "      <td>3</td>\n",
       "      <td>7</td>\n",
       "      <td>9</td>\n",
       "      <td>7.00</td>\n",
       "      <td>Aprovado</td>\n",
       "    </tr>\n",
       "    <tr>\n",
       "      <th>9</th>\n",
       "      <td>Sasuke</td>\n",
       "      <td>5</td>\n",
       "      <td>7</td>\n",
       "      <td>7</td>\n",
       "      <td>8</td>\n",
       "      <td>6.75</td>\n",
       "      <td>Reprovado</td>\n",
       "    </tr>\n",
       "    <tr>\n",
       "      <th>10</th>\n",
       "      <td>Hirosh</td>\n",
       "      <td>9</td>\n",
       "      <td>8</td>\n",
       "      <td>7</td>\n",
       "      <td>6</td>\n",
       "      <td>7.50</td>\n",
       "      <td>Aprovado</td>\n",
       "    </tr>\n",
       "    <tr>\n",
       "      <th>11</th>\n",
       "      <td>Ken</td>\n",
       "      <td>1</td>\n",
       "      <td>6</td>\n",
       "      <td>7</td>\n",
       "      <td>7</td>\n",
       "      <td>5.25</td>\n",
       "      <td>Reprovado</td>\n",
       "    </tr>\n",
       "    <tr>\n",
       "      <th>12</th>\n",
       "      <td>Emi</td>\n",
       "      <td>2</td>\n",
       "      <td>4</td>\n",
       "      <td>9</td>\n",
       "      <td>9</td>\n",
       "      <td>6.00</td>\n",
       "      <td>Reprovado</td>\n",
       "    </tr>\n",
       "  </tbody>\n",
       "</table>\n",
       "</div>"
      ],
      "text/plain": [
       "    Alunos  Matemática  Química  Biologia  Economia  Média final  Resultado\n",
       "1   Namomi           1        6         8         3         4.50  Reprovado\n",
       "2     Yumi           3        5         7         2         4.25  Reprovado\n",
       "3   Hinata           1        5         9         7         5.50  Reprovado\n",
       "4     Hana           3        8         9         8         7.00   Aprovado\n",
       "5    Akira           4        6         7         9         6.50  Reprovado\n",
       "6     Yuki           3        6         7         9         6.25  Reprovado\n",
       "7     Yudi           1        5         8         5         4.75  Reprovado\n",
       "8   Sakura           9        3         7         9         7.00   Aprovado\n",
       "9   Sasuke           5        7         7         8         6.75  Reprovado\n",
       "10  Hirosh           9        8         7         6         7.50   Aprovado\n",
       "11     Ken           1        6         7         7         5.25  Reprovado\n",
       "12     Emi           2        4         9         9         6.00  Reprovado"
      ]
     },
     "execution_count": 69,
     "metadata": {},
     "output_type": "execute_result"
    }
   ],
   "source": [
    "df"
   ]
  },
  {
   "cell_type": "code",
   "execution_count": null,
   "id": "d0f4e3d8",
   "metadata": {},
   "outputs": [],
   "source": [
    "### Exercício 33\n",
    "Com base no dataset anterior filtre:\n",
    "\n",
    "a) os alunos que tiveram nota em Matemática maior ou igual a 7;\n",
    "\n",
    "b) os alunos que tiveram nota em Química menor que 5;\n",
    "\n",
    "c) os alunos que tiveram nota em Biologia igual a 8;\n",
    "\n",
    "d) os alunos que tiveram nota em Economia diferente de 9;\n",
    "\n",
    "e) os alunos que tiveram média final menor que 5;\n",
    "\n",
    "f) os alunos aprovados."
   ]
  },
  {
   "cell_type": "markdown",
   "id": "d0461a4a",
   "metadata": {},
   "source": [
    "### a) os alunos que tiveram nota em Matemática maior ou igual a 7;\n",
    "\n"
   ]
  },
  {
   "cell_type": "code",
   "execution_count": 70,
   "id": "0779ace2",
   "metadata": {},
   "outputs": [
    {
     "data": {
      "text/html": [
       "<div>\n",
       "<style scoped>\n",
       "    .dataframe tbody tr th:only-of-type {\n",
       "        vertical-align: middle;\n",
       "    }\n",
       "\n",
       "    .dataframe tbody tr th {\n",
       "        vertical-align: top;\n",
       "    }\n",
       "\n",
       "    .dataframe thead th {\n",
       "        text-align: right;\n",
       "    }\n",
       "</style>\n",
       "<table border=\"1\" class=\"dataframe\">\n",
       "  <thead>\n",
       "    <tr style=\"text-align: right;\">\n",
       "      <th></th>\n",
       "      <th>Alunos</th>\n",
       "      <th>Matemática</th>\n",
       "      <th>Química</th>\n",
       "      <th>Biologia</th>\n",
       "      <th>Economia</th>\n",
       "      <th>Média final</th>\n",
       "      <th>Resultado</th>\n",
       "    </tr>\n",
       "  </thead>\n",
       "  <tbody>\n",
       "    <tr>\n",
       "      <th>8</th>\n",
       "      <td>Sakura</td>\n",
       "      <td>9</td>\n",
       "      <td>3</td>\n",
       "      <td>7</td>\n",
       "      <td>9</td>\n",
       "      <td>7.0</td>\n",
       "      <td>Aprovado</td>\n",
       "    </tr>\n",
       "    <tr>\n",
       "      <th>10</th>\n",
       "      <td>Hirosh</td>\n",
       "      <td>9</td>\n",
       "      <td>8</td>\n",
       "      <td>7</td>\n",
       "      <td>6</td>\n",
       "      <td>7.5</td>\n",
       "      <td>Aprovado</td>\n",
       "    </tr>\n",
       "  </tbody>\n",
       "</table>\n",
       "</div>"
      ],
      "text/plain": [
       "    Alunos  Matemática  Química  Biologia  Economia  Média final Resultado\n",
       "8   Sakura           9        3         7         9          7.0  Aprovado\n",
       "10  Hirosh           9        8         7         6          7.5  Aprovado"
      ]
     },
     "execution_count": 70,
     "metadata": {},
     "output_type": "execute_result"
    }
   ],
   "source": [
    "df[df['Matemática'] >= 7]"
   ]
  },
  {
   "cell_type": "markdown",
   "id": "a53ecbea",
   "metadata": {},
   "source": [
    "### b) os alunos que tiveram nota em Química menor que 5;\n",
    "\n"
   ]
  },
  {
   "cell_type": "code",
   "execution_count": 71,
   "id": "981ab48a",
   "metadata": {},
   "outputs": [
    {
     "data": {
      "text/html": [
       "<div>\n",
       "<style scoped>\n",
       "    .dataframe tbody tr th:only-of-type {\n",
       "        vertical-align: middle;\n",
       "    }\n",
       "\n",
       "    .dataframe tbody tr th {\n",
       "        vertical-align: top;\n",
       "    }\n",
       "\n",
       "    .dataframe thead th {\n",
       "        text-align: right;\n",
       "    }\n",
       "</style>\n",
       "<table border=\"1\" class=\"dataframe\">\n",
       "  <thead>\n",
       "    <tr style=\"text-align: right;\">\n",
       "      <th></th>\n",
       "      <th>Alunos</th>\n",
       "      <th>Matemática</th>\n",
       "      <th>Química</th>\n",
       "      <th>Biologia</th>\n",
       "      <th>Economia</th>\n",
       "      <th>Média final</th>\n",
       "      <th>Resultado</th>\n",
       "    </tr>\n",
       "  </thead>\n",
       "  <tbody>\n",
       "    <tr>\n",
       "      <th>8</th>\n",
       "      <td>Sakura</td>\n",
       "      <td>9</td>\n",
       "      <td>3</td>\n",
       "      <td>7</td>\n",
       "      <td>9</td>\n",
       "      <td>7.0</td>\n",
       "      <td>Aprovado</td>\n",
       "    </tr>\n",
       "    <tr>\n",
       "      <th>12</th>\n",
       "      <td>Emi</td>\n",
       "      <td>2</td>\n",
       "      <td>4</td>\n",
       "      <td>9</td>\n",
       "      <td>9</td>\n",
       "      <td>6.0</td>\n",
       "      <td>Reprovado</td>\n",
       "    </tr>\n",
       "  </tbody>\n",
       "</table>\n",
       "</div>"
      ],
      "text/plain": [
       "    Alunos  Matemática  Química  Biologia  Economia  Média final  Resultado\n",
       "8   Sakura           9        3         7         9          7.0   Aprovado\n",
       "12     Emi           2        4         9         9          6.0  Reprovado"
      ]
     },
     "execution_count": 71,
     "metadata": {},
     "output_type": "execute_result"
    }
   ],
   "source": [
    "df[df['Química'] < 5]"
   ]
  },
  {
   "cell_type": "markdown",
   "id": "29bba6bc",
   "metadata": {},
   "source": [
    "### c) os alunos que tiveram nota em Biologia igual a 8;\n",
    "\n"
   ]
  },
  {
   "cell_type": "code",
   "execution_count": 72,
   "id": "a7b75f10",
   "metadata": {},
   "outputs": [
    {
     "data": {
      "text/html": [
       "<div>\n",
       "<style scoped>\n",
       "    .dataframe tbody tr th:only-of-type {\n",
       "        vertical-align: middle;\n",
       "    }\n",
       "\n",
       "    .dataframe tbody tr th {\n",
       "        vertical-align: top;\n",
       "    }\n",
       "\n",
       "    .dataframe thead th {\n",
       "        text-align: right;\n",
       "    }\n",
       "</style>\n",
       "<table border=\"1\" class=\"dataframe\">\n",
       "  <thead>\n",
       "    <tr style=\"text-align: right;\">\n",
       "      <th></th>\n",
       "      <th>Alunos</th>\n",
       "      <th>Matemática</th>\n",
       "      <th>Química</th>\n",
       "      <th>Biologia</th>\n",
       "      <th>Economia</th>\n",
       "      <th>Média final</th>\n",
       "      <th>Resultado</th>\n",
       "    </tr>\n",
       "  </thead>\n",
       "  <tbody>\n",
       "    <tr>\n",
       "      <th>1</th>\n",
       "      <td>Namomi</td>\n",
       "      <td>1</td>\n",
       "      <td>6</td>\n",
       "      <td>8</td>\n",
       "      <td>3</td>\n",
       "      <td>4.50</td>\n",
       "      <td>Reprovado</td>\n",
       "    </tr>\n",
       "    <tr>\n",
       "      <th>7</th>\n",
       "      <td>Yudi</td>\n",
       "      <td>1</td>\n",
       "      <td>5</td>\n",
       "      <td>8</td>\n",
       "      <td>5</td>\n",
       "      <td>4.75</td>\n",
       "      <td>Reprovado</td>\n",
       "    </tr>\n",
       "  </tbody>\n",
       "</table>\n",
       "</div>"
      ],
      "text/plain": [
       "   Alunos  Matemática  Química  Biologia  Economia  Média final  Resultado\n",
       "1  Namomi           1        6         8         3         4.50  Reprovado\n",
       "7    Yudi           1        5         8         5         4.75  Reprovado"
      ]
     },
     "execution_count": 72,
     "metadata": {},
     "output_type": "execute_result"
    }
   ],
   "source": [
    "df[df['Biologia'] == 8]"
   ]
  },
  {
   "cell_type": "markdown",
   "id": "698b4bb9",
   "metadata": {},
   "source": [
    "### d) os alunos que tiveram nota em Economia diferente de 9;\n",
    "\n"
   ]
  },
  {
   "cell_type": "code",
   "execution_count": 73,
   "id": "880387ba",
   "metadata": {},
   "outputs": [
    {
     "data": {
      "text/html": [
       "<div>\n",
       "<style scoped>\n",
       "    .dataframe tbody tr th:only-of-type {\n",
       "        vertical-align: middle;\n",
       "    }\n",
       "\n",
       "    .dataframe tbody tr th {\n",
       "        vertical-align: top;\n",
       "    }\n",
       "\n",
       "    .dataframe thead th {\n",
       "        text-align: right;\n",
       "    }\n",
       "</style>\n",
       "<table border=\"1\" class=\"dataframe\">\n",
       "  <thead>\n",
       "    <tr style=\"text-align: right;\">\n",
       "      <th></th>\n",
       "      <th>Alunos</th>\n",
       "      <th>Matemática</th>\n",
       "      <th>Química</th>\n",
       "      <th>Biologia</th>\n",
       "      <th>Economia</th>\n",
       "      <th>Média final</th>\n",
       "      <th>Resultado</th>\n",
       "    </tr>\n",
       "  </thead>\n",
       "  <tbody>\n",
       "    <tr>\n",
       "      <th>1</th>\n",
       "      <td>Namomi</td>\n",
       "      <td>1</td>\n",
       "      <td>6</td>\n",
       "      <td>8</td>\n",
       "      <td>3</td>\n",
       "      <td>4.50</td>\n",
       "      <td>Reprovado</td>\n",
       "    </tr>\n",
       "    <tr>\n",
       "      <th>2</th>\n",
       "      <td>Yumi</td>\n",
       "      <td>3</td>\n",
       "      <td>5</td>\n",
       "      <td>7</td>\n",
       "      <td>2</td>\n",
       "      <td>4.25</td>\n",
       "      <td>Reprovado</td>\n",
       "    </tr>\n",
       "    <tr>\n",
       "      <th>3</th>\n",
       "      <td>Hinata</td>\n",
       "      <td>1</td>\n",
       "      <td>5</td>\n",
       "      <td>9</td>\n",
       "      <td>7</td>\n",
       "      <td>5.50</td>\n",
       "      <td>Reprovado</td>\n",
       "    </tr>\n",
       "    <tr>\n",
       "      <th>4</th>\n",
       "      <td>Hana</td>\n",
       "      <td>3</td>\n",
       "      <td>8</td>\n",
       "      <td>9</td>\n",
       "      <td>8</td>\n",
       "      <td>7.00</td>\n",
       "      <td>Aprovado</td>\n",
       "    </tr>\n",
       "    <tr>\n",
       "      <th>7</th>\n",
       "      <td>Yudi</td>\n",
       "      <td>1</td>\n",
       "      <td>5</td>\n",
       "      <td>8</td>\n",
       "      <td>5</td>\n",
       "      <td>4.75</td>\n",
       "      <td>Reprovado</td>\n",
       "    </tr>\n",
       "    <tr>\n",
       "      <th>9</th>\n",
       "      <td>Sasuke</td>\n",
       "      <td>5</td>\n",
       "      <td>7</td>\n",
       "      <td>7</td>\n",
       "      <td>8</td>\n",
       "      <td>6.75</td>\n",
       "      <td>Reprovado</td>\n",
       "    </tr>\n",
       "    <tr>\n",
       "      <th>10</th>\n",
       "      <td>Hirosh</td>\n",
       "      <td>9</td>\n",
       "      <td>8</td>\n",
       "      <td>7</td>\n",
       "      <td>6</td>\n",
       "      <td>7.50</td>\n",
       "      <td>Aprovado</td>\n",
       "    </tr>\n",
       "    <tr>\n",
       "      <th>11</th>\n",
       "      <td>Ken</td>\n",
       "      <td>1</td>\n",
       "      <td>6</td>\n",
       "      <td>7</td>\n",
       "      <td>7</td>\n",
       "      <td>5.25</td>\n",
       "      <td>Reprovado</td>\n",
       "    </tr>\n",
       "  </tbody>\n",
       "</table>\n",
       "</div>"
      ],
      "text/plain": [
       "    Alunos  Matemática  Química  Biologia  Economia  Média final  Resultado\n",
       "1   Namomi           1        6         8         3         4.50  Reprovado\n",
       "2     Yumi           3        5         7         2         4.25  Reprovado\n",
       "3   Hinata           1        5         9         7         5.50  Reprovado\n",
       "4     Hana           3        8         9         8         7.00   Aprovado\n",
       "7     Yudi           1        5         8         5         4.75  Reprovado\n",
       "9   Sasuke           5        7         7         8         6.75  Reprovado\n",
       "10  Hirosh           9        8         7         6         7.50   Aprovado\n",
       "11     Ken           1        6         7         7         5.25  Reprovado"
      ]
     },
     "execution_count": 73,
     "metadata": {},
     "output_type": "execute_result"
    }
   ],
   "source": [
    "df[df['Economia'] != 9]"
   ]
  },
  {
   "cell_type": "markdown",
   "id": "653fc771",
   "metadata": {},
   "source": [
    "### e) os alunos que tiveram média final menor que 5;\n",
    "\n"
   ]
  },
  {
   "cell_type": "code",
   "execution_count": 75,
   "id": "a9f1643b",
   "metadata": {},
   "outputs": [
    {
     "data": {
      "text/html": [
       "<div>\n",
       "<style scoped>\n",
       "    .dataframe tbody tr th:only-of-type {\n",
       "        vertical-align: middle;\n",
       "    }\n",
       "\n",
       "    .dataframe tbody tr th {\n",
       "        vertical-align: top;\n",
       "    }\n",
       "\n",
       "    .dataframe thead th {\n",
       "        text-align: right;\n",
       "    }\n",
       "</style>\n",
       "<table border=\"1\" class=\"dataframe\">\n",
       "  <thead>\n",
       "    <tr style=\"text-align: right;\">\n",
       "      <th></th>\n",
       "      <th>Alunos</th>\n",
       "      <th>Matemática</th>\n",
       "      <th>Química</th>\n",
       "      <th>Biologia</th>\n",
       "      <th>Economia</th>\n",
       "      <th>Média final</th>\n",
       "      <th>Resultado</th>\n",
       "    </tr>\n",
       "  </thead>\n",
       "  <tbody>\n",
       "    <tr>\n",
       "      <th>1</th>\n",
       "      <td>Namomi</td>\n",
       "      <td>1</td>\n",
       "      <td>6</td>\n",
       "      <td>8</td>\n",
       "      <td>3</td>\n",
       "      <td>4.50</td>\n",
       "      <td>Reprovado</td>\n",
       "    </tr>\n",
       "    <tr>\n",
       "      <th>2</th>\n",
       "      <td>Yumi</td>\n",
       "      <td>3</td>\n",
       "      <td>5</td>\n",
       "      <td>7</td>\n",
       "      <td>2</td>\n",
       "      <td>4.25</td>\n",
       "      <td>Reprovado</td>\n",
       "    </tr>\n",
       "    <tr>\n",
       "      <th>7</th>\n",
       "      <td>Yudi</td>\n",
       "      <td>1</td>\n",
       "      <td>5</td>\n",
       "      <td>8</td>\n",
       "      <td>5</td>\n",
       "      <td>4.75</td>\n",
       "      <td>Reprovado</td>\n",
       "    </tr>\n",
       "  </tbody>\n",
       "</table>\n",
       "</div>"
      ],
      "text/plain": [
       "   Alunos  Matemática  Química  Biologia  Economia  Média final  Resultado\n",
       "1  Namomi           1        6         8         3         4.50  Reprovado\n",
       "2    Yumi           3        5         7         2         4.25  Reprovado\n",
       "7    Yudi           1        5         8         5         4.75  Reprovado"
      ]
     },
     "execution_count": 75,
     "metadata": {},
     "output_type": "execute_result"
    }
   ],
   "source": [
    "df[df['Média final'] < 5]"
   ]
  },
  {
   "cell_type": "markdown",
   "id": "79f411d1",
   "metadata": {},
   "source": [
    "### f) os alunos aprovados.\n",
    "\n"
   ]
  },
  {
   "cell_type": "code",
   "execution_count": 76,
   "id": "3bcc8a5c",
   "metadata": {},
   "outputs": [
    {
     "data": {
      "text/html": [
       "<div>\n",
       "<style scoped>\n",
       "    .dataframe tbody tr th:only-of-type {\n",
       "        vertical-align: middle;\n",
       "    }\n",
       "\n",
       "    .dataframe tbody tr th {\n",
       "        vertical-align: top;\n",
       "    }\n",
       "\n",
       "    .dataframe thead th {\n",
       "        text-align: right;\n",
       "    }\n",
       "</style>\n",
       "<table border=\"1\" class=\"dataframe\">\n",
       "  <thead>\n",
       "    <tr style=\"text-align: right;\">\n",
       "      <th></th>\n",
       "      <th>Alunos</th>\n",
       "      <th>Matemática</th>\n",
       "      <th>Química</th>\n",
       "      <th>Biologia</th>\n",
       "      <th>Economia</th>\n",
       "      <th>Média final</th>\n",
       "      <th>Resultado</th>\n",
       "    </tr>\n",
       "  </thead>\n",
       "  <tbody>\n",
       "    <tr>\n",
       "      <th>4</th>\n",
       "      <td>Hana</td>\n",
       "      <td>3</td>\n",
       "      <td>8</td>\n",
       "      <td>9</td>\n",
       "      <td>8</td>\n",
       "      <td>7.0</td>\n",
       "      <td>Aprovado</td>\n",
       "    </tr>\n",
       "    <tr>\n",
       "      <th>8</th>\n",
       "      <td>Sakura</td>\n",
       "      <td>9</td>\n",
       "      <td>3</td>\n",
       "      <td>7</td>\n",
       "      <td>9</td>\n",
       "      <td>7.0</td>\n",
       "      <td>Aprovado</td>\n",
       "    </tr>\n",
       "    <tr>\n",
       "      <th>10</th>\n",
       "      <td>Hirosh</td>\n",
       "      <td>9</td>\n",
       "      <td>8</td>\n",
       "      <td>7</td>\n",
       "      <td>6</td>\n",
       "      <td>7.5</td>\n",
       "      <td>Aprovado</td>\n",
       "    </tr>\n",
       "  </tbody>\n",
       "</table>\n",
       "</div>"
      ],
      "text/plain": [
       "    Alunos  Matemática  Química  Biologia  Economia  Média final Resultado\n",
       "4     Hana           3        8         9         8          7.0  Aprovado\n",
       "8   Sakura           9        3         7         9          7.0  Aprovado\n",
       "10  Hirosh           9        8         7         6          7.5  Aprovado"
      ]
     },
     "execution_count": 76,
     "metadata": {},
     "output_type": "execute_result"
    }
   ],
   "source": [
    "df[df['Resultado'] == 'Aprovado']"
   ]
  },
  {
   "cell_type": "markdown",
   "id": "91e66398",
   "metadata": {},
   "source": [
    "### Exercício 34\n",
    "Utilize a função query() para obter os filtros do exercício anterior."
   ]
  },
  {
   "cell_type": "markdown",
   "id": "fd553aee",
   "metadata": {},
   "source": [
    "### a) os alunos que tiveram nota em Matemática maior ou igual a 7;\n",
    "\n"
   ]
  },
  {
   "cell_type": "code",
   "execution_count": 77,
   "id": "0907fd8b",
   "metadata": {},
   "outputs": [
    {
     "data": {
      "text/html": [
       "<div>\n",
       "<style scoped>\n",
       "    .dataframe tbody tr th:only-of-type {\n",
       "        vertical-align: middle;\n",
       "    }\n",
       "\n",
       "    .dataframe tbody tr th {\n",
       "        vertical-align: top;\n",
       "    }\n",
       "\n",
       "    .dataframe thead th {\n",
       "        text-align: right;\n",
       "    }\n",
       "</style>\n",
       "<table border=\"1\" class=\"dataframe\">\n",
       "  <thead>\n",
       "    <tr style=\"text-align: right;\">\n",
       "      <th></th>\n",
       "      <th>Alunos</th>\n",
       "      <th>Matemática</th>\n",
       "      <th>Química</th>\n",
       "      <th>Biologia</th>\n",
       "      <th>Economia</th>\n",
       "      <th>Média final</th>\n",
       "      <th>Resultado</th>\n",
       "    </tr>\n",
       "  </thead>\n",
       "  <tbody>\n",
       "    <tr>\n",
       "      <th>8</th>\n",
       "      <td>Sakura</td>\n",
       "      <td>9</td>\n",
       "      <td>3</td>\n",
       "      <td>7</td>\n",
       "      <td>9</td>\n",
       "      <td>7.0</td>\n",
       "      <td>Aprovado</td>\n",
       "    </tr>\n",
       "    <tr>\n",
       "      <th>10</th>\n",
       "      <td>Hirosh</td>\n",
       "      <td>9</td>\n",
       "      <td>8</td>\n",
       "      <td>7</td>\n",
       "      <td>6</td>\n",
       "      <td>7.5</td>\n",
       "      <td>Aprovado</td>\n",
       "    </tr>\n",
       "  </tbody>\n",
       "</table>\n",
       "</div>"
      ],
      "text/plain": [
       "    Alunos  Matemática  Química  Biologia  Economia  Média final Resultado\n",
       "8   Sakura           9        3         7         9          7.0  Aprovado\n",
       "10  Hirosh           9        8         7         6          7.5  Aprovado"
      ]
     },
     "execution_count": 77,
     "metadata": {},
     "output_type": "execute_result"
    }
   ],
   "source": [
    "df.query('Matemática >= 7')"
   ]
  },
  {
   "cell_type": "markdown",
   "id": "4d8b7cee",
   "metadata": {},
   "source": [
    "### b) os alunos que tiveram nota em Química menor que 5;\n",
    "\n"
   ]
  },
  {
   "cell_type": "code",
   "execution_count": 78,
   "id": "a4c13bfe",
   "metadata": {},
   "outputs": [
    {
     "data": {
      "text/html": [
       "<div>\n",
       "<style scoped>\n",
       "    .dataframe tbody tr th:only-of-type {\n",
       "        vertical-align: middle;\n",
       "    }\n",
       "\n",
       "    .dataframe tbody tr th {\n",
       "        vertical-align: top;\n",
       "    }\n",
       "\n",
       "    .dataframe thead th {\n",
       "        text-align: right;\n",
       "    }\n",
       "</style>\n",
       "<table border=\"1\" class=\"dataframe\">\n",
       "  <thead>\n",
       "    <tr style=\"text-align: right;\">\n",
       "      <th></th>\n",
       "      <th>Alunos</th>\n",
       "      <th>Matemática</th>\n",
       "      <th>Química</th>\n",
       "      <th>Biologia</th>\n",
       "      <th>Economia</th>\n",
       "      <th>Média final</th>\n",
       "      <th>Resultado</th>\n",
       "    </tr>\n",
       "  </thead>\n",
       "  <tbody>\n",
       "    <tr>\n",
       "      <th>8</th>\n",
       "      <td>Sakura</td>\n",
       "      <td>9</td>\n",
       "      <td>3</td>\n",
       "      <td>7</td>\n",
       "      <td>9</td>\n",
       "      <td>7.0</td>\n",
       "      <td>Aprovado</td>\n",
       "    </tr>\n",
       "    <tr>\n",
       "      <th>12</th>\n",
       "      <td>Emi</td>\n",
       "      <td>2</td>\n",
       "      <td>4</td>\n",
       "      <td>9</td>\n",
       "      <td>9</td>\n",
       "      <td>6.0</td>\n",
       "      <td>Reprovado</td>\n",
       "    </tr>\n",
       "  </tbody>\n",
       "</table>\n",
       "</div>"
      ],
      "text/plain": [
       "    Alunos  Matemática  Química  Biologia  Economia  Média final  Resultado\n",
       "8   Sakura           9        3         7         9          7.0   Aprovado\n",
       "12     Emi           2        4         9         9          6.0  Reprovado"
      ]
     },
     "execution_count": 78,
     "metadata": {},
     "output_type": "execute_result"
    }
   ],
   "source": [
    "df.query('Química < 5')"
   ]
  },
  {
   "cell_type": "markdown",
   "id": "02dbf00d",
   "metadata": {},
   "source": [
    "### c) os alunos que tiveram nota em Biologia igual a 8;\n",
    "\n"
   ]
  },
  {
   "cell_type": "code",
   "execution_count": 79,
   "id": "9da94baf",
   "metadata": {},
   "outputs": [
    {
     "data": {
      "text/html": [
       "<div>\n",
       "<style scoped>\n",
       "    .dataframe tbody tr th:only-of-type {\n",
       "        vertical-align: middle;\n",
       "    }\n",
       "\n",
       "    .dataframe tbody tr th {\n",
       "        vertical-align: top;\n",
       "    }\n",
       "\n",
       "    .dataframe thead th {\n",
       "        text-align: right;\n",
       "    }\n",
       "</style>\n",
       "<table border=\"1\" class=\"dataframe\">\n",
       "  <thead>\n",
       "    <tr style=\"text-align: right;\">\n",
       "      <th></th>\n",
       "      <th>Alunos</th>\n",
       "      <th>Matemática</th>\n",
       "      <th>Química</th>\n",
       "      <th>Biologia</th>\n",
       "      <th>Economia</th>\n",
       "      <th>Média final</th>\n",
       "      <th>Resultado</th>\n",
       "    </tr>\n",
       "  </thead>\n",
       "  <tbody>\n",
       "    <tr>\n",
       "      <th>1</th>\n",
       "      <td>Namomi</td>\n",
       "      <td>1</td>\n",
       "      <td>6</td>\n",
       "      <td>8</td>\n",
       "      <td>3</td>\n",
       "      <td>4.50</td>\n",
       "      <td>Reprovado</td>\n",
       "    </tr>\n",
       "    <tr>\n",
       "      <th>7</th>\n",
       "      <td>Yudi</td>\n",
       "      <td>1</td>\n",
       "      <td>5</td>\n",
       "      <td>8</td>\n",
       "      <td>5</td>\n",
       "      <td>4.75</td>\n",
       "      <td>Reprovado</td>\n",
       "    </tr>\n",
       "  </tbody>\n",
       "</table>\n",
       "</div>"
      ],
      "text/plain": [
       "   Alunos  Matemática  Química  Biologia  Economia  Média final  Resultado\n",
       "1  Namomi           1        6         8         3         4.50  Reprovado\n",
       "7    Yudi           1        5         8         5         4.75  Reprovado"
      ]
     },
     "execution_count": 79,
     "metadata": {},
     "output_type": "execute_result"
    }
   ],
   "source": [
    "df.query('Biologia == 8')"
   ]
  },
  {
   "cell_type": "markdown",
   "id": "c3aca722",
   "metadata": {},
   "source": [
    "### d) os alunos que tiveram nota em Economia diferente de 9;\n",
    "\n"
   ]
  },
  {
   "cell_type": "code",
   "execution_count": 80,
   "id": "d2137c38",
   "metadata": {},
   "outputs": [
    {
     "data": {
      "text/html": [
       "<div>\n",
       "<style scoped>\n",
       "    .dataframe tbody tr th:only-of-type {\n",
       "        vertical-align: middle;\n",
       "    }\n",
       "\n",
       "    .dataframe tbody tr th {\n",
       "        vertical-align: top;\n",
       "    }\n",
       "\n",
       "    .dataframe thead th {\n",
       "        text-align: right;\n",
       "    }\n",
       "</style>\n",
       "<table border=\"1\" class=\"dataframe\">\n",
       "  <thead>\n",
       "    <tr style=\"text-align: right;\">\n",
       "      <th></th>\n",
       "      <th>Alunos</th>\n",
       "      <th>Matemática</th>\n",
       "      <th>Química</th>\n",
       "      <th>Biologia</th>\n",
       "      <th>Economia</th>\n",
       "      <th>Média final</th>\n",
       "      <th>Resultado</th>\n",
       "    </tr>\n",
       "  </thead>\n",
       "  <tbody>\n",
       "    <tr>\n",
       "      <th>1</th>\n",
       "      <td>Namomi</td>\n",
       "      <td>1</td>\n",
       "      <td>6</td>\n",
       "      <td>8</td>\n",
       "      <td>3</td>\n",
       "      <td>4.50</td>\n",
       "      <td>Reprovado</td>\n",
       "    </tr>\n",
       "    <tr>\n",
       "      <th>2</th>\n",
       "      <td>Yumi</td>\n",
       "      <td>3</td>\n",
       "      <td>5</td>\n",
       "      <td>7</td>\n",
       "      <td>2</td>\n",
       "      <td>4.25</td>\n",
       "      <td>Reprovado</td>\n",
       "    </tr>\n",
       "    <tr>\n",
       "      <th>3</th>\n",
       "      <td>Hinata</td>\n",
       "      <td>1</td>\n",
       "      <td>5</td>\n",
       "      <td>9</td>\n",
       "      <td>7</td>\n",
       "      <td>5.50</td>\n",
       "      <td>Reprovado</td>\n",
       "    </tr>\n",
       "    <tr>\n",
       "      <th>4</th>\n",
       "      <td>Hana</td>\n",
       "      <td>3</td>\n",
       "      <td>8</td>\n",
       "      <td>9</td>\n",
       "      <td>8</td>\n",
       "      <td>7.00</td>\n",
       "      <td>Aprovado</td>\n",
       "    </tr>\n",
       "    <tr>\n",
       "      <th>7</th>\n",
       "      <td>Yudi</td>\n",
       "      <td>1</td>\n",
       "      <td>5</td>\n",
       "      <td>8</td>\n",
       "      <td>5</td>\n",
       "      <td>4.75</td>\n",
       "      <td>Reprovado</td>\n",
       "    </tr>\n",
       "    <tr>\n",
       "      <th>9</th>\n",
       "      <td>Sasuke</td>\n",
       "      <td>5</td>\n",
       "      <td>7</td>\n",
       "      <td>7</td>\n",
       "      <td>8</td>\n",
       "      <td>6.75</td>\n",
       "      <td>Reprovado</td>\n",
       "    </tr>\n",
       "    <tr>\n",
       "      <th>10</th>\n",
       "      <td>Hirosh</td>\n",
       "      <td>9</td>\n",
       "      <td>8</td>\n",
       "      <td>7</td>\n",
       "      <td>6</td>\n",
       "      <td>7.50</td>\n",
       "      <td>Aprovado</td>\n",
       "    </tr>\n",
       "    <tr>\n",
       "      <th>11</th>\n",
       "      <td>Ken</td>\n",
       "      <td>1</td>\n",
       "      <td>6</td>\n",
       "      <td>7</td>\n",
       "      <td>7</td>\n",
       "      <td>5.25</td>\n",
       "      <td>Reprovado</td>\n",
       "    </tr>\n",
       "  </tbody>\n",
       "</table>\n",
       "</div>"
      ],
      "text/plain": [
       "    Alunos  Matemática  Química  Biologia  Economia  Média final  Resultado\n",
       "1   Namomi           1        6         8         3         4.50  Reprovado\n",
       "2     Yumi           3        5         7         2         4.25  Reprovado\n",
       "3   Hinata           1        5         9         7         5.50  Reprovado\n",
       "4     Hana           3        8         9         8         7.00   Aprovado\n",
       "7     Yudi           1        5         8         5         4.75  Reprovado\n",
       "9   Sasuke           5        7         7         8         6.75  Reprovado\n",
       "10  Hirosh           9        8         7         6         7.50   Aprovado\n",
       "11     Ken           1        6         7         7         5.25  Reprovado"
      ]
     },
     "execution_count": 80,
     "metadata": {},
     "output_type": "execute_result"
    }
   ],
   "source": [
    "df.query('Economia != 9')"
   ]
  },
  {
   "cell_type": "markdown",
   "id": "38ccc2b7",
   "metadata": {},
   "source": [
    "### e) os alunos que tiveram média final menor que 5;\n",
    "\n"
   ]
  },
  {
   "cell_type": "code",
   "execution_count": 84,
   "id": "4dbeb8ab",
   "metadata": {},
   "outputs": [
    {
     "data": {
      "text/html": [
       "<div>\n",
       "<style scoped>\n",
       "    .dataframe tbody tr th:only-of-type {\n",
       "        vertical-align: middle;\n",
       "    }\n",
       "\n",
       "    .dataframe tbody tr th {\n",
       "        vertical-align: top;\n",
       "    }\n",
       "\n",
       "    .dataframe thead th {\n",
       "        text-align: right;\n",
       "    }\n",
       "</style>\n",
       "<table border=\"1\" class=\"dataframe\">\n",
       "  <thead>\n",
       "    <tr style=\"text-align: right;\">\n",
       "      <th></th>\n",
       "      <th>Alunos</th>\n",
       "      <th>Matemática</th>\n",
       "      <th>Química</th>\n",
       "      <th>Biologia</th>\n",
       "      <th>Economia</th>\n",
       "      <th>Média final</th>\n",
       "      <th>Resultado</th>\n",
       "    </tr>\n",
       "  </thead>\n",
       "  <tbody>\n",
       "    <tr>\n",
       "      <th>1</th>\n",
       "      <td>Namomi</td>\n",
       "      <td>1</td>\n",
       "      <td>6</td>\n",
       "      <td>8</td>\n",
       "      <td>3</td>\n",
       "      <td>4.50</td>\n",
       "      <td>Reprovado</td>\n",
       "    </tr>\n",
       "    <tr>\n",
       "      <th>2</th>\n",
       "      <td>Yumi</td>\n",
       "      <td>3</td>\n",
       "      <td>5</td>\n",
       "      <td>7</td>\n",
       "      <td>2</td>\n",
       "      <td>4.25</td>\n",
       "      <td>Reprovado</td>\n",
       "    </tr>\n",
       "    <tr>\n",
       "      <th>7</th>\n",
       "      <td>Yudi</td>\n",
       "      <td>1</td>\n",
       "      <td>5</td>\n",
       "      <td>8</td>\n",
       "      <td>5</td>\n",
       "      <td>4.75</td>\n",
       "      <td>Reprovado</td>\n",
       "    </tr>\n",
       "  </tbody>\n",
       "</table>\n",
       "</div>"
      ],
      "text/plain": [
       "   Alunos  Matemática  Química  Biologia  Economia  Média final  Resultado\n",
       "1  Namomi           1        6         8         3         4.50  Reprovado\n",
       "2    Yumi           3        5         7         2         4.25  Reprovado\n",
       "7    Yudi           1        5         8         5         4.75  Reprovado"
      ]
     },
     "execution_count": 84,
     "metadata": {},
     "output_type": "execute_result"
    }
   ],
   "source": [
    "df.query('`Média final` < 5')"
   ]
  },
  {
   "cell_type": "markdown",
   "id": "e87eb0c1",
   "metadata": {},
   "source": [
    "### f) os alunos aprovados.\n",
    "\n"
   ]
  },
  {
   "cell_type": "code",
   "execution_count": 85,
   "id": "7b9d585c",
   "metadata": {},
   "outputs": [
    {
     "data": {
      "text/html": [
       "<div>\n",
       "<style scoped>\n",
       "    .dataframe tbody tr th:only-of-type {\n",
       "        vertical-align: middle;\n",
       "    }\n",
       "\n",
       "    .dataframe tbody tr th {\n",
       "        vertical-align: top;\n",
       "    }\n",
       "\n",
       "    .dataframe thead th {\n",
       "        text-align: right;\n",
       "    }\n",
       "</style>\n",
       "<table border=\"1\" class=\"dataframe\">\n",
       "  <thead>\n",
       "    <tr style=\"text-align: right;\">\n",
       "      <th></th>\n",
       "      <th>Alunos</th>\n",
       "      <th>Matemática</th>\n",
       "      <th>Química</th>\n",
       "      <th>Biologia</th>\n",
       "      <th>Economia</th>\n",
       "      <th>Média final</th>\n",
       "      <th>Resultado</th>\n",
       "    </tr>\n",
       "  </thead>\n",
       "  <tbody>\n",
       "    <tr>\n",
       "      <th>4</th>\n",
       "      <td>Hana</td>\n",
       "      <td>3</td>\n",
       "      <td>8</td>\n",
       "      <td>9</td>\n",
       "      <td>8</td>\n",
       "      <td>7.0</td>\n",
       "      <td>Aprovado</td>\n",
       "    </tr>\n",
       "    <tr>\n",
       "      <th>8</th>\n",
       "      <td>Sakura</td>\n",
       "      <td>9</td>\n",
       "      <td>3</td>\n",
       "      <td>7</td>\n",
       "      <td>9</td>\n",
       "      <td>7.0</td>\n",
       "      <td>Aprovado</td>\n",
       "    </tr>\n",
       "    <tr>\n",
       "      <th>10</th>\n",
       "      <td>Hirosh</td>\n",
       "      <td>9</td>\n",
       "      <td>8</td>\n",
       "      <td>7</td>\n",
       "      <td>6</td>\n",
       "      <td>7.5</td>\n",
       "      <td>Aprovado</td>\n",
       "    </tr>\n",
       "  </tbody>\n",
       "</table>\n",
       "</div>"
      ],
      "text/plain": [
       "    Alunos  Matemática  Química  Biologia  Economia  Média final Resultado\n",
       "4     Hana           3        8         9         8          7.0  Aprovado\n",
       "8   Sakura           9        3         7         9          7.0  Aprovado\n",
       "10  Hirosh           9        8         7         6          7.5  Aprovado"
      ]
     },
     "execution_count": 85,
     "metadata": {},
     "output_type": "execute_result"
    }
   ],
   "source": [
    "df.query(\"Resultado == 'Aprovado'\")"
   ]
  },
  {
   "attachments": {
    "2020-12-22_01-51-18-8bac97db18c5bf1a4de157cd1a901c32.png": {
     "image/png": "[encoded data removed]"
    }
   },
   "cell_type": "markdown",
   "id": "65248f11",
   "metadata": {},
   "source": [
    "### Exercício 35\n",
    "Construa o DataFrame a seguir usando Dicionários aninhados. Este exercício será utilizado a seguir.\n",
    "\n",
    "![2020-12-22_01-51-18-8bac97db18c5bf1a4de157cd1a901c32.png](attachment:2020-12-22_01-51-18-8bac97db18c5bf1a4de157cd1a901c32.png)"
   ]
  },
  {
   "cell_type": "code",
   "execution_count": 86,
   "id": "aa2bfc6c",
   "metadata": {},
   "outputs": [],
   "source": [
    "dados = {\n",
    "    'Empresa A': {2018:90, 2019:76, 2020: 109},\n",
    "    'Empresa B': {2018:33, 2020:13},\n",
    "    'Empresa C': {2018:273, 2019:33}}\n",
    "\n",
    "df = pd.DataFrame(dados)\n",
    "df.columns.name = 'Faturamento'\n",
    "df.index.name= 'Ano'"
   ]
  },
  {
   "cell_type": "code",
   "execution_count": 87,
   "id": "3eaf02f0",
   "metadata": {},
   "outputs": [
    {
     "data": {
      "text/html": [
       "<div>\n",
       "<style scoped>\n",
       "    .dataframe tbody tr th:only-of-type {\n",
       "        vertical-align: middle;\n",
       "    }\n",
       "\n",
       "    .dataframe tbody tr th {\n",
       "        vertical-align: top;\n",
       "    }\n",
       "\n",
       "    .dataframe thead th {\n",
       "        text-align: right;\n",
       "    }\n",
       "</style>\n",
       "<table border=\"1\" class=\"dataframe\">\n",
       "  <thead>\n",
       "    <tr style=\"text-align: right;\">\n",
       "      <th>Faturamento</th>\n",
       "      <th>Empresa A</th>\n",
       "      <th>Empresa B</th>\n",
       "      <th>Empresa C</th>\n",
       "    </tr>\n",
       "    <tr>\n",
       "      <th>Ano</th>\n",
       "      <th></th>\n",
       "      <th></th>\n",
       "      <th></th>\n",
       "    </tr>\n",
       "  </thead>\n",
       "  <tbody>\n",
       "    <tr>\n",
       "      <th>2018</th>\n",
       "      <td>90</td>\n",
       "      <td>33.0</td>\n",
       "      <td>273.0</td>\n",
       "    </tr>\n",
       "    <tr>\n",
       "      <th>2019</th>\n",
       "      <td>76</td>\n",
       "      <td>NaN</td>\n",
       "      <td>33.0</td>\n",
       "    </tr>\n",
       "    <tr>\n",
       "      <th>2020</th>\n",
       "      <td>109</td>\n",
       "      <td>13.0</td>\n",
       "      <td>NaN</td>\n",
       "    </tr>\n",
       "  </tbody>\n",
       "</table>\n",
       "</div>"
      ],
      "text/plain": [
       "Faturamento  Empresa A  Empresa B  Empresa C\n",
       "Ano                                         \n",
       "2018                90       33.0      273.0\n",
       "2019                76        NaN       33.0\n",
       "2020               109       13.0        NaN"
      ]
     },
     "execution_count": 87,
     "metadata": {},
     "output_type": "execute_result"
    }
   ],
   "source": [
    "df"
   ]
  },
  {
   "cell_type": "markdown",
   "id": "daaea32d",
   "metadata": {},
   "source": [
    "### Exercício 36\n",
    "Baseado no DataFrame anterior use a função pd.isna() para mapear os dados ausentes. Mostre ainda a quantidade de dados ausentes em cada coluna."
   ]
  },
  {
   "cell_type": "code",
   "execution_count": 88,
   "id": "7a76002d",
   "metadata": {},
   "outputs": [
    {
     "data": {
      "text/html": [
       "<div>\n",
       "<style scoped>\n",
       "    .dataframe tbody tr th:only-of-type {\n",
       "        vertical-align: middle;\n",
       "    }\n",
       "\n",
       "    .dataframe tbody tr th {\n",
       "        vertical-align: top;\n",
       "    }\n",
       "\n",
       "    .dataframe thead th {\n",
       "        text-align: right;\n",
       "    }\n",
       "</style>\n",
       "<table border=\"1\" class=\"dataframe\">\n",
       "  <thead>\n",
       "    <tr style=\"text-align: right;\">\n",
       "      <th>Faturamento</th>\n",
       "      <th>Empresa A</th>\n",
       "      <th>Empresa B</th>\n",
       "      <th>Empresa C</th>\n",
       "    </tr>\n",
       "    <tr>\n",
       "      <th>Ano</th>\n",
       "      <th></th>\n",
       "      <th></th>\n",
       "      <th></th>\n",
       "    </tr>\n",
       "  </thead>\n",
       "  <tbody>\n",
       "    <tr>\n",
       "      <th>2018</th>\n",
       "      <td>False</td>\n",
       "      <td>False</td>\n",
       "      <td>False</td>\n",
       "    </tr>\n",
       "    <tr>\n",
       "      <th>2019</th>\n",
       "      <td>False</td>\n",
       "      <td>True</td>\n",
       "      <td>False</td>\n",
       "    </tr>\n",
       "    <tr>\n",
       "      <th>2020</th>\n",
       "      <td>False</td>\n",
       "      <td>False</td>\n",
       "      <td>True</td>\n",
       "    </tr>\n",
       "  </tbody>\n",
       "</table>\n",
       "</div>"
      ],
      "text/plain": [
       "Faturamento  Empresa A  Empresa B  Empresa C\n",
       "Ano                                         \n",
       "2018             False      False      False\n",
       "2019             False       True      False\n",
       "2020             False      False       True"
      ]
     },
     "execution_count": 88,
     "metadata": {},
     "output_type": "execute_result"
    }
   ],
   "source": [
    "df.isna()"
   ]
  },
  {
   "cell_type": "code",
   "execution_count": 89,
   "id": "79a17783",
   "metadata": {},
   "outputs": [
    {
     "data": {
      "text/plain": [
       "Faturamento\n",
       "Empresa A    0\n",
       "Empresa B    1\n",
       "Empresa C    1\n",
       "dtype: int64"
      ]
     },
     "execution_count": 89,
     "metadata": {},
     "output_type": "execute_result"
    }
   ],
   "source": [
    "df.isna().sum()"
   ]
  },
  {
   "cell_type": "markdown",
   "id": "0adec5e6",
   "metadata": {},
   "source": [
    "### Exercício 37\n",
    "Com base no DataFrame do exercício 35, faça:\n",
    "\n",
    "a) substitua os dados ausentes pela média no caso da Empresa B;\n",
    "\n",
    "b) substitua os dados ausentes pela mediana no caso da Empresa C;\n",
    "\n",
    "a) use idxmin()/idxmax() para filtrar os anos em que as respectivas empresas tiveram maior e menor lucro."
   ]
  },
  {
   "cell_type": "markdown",
   "id": "18d6186f",
   "metadata": {},
   "source": [
    "### Substituindo os dados ausentes:\n",
    "\n"
   ]
  },
  {
   "cell_type": "code",
   "execution_count": 92,
   "id": "1bde3b0d",
   "metadata": {},
   "outputs": [],
   "source": [
    "df.fillna(\n",
    "    {'Empresa B':df['Empresa B'].mean(), 'Empresa C':df['Empresa C'].median()}, inplace = True)"
   ]
  },
  {
   "cell_type": "code",
   "execution_count": 93,
   "id": "e39beb11",
   "metadata": {},
   "outputs": [
    {
     "data": {
      "text/html": [
       "<div>\n",
       "<style scoped>\n",
       "    .dataframe tbody tr th:only-of-type {\n",
       "        vertical-align: middle;\n",
       "    }\n",
       "\n",
       "    .dataframe tbody tr th {\n",
       "        vertical-align: top;\n",
       "    }\n",
       "\n",
       "    .dataframe thead th {\n",
       "        text-align: right;\n",
       "    }\n",
       "</style>\n",
       "<table border=\"1\" class=\"dataframe\">\n",
       "  <thead>\n",
       "    <tr style=\"text-align: right;\">\n",
       "      <th>Faturamento</th>\n",
       "      <th>Empresa A</th>\n",
       "      <th>Empresa B</th>\n",
       "      <th>Empresa C</th>\n",
       "    </tr>\n",
       "    <tr>\n",
       "      <th>Ano</th>\n",
       "      <th></th>\n",
       "      <th></th>\n",
       "      <th></th>\n",
       "    </tr>\n",
       "  </thead>\n",
       "  <tbody>\n",
       "    <tr>\n",
       "      <th>2018</th>\n",
       "      <td>90</td>\n",
       "      <td>33.0</td>\n",
       "      <td>273.0</td>\n",
       "    </tr>\n",
       "    <tr>\n",
       "      <th>2019</th>\n",
       "      <td>76</td>\n",
       "      <td>23.0</td>\n",
       "      <td>33.0</td>\n",
       "    </tr>\n",
       "    <tr>\n",
       "      <th>2020</th>\n",
       "      <td>109</td>\n",
       "      <td>13.0</td>\n",
       "      <td>153.0</td>\n",
       "    </tr>\n",
       "  </tbody>\n",
       "</table>\n",
       "</div>"
      ],
      "text/plain": [
       "Faturamento  Empresa A  Empresa B  Empresa C\n",
       "Ano                                         \n",
       "2018                90       33.0      273.0\n",
       "2019                76       23.0       33.0\n",
       "2020               109       13.0      153.0"
      ]
     },
     "execution_count": 93,
     "metadata": {},
     "output_type": "execute_result"
    }
   ],
   "source": [
    "df"
   ]
  },
  {
   "cell_type": "markdown",
   "id": "19d63f65",
   "metadata": {},
   "source": [
    "### Anos em que as respectivas empresas tiveram maior e menor lucro:\n",
    "\n"
   ]
  },
  {
   "cell_type": "code",
   "execution_count": 95,
   "id": "c9d44f65",
   "metadata": {},
   "outputs": [
    {
     "name": "stdout",
     "output_type": "stream",
     "text": [
      "               Anos de maior lucro                \n",
      "Faturamento\n",
      "Empresa A    2020\n",
      "Empresa B    2018\n",
      "Empresa C    2018\n",
      "dtype: int64\n"
     ]
    }
   ],
   "source": [
    "print('Anos de maior lucro'.center(50, ' '))\n",
    "print(df.idxmax())"
   ]
  },
  {
   "cell_type": "code",
   "execution_count": 96,
   "id": "9431192b",
   "metadata": {},
   "outputs": [
    {
     "name": "stdout",
     "output_type": "stream",
     "text": [
      "               Anos de menor lucro                \n",
      "Faturamento\n",
      "Empresa A    2019\n",
      "Empresa B    2020\n",
      "Empresa C    2019\n",
      "dtype: int64\n"
     ]
    }
   ],
   "source": [
    "print('Anos de menor lucro'.center(50, ' '))\n",
    "print(df.idxmin())"
   ]
  },
  {
   "cell_type": "markdown",
   "id": "9fda4bda",
   "metadata": {},
   "source": [
    "### Exercício 38\n",
    "A Series a seguir representa o faturamento de uma empresa no tempo. Obtenha a linha com o maior e o menor faturamento, respectivamente.\n",
    "\n",
    "2016-12-31    15\n",
    "2017-12-31    31\n",
    "2018-12-31    41\n",
    "2019-12-31    47\n",
    "2020-12-31    39\n",
    "2021-12-31    10\n",
    "2022-12-31    33\n",
    "2023-12-31    13\n",
    "2024-12-31    31\n",
    "2025-12-31    33\n",
    "Freq: A-DEC, dtype: int64"
   ]
  },
  {
   "cell_type": "code",
   "execution_count": 97,
   "id": "4293a7dc",
   "metadata": {},
   "outputs": [],
   "source": [
    "s = pd.Series([15, 31, 41, 47, 39, 10, 33, 13, 31, 33], \n",
    "             index = pd.date_range(start = '2016', periods = 10, freq = 'Y'))"
   ]
  },
  {
   "cell_type": "code",
   "execution_count": 100,
   "id": "7db1e824",
   "metadata": {},
   "outputs": [
    {
     "name": "stdout",
     "output_type": "stream",
     "text": [
      "            Ano com maior faturamento             \n",
      "2019\n",
      "            Ano com menor faturamento             \n",
      "2021\n"
     ]
    }
   ],
   "source": [
    "print('Ano com maior faturamento'.center(50, ' '))\n",
    "print(s.idxmax().strftime('%Y'))\n",
    "print('Ano com menor faturamento'.center(50, ' '))\n",
    "print(s.idxmin().strftime('%Y'))"
   ]
  },
  {
   "cell_type": "markdown",
   "id": "eb2a5aeb",
   "metadata": {},
   "source": [
    "### Exercício 39\n",
    "A função drop() do pandas permite remover linhas ou colunas, retornando um novo objeto excluindo-se os itens especificados.Remova as seguintes linhas do objeto Series abaixo: a) linha 'Year 1'; b) seguidamente as linhas 'Year 2' e 'Year 4'."
   ]
  },
  {
   "cell_type": "code",
   "execution_count": 101,
   "id": "e03a625a",
   "metadata": {},
   "outputs": [],
   "source": [
    "series = pd.Series(\n",
    "    np.random.randint(100, 150, 4),\n",
    "    index = ['Year 1', 'Year 2', 'Year 3', 'Year 4'])\n"
   ]
  },
  {
   "cell_type": "code",
   "execution_count": 102,
   "id": "87cc8bcd",
   "metadata": {},
   "outputs": [
    {
     "data": {
      "text/plain": [
       "Year 1    139\n",
       "Year 2    138\n",
       "Year 3    104\n",
       "Year 4    148\n",
       "dtype: int32"
      ]
     },
     "execution_count": 102,
     "metadata": {},
     "output_type": "execute_result"
    }
   ],
   "source": [
    "series"
   ]
  },
  {
   "cell_type": "code",
   "execution_count": 103,
   "id": "c23a8bd4",
   "metadata": {},
   "outputs": [],
   "source": [
    "series.drop(index = 'Year 1', inplace = True)"
   ]
  },
  {
   "cell_type": "code",
   "execution_count": 104,
   "id": "d771903a",
   "metadata": {},
   "outputs": [
    {
     "data": {
      "text/plain": [
       "Year 2    138\n",
       "Year 3    104\n",
       "Year 4    148\n",
       "dtype: int32"
      ]
     },
     "execution_count": 104,
     "metadata": {},
     "output_type": "execute_result"
    }
   ],
   "source": [
    "series"
   ]
  },
  {
   "cell_type": "code",
   "execution_count": 105,
   "id": "adcb4466",
   "metadata": {},
   "outputs": [],
   "source": [
    "series.drop(index = ['Year 2', 'Year 4'], inplace = True)"
   ]
  },
  {
   "cell_type": "code",
   "execution_count": 106,
   "id": "340783a4",
   "metadata": {},
   "outputs": [
    {
     "data": {
      "text/plain": [
       "Year 3    104\n",
       "dtype: int32"
      ]
     },
     "execution_count": 106,
     "metadata": {},
     "output_type": "execute_result"
    }
   ],
   "source": [
    "series"
   ]
  },
  {
   "attachments": {
    "2021-01-13_00-04-45-62d743a31ea534cd0f945b0a208c5e94.png": {
     "image/png": "[encoded data removed]"
    }
   },
   "cell_type": "markdown",
   "id": "36d83fd9",
   "metadata": {},
   "source": [
    "### Exercício 40\n",
    "Com base no DataFrame abaixo, faça: \n",
    "a) delete as linha 'k' e 'j'; \n",
    "b) delete as colunas 'A' e 'D'.\n",
    "\n",
    "![2021-01-13_00-04-45-62d743a31ea534cd0f945b0a208c5e94.png](attachment:2021-01-13_00-04-45-62d743a31ea534cd0f945b0a208c5e94.png)\n",
    "\n",
    "Para construir os dados use:\n",
    "\n",
    "import numpy as np\n",
    "np.random.seed(77)\n",
    "data = np.random.randint(1,50,16).reshape((4,4))"
   ]
  },
  {
   "cell_type": "code",
   "execution_count": 107,
   "id": "316e2364",
   "metadata": {},
   "outputs": [],
   "source": [
    "np.random.seed(77)\n",
    "data = np.random.randint(1, 50, 16).reshape((4,4))\n",
    "df = pd.DataFrame(data, \n",
    "                 columns = ['A', 'B', 'C', 'D'],\n",
    "                 index = ['I', 'J', 'K', 'W'])"
   ]
  },
  {
   "cell_type": "code",
   "execution_count": 108,
   "id": "bf716c7e",
   "metadata": {},
   "outputs": [
    {
     "data": {
      "text/html": [
       "<div>\n",
       "<style scoped>\n",
       "    .dataframe tbody tr th:only-of-type {\n",
       "        vertical-align: middle;\n",
       "    }\n",
       "\n",
       "    .dataframe tbody tr th {\n",
       "        vertical-align: top;\n",
       "    }\n",
       "\n",
       "    .dataframe thead th {\n",
       "        text-align: right;\n",
       "    }\n",
       "</style>\n",
       "<table border=\"1\" class=\"dataframe\">\n",
       "  <thead>\n",
       "    <tr style=\"text-align: right;\">\n",
       "      <th></th>\n",
       "      <th>A</th>\n",
       "      <th>B</th>\n",
       "      <th>C</th>\n",
       "      <th>D</th>\n",
       "    </tr>\n",
       "  </thead>\n",
       "  <tbody>\n",
       "    <tr>\n",
       "      <th>I</th>\n",
       "      <td>24</td>\n",
       "      <td>32</td>\n",
       "      <td>21</td>\n",
       "      <td>21</td>\n",
       "    </tr>\n",
       "    <tr>\n",
       "      <th>J</th>\n",
       "      <td>44</td>\n",
       "      <td>38</td>\n",
       "      <td>25</td>\n",
       "      <td>32</td>\n",
       "    </tr>\n",
       "    <tr>\n",
       "      <th>K</th>\n",
       "      <td>33</td>\n",
       "      <td>40</td>\n",
       "      <td>45</td>\n",
       "      <td>20</td>\n",
       "    </tr>\n",
       "    <tr>\n",
       "      <th>W</th>\n",
       "      <td>33</td>\n",
       "      <td>37</td>\n",
       "      <td>37</td>\n",
       "      <td>48</td>\n",
       "    </tr>\n",
       "  </tbody>\n",
       "</table>\n",
       "</div>"
      ],
      "text/plain": [
       "    A   B   C   D\n",
       "I  24  32  21  21\n",
       "J  44  38  25  32\n",
       "K  33  40  45  20\n",
       "W  33  37  37  48"
      ]
     },
     "execution_count": 108,
     "metadata": {},
     "output_type": "execute_result"
    }
   ],
   "source": [
    "df"
   ]
  },
  {
   "cell_type": "code",
   "execution_count": 110,
   "id": "8cd2f3af",
   "metadata": {},
   "outputs": [],
   "source": [
    "df.drop(['K', 'J'], inplace = True)"
   ]
  },
  {
   "cell_type": "code",
   "execution_count": 111,
   "id": "6494469b",
   "metadata": {},
   "outputs": [
    {
     "data": {
      "text/html": [
       "<div>\n",
       "<style scoped>\n",
       "    .dataframe tbody tr th:only-of-type {\n",
       "        vertical-align: middle;\n",
       "    }\n",
       "\n",
       "    .dataframe tbody tr th {\n",
       "        vertical-align: top;\n",
       "    }\n",
       "\n",
       "    .dataframe thead th {\n",
       "        text-align: right;\n",
       "    }\n",
       "</style>\n",
       "<table border=\"1\" class=\"dataframe\">\n",
       "  <thead>\n",
       "    <tr style=\"text-align: right;\">\n",
       "      <th></th>\n",
       "      <th>A</th>\n",
       "      <th>B</th>\n",
       "      <th>C</th>\n",
       "      <th>D</th>\n",
       "    </tr>\n",
       "  </thead>\n",
       "  <tbody>\n",
       "    <tr>\n",
       "      <th>I</th>\n",
       "      <td>24</td>\n",
       "      <td>32</td>\n",
       "      <td>21</td>\n",
       "      <td>21</td>\n",
       "    </tr>\n",
       "    <tr>\n",
       "      <th>W</th>\n",
       "      <td>33</td>\n",
       "      <td>37</td>\n",
       "      <td>37</td>\n",
       "      <td>48</td>\n",
       "    </tr>\n",
       "  </tbody>\n",
       "</table>\n",
       "</div>"
      ],
      "text/plain": [
       "    A   B   C   D\n",
       "I  24  32  21  21\n",
       "W  33  37  37  48"
      ]
     },
     "execution_count": 111,
     "metadata": {},
     "output_type": "execute_result"
    }
   ],
   "source": [
    "df"
   ]
  },
  {
   "cell_type": "code",
   "execution_count": 112,
   "id": "d3c18c64",
   "metadata": {},
   "outputs": [],
   "source": [
    "df.drop(['A', 'D'], axis = 1, inplace = True)"
   ]
  },
  {
   "cell_type": "code",
   "execution_count": 113,
   "id": "526078d9",
   "metadata": {},
   "outputs": [
    {
     "data": {
      "text/html": [
       "<div>\n",
       "<style scoped>\n",
       "    .dataframe tbody tr th:only-of-type {\n",
       "        vertical-align: middle;\n",
       "    }\n",
       "\n",
       "    .dataframe tbody tr th {\n",
       "        vertical-align: top;\n",
       "    }\n",
       "\n",
       "    .dataframe thead th {\n",
       "        text-align: right;\n",
       "    }\n",
       "</style>\n",
       "<table border=\"1\" class=\"dataframe\">\n",
       "  <thead>\n",
       "    <tr style=\"text-align: right;\">\n",
       "      <th></th>\n",
       "      <th>B</th>\n",
       "      <th>C</th>\n",
       "    </tr>\n",
       "  </thead>\n",
       "  <tbody>\n",
       "    <tr>\n",
       "      <th>I</th>\n",
       "      <td>32</td>\n",
       "      <td>21</td>\n",
       "    </tr>\n",
       "    <tr>\n",
       "      <th>W</th>\n",
       "      <td>37</td>\n",
       "      <td>37</td>\n",
       "    </tr>\n",
       "  </tbody>\n",
       "</table>\n",
       "</div>"
      ],
      "text/plain": [
       "    B   C\n",
       "I  32  21\n",
       "W  37  37"
      ]
     },
     "execution_count": 113,
     "metadata": {},
     "output_type": "execute_result"
    }
   ],
   "source": [
    "df"
   ]
  },
  {
   "attachments": {
    "2021-05-18_23-03-12-49306cfd301c5eab6cf42992b204e82d.png": {
     "image/png": "[encoded data removed]"
    }
   },
   "cell_type": "markdown",
   "id": "253eaa26",
   "metadata": {},
   "source": [
    "Exercício 41\n",
    "Use a função pd.date_range() para criar o índice do DataFrame a seguir (esta função permite gerar uma sequência de data - retornando um objeto DatetimeIndex, com diversas aplicações em análise de dados financeiros). Como argumentos da função especifique:\n",
    "\n",
    "start = '2020-12-01'\n",
    "\n",
    "periods = 31\n",
    "\n",
    "freq = 'D'\n",
    "\n",
    "Em seguida crie o DataFrame abaixo, sendo que os valores seguem uma distribuição normal com média 30, desvio padrão 0.5, com 31 elementos (Use a biblioteca NumPy). Gere uma visualização para os dados (Use a função df.plot()).\n",
    "\n",
    "Use np.random.seed(21) para gerar números aleatórios iguais ao deste exercício.\n",
    "\n",
    "![2021-05-18_23-03-12-49306cfd301c5eab6cf42992b204e82d.png](attachment:2021-05-18_23-03-12-49306cfd301c5eab6cf42992b204e82d.png)\n"
   ]
  },
  {
   "cell_type": "code",
   "execution_count": 114,
   "id": "c713da01",
   "metadata": {},
   "outputs": [],
   "source": [
    "np.random.seed(21)"
   ]
  },
  {
   "cell_type": "code",
   "execution_count": 115,
   "id": "577d7acb",
   "metadata": {},
   "outputs": [],
   "source": [
    "frequencia = pd.date_range(start= '2020-12-01', periods = 31, freq = 'D')\n",
    "valores = np.random.normal(30, 0.5, 31)\n",
    "df = pd.DataFrame(data = valores, index = frequencia, columns = ['Série'])"
   ]
  },
  {
   "cell_type": "code",
   "execution_count": 117,
   "id": "ea2e00e3",
   "metadata": {},
   "outputs": [
    {
     "data": {
      "text/html": [
       "<div>\n",
       "<style scoped>\n",
       "    .dataframe tbody tr th:only-of-type {\n",
       "        vertical-align: middle;\n",
       "    }\n",
       "\n",
       "    .dataframe tbody tr th {\n",
       "        vertical-align: top;\n",
       "    }\n",
       "\n",
       "    .dataframe thead th {\n",
       "        text-align: right;\n",
       "    }\n",
       "</style>\n",
       "<table border=\"1\" class=\"dataframe\">\n",
       "  <thead>\n",
       "    <tr style=\"text-align: right;\">\n",
       "      <th></th>\n",
       "      <th>Série</th>\n",
       "    </tr>\n",
       "  </thead>\n",
       "  <tbody>\n",
       "    <tr>\n",
       "      <th>2020-12-01</th>\n",
       "      <td>29.974018</td>\n",
       "    </tr>\n",
       "    <tr>\n",
       "      <th>2020-12-02</th>\n",
       "      <td>29.944402</td>\n",
       "    </tr>\n",
       "    <tr>\n",
       "      <th>2020-12-03</th>\n",
       "      <td>30.520898</td>\n",
       "    </tr>\n",
       "    <tr>\n",
       "      <th>2020-12-04</th>\n",
       "      <td>29.371630</td>\n",
       "    </tr>\n",
       "    <tr>\n",
       "      <th>2020-12-05</th>\n",
       "      <td>30.372694</td>\n",
       "    </tr>\n",
       "  </tbody>\n",
       "</table>\n",
       "</div>"
      ],
      "text/plain": [
       "                Série\n",
       "2020-12-01  29.974018\n",
       "2020-12-02  29.944402\n",
       "2020-12-03  30.520898\n",
       "2020-12-04  29.371630\n",
       "2020-12-05  30.372694"
      ]
     },
     "execution_count": 117,
     "metadata": {},
     "output_type": "execute_result"
    }
   ],
   "source": [
    "df.head()"
   ]
  },
  {
   "cell_type": "code",
   "execution_count": 119,
   "id": "1e6fe2f1",
   "metadata": {},
   "outputs": [
    {
     "data": {
      "image/png": "[encoded data removed]",
      "text/plain": [
       "<Figure size 432x288 with 1 Axes>"
      ]
     },
     "metadata": {
      "needs_background": "light"
     },
     "output_type": "display_data"
    }
   ],
   "source": [
    "df.plot(color = 'k');"
   ]
  },
  {
   "cell_type": "markdown",
   "id": "65bcc558",
   "metadata": {},
   "source": [
    "### Exercício 42\n",
    "Crie um date_range() com os meses de 2021 e armazene em uma variável. Mude o argumento freq para 'M'."
   ]
  },
  {
   "cell_type": "code",
   "execution_count": 121,
   "id": "f8fee4b0",
   "metadata": {},
   "outputs": [],
   "source": [
    "meses = pd.date_range(start = '1-1-2021', periods = 12, freq = 'M')"
   ]
  },
  {
   "cell_type": "code",
   "execution_count": 122,
   "id": "0cad4a79",
   "metadata": {},
   "outputs": [
    {
     "data": {
      "text/plain": [
       "DatetimeIndex(['2021-01-31', '2021-02-28', '2021-03-31', '2021-04-30',\n",
       "               '2021-05-31', '2021-06-30', '2021-07-31', '2021-08-31',\n",
       "               '2021-09-30', '2021-10-31', '2021-11-30', '2021-12-31'],\n",
       "              dtype='datetime64[ns]', freq='M')"
      ]
     },
     "execution_count": 122,
     "metadata": {},
     "output_type": "execute_result"
    }
   ],
   "source": [
    "meses"
   ]
  },
  {
   "cell_type": "markdown",
   "id": "0c5e5f81",
   "metadata": {},
   "source": [
    "### Exercício 43\n",
    "Crie um date_range() com os anos de 2010 a 2040 e armazene em uma variável. Mude o argumento freq para 'A'."
   ]
  },
  {
   "cell_type": "code",
   "execution_count": 123,
   "id": "75804046",
   "metadata": {},
   "outputs": [
    {
     "name": "stderr",
     "output_type": "stream",
     "text": [
      "C:\\Users\\webds\\AppData\\Local\\Temp/ipykernel_6548/1731985075.py:1: FutureWarning: The pandas.datetime class is deprecated and will be removed from pandas in a future version. Import from datetime module instead.\n",
      "  from pandas import datetime\n"
     ]
    }
   ],
   "source": [
    "from pandas import datetime\n",
    "import pandas as pd \n",
    "inicio = datetime(2010, 1, 1)\n",
    "fim = datetime(2040, 12, 31)\n",
    "anos = pd.date_range(start = inicio, end = fim, freq = 'A')"
   ]
  },
  {
   "cell_type": "code",
   "execution_count": 124,
   "id": "4cc6f142",
   "metadata": {},
   "outputs": [
    {
     "data": {
      "text/plain": [
       "DatetimeIndex(['2010-12-31', '2011-12-31', '2012-12-31', '2013-12-31',\n",
       "               '2014-12-31', '2015-12-31', '2016-12-31', '2017-12-31',\n",
       "               '2018-12-31', '2019-12-31', '2020-12-31', '2021-12-31',\n",
       "               '2022-12-31', '2023-12-31', '2024-12-31', '2025-12-31',\n",
       "               '2026-12-31', '2027-12-31', '2028-12-31', '2029-12-31',\n",
       "               '2030-12-31', '2031-12-31', '2032-12-31', '2033-12-31',\n",
       "               '2034-12-31', '2035-12-31', '2036-12-31', '2037-12-31',\n",
       "               '2038-12-31', '2039-12-31', '2040-12-31'],\n",
       "              dtype='datetime64[ns]', freq='A-DEC')"
      ]
     },
     "execution_count": 124,
     "metadata": {},
     "output_type": "execute_result"
    }
   ],
   "source": [
    "anos"
   ]
  },
  {
   "cell_type": "markdown",
   "id": "09e6eacb",
   "metadata": {},
   "source": [
    "### Resolução 2:"
   ]
  },
  {
   "cell_type": "code",
   "execution_count": 125,
   "id": "dab7879b",
   "metadata": {},
   "outputs": [],
   "source": [
    "anos = pd.date_range(start = '2020-1-1', periods = 31, freq = 'A')"
   ]
  },
  {
   "cell_type": "code",
   "execution_count": 126,
   "id": "877dabf0",
   "metadata": {},
   "outputs": [
    {
     "data": {
      "text/plain": [
       "DatetimeIndex(['2020-12-31', '2021-12-31', '2022-12-31', '2023-12-31',\n",
       "               '2024-12-31', '2025-12-31', '2026-12-31', '2027-12-31',\n",
       "               '2028-12-31', '2029-12-31', '2030-12-31', '2031-12-31',\n",
       "               '2032-12-31', '2033-12-31', '2034-12-31', '2035-12-31',\n",
       "               '2036-12-31', '2037-12-31', '2038-12-31', '2039-12-31',\n",
       "               '2040-12-31', '2041-12-31', '2042-12-31', '2043-12-31',\n",
       "               '2044-12-31', '2045-12-31', '2046-12-31', '2047-12-31',\n",
       "               '2048-12-31', '2049-12-31', '2050-12-31'],\n",
       "              dtype='datetime64[ns]', freq='A-DEC')"
      ]
     },
     "execution_count": 126,
     "metadata": {},
     "output_type": "execute_result"
    }
   ],
   "source": [
    "anos"
   ]
  },
  {
   "cell_type": "markdown",
   "id": "d9342814",
   "metadata": {},
   "source": [
    "### Exercício 44\n",
    "Construa um DatetimeIndex para todos os dias do mês de setembro de 2021 (ano-mês-dia). Seguidamente construa uma Series com o date_range criado.\n",
    "\n",
    "Resultado esperado:\n",
    "\n",
    "0    2021-09-01\n",
    "1    2021-09-02\n",
    "2    2021-09-03\n",
    "3    2021-09-04\n",
    "4    2021-09-05\n",
    "5    2021-09-06\n",
    "6    2021-09-07\n",
    "7    2021-09-08\n",
    "8    2021-09-09\n",
    "9    2021-09-10\n",
    "10   2021-09-11\n",
    "11   2021-09-12\n",
    "12   2021-09-13\n",
    "13   2021-09-14\n",
    "14   2021-09-15\n",
    "15   2021-09-16\n",
    "16   2021-09-17\n",
    "17   2021-09-18\n",
    "18   2021-09-19\n",
    "19   2021-09-20\n",
    "20   2021-09-21\n",
    "21   2021-09-22\n",
    "22   2021-09-23\n",
    "23   2021-09-24\n",
    "24   2021-09-25\n",
    "25   2021-09-26\n",
    "26   2021-09-27\n",
    "27   2021-09-28\n",
    "28   2021-09-29\n",
    "dtype: datetime64[ns]"
   ]
  },
  {
   "cell_type": "code",
   "execution_count": 128,
   "id": "a21f6bbe",
   "metadata": {},
   "outputs": [],
   "source": [
    "september2021 = pd.date_range(start = '2021-09-1', periods= 29)\n",
    "september2021 = pd.Series(september2021)"
   ]
  },
  {
   "cell_type": "code",
   "execution_count": 129,
   "id": "bf525435",
   "metadata": {},
   "outputs": [
    {
     "data": {
      "text/plain": [
       "0    2021-09-01\n",
       "1    2021-09-02\n",
       "2    2021-09-03\n",
       "3    2021-09-04\n",
       "4    2021-09-05\n",
       "5    2021-09-06\n",
       "6    2021-09-07\n",
       "7    2021-09-08\n",
       "8    2021-09-09\n",
       "9    2021-09-10\n",
       "10   2021-09-11\n",
       "11   2021-09-12\n",
       "12   2021-09-13\n",
       "13   2021-09-14\n",
       "14   2021-09-15\n",
       "15   2021-09-16\n",
       "16   2021-09-17\n",
       "17   2021-09-18\n",
       "18   2021-09-19\n",
       "19   2021-09-20\n",
       "20   2021-09-21\n",
       "21   2021-09-22\n",
       "22   2021-09-23\n",
       "23   2021-09-24\n",
       "24   2021-09-25\n",
       "25   2021-09-26\n",
       "26   2021-09-27\n",
       "27   2021-09-28\n",
       "28   2021-09-29\n",
       "dtype: datetime64[ns]"
      ]
     },
     "execution_count": 129,
     "metadata": {},
     "output_type": "execute_result"
    }
   ],
   "source": [
    "september2021"
   ]
  },
  {
   "cell_type": "code",
   "execution_count": null,
   "id": "4a471768",
   "metadata": {},
   "outputs": [],
   "source": [
    "### Exercício 45\n",
    "Construa um DatetimeIndex para todos os trimestres de 2021. Seguidamente construa uma Series com o date_range criado."
   ]
  },
  {
   "cell_type": "code",
   "execution_count": 130,
   "id": "5b8b2a1a",
   "metadata": {},
   "outputs": [],
   "source": [
    "trimestres2021 = pd.date_range(start = '1-1-2021', periods = 4, freq = '3M')\n",
    "trimestres2021 = pd.Series(trimestres2021)"
   ]
  },
  {
   "cell_type": "code",
   "execution_count": 131,
   "id": "473f5e33",
   "metadata": {},
   "outputs": [
    {
     "data": {
      "text/plain": [
       "0   2021-01-31\n",
       "1   2021-04-30\n",
       "2   2021-07-31\n",
       "3   2021-10-31\n",
       "dtype: datetime64[ns]"
      ]
     },
     "execution_count": 131,
     "metadata": {},
     "output_type": "execute_result"
    }
   ],
   "source": [
    "trimestres2021"
   ]
  },
  {
   "cell_type": "markdown",
   "id": "240b83f6",
   "metadata": {},
   "source": [
    "### Exercício 46\n",
    "Construa um date_range() para o dia 31 de dezembro de 2030, com intervalo de 1 hora."
   ]
  },
  {
   "cell_type": "code",
   "execution_count": 132,
   "id": "f8a75c77",
   "metadata": {},
   "outputs": [],
   "source": [
    "horas = pd.date_range(start = '2030-12-31', periods = 24, freq = 'H')"
   ]
  },
  {
   "cell_type": "code",
   "execution_count": 133,
   "id": "f35ba5b4",
   "metadata": {},
   "outputs": [
    {
     "data": {
      "text/plain": [
       "DatetimeIndex(['2030-12-31 00:00:00', '2030-12-31 01:00:00',\n",
       "               '2030-12-31 02:00:00', '2030-12-31 03:00:00',\n",
       "               '2030-12-31 04:00:00', '2030-12-31 05:00:00',\n",
       "               '2030-12-31 06:00:00', '2030-12-31 07:00:00',\n",
       "               '2030-12-31 08:00:00', '2030-12-31 09:00:00',\n",
       "               '2030-12-31 10:00:00', '2030-12-31 11:00:00',\n",
       "               '2030-12-31 12:00:00', '2030-12-31 13:00:00',\n",
       "               '2030-12-31 14:00:00', '2030-12-31 15:00:00',\n",
       "               '2030-12-31 16:00:00', '2030-12-31 17:00:00',\n",
       "               '2030-12-31 18:00:00', '2030-12-31 19:00:00',\n",
       "               '2030-12-31 20:00:00', '2030-12-31 21:00:00',\n",
       "               '2030-12-31 22:00:00', '2030-12-31 23:00:00'],\n",
       "              dtype='datetime64[ns]', freq='H')"
      ]
     },
     "execution_count": 133,
     "metadata": {},
     "output_type": "execute_result"
    }
   ],
   "source": [
    "horas"
   ]
  },
  {
   "cell_type": "code",
   "execution_count": null,
   "id": "9c2d5c85",
   "metadata": {},
   "outputs": [],
   "source": [
    "### Exercício 47\n",
    "Construa um date_range() dos dias de setembro a dezembro de 2020, seguindo o calendário de negócios, excluindo-se sábado e \n",
    "domingo. Use a função bdate_range()."
   ]
  },
  {
   "cell_type": "code",
   "execution_count": 134,
   "id": "eee4ccdc",
   "metadata": {},
   "outputs": [],
   "source": [
    "meses2 = pd.bdate_range(start = '2020-9-1', end = '2020-12-31')"
   ]
  },
  {
   "cell_type": "code",
   "execution_count": 135,
   "id": "0d73a87c",
   "metadata": {},
   "outputs": [
    {
     "data": {
      "text/plain": [
       "DatetimeIndex(['2020-09-01', '2020-09-02', '2020-09-03', '2020-09-04',\n",
       "               '2020-09-07', '2020-09-08', '2020-09-09', '2020-09-10',\n",
       "               '2020-09-11', '2020-09-14', '2020-09-15', '2020-09-16',\n",
       "               '2020-09-17', '2020-09-18', '2020-09-21', '2020-09-22',\n",
       "               '2020-09-23', '2020-09-24', '2020-09-25', '2020-09-28',\n",
       "               '2020-09-29', '2020-09-30', '2020-10-01', '2020-10-02',\n",
       "               '2020-10-05', '2020-10-06', '2020-10-07', '2020-10-08',\n",
       "               '2020-10-09', '2020-10-12', '2020-10-13', '2020-10-14',\n",
       "               '2020-10-15', '2020-10-16', '2020-10-19', '2020-10-20',\n",
       "               '2020-10-21', '2020-10-22', '2020-10-23', '2020-10-26',\n",
       "               '2020-10-27', '2020-10-28', '2020-10-29', '2020-10-30',\n",
       "               '2020-11-02', '2020-11-03', '2020-11-04', '2020-11-05',\n",
       "               '2020-11-06', '2020-11-09', '2020-11-10', '2020-11-11',\n",
       "               '2020-11-12', '2020-11-13', '2020-11-16', '2020-11-17',\n",
       "               '2020-11-18', '2020-11-19', '2020-11-20', '2020-11-23',\n",
       "               '2020-11-24', '2020-11-25', '2020-11-26', '2020-11-27',\n",
       "               '2020-11-30', '2020-12-01', '2020-12-02', '2020-12-03',\n",
       "               '2020-12-04', '2020-12-07', '2020-12-08', '2020-12-09',\n",
       "               '2020-12-10', '2020-12-11', '2020-12-14', '2020-12-15',\n",
       "               '2020-12-16', '2020-12-17', '2020-12-18', '2020-12-21',\n",
       "               '2020-12-22', '2020-12-23', '2020-12-24', '2020-12-25',\n",
       "               '2020-12-28', '2020-12-29', '2020-12-30', '2020-12-31'],\n",
       "              dtype='datetime64[ns]', freq='B')"
      ]
     },
     "execution_count": 135,
     "metadata": {},
     "output_type": "execute_result"
    }
   ],
   "source": [
    "meses2"
   ]
  },
  {
   "cell_type": "markdown",
   "id": "73e758c8",
   "metadata": {},
   "source": [
    "### Exercício 48\n",
    "Construa o date_range() com as quinzenas do primeiro semestre de 2021."
   ]
  },
  {
   "cell_type": "code",
   "execution_count": 136,
   "id": "f136ec54",
   "metadata": {},
   "outputs": [],
   "source": [
    "data = pd.date_range(start = '2021-1-1', end = '2021-6-30', freq = '15D')"
   ]
  },
  {
   "cell_type": "code",
   "execution_count": 137,
   "id": "f39e0534",
   "metadata": {},
   "outputs": [
    {
     "data": {
      "text/plain": [
       "DatetimeIndex(['2021-01-01', '2021-01-16', '2021-01-31', '2021-02-15',\n",
       "               '2021-03-02', '2021-03-17', '2021-04-01', '2021-04-16',\n",
       "               '2021-05-01', '2021-05-16', '2021-05-31', '2021-06-15',\n",
       "               '2021-06-30'],\n",
       "              dtype='datetime64[ns]', freq='15D')"
      ]
     },
     "execution_count": 137,
     "metadata": {},
     "output_type": "execute_result"
    }
   ],
   "source": [
    "data"
   ]
  },
  {
   "cell_type": "code",
   "execution_count": null,
   "id": "b252318d",
   "metadata": {},
   "outputs": [],
   "source": [
    "### Exercício 49\n",
    "Construa o DataFrame abaixo.\n",
    "\n",
    "        Data  Dia do Ano  Mês do Ano\n",
    "0  2021-01-01           1           1\n",
    "1  2021-01-16          16           1\n",
    "2  2021-01-31          31           1\n",
    "3  2021-02-15          46           2\n",
    "4  2021-03-02          61           3\n",
    "5  2021-03-17          76           3\n",
    "6  2021-04-01          91           4\n",
    "7  2021-04-16         106           4\n",
    "8  2021-05-01         121           5\n",
    "9  2021-05-16         136           5\n",
    "10 2021-05-31         151           5\n",
    "11 2021-06-15         166           6\n",
    "12 2021-06-30         181           6\n",
    "13 2021-07-15         196           7\n",
    "14 2021-07-30         211           7\n",
    "15 2021-08-14         226           8\n",
    "16 2021-08-29         241           8\n",
    "17 2021-09-13         256           9\n",
    "18 2021-09-28         271           9\n",
    "19 2021-10-13         286          10\n",
    "20 2021-10-28         301          10\n",
    "21 2021-11-12         316          11\n",
    "22 2021-11-27         331          11\n",
    "23 2021-12-12         346          12\n",
    "24 2021-12-27         361          12"
   ]
  },
  {
   "cell_type": "code",
   "execution_count": 139,
   "id": "45a71d56",
   "metadata": {},
   "outputs": [],
   "source": [
    "data = pd.date_range(start = '2021-1-1', end = '2021-12-31', freq = '15D')\n",
    "df = pd.DataFrame(data, columns = ['Data'])\n",
    "df['Dia do ano'] = data.dayofyear\n",
    "df['Mês do ano'] = data.month"
   ]
  },
  {
   "cell_type": "code",
   "execution_count": 140,
   "id": "e8b054f0",
   "metadata": {},
   "outputs": [
    {
     "data": {
      "text/html": [
       "<div>\n",
       "<style scoped>\n",
       "    .dataframe tbody tr th:only-of-type {\n",
       "        vertical-align: middle;\n",
       "    }\n",
       "\n",
       "    .dataframe tbody tr th {\n",
       "        vertical-align: top;\n",
       "    }\n",
       "\n",
       "    .dataframe thead th {\n",
       "        text-align: right;\n",
       "    }\n",
       "</style>\n",
       "<table border=\"1\" class=\"dataframe\">\n",
       "  <thead>\n",
       "    <tr style=\"text-align: right;\">\n",
       "      <th></th>\n",
       "      <th>Data</th>\n",
       "      <th>Dia do ano</th>\n",
       "      <th>Mês do ano</th>\n",
       "    </tr>\n",
       "  </thead>\n",
       "  <tbody>\n",
       "    <tr>\n",
       "      <th>0</th>\n",
       "      <td>2021-01-01</td>\n",
       "      <td>1</td>\n",
       "      <td>1</td>\n",
       "    </tr>\n",
       "    <tr>\n",
       "      <th>1</th>\n",
       "      <td>2021-01-16</td>\n",
       "      <td>16</td>\n",
       "      <td>1</td>\n",
       "    </tr>\n",
       "    <tr>\n",
       "      <th>2</th>\n",
       "      <td>2021-01-31</td>\n",
       "      <td>31</td>\n",
       "      <td>1</td>\n",
       "    </tr>\n",
       "    <tr>\n",
       "      <th>3</th>\n",
       "      <td>2021-02-15</td>\n",
       "      <td>46</td>\n",
       "      <td>2</td>\n",
       "    </tr>\n",
       "    <tr>\n",
       "      <th>4</th>\n",
       "      <td>2021-03-02</td>\n",
       "      <td>61</td>\n",
       "      <td>3</td>\n",
       "    </tr>\n",
       "    <tr>\n",
       "      <th>5</th>\n",
       "      <td>2021-03-17</td>\n",
       "      <td>76</td>\n",
       "      <td>3</td>\n",
       "    </tr>\n",
       "    <tr>\n",
       "      <th>6</th>\n",
       "      <td>2021-04-01</td>\n",
       "      <td>91</td>\n",
       "      <td>4</td>\n",
       "    </tr>\n",
       "    <tr>\n",
       "      <th>7</th>\n",
       "      <td>2021-04-16</td>\n",
       "      <td>106</td>\n",
       "      <td>4</td>\n",
       "    </tr>\n",
       "    <tr>\n",
       "      <th>8</th>\n",
       "      <td>2021-05-01</td>\n",
       "      <td>121</td>\n",
       "      <td>5</td>\n",
       "    </tr>\n",
       "    <tr>\n",
       "      <th>9</th>\n",
       "      <td>2021-05-16</td>\n",
       "      <td>136</td>\n",
       "      <td>5</td>\n",
       "    </tr>\n",
       "    <tr>\n",
       "      <th>10</th>\n",
       "      <td>2021-05-31</td>\n",
       "      <td>151</td>\n",
       "      <td>5</td>\n",
       "    </tr>\n",
       "    <tr>\n",
       "      <th>11</th>\n",
       "      <td>2021-06-15</td>\n",
       "      <td>166</td>\n",
       "      <td>6</td>\n",
       "    </tr>\n",
       "    <tr>\n",
       "      <th>12</th>\n",
       "      <td>2021-06-30</td>\n",
       "      <td>181</td>\n",
       "      <td>6</td>\n",
       "    </tr>\n",
       "    <tr>\n",
       "      <th>13</th>\n",
       "      <td>2021-07-15</td>\n",
       "      <td>196</td>\n",
       "      <td>7</td>\n",
       "    </tr>\n",
       "    <tr>\n",
       "      <th>14</th>\n",
       "      <td>2021-07-30</td>\n",
       "      <td>211</td>\n",
       "      <td>7</td>\n",
       "    </tr>\n",
       "    <tr>\n",
       "      <th>15</th>\n",
       "      <td>2021-08-14</td>\n",
       "      <td>226</td>\n",
       "      <td>8</td>\n",
       "    </tr>\n",
       "    <tr>\n",
       "      <th>16</th>\n",
       "      <td>2021-08-29</td>\n",
       "      <td>241</td>\n",
       "      <td>8</td>\n",
       "    </tr>\n",
       "    <tr>\n",
       "      <th>17</th>\n",
       "      <td>2021-09-13</td>\n",
       "      <td>256</td>\n",
       "      <td>9</td>\n",
       "    </tr>\n",
       "    <tr>\n",
       "      <th>18</th>\n",
       "      <td>2021-09-28</td>\n",
       "      <td>271</td>\n",
       "      <td>9</td>\n",
       "    </tr>\n",
       "    <tr>\n",
       "      <th>19</th>\n",
       "      <td>2021-10-13</td>\n",
       "      <td>286</td>\n",
       "      <td>10</td>\n",
       "    </tr>\n",
       "    <tr>\n",
       "      <th>20</th>\n",
       "      <td>2021-10-28</td>\n",
       "      <td>301</td>\n",
       "      <td>10</td>\n",
       "    </tr>\n",
       "    <tr>\n",
       "      <th>21</th>\n",
       "      <td>2021-11-12</td>\n",
       "      <td>316</td>\n",
       "      <td>11</td>\n",
       "    </tr>\n",
       "    <tr>\n",
       "      <th>22</th>\n",
       "      <td>2021-11-27</td>\n",
       "      <td>331</td>\n",
       "      <td>11</td>\n",
       "    </tr>\n",
       "    <tr>\n",
       "      <th>23</th>\n",
       "      <td>2021-12-12</td>\n",
       "      <td>346</td>\n",
       "      <td>12</td>\n",
       "    </tr>\n",
       "    <tr>\n",
       "      <th>24</th>\n",
       "      <td>2021-12-27</td>\n",
       "      <td>361</td>\n",
       "      <td>12</td>\n",
       "    </tr>\n",
       "  </tbody>\n",
       "</table>\n",
       "</div>"
      ],
      "text/plain": [
       "         Data  Dia do ano  Mês do ano\n",
       "0  2021-01-01           1           1\n",
       "1  2021-01-16          16           1\n",
       "2  2021-01-31          31           1\n",
       "3  2021-02-15          46           2\n",
       "4  2021-03-02          61           3\n",
       "5  2021-03-17          76           3\n",
       "6  2021-04-01          91           4\n",
       "7  2021-04-16         106           4\n",
       "8  2021-05-01         121           5\n",
       "9  2021-05-16         136           5\n",
       "10 2021-05-31         151           5\n",
       "11 2021-06-15         166           6\n",
       "12 2021-06-30         181           6\n",
       "13 2021-07-15         196           7\n",
       "14 2021-07-30         211           7\n",
       "15 2021-08-14         226           8\n",
       "16 2021-08-29         241           8\n",
       "17 2021-09-13         256           9\n",
       "18 2021-09-28         271           9\n",
       "19 2021-10-13         286          10\n",
       "20 2021-10-28         301          10\n",
       "21 2021-11-12         316          11\n",
       "22 2021-11-27         331          11\n",
       "23 2021-12-12         346          12\n",
       "24 2021-12-27         361          12"
      ]
     },
     "execution_count": 140,
     "metadata": {},
     "output_type": "execute_result"
    }
   ],
   "source": [
    "df"
   ]
  },
  {
   "cell_type": "markdown",
   "id": "9e33ab50",
   "metadata": {},
   "source": [
    "### Exercício 50\n",
    "Construa o DataFrame abaixo, use o dicionário 'dados' e a função date_range() para construir o índice.\n",
    "\n",
    "import numpy as np\n",
    "n = 1096 #total de observações\n",
    "dados = {\n",
    "    'A': np.random.randint(low = 1, high = 1500, size = n),\n",
    "    'B': np.random.normal(loc = 10, scale = 2, size = n),\n",
    "    'C': np.random.uniform(low = 0, high = 1, size = n),\n",
    "    'D': np.random.lognormal(mean = 4, sigma = 5, size = n),\n",
    "    'E': np.random.standard_normal(size = n)}\n",
    "    \n",
    "    ![2020-12-22_02-45-05-a71506c63dcb52c3cc567da8586496fb.png](attachment:2020-12-22_02-45-05-a71506c63dcb52c3cc567da8586496fb.png)"
   ]
  },
  {
   "cell_type": "code",
   "execution_count": 4,
   "id": "4248e3cd",
   "metadata": {},
   "outputs": [],
   "source": [
    "dias = pd.date_range(start = '2018-1-1', end = '2020-12-31')\n",
    "n = dias.shape[0]        #total de observações\n",
    "dados = {\n",
    "    'A': np.random.randint(low = 1, high = 1500, size = n), \n",
    "    'B': np.random.normal(loc = 10, scale = 2, size= n),\n",
    "    'C': np.random.uniform(low = 0, high = 1, size= n),\n",
    "    'D': np.random.lognormal(mean = 4, sigma = 5, size = n),\n",
    "    'E': np.random.standard_normal(size = n)}\n",
    "df = pd.DataFrame(data = dados, index = dias)"
   ]
  },
  {
   "cell_type": "code",
   "execution_count": 5,
   "id": "be3d7595",
   "metadata": {},
   "outputs": [
    {
     "data": {
      "text/html": [
       "<div>\n",
       "<style scoped>\n",
       "    .dataframe tbody tr th:only-of-type {\n",
       "        vertical-align: middle;\n",
       "    }\n",
       "\n",
       "    .dataframe tbody tr th {\n",
       "        vertical-align: top;\n",
       "    }\n",
       "\n",
       "    .dataframe thead th {\n",
       "        text-align: right;\n",
       "    }\n",
       "</style>\n",
       "<table border=\"1\" class=\"dataframe\">\n",
       "  <thead>\n",
       "    <tr style=\"text-align: right;\">\n",
       "      <th></th>\n",
       "      <th>A</th>\n",
       "      <th>B</th>\n",
       "      <th>C</th>\n",
       "      <th>D</th>\n",
       "      <th>E</th>\n",
       "    </tr>\n",
       "  </thead>\n",
       "  <tbody>\n",
       "    <tr>\n",
       "      <th>2018-01-01</th>\n",
       "      <td>651</td>\n",
       "      <td>11.443642</td>\n",
       "      <td>0.906486</td>\n",
       "      <td>33.841261</td>\n",
       "      <td>-2.700104</td>\n",
       "    </tr>\n",
       "    <tr>\n",
       "      <th>2018-01-02</th>\n",
       "      <td>1394</td>\n",
       "      <td>10.324987</td>\n",
       "      <td>0.869239</td>\n",
       "      <td>0.027214</td>\n",
       "      <td>-1.340824</td>\n",
       "    </tr>\n",
       "    <tr>\n",
       "      <th>2018-01-03</th>\n",
       "      <td>849</td>\n",
       "      <td>9.040097</td>\n",
       "      <td>0.176516</td>\n",
       "      <td>1195.828842</td>\n",
       "      <td>0.860394</td>\n",
       "    </tr>\n",
       "    <tr>\n",
       "      <th>2018-01-04</th>\n",
       "      <td>715</td>\n",
       "      <td>9.113102</td>\n",
       "      <td>0.976917</td>\n",
       "      <td>242022.628643</td>\n",
       "      <td>1.275092</td>\n",
       "    </tr>\n",
       "    <tr>\n",
       "      <th>2018-01-05</th>\n",
       "      <td>307</td>\n",
       "      <td>8.933480</td>\n",
       "      <td>0.024969</td>\n",
       "      <td>300.075280</td>\n",
       "      <td>0.116503</td>\n",
       "    </tr>\n",
       "    <tr>\n",
       "      <th>...</th>\n",
       "      <td>...</td>\n",
       "      <td>...</td>\n",
       "      <td>...</td>\n",
       "      <td>...</td>\n",
       "      <td>...</td>\n",
       "    </tr>\n",
       "    <tr>\n",
       "      <th>2020-12-27</th>\n",
       "      <td>88</td>\n",
       "      <td>11.880048</td>\n",
       "      <td>0.873582</td>\n",
       "      <td>15374.533230</td>\n",
       "      <td>0.234916</td>\n",
       "    </tr>\n",
       "    <tr>\n",
       "      <th>2020-12-28</th>\n",
       "      <td>1370</td>\n",
       "      <td>8.989396</td>\n",
       "      <td>0.205553</td>\n",
       "      <td>663.402747</td>\n",
       "      <td>-0.533045</td>\n",
       "    </tr>\n",
       "    <tr>\n",
       "      <th>2020-12-29</th>\n",
       "      <td>998</td>\n",
       "      <td>12.342840</td>\n",
       "      <td>0.307271</td>\n",
       "      <td>0.429054</td>\n",
       "      <td>0.168029</td>\n",
       "    </tr>\n",
       "    <tr>\n",
       "      <th>2020-12-30</th>\n",
       "      <td>1000</td>\n",
       "      <td>8.726643</td>\n",
       "      <td>0.417855</td>\n",
       "      <td>930.050235</td>\n",
       "      <td>0.740898</td>\n",
       "    </tr>\n",
       "    <tr>\n",
       "      <th>2020-12-31</th>\n",
       "      <td>829</td>\n",
       "      <td>10.719227</td>\n",
       "      <td>0.946540</td>\n",
       "      <td>985160.979522</td>\n",
       "      <td>0.400991</td>\n",
       "    </tr>\n",
       "  </tbody>\n",
       "</table>\n",
       "<p>1096 rows × 5 columns</p>\n",
       "</div>"
      ],
      "text/plain": [
       "               A          B         C              D         E\n",
       "2018-01-01   651  11.443642  0.906486      33.841261 -2.700104\n",
       "2018-01-02  1394  10.324987  0.869239       0.027214 -1.340824\n",
       "2018-01-03   849   9.040097  0.176516    1195.828842  0.860394\n",
       "2018-01-04   715   9.113102  0.976917  242022.628643  1.275092\n",
       "2018-01-05   307   8.933480  0.024969     300.075280  0.116503\n",
       "...          ...        ...       ...            ...       ...\n",
       "2020-12-27    88  11.880048  0.873582   15374.533230  0.234916\n",
       "2020-12-28  1370   8.989396  0.205553     663.402747 -0.533045\n",
       "2020-12-29   998  12.342840  0.307271       0.429054  0.168029\n",
       "2020-12-30  1000   8.726643  0.417855     930.050235  0.740898\n",
       "2020-12-31   829  10.719227  0.946540  985160.979522  0.400991\n",
       "\n",
       "[1096 rows x 5 columns]"
      ]
     },
     "execution_count": 5,
     "metadata": {},
     "output_type": "execute_result"
    }
   ],
   "source": [
    "df"
   ]
  },
  {
   "cell_type": "markdown",
   "id": "5ab06487",
   "metadata": {},
   "source": [
    "### Exercício 51\n",
    "Com base no dataset anterior obtenha:\n",
    "\n",
    "estatísticas descritivas de cada coluna;\n",
    "\n",
    "informações do dataset;\n",
    "\n",
    "matriz de correlação (use df.corr);\n",
    "\n",
    "matriz de covariância (use df.cov)."
   ]
  },
  {
   "cell_type": "code",
   "execution_count": 6,
   "id": "9f6d5b3c",
   "metadata": {},
   "outputs": [],
   "source": [
    "dias = pd.date_range(start = '2018-1-1', end = '2020-12-31')\n",
    "n = dias.shape[0]\n",
    "dados = {\n",
    "    'A': np.random.randint(low = 1, high = 1500, size = n),\n",
    "    'B': np.random.normal(loc = 10, scale = 2, size = n),\n",
    "    'C': np.random.uniform(low = 0, high = 1, size = n),\n",
    "    'D': np.random.lognormal(mean = 4, sigma = 5, size =n),\n",
    "    'E': np.random.standard_normal(size = n)}\n",
    "df = pd.DataFrame(data = dados, index = dias)"
   ]
  },
  {
   "cell_type": "code",
   "execution_count": 8,
   "id": "d2df0f3a",
   "metadata": {},
   "outputs": [
    {
     "data": {
      "text/html": [
       "<div>\n",
       "<style scoped>\n",
       "    .dataframe tbody tr th:only-of-type {\n",
       "        vertical-align: middle;\n",
       "    }\n",
       "\n",
       "    .dataframe tbody tr th {\n",
       "        vertical-align: top;\n",
       "    }\n",
       "\n",
       "    .dataframe thead th {\n",
       "        text-align: right;\n",
       "    }\n",
       "</style>\n",
       "<table border=\"1\" class=\"dataframe\">\n",
       "  <thead>\n",
       "    <tr style=\"text-align: right;\">\n",
       "      <th></th>\n",
       "      <th>A</th>\n",
       "      <th>B</th>\n",
       "      <th>C</th>\n",
       "      <th>D</th>\n",
       "      <th>E</th>\n",
       "    </tr>\n",
       "  </thead>\n",
       "  <tbody>\n",
       "    <tr>\n",
       "      <th>2018-01-01</th>\n",
       "      <td>863</td>\n",
       "      <td>8.842476</td>\n",
       "      <td>0.251182</td>\n",
       "      <td>0.541849</td>\n",
       "      <td>0.368536</td>\n",
       "    </tr>\n",
       "    <tr>\n",
       "      <th>2018-01-02</th>\n",
       "      <td>1091</td>\n",
       "      <td>10.628128</td>\n",
       "      <td>0.007827</td>\n",
       "      <td>1313.942628</td>\n",
       "      <td>1.051509</td>\n",
       "    </tr>\n",
       "    <tr>\n",
       "      <th>2018-01-03</th>\n",
       "      <td>408</td>\n",
       "      <td>14.256352</td>\n",
       "      <td>0.091368</td>\n",
       "      <td>302.578177</td>\n",
       "      <td>0.377597</td>\n",
       "    </tr>\n",
       "    <tr>\n",
       "      <th>2018-01-04</th>\n",
       "      <td>292</td>\n",
       "      <td>9.176473</td>\n",
       "      <td>0.907664</td>\n",
       "      <td>0.018908</td>\n",
       "      <td>1.412618</td>\n",
       "    </tr>\n",
       "    <tr>\n",
       "      <th>2018-01-05</th>\n",
       "      <td>1402</td>\n",
       "      <td>11.873669</td>\n",
       "      <td>0.817796</td>\n",
       "      <td>745.756618</td>\n",
       "      <td>-1.777351</td>\n",
       "    </tr>\n",
       "    <tr>\n",
       "      <th>...</th>\n",
       "      <td>...</td>\n",
       "      <td>...</td>\n",
       "      <td>...</td>\n",
       "      <td>...</td>\n",
       "      <td>...</td>\n",
       "    </tr>\n",
       "    <tr>\n",
       "      <th>2020-12-27</th>\n",
       "      <td>159</td>\n",
       "      <td>6.329793</td>\n",
       "      <td>0.138636</td>\n",
       "      <td>1.505991</td>\n",
       "      <td>1.213554</td>\n",
       "    </tr>\n",
       "    <tr>\n",
       "      <th>2020-12-28</th>\n",
       "      <td>35</td>\n",
       "      <td>10.168553</td>\n",
       "      <td>0.970088</td>\n",
       "      <td>0.887041</td>\n",
       "      <td>-0.038725</td>\n",
       "    </tr>\n",
       "    <tr>\n",
       "      <th>2020-12-29</th>\n",
       "      <td>1173</td>\n",
       "      <td>9.495849</td>\n",
       "      <td>0.483661</td>\n",
       "      <td>109797.596333</td>\n",
       "      <td>-0.054468</td>\n",
       "    </tr>\n",
       "    <tr>\n",
       "      <th>2020-12-30</th>\n",
       "      <td>110</td>\n",
       "      <td>11.902056</td>\n",
       "      <td>0.322582</td>\n",
       "      <td>23.379147</td>\n",
       "      <td>-2.005001</td>\n",
       "    </tr>\n",
       "    <tr>\n",
       "      <th>2020-12-31</th>\n",
       "      <td>739</td>\n",
       "      <td>9.053890</td>\n",
       "      <td>0.598644</td>\n",
       "      <td>60.711625</td>\n",
       "      <td>0.896683</td>\n",
       "    </tr>\n",
       "  </tbody>\n",
       "</table>\n",
       "<p>1096 rows × 5 columns</p>\n",
       "</div>"
      ],
      "text/plain": [
       "               A          B         C              D         E\n",
       "2018-01-01   863   8.842476  0.251182       0.541849  0.368536\n",
       "2018-01-02  1091  10.628128  0.007827    1313.942628  1.051509\n",
       "2018-01-03   408  14.256352  0.091368     302.578177  0.377597\n",
       "2018-01-04   292   9.176473  0.907664       0.018908  1.412618\n",
       "2018-01-05  1402  11.873669  0.817796     745.756618 -1.777351\n",
       "...          ...        ...       ...            ...       ...\n",
       "2020-12-27   159   6.329793  0.138636       1.505991  1.213554\n",
       "2020-12-28    35  10.168553  0.970088       0.887041 -0.038725\n",
       "2020-12-29  1173   9.495849  0.483661  109797.596333 -0.054468\n",
       "2020-12-30   110  11.902056  0.322582      23.379147 -2.005001\n",
       "2020-12-31   739   9.053890  0.598644      60.711625  0.896683\n",
       "\n",
       "[1096 rows x 5 columns]"
      ]
     },
     "execution_count": 8,
     "metadata": {},
     "output_type": "execute_result"
    }
   ],
   "source": [
    "df"
   ]
  },
  {
   "cell_type": "markdown",
   "id": "ac54f816",
   "metadata": {},
   "source": [
    "#### Estatisticas descritivas"
   ]
  },
  {
   "cell_type": "code",
   "execution_count": 9,
   "id": "506fd6bb",
   "metadata": {},
   "outputs": [
    {
     "data": {
      "text/html": [
       "<div>\n",
       "<style scoped>\n",
       "    .dataframe tbody tr th:only-of-type {\n",
       "        vertical-align: middle;\n",
       "    }\n",
       "\n",
       "    .dataframe tbody tr th {\n",
       "        vertical-align: top;\n",
       "    }\n",
       "\n",
       "    .dataframe thead th {\n",
       "        text-align: right;\n",
       "    }\n",
       "</style>\n",
       "<table border=\"1\" class=\"dataframe\">\n",
       "  <thead>\n",
       "    <tr style=\"text-align: right;\">\n",
       "      <th></th>\n",
       "      <th>count</th>\n",
       "      <th>mean</th>\n",
       "      <th>std</th>\n",
       "      <th>min</th>\n",
       "      <th>25%</th>\n",
       "      <th>50%</th>\n",
       "      <th>75%</th>\n",
       "      <th>max</th>\n",
       "    </tr>\n",
       "  </thead>\n",
       "  <tbody>\n",
       "    <tr>\n",
       "      <th>A</th>\n",
       "      <td>1096.0</td>\n",
       "      <td>755.944343</td>\n",
       "      <td>4.315556e+02</td>\n",
       "      <td>3.000000</td>\n",
       "      <td>377.500000</td>\n",
       "      <td>761.000000</td>\n",
       "      <td>1129.000000</td>\n",
       "      <td>1.496000e+03</td>\n",
       "    </tr>\n",
       "    <tr>\n",
       "      <th>B</th>\n",
       "      <td>1096.0</td>\n",
       "      <td>9.914770</td>\n",
       "      <td>1.949412e+00</td>\n",
       "      <td>3.296142</td>\n",
       "      <td>8.636707</td>\n",
       "      <td>9.949187</td>\n",
       "      <td>11.247873</td>\n",
       "      <td>1.536960e+01</td>\n",
       "    </tr>\n",
       "    <tr>\n",
       "      <th>C</th>\n",
       "      <td>1096.0</td>\n",
       "      <td>0.491400</td>\n",
       "      <td>2.890763e-01</td>\n",
       "      <td>0.000745</td>\n",
       "      <td>0.237231</td>\n",
       "      <td>0.487761</td>\n",
       "      <td>0.744294</td>\n",
       "      <td>9.997847e-01</td>\n",
       "    </tr>\n",
       "    <tr>\n",
       "      <th>D</th>\n",
       "      <td>1096.0</td>\n",
       "      <td>584778.088208</td>\n",
       "      <td>7.238187e+06</td>\n",
       "      <td>0.000006</td>\n",
       "      <td>1.313827</td>\n",
       "      <td>52.141566</td>\n",
       "      <td>1369.428511</td>\n",
       "      <td>1.588096e+08</td>\n",
       "    </tr>\n",
       "    <tr>\n",
       "      <th>E</th>\n",
       "      <td>1096.0</td>\n",
       "      <td>-0.015663</td>\n",
       "      <td>9.493600e-01</td>\n",
       "      <td>-3.324758</td>\n",
       "      <td>-0.637047</td>\n",
       "      <td>0.005294</td>\n",
       "      <td>0.579818</td>\n",
       "      <td>3.834209e+00</td>\n",
       "    </tr>\n",
       "  </tbody>\n",
       "</table>\n",
       "</div>"
      ],
      "text/plain": [
       "    count           mean           std       min         25%         50%  \\\n",
       "A  1096.0     755.944343  4.315556e+02  3.000000  377.500000  761.000000   \n",
       "B  1096.0       9.914770  1.949412e+00  3.296142    8.636707    9.949187   \n",
       "C  1096.0       0.491400  2.890763e-01  0.000745    0.237231    0.487761   \n",
       "D  1096.0  584778.088208  7.238187e+06  0.000006    1.313827   52.141566   \n",
       "E  1096.0      -0.015663  9.493600e-01 -3.324758   -0.637047    0.005294   \n",
       "\n",
       "           75%           max  \n",
       "A  1129.000000  1.496000e+03  \n",
       "B    11.247873  1.536960e+01  \n",
       "C     0.744294  9.997847e-01  \n",
       "D  1369.428511  1.588096e+08  \n",
       "E     0.579818  3.834209e+00  "
      ]
     },
     "execution_count": 9,
     "metadata": {},
     "output_type": "execute_result"
    }
   ],
   "source": [
    "df.describe().T"
   ]
  },
  {
   "cell_type": "markdown",
   "id": "854310ba",
   "metadata": {},
   "source": [
    "#### Informação do dataset"
   ]
  },
  {
   "cell_type": "code",
   "execution_count": 10,
   "id": "685c984c",
   "metadata": {},
   "outputs": [
    {
     "name": "stdout",
     "output_type": "stream",
     "text": [
      "<class 'pandas.core.frame.DataFrame'>\n",
      "DatetimeIndex: 1096 entries, 2018-01-01 to 2020-12-31\n",
      "Freq: D\n",
      "Data columns (total 5 columns):\n",
      " #   Column  Non-Null Count  Dtype  \n",
      "---  ------  --------------  -----  \n",
      " 0   A       1096 non-null   int32  \n",
      " 1   B       1096 non-null   float64\n",
      " 2   C       1096 non-null   float64\n",
      " 3   D       1096 non-null   float64\n",
      " 4   E       1096 non-null   float64\n",
      "dtypes: float64(4), int32(1)\n",
      "memory usage: 47.1 KB\n"
     ]
    }
   ],
   "source": [
    "df.info()"
   ]
  },
  {
   "cell_type": "markdown",
   "id": "eb433d0d",
   "metadata": {},
   "source": [
    "#### Matriz de covariância."
   ]
  },
  {
   "cell_type": "code",
   "execution_count": 11,
   "id": "d50bcb3b",
   "metadata": {},
   "outputs": [
    {
     "data": {
      "text/html": [
       "<div>\n",
       "<style scoped>\n",
       "    .dataframe tbody tr th:only-of-type {\n",
       "        vertical-align: middle;\n",
       "    }\n",
       "\n",
       "    .dataframe tbody tr th {\n",
       "        vertical-align: top;\n",
       "    }\n",
       "\n",
       "    .dataframe thead th {\n",
       "        text-align: right;\n",
       "    }\n",
       "</style>\n",
       "<table border=\"1\" class=\"dataframe\">\n",
       "  <thead>\n",
       "    <tr style=\"text-align: right;\">\n",
       "      <th></th>\n",
       "      <th>A</th>\n",
       "      <th>B</th>\n",
       "      <th>C</th>\n",
       "      <th>D</th>\n",
       "      <th>E</th>\n",
       "    </tr>\n",
       "  </thead>\n",
       "  <tbody>\n",
       "    <tr>\n",
       "      <th>A</th>\n",
       "      <td>1.862402e+05</td>\n",
       "      <td>-9.781181</td>\n",
       "      <td>-2.806866</td>\n",
       "      <td>-2.379094e+07</td>\n",
       "      <td>19.765598</td>\n",
       "    </tr>\n",
       "    <tr>\n",
       "      <th>B</th>\n",
       "      <td>-9.781181e+00</td>\n",
       "      <td>3.800208</td>\n",
       "      <td>-0.008644</td>\n",
       "      <td>-4.229995e+05</td>\n",
       "      <td>0.029904</td>\n",
       "    </tr>\n",
       "    <tr>\n",
       "      <th>C</th>\n",
       "      <td>-2.806866e+00</td>\n",
       "      <td>-0.008644</td>\n",
       "      <td>0.083565</td>\n",
       "      <td>1.893480e+04</td>\n",
       "      <td>-0.007013</td>\n",
       "    </tr>\n",
       "    <tr>\n",
       "      <th>D</th>\n",
       "      <td>-2.379094e+07</td>\n",
       "      <td>-422999.452950</td>\n",
       "      <td>18934.802399</td>\n",
       "      <td>5.239136e+13</td>\n",
       "      <td>53490.007779</td>\n",
       "    </tr>\n",
       "    <tr>\n",
       "      <th>E</th>\n",
       "      <td>1.976560e+01</td>\n",
       "      <td>0.029904</td>\n",
       "      <td>-0.007013</td>\n",
       "      <td>5.349001e+04</td>\n",
       "      <td>0.901284</td>\n",
       "    </tr>\n",
       "  </tbody>\n",
       "</table>\n",
       "</div>"
      ],
      "text/plain": [
       "              A              B             C             D             E\n",
       "A  1.862402e+05      -9.781181     -2.806866 -2.379094e+07     19.765598\n",
       "B -9.781181e+00       3.800208     -0.008644 -4.229995e+05      0.029904\n",
       "C -2.806866e+00      -0.008644      0.083565  1.893480e+04     -0.007013\n",
       "D -2.379094e+07 -422999.452950  18934.802399  5.239136e+13  53490.007779\n",
       "E  1.976560e+01       0.029904     -0.007013  5.349001e+04      0.901284"
      ]
     },
     "execution_count": 11,
     "metadata": {},
     "output_type": "execute_result"
    }
   ],
   "source": [
    "df.cov()"
   ]
  },
  {
   "cell_type": "markdown",
   "id": "513a6ae8",
   "metadata": {},
   "source": [
    "#### Matriz de correlação"
   ]
  },
  {
   "cell_type": "code",
   "execution_count": 12,
   "id": "3d49763d",
   "metadata": {},
   "outputs": [
    {
     "data": {
      "text/html": [
       "<div>\n",
       "<style scoped>\n",
       "    .dataframe tbody tr th:only-of-type {\n",
       "        vertical-align: middle;\n",
       "    }\n",
       "\n",
       "    .dataframe tbody tr th {\n",
       "        vertical-align: top;\n",
       "    }\n",
       "\n",
       "    .dataframe thead th {\n",
       "        text-align: right;\n",
       "    }\n",
       "</style>\n",
       "<table border=\"1\" class=\"dataframe\">\n",
       "  <thead>\n",
       "    <tr style=\"text-align: right;\">\n",
       "      <th></th>\n",
       "      <th>A</th>\n",
       "      <th>B</th>\n",
       "      <th>C</th>\n",
       "      <th>D</th>\n",
       "      <th>E</th>\n",
       "    </tr>\n",
       "  </thead>\n",
       "  <tbody>\n",
       "    <tr>\n",
       "      <th>A</th>\n",
       "      <td>1.000000</td>\n",
       "      <td>-0.011627</td>\n",
       "      <td>-0.022499</td>\n",
       "      <td>-0.007616</td>\n",
       "      <td>0.048244</td>\n",
       "    </tr>\n",
       "    <tr>\n",
       "      <th>B</th>\n",
       "      <td>-0.011627</td>\n",
       "      <td>1.000000</td>\n",
       "      <td>-0.015339</td>\n",
       "      <td>-0.029978</td>\n",
       "      <td>0.016158</td>\n",
       "    </tr>\n",
       "    <tr>\n",
       "      <th>C</th>\n",
       "      <td>-0.022499</td>\n",
       "      <td>-0.015339</td>\n",
       "      <td>1.000000</td>\n",
       "      <td>0.009049</td>\n",
       "      <td>-0.025553</td>\n",
       "    </tr>\n",
       "    <tr>\n",
       "      <th>D</th>\n",
       "      <td>-0.007616</td>\n",
       "      <td>-0.029978</td>\n",
       "      <td>0.009049</td>\n",
       "      <td>1.000000</td>\n",
       "      <td>0.007784</td>\n",
       "    </tr>\n",
       "    <tr>\n",
       "      <th>E</th>\n",
       "      <td>0.048244</td>\n",
       "      <td>0.016158</td>\n",
       "      <td>-0.025553</td>\n",
       "      <td>0.007784</td>\n",
       "      <td>1.000000</td>\n",
       "    </tr>\n",
       "  </tbody>\n",
       "</table>\n",
       "</div>"
      ],
      "text/plain": [
       "          A         B         C         D         E\n",
       "A  1.000000 -0.011627 -0.022499 -0.007616  0.048244\n",
       "B -0.011627  1.000000 -0.015339 -0.029978  0.016158\n",
       "C -0.022499 -0.015339  1.000000  0.009049 -0.025553\n",
       "D -0.007616 -0.029978  0.009049  1.000000  0.007784\n",
       "E  0.048244  0.016158 -0.025553  0.007784  1.000000"
      ]
     },
     "execution_count": 12,
     "metadata": {},
     "output_type": "execute_result"
    }
   ],
   "source": [
    "df.corr()"
   ]
  },
  {
   "cell_type": "markdown",
   "id": "5c0cd6be",
   "metadata": {},
   "source": [
    "### Exercício 52\n",
    "Use loop para iterar e imprimir os valores da Series abaixo. Seus valores seguem uma distribuição normal com média 10 e desvio padrão 0.5. Use np.random.seed(99) para reproduzir os valores deste exercício.\n",
    "\n",
    "A     9.928821\n",
    "B    11.028611\n",
    "C    10.141631\n",
    "D    10.664906\n",
    "E     9.922689\n",
    "F     9.965485\n",
    "G    10.377590\n",
    "H    10.412823\n",
    "I     9.943465\n",
    "J     8.816081\n",
    "Name: Data, dtype: float64"
   ]
  },
  {
   "cell_type": "code",
   "execution_count": 13,
   "id": "fa3ee67a",
   "metadata": {},
   "outputs": [],
   "source": [
    "np.random.seed(99)"
   ]
  },
  {
   "cell_type": "code",
   "execution_count": 14,
   "id": "d500cb00",
   "metadata": {},
   "outputs": [],
   "source": [
    "index = [chr(65+i) for i in range(10)]\n",
    "series = pd.Series(np.random.normal(loc = 10, scale = 0.5, size = 10), index, name = 'Data')"
   ]
  },
  {
   "cell_type": "code",
   "execution_count": 15,
   "id": "eaeb257b",
   "metadata": {},
   "outputs": [
    {
     "data": {
      "text/plain": [
       "A     9.928821\n",
       "B    11.028611\n",
       "C    10.141631\n",
       "D    10.664906\n",
       "E     9.922689\n",
       "F     9.965485\n",
       "G    10.377590\n",
       "H    10.412823\n",
       "I     9.943465\n",
       "J     8.816081\n",
       "Name: Data, dtype: float64"
      ]
     },
     "execution_count": 15,
     "metadata": {},
     "output_type": "execute_result"
    }
   ],
   "source": [
    "series"
   ]
  },
  {
   "cell_type": "code",
   "execution_count": 16,
   "id": "205e644b",
   "metadata": {},
   "outputs": [
    {
     "name": "stdout",
     "output_type": "stream",
     "text": [
      "9.928820578649026\n",
      "11.028610868790746\n",
      "10.141630970553017\n",
      "10.664905989128272\n",
      "9.922689074476285\n",
      "9.965484570434956\n",
      "10.37759024253896\n",
      "10.412823324256312\n",
      "9.943465395149339\n",
      "8.816081202635946\n"
     ]
    }
   ],
   "source": [
    "for numero in series: \n",
    "    print(numero)"
   ]
  },
  {
   "attachments": {
    "2020-12-22_02-59-54-a95174bb9621f85275469eaf04466306.png": {
     "image/png": "[encoded data removed]"
    }
   },
   "cell_type": "markdown",
   "id": "6db7e9d0",
   "metadata": {},
   "source": [
    "### Exercício 53\n",
    "Ao iterar em objetos do tipo DataFrame obtemos os respectivos nomes de cada coluna. Mostre na tela o nome das colunas do DataFrame abaixo. Use:\n",
    "\n",
    "\n",
    "\n",
    "dados = {\n",
    "    'W': np.random.randint(1,10,10),\n",
    "    'Z': np.random.uniform(0,10,10),\n",
    "    'K': np.linspace(1,50,10),\n",
    "    'J': np.arange(10),\n",
    "    'L': np.random.beta(1,10,10),\n",
    "    'M': np.random.exponential(1,10),\n",
    "    'Y': np.random.randint(-50,-1,10)\n",
    "}\n",
    "![2020-12-22_02-59-54-a95174bb9621f85275469eaf04466306.png](attachment:2020-12-22_02-59-54-a95174bb9621f85275469eaf04466306.png)\n"
   ]
  },
  {
   "cell_type": "code",
   "execution_count": 17,
   "id": "cda6f6ec",
   "metadata": {},
   "outputs": [
    {
     "name": "stdout",
     "output_type": "stream",
     "text": [
      "W\n",
      "Z\n",
      "K\n",
      "J\n",
      "L\n",
      "M\n"
     ]
    }
   ],
   "source": [
    "n = 10                           #Total de observações\n",
    "dados = {\n",
    "    'W': np.random.randint(1, 10, n),\n",
    "    'Z': np.random.uniform(0, 10, n),\n",
    "    'K': np.linspace(1, 50, n),\n",
    "    'J': np.arange(n),\n",
    "    'L': np.random.beta(1, 10, n),\n",
    "    'M': np.random.randint(-50, -1, n)\n",
    "}\n",
    "\n",
    "df = pd.DataFrame(dados, \n",
    "                 index = pd.date_range(start = '2020-12-1', periods = 10))\n",
    "for coluna in df:\n",
    "    print(coluna)\n",
    "        "
   ]
  },
  {
   "cell_type": "code",
   "execution_count": 18,
   "id": "af87fa4c",
   "metadata": {},
   "outputs": [
    {
     "data": {
      "text/html": [
       "<div>\n",
       "<style scoped>\n",
       "    .dataframe tbody tr th:only-of-type {\n",
       "        vertical-align: middle;\n",
       "    }\n",
       "\n",
       "    .dataframe tbody tr th {\n",
       "        vertical-align: top;\n",
       "    }\n",
       "\n",
       "    .dataframe thead th {\n",
       "        text-align: right;\n",
       "    }\n",
       "</style>\n",
       "<table border=\"1\" class=\"dataframe\">\n",
       "  <thead>\n",
       "    <tr style=\"text-align: right;\">\n",
       "      <th></th>\n",
       "      <th>W</th>\n",
       "      <th>Z</th>\n",
       "      <th>K</th>\n",
       "      <th>J</th>\n",
       "      <th>L</th>\n",
       "      <th>M</th>\n",
       "    </tr>\n",
       "  </thead>\n",
       "  <tbody>\n",
       "    <tr>\n",
       "      <th>2020-12-01</th>\n",
       "      <td>9</td>\n",
       "      <td>6.448347</td>\n",
       "      <td>1.000000</td>\n",
       "      <td>0</td>\n",
       "      <td>0.266708</td>\n",
       "      <td>-13</td>\n",
       "    </tr>\n",
       "    <tr>\n",
       "      <th>2020-12-02</th>\n",
       "      <td>5</td>\n",
       "      <td>0.951816</td>\n",
       "      <td>6.444444</td>\n",
       "      <td>1</td>\n",
       "      <td>0.070572</td>\n",
       "      <td>-18</td>\n",
       "    </tr>\n",
       "    <tr>\n",
       "      <th>2020-12-03</th>\n",
       "      <td>8</td>\n",
       "      <td>4.116632</td>\n",
       "      <td>11.888889</td>\n",
       "      <td>2</td>\n",
       "      <td>0.051361</td>\n",
       "      <td>-47</td>\n",
       "    </tr>\n",
       "    <tr>\n",
       "      <th>2020-12-04</th>\n",
       "      <td>6</td>\n",
       "      <td>0.968653</td>\n",
       "      <td>17.333333</td>\n",
       "      <td>3</td>\n",
       "      <td>0.024803</td>\n",
       "      <td>-43</td>\n",
       "    </tr>\n",
       "    <tr>\n",
       "      <th>2020-12-05</th>\n",
       "      <td>5</td>\n",
       "      <td>1.440110</td>\n",
       "      <td>22.777778</td>\n",
       "      <td>4</td>\n",
       "      <td>0.054955</td>\n",
       "      <td>-22</td>\n",
       "    </tr>\n",
       "    <tr>\n",
       "      <th>2020-12-06</th>\n",
       "      <td>2</td>\n",
       "      <td>2.121962</td>\n",
       "      <td>28.222222</td>\n",
       "      <td>5</td>\n",
       "      <td>0.040888</td>\n",
       "      <td>-5</td>\n",
       "    </tr>\n",
       "    <tr>\n",
       "      <th>2020-12-07</th>\n",
       "      <td>1</td>\n",
       "      <td>4.766562</td>\n",
       "      <td>33.666667</td>\n",
       "      <td>6</td>\n",
       "      <td>0.238423</td>\n",
       "      <td>-9</td>\n",
       "    </tr>\n",
       "    <tr>\n",
       "      <th>2020-12-08</th>\n",
       "      <td>6</td>\n",
       "      <td>0.776138</td>\n",
       "      <td>39.111111</td>\n",
       "      <td>7</td>\n",
       "      <td>0.120640</td>\n",
       "      <td>-45</td>\n",
       "    </tr>\n",
       "    <tr>\n",
       "      <th>2020-12-09</th>\n",
       "      <td>4</td>\n",
       "      <td>2.350438</td>\n",
       "      <td>44.555556</td>\n",
       "      <td>8</td>\n",
       "      <td>0.049486</td>\n",
       "      <td>-5</td>\n",
       "    </tr>\n",
       "    <tr>\n",
       "      <th>2020-12-10</th>\n",
       "      <td>4</td>\n",
       "      <td>0.065530</td>\n",
       "      <td>50.000000</td>\n",
       "      <td>9</td>\n",
       "      <td>0.093592</td>\n",
       "      <td>-11</td>\n",
       "    </tr>\n",
       "  </tbody>\n",
       "</table>\n",
       "</div>"
      ],
      "text/plain": [
       "            W         Z          K  J         L   M\n",
       "2020-12-01  9  6.448347   1.000000  0  0.266708 -13\n",
       "2020-12-02  5  0.951816   6.444444  1  0.070572 -18\n",
       "2020-12-03  8  4.116632  11.888889  2  0.051361 -47\n",
       "2020-12-04  6  0.968653  17.333333  3  0.024803 -43\n",
       "2020-12-05  5  1.440110  22.777778  4  0.054955 -22\n",
       "2020-12-06  2  2.121962  28.222222  5  0.040888  -5\n",
       "2020-12-07  1  4.766562  33.666667  6  0.238423  -9\n",
       "2020-12-08  6  0.776138  39.111111  7  0.120640 -45\n",
       "2020-12-09  4  2.350438  44.555556  8  0.049486  -5\n",
       "2020-12-10  4  0.065530  50.000000  9  0.093592 -11"
      ]
     },
     "execution_count": 18,
     "metadata": {},
     "output_type": "execute_result"
    }
   ],
   "source": [
    "df"
   ]
  },
  {
   "cell_type": "markdown",
   "id": "7e24b7a4",
   "metadata": {},
   "source": [
    "### Exercício 54\n",
    "Para iterar nas linhas de um DataFrame podemos usar as seguintes funções:\n",
    "\n",
    "iteritems(): itera ao longo do par key,value (similar a um dicionário);\n",
    "\n",
    "iterrows(): itera ao longo das das linhas (par index,Series);\n",
    "\n",
    "itertuples(): itera ao longo das linhas como namedtuples.\n",
    "\n",
    "Construa o DataFrame abaixo.\n",
    "\n",
    "  A  B  C\n",
    "2020-12-31  0  1  2\n",
    "2021-01-31  1  4  4\n",
    "2021-02-28  2  9  6\n",
    "\n",
    "Construa um script para iterar sobre este, usando a função iteritems(). Resultado esperado:\n",
    "\n",
    "A\n",
    "\tSoma dos valores: 3\n",
    "\tValor mínimo: 0\n",
    "\tValor máximo: 2\n",
    "\tMédia dos valores: 1.0\n",
    "\tDesvio padrão: 1.0\n",
    " \n",
    "B\n",
    "\tSoma dos valores: 14\n",
    "\tValor mínimo: 1\n",
    "\tValor máximo: 9\n",
    "\tMédia dos valores: 4.67\n",
    "\tDesvio padrão: 4.04\n",
    " \n",
    "C\n",
    "\tSoma dos valores: 12\n",
    "\tValor mínimo: 2\n",
    "\tValor máximo: 6\n",
    "\tMédia dos valores: 4.0\n",
    "\tDesvio padrão: 2.0"
   ]
  },
  {
   "cell_type": "code",
   "execution_count": 34,
   "id": "b34c6da0",
   "metadata": {},
   "outputs": [
    {
     "name": "stdout",
     "output_type": "stream",
     "text": [
      "A\n",
      "\tSoma dos valores: 3\n",
      "\tValor mínimo: 0\n",
      "\tValor máximo: 2\n",
      "\tMédia dos valores: 1.0\n",
      "\tDesvio padão: 1.0\n",
      "\n",
      "B\n",
      "\tSoma dos valores: 14\n",
      "\tValor mínimo: 1\n",
      "\tValor máximo: 9\n",
      "\tMédia dos valores: 4.666666666666667\n",
      "\tDesvio padão: 4.041451884327381\n",
      "\n",
      "C\n",
      "\tSoma dos valores: 12\n",
      "\tValor mínimo: 2\n",
      "\tValor máximo: 6\n",
      "\tMédia dos valores: 4.0\n",
      "\tDesvio padão: 2.0\n",
      "\n"
     ]
    }
   ],
   "source": [
    "dados = {\n",
    "    'A': np.arange(3),\n",
    "    'B': [n**2 for n in range(1,4)],\n",
    "    'C': [n for n in range (1, 7) if n%2==0]}\n",
    "\n",
    "df = pd.DataFrame(dados, index = pd.date_range(start = '2020-12-1', periods = 3, freq = 'M'))\n",
    "\n",
    "for coluna, valores in df.iteritems():\n",
    "    print(coluna)\n",
    "    print(f'\\tSoma dos valores: {valores.sum()}')\n",
    "    print(f'\\tValor mínimo: {valores.min()}')\n",
    "    print(f'\\tValor máximo: {valores.max()}')\n",
    "    print(f'\\tMédia dos valores: {valores.mean()}')\n",
    "    print(f'\\tDesvio padão: {valores.std()}')\n",
    "    print()"
   ]
  },
  {
   "cell_type": "markdown",
   "id": "8bcba995",
   "metadata": {},
   "source": [
    "### Exercício 55\n",
    "Construa o DataFrame abaixo.\n",
    "\n",
    "          A   B   C\n",
    "\n",
    "2021-01-01   1   2   3\n",
    "\n",
    "2021-01-02   4   5   6\n",
    "\n",
    "2021-01-03   7   8   9\n",
    "\n",
    "2021-01-04  10  11  12\n",
    "\n",
    "2021-01-05  13  14  15\n",
    "\n",
    "2021-01-06  16  17  18\n",
    "\n",
    "2021-01-07  19  20  21\n",
    "\n",
    "2021-01-08  22  23  24\n",
    "\n",
    "2021-01-09  25  26  27\n",
    "\n",
    "2021-01-10  28  29  30\n",
    "\n",
    "Posteriormente use iterrows() para obter a soma dos valores de cada linha:\n",
    "\n",
    "01/01/2021\n",
    "Soma: 6\n",
    " \n",
    "02/01/2021\n",
    "Soma: 15\n",
    " \n",
    "03/01/2021\n",
    "Soma: 24\n",
    " \n",
    "04/01/2021\n",
    "Soma: 33\n",
    " \n",
    "05/01/2021\n",
    "Soma: 42\n",
    " \n",
    "06/01/2021\n",
    "Soma: 51\n",
    " \n",
    "07/01/2021\n",
    "Soma: 60\n",
    " \n",
    "08/01/2021\n",
    "Soma: 69\n",
    " \n",
    "09/01/2021\n",
    "Soma: 78\n",
    " \n",
    "10/01/2021\n",
    "Soma: 87"
   ]
  },
  {
   "cell_type": "code",
   "execution_count": 35,
   "id": "11729263",
   "metadata": {},
   "outputs": [
    {
     "name": "stdout",
     "output_type": "stream",
     "text": [
      "01/01/21\n",
      "Soma: 6\n",
      "\n",
      "02/01/21\n",
      "Soma: 15\n",
      "\n",
      "03/01/21\n",
      "Soma: 24\n",
      "\n",
      "04/01/21\n",
      "Soma: 33\n",
      "\n",
      "05/01/21\n",
      "Soma: 42\n",
      "\n",
      "06/01/21\n",
      "Soma: 51\n",
      "\n",
      "07/01/21\n",
      "Soma: 60\n",
      "\n",
      "08/01/21\n",
      "Soma: 69\n",
      "\n",
      "09/01/21\n",
      "Soma: 78\n",
      "\n",
      "10/01/21\n",
      "Soma: 87\n",
      "\n"
     ]
    }
   ],
   "source": [
    "dias = pd.date_range(start = '2021-1-1', periods = 10)\n",
    "df = pd.DataFrame(np.arange(1, 31).reshape(10, 3),\n",
    "                 columns = list('ABC'),\n",
    "                 index = dias)\n",
    "\n",
    "for linha_indice, linha in df.iterrows():\n",
    "    print(linha_indice.strftime('%d/%m/%y'))\n",
    "    print('Soma: '+str(linha.sum()))\n",
    "    print()"
   ]
  },
  {
   "cell_type": "markdown",
   "id": "fa5cdaea",
   "metadata": {},
   "source": [
    "#### Exercício 56\n",
    "Com base no DataFrame anterior use itertuples() para obter:\n",
    "\n",
    "Pandas(Index=Timestamp('2021-01-01 00:00:00', freq='D'), A=1, B=2, C=3)\n",
    "\n",
    "Pandas(Index=Timestamp('2021-01-02 00:00:00', freq='D'), A=4, B=5, C=6)\n",
    "\n",
    "Pandas(Index=Timestamp('2021-01-03 00:00:00', freq='D'), A=7, B=8, C=9)\n",
    "\n",
    "Pandas(Index=Timestamp('2021-01-04 00:00:00', freq='D'), A=10, B=11, C=12)\n",
    "\n",
    "Pandas(Index=Timestamp('2021-01-05 00:00:00', freq='D'), A=13, B=14, C=15)\n",
    "\n",
    "Pandas(Index=Timestamp('2021-01-06 00:00:00', freq='D'), A=16, B=17, C=18)\n",
    "\n",
    "Pandas(Index=Timestamp('2021-01-07 00:00:00', freq='D'), A=19, B=20, C=21)\n",
    "\n",
    "Pandas(Index=Timestamp('2021-01-08 00:00:00', freq='D'), A=22, B=23, C=24)\n",
    "\n",
    "Pandas(Index=Timestamp('2021-01-09 00:00:00', freq='D'), A=25, B=26, C=27)\n",
    "\n",
    "Pandas(Index=Timestamp('2021-01-10 00:00:00', freq='D'), A=28, B=29, C=30)"
   ]
  },
  {
   "cell_type": "code",
   "execution_count": 36,
   "id": "c79db667",
   "metadata": {},
   "outputs": [
    {
     "name": "stdout",
     "output_type": "stream",
     "text": [
      "Pandas(Index=Timestamp('2021-01-01 00:00:00', freq='D'), A=1, B=2, C=3)\n",
      "Pandas(Index=Timestamp('2021-01-02 00:00:00', freq='D'), A=4, B=5, C=6)\n",
      "Pandas(Index=Timestamp('2021-01-03 00:00:00', freq='D'), A=7, B=8, C=9)\n",
      "Pandas(Index=Timestamp('2021-01-04 00:00:00', freq='D'), A=10, B=11, C=12)\n",
      "Pandas(Index=Timestamp('2021-01-05 00:00:00', freq='D'), A=13, B=14, C=15)\n",
      "Pandas(Index=Timestamp('2021-01-06 00:00:00', freq='D'), A=16, B=17, C=18)\n",
      "Pandas(Index=Timestamp('2021-01-07 00:00:00', freq='D'), A=19, B=20, C=21)\n",
      "Pandas(Index=Timestamp('2021-01-08 00:00:00', freq='D'), A=22, B=23, C=24)\n",
      "Pandas(Index=Timestamp('2021-01-09 00:00:00', freq='D'), A=25, B=26, C=27)\n",
      "Pandas(Index=Timestamp('2021-01-10 00:00:00', freq='D'), A=28, B=29, C=30)\n"
     ]
    }
   ],
   "source": [
    "dias = pd.date_range(start = '2021-1-1', periods = 10)\n",
    "df = pd.DataFrame(\n",
    "    data = np.arange(1, 31).reshape(10,3),\n",
    "    columns = list('ABC'),\n",
    "    index = dias)\n",
    "\n",
    "for linha in df.itertuples():\n",
    "    print(linha)"
   ]
  },
  {
   "cell_type": "markdown",
   "id": "5492617d",
   "metadata": {},
   "source": [
    "### Exercício 57\n",
    "Ordene o DataFrame abaixo pelo índice.\n",
    "\n",
    "import pandas as pd\n",
    "\n",
    "import numpy as np\n",
    "\n",
    "dias = pd.date_range(start = '2020-1-1', periods = 10).to_numpy()\n",
    "\n",
    "np.random.shuffle(dias)\n",
    "\n",
    "df = pd.DataFrame(\n",
    "\n",
    "data = np.random.normal(10,3.5,(10,3)),\n",
    "\n",
    "columns = list('ABC'),\n",
    "\n",
    "index = dias)"
   ]
  },
  {
   "cell_type": "code",
   "execution_count": 38,
   "id": "7992e11f",
   "metadata": {},
   "outputs": [],
   "source": [
    "dias = pd.date_range(start = ' 2020-1-1', periods = 10).to_numpy()\n",
    "np.random.shuffle(dias)\n",
    "df = pd.DataFrame(\n",
    "    data = np.random.normal(10, 3.5, (10, 3)),\n",
    "    columns = list('ABC'), \n",
    "    index = dias)\n",
    "df = df.sort_index()"
   ]
  },
  {
   "cell_type": "code",
   "execution_count": 39,
   "id": "d2c21850",
   "metadata": {},
   "outputs": [
    {
     "data": {
      "text/html": [
       "<div>\n",
       "<style scoped>\n",
       "    .dataframe tbody tr th:only-of-type {\n",
       "        vertical-align: middle;\n",
       "    }\n",
       "\n",
       "    .dataframe tbody tr th {\n",
       "        vertical-align: top;\n",
       "    }\n",
       "\n",
       "    .dataframe thead th {\n",
       "        text-align: right;\n",
       "    }\n",
       "</style>\n",
       "<table border=\"1\" class=\"dataframe\">\n",
       "  <thead>\n",
       "    <tr style=\"text-align: right;\">\n",
       "      <th></th>\n",
       "      <th>A</th>\n",
       "      <th>B</th>\n",
       "      <th>C</th>\n",
       "    </tr>\n",
       "  </thead>\n",
       "  <tbody>\n",
       "    <tr>\n",
       "      <th>2020-01-01</th>\n",
       "      <td>7.069673</td>\n",
       "      <td>12.882972</td>\n",
       "      <td>6.544402</td>\n",
       "    </tr>\n",
       "    <tr>\n",
       "      <th>2020-01-02</th>\n",
       "      <td>10.655313</td>\n",
       "      <td>6.554967</td>\n",
       "      <td>9.340427</td>\n",
       "    </tr>\n",
       "    <tr>\n",
       "      <th>2020-01-03</th>\n",
       "      <td>11.568753</td>\n",
       "      <td>15.665324</td>\n",
       "      <td>12.359527</td>\n",
       "    </tr>\n",
       "    <tr>\n",
       "      <th>2020-01-04</th>\n",
       "      <td>8.946025</td>\n",
       "      <td>3.574458</td>\n",
       "      <td>11.642698</td>\n",
       "    </tr>\n",
       "    <tr>\n",
       "      <th>2020-01-05</th>\n",
       "      <td>5.191345</td>\n",
       "      <td>8.170991</td>\n",
       "      <td>19.588427</td>\n",
       "    </tr>\n",
       "    <tr>\n",
       "      <th>2020-01-06</th>\n",
       "      <td>6.572476</td>\n",
       "      <td>12.111939</td>\n",
       "      <td>12.949150</td>\n",
       "    </tr>\n",
       "    <tr>\n",
       "      <th>2020-01-07</th>\n",
       "      <td>4.904299</td>\n",
       "      <td>11.285133</td>\n",
       "      <td>4.680641</td>\n",
       "    </tr>\n",
       "    <tr>\n",
       "      <th>2020-01-08</th>\n",
       "      <td>14.805502</td>\n",
       "      <td>11.313093</td>\n",
       "      <td>9.760673</td>\n",
       "    </tr>\n",
       "    <tr>\n",
       "      <th>2020-01-09</th>\n",
       "      <td>10.066268</td>\n",
       "      <td>8.536391</td>\n",
       "      <td>9.329144</td>\n",
       "    </tr>\n",
       "    <tr>\n",
       "      <th>2020-01-10</th>\n",
       "      <td>8.168011</td>\n",
       "      <td>8.521045</td>\n",
       "      <td>5.944391</td>\n",
       "    </tr>\n",
       "  </tbody>\n",
       "</table>\n",
       "</div>"
      ],
      "text/plain": [
       "                    A          B          C\n",
       "2020-01-01   7.069673  12.882972   6.544402\n",
       "2020-01-02  10.655313   6.554967   9.340427\n",
       "2020-01-03  11.568753  15.665324  12.359527\n",
       "2020-01-04   8.946025   3.574458  11.642698\n",
       "2020-01-05   5.191345   8.170991  19.588427\n",
       "2020-01-06   6.572476  12.111939  12.949150\n",
       "2020-01-07   4.904299  11.285133   4.680641\n",
       "2020-01-08  14.805502  11.313093   9.760673\n",
       "2020-01-09  10.066268   8.536391   9.329144\n",
       "2020-01-10   8.168011   8.521045   5.944391"
      ]
     },
     "execution_count": 39,
     "metadata": {},
     "output_type": "execute_result"
    }
   ],
   "source": [
    "df"
   ]
  },
  {
   "attachments": {
    "2020-12-22_12-07-42-b51a11c5e5bf98bec3bc104636a12d84.png": {
     "image/png": "[encoded data removed]"
    }
   },
   "cell_type": "markdown",
   "id": "193d2e0e",
   "metadata": {},
   "source": [
    "### Exercício 58\n",
    "O dataset abaixo armazena informações do campeonato brasileiro de futebol, série A, entre 2017 a 2019. Com base nestes dados responda:\n",
    "\n",
    "qual a média de pontos de cada time entre 2017-2019?\n",
    "\n",
    "qual a pontuação máxima e mínima por ano?\n",
    "\n",
    "qual a média de pontos por ano, dentre todos os times selecionados?\n",
    "\n",
    "quantos times estiveram no Top 5 em cada ano?\n",
    "\n",
    "obtenha estatísticas descritivas da pontuação para cada time (média, máximo, mínimo, desvio padrão, mediana), para o recorte temporal estabelecido.\n",
    "\n",
    "Use a função groupby().\n",
    "\n",
    "![2020-12-22_12-07-42-b51a11c5e5bf98bec3bc104636a12d84.png](attachment:2020-12-22_12-07-42-b51a11c5e5bf98bec3bc104636a12d84.png)"
   ]
  },
  {
   "cell_type": "markdown",
   "id": "5e42a1e4",
   "metadata": {},
   "source": [
    "#### Construção do DataFrame"
   ]
  },
  {
   "cell_type": "code",
   "execution_count": 50,
   "id": "d8e43157",
   "metadata": {},
   "outputs": [],
   "source": [
    "dados = {\n",
    "    'Pontos': [56, 74, 63, 63, 72, 50, 63, 44, 80],\n",
    "    'Rank': [8, 3, 6, 2, 1, 13, 5, 13, 1],\n",
    "    'Ano': [2019, 2019, 2019, 2017, 2017, 2017, 2018, 2018, 2018],\n",
    "    'Time': ['Corinthians', 'Palmeiras', 'São Paulo', \n",
    "            'Palmeiras', 'Corinthians', 'São Paulo',\n",
    "            'São Paulo', 'Corinthians', 'Palmeiras']}\n",
    "df = pd.DataFrame(dados)"
   ]
  },
  {
   "cell_type": "code",
   "execution_count": 51,
   "id": "d043b06a",
   "metadata": {},
   "outputs": [
    {
     "data": {
      "text/html": [
       "<div>\n",
       "<style scoped>\n",
       "    .dataframe tbody tr th:only-of-type {\n",
       "        vertical-align: middle;\n",
       "    }\n",
       "\n",
       "    .dataframe tbody tr th {\n",
       "        vertical-align: top;\n",
       "    }\n",
       "\n",
       "    .dataframe thead th {\n",
       "        text-align: right;\n",
       "    }\n",
       "</style>\n",
       "<table border=\"1\" class=\"dataframe\">\n",
       "  <thead>\n",
       "    <tr style=\"text-align: right;\">\n",
       "      <th></th>\n",
       "      <th>Pontos</th>\n",
       "      <th>Rank</th>\n",
       "      <th>Ano</th>\n",
       "      <th>Time</th>\n",
       "    </tr>\n",
       "  </thead>\n",
       "  <tbody>\n",
       "    <tr>\n",
       "      <th>0</th>\n",
       "      <td>56</td>\n",
       "      <td>8</td>\n",
       "      <td>2019</td>\n",
       "      <td>Corinthians</td>\n",
       "    </tr>\n",
       "    <tr>\n",
       "      <th>1</th>\n",
       "      <td>74</td>\n",
       "      <td>3</td>\n",
       "      <td>2019</td>\n",
       "      <td>Palmeiras</td>\n",
       "    </tr>\n",
       "    <tr>\n",
       "      <th>2</th>\n",
       "      <td>63</td>\n",
       "      <td>6</td>\n",
       "      <td>2019</td>\n",
       "      <td>São Paulo</td>\n",
       "    </tr>\n",
       "    <tr>\n",
       "      <th>3</th>\n",
       "      <td>63</td>\n",
       "      <td>2</td>\n",
       "      <td>2017</td>\n",
       "      <td>Palmeiras</td>\n",
       "    </tr>\n",
       "    <tr>\n",
       "      <th>4</th>\n",
       "      <td>72</td>\n",
       "      <td>1</td>\n",
       "      <td>2017</td>\n",
       "      <td>Corinthians</td>\n",
       "    </tr>\n",
       "    <tr>\n",
       "      <th>5</th>\n",
       "      <td>50</td>\n",
       "      <td>13</td>\n",
       "      <td>2017</td>\n",
       "      <td>São Paulo</td>\n",
       "    </tr>\n",
       "    <tr>\n",
       "      <th>6</th>\n",
       "      <td>63</td>\n",
       "      <td>5</td>\n",
       "      <td>2018</td>\n",
       "      <td>São Paulo</td>\n",
       "    </tr>\n",
       "    <tr>\n",
       "      <th>7</th>\n",
       "      <td>44</td>\n",
       "      <td>13</td>\n",
       "      <td>2018</td>\n",
       "      <td>Corinthians</td>\n",
       "    </tr>\n",
       "    <tr>\n",
       "      <th>8</th>\n",
       "      <td>80</td>\n",
       "      <td>1</td>\n",
       "      <td>2018</td>\n",
       "      <td>Palmeiras</td>\n",
       "    </tr>\n",
       "  </tbody>\n",
       "</table>\n",
       "</div>"
      ],
      "text/plain": [
       "   Pontos  Rank   Ano         Time\n",
       "0      56     8  2019  Corinthians\n",
       "1      74     3  2019    Palmeiras\n",
       "2      63     6  2019    São Paulo\n",
       "3      63     2  2017    Palmeiras\n",
       "4      72     1  2017  Corinthians\n",
       "5      50    13  2017    São Paulo\n",
       "6      63     5  2018    São Paulo\n",
       "7      44    13  2018  Corinthians\n",
       "8      80     1  2018    Palmeiras"
      ]
     },
     "execution_count": 51,
     "metadata": {},
     "output_type": "execute_result"
    }
   ],
   "source": [
    "df"
   ]
  },
  {
   "cell_type": "markdown",
   "id": "840faa82",
   "metadata": {},
   "source": [
    "#### Média de pontos de cada time(2017-20190"
   ]
  },
  {
   "cell_type": "code",
   "execution_count": 55,
   "id": "336e0acd",
   "metadata": {},
   "outputs": [
    {
     "data": {
      "text/plain": [
       "Time\n",
       "Corinthians    57.33\n",
       "Palmeiras      72.33\n",
       "São Paulo      58.67\n",
       "Name: Pontos, dtype: float64"
      ]
     },
     "execution_count": 55,
     "metadata": {},
     "output_type": "execute_result"
    }
   ],
   "source": [
    "df.groupby('Time')['Pontos'].mean().round(2)"
   ]
  },
  {
   "cell_type": "markdown",
   "id": "17598544",
   "metadata": {},
   "source": [
    "#### Pontuação Máxima e Mínima por ano - times selecionados"
   ]
  },
  {
   "cell_type": "code",
   "execution_count": 52,
   "id": "85445b7f",
   "metadata": {},
   "outputs": [
    {
     "data": {
      "text/html": [
       "<div>\n",
       "<style scoped>\n",
       "    .dataframe tbody tr th:only-of-type {\n",
       "        vertical-align: middle;\n",
       "    }\n",
       "\n",
       "    .dataframe tbody tr th {\n",
       "        vertical-align: top;\n",
       "    }\n",
       "\n",
       "    .dataframe thead tr th {\n",
       "        text-align: left;\n",
       "    }\n",
       "\n",
       "    .dataframe thead tr:last-of-type th {\n",
       "        text-align: right;\n",
       "    }\n",
       "</style>\n",
       "<table border=\"1\" class=\"dataframe\">\n",
       "  <thead>\n",
       "    <tr>\n",
       "      <th></th>\n",
       "      <th colspan=\"2\" halign=\"left\">Pontos</th>\n",
       "    </tr>\n",
       "    <tr>\n",
       "      <th></th>\n",
       "      <th>amin</th>\n",
       "      <th>amax</th>\n",
       "    </tr>\n",
       "    <tr>\n",
       "      <th>Ano</th>\n",
       "      <th></th>\n",
       "      <th></th>\n",
       "    </tr>\n",
       "  </thead>\n",
       "  <tbody>\n",
       "    <tr>\n",
       "      <th>2017</th>\n",
       "      <td>50</td>\n",
       "      <td>72</td>\n",
       "    </tr>\n",
       "    <tr>\n",
       "      <th>2018</th>\n",
       "      <td>44</td>\n",
       "      <td>80</td>\n",
       "    </tr>\n",
       "    <tr>\n",
       "      <th>2019</th>\n",
       "      <td>56</td>\n",
       "      <td>74</td>\n",
       "    </tr>\n",
       "  </tbody>\n",
       "</table>\n",
       "</div>"
      ],
      "text/plain": [
       "     Pontos     \n",
       "       amin amax\n",
       "Ano             \n",
       "2017     50   72\n",
       "2018     44   80\n",
       "2019     56   74"
      ]
     },
     "execution_count": 52,
     "metadata": {},
     "output_type": "execute_result"
    }
   ],
   "source": [
    "df.groupby('Ano')[['Pontos']].agg([np.min, np.max])"
   ]
  },
  {
   "cell_type": "markdown",
   "id": "79acef5a",
   "metadata": {},
   "source": [
    "#### Media de pontos por ano - times selecionados"
   ]
  },
  {
   "cell_type": "code",
   "execution_count": 56,
   "id": "348ee515",
   "metadata": {},
   "outputs": [
    {
     "data": {
      "text/plain": [
       "Ano\n",
       "2017    61.67\n",
       "2018    62.33\n",
       "2019    64.33\n",
       "Name: Pontos, dtype: float64"
      ]
     },
     "execution_count": 56,
     "metadata": {},
     "output_type": "execute_result"
    }
   ],
   "source": [
    "df.groupby('Ano')['Pontos'].mean().round(2)"
   ]
  },
  {
   "cell_type": "markdown",
   "id": "fbb67267",
   "metadata": {},
   "source": [
    "#### Quantidade de times no top 5 por ano"
   ]
  },
  {
   "cell_type": "code",
   "execution_count": 57,
   "id": "9ffb2e32",
   "metadata": {},
   "outputs": [
    {
     "data": {
      "text/plain": [
       "Ano\n",
       "2017    2\n",
       "2018    2\n",
       "2019    1\n",
       "Name: Time, dtype: int64"
      ]
     },
     "execution_count": 57,
     "metadata": {},
     "output_type": "execute_result"
    }
   ],
   "source": [
    "df[df['Rank']<= 5].groupby('Ano')['Time'].count()"
   ]
  },
  {
   "cell_type": "markdown",
   "id": "756e96f0",
   "metadata": {},
   "source": [
    "#### Estatísticas descritivas por time(2017- 2019)"
   ]
  },
  {
   "cell_type": "code",
   "execution_count": 59,
   "id": "29a6dfb3",
   "metadata": {},
   "outputs": [
    {
     "data": {
      "text/html": [
       "<div>\n",
       "<style scoped>\n",
       "    .dataframe tbody tr th:only-of-type {\n",
       "        vertical-align: middle;\n",
       "    }\n",
       "\n",
       "    .dataframe tbody tr th {\n",
       "        vertical-align: top;\n",
       "    }\n",
       "\n",
       "    .dataframe thead th {\n",
       "        text-align: right;\n",
       "    }\n",
       "</style>\n",
       "<table border=\"1\" class=\"dataframe\">\n",
       "  <thead>\n",
       "    <tr style=\"text-align: right;\">\n",
       "      <th></th>\n",
       "      <th>mean</th>\n",
       "      <th>std</th>\n",
       "      <th>var</th>\n",
       "      <th>median</th>\n",
       "    </tr>\n",
       "    <tr>\n",
       "      <th>Time</th>\n",
       "      <th></th>\n",
       "      <th></th>\n",
       "      <th></th>\n",
       "      <th></th>\n",
       "    </tr>\n",
       "  </thead>\n",
       "  <tbody>\n",
       "    <tr>\n",
       "      <th>Corinthians</th>\n",
       "      <td>57.333333</td>\n",
       "      <td>14.047538</td>\n",
       "      <td>197.333333</td>\n",
       "      <td>56.0</td>\n",
       "    </tr>\n",
       "    <tr>\n",
       "      <th>Palmeiras</th>\n",
       "      <td>72.333333</td>\n",
       "      <td>8.621678</td>\n",
       "      <td>74.333333</td>\n",
       "      <td>74.0</td>\n",
       "    </tr>\n",
       "    <tr>\n",
       "      <th>São Paulo</th>\n",
       "      <td>58.666667</td>\n",
       "      <td>7.505553</td>\n",
       "      <td>56.333333</td>\n",
       "      <td>63.0</td>\n",
       "    </tr>\n",
       "  </tbody>\n",
       "</table>\n",
       "</div>"
      ],
      "text/plain": [
       "                  mean        std         var  median\n",
       "Time                                                 \n",
       "Corinthians  57.333333  14.047538  197.333333    56.0\n",
       "Palmeiras    72.333333   8.621678   74.333333    74.0\n",
       "São Paulo    58.666667   7.505553   56.333333    63.0"
      ]
     },
     "execution_count": 59,
     "metadata": {},
     "output_type": "execute_result"
    }
   ],
   "source": [
    "df.groupby('Time')['Pontos'].agg([np.mean, np.std, np.var, np.median])"
   ]
  },
  {
   "attachments": {
    "2020-12-22_12-18-07-16745e3b2db5099225c348400331a9c8.png": {
     "image/png": "[encoded data removed]"
    }
   },
   "cell_type": "markdown",
   "id": "10ebd505",
   "metadata": {},
   "source": [
    "#### Exercício 59\n",
    "\n",
    "\n",
    "Construa os objetos do tipo DataFrame a seguir.\n",
    "\n",
    "df1:\n",
    "![2020-12-22_12-18-07-16745e3b2db5099225c348400331a9c8.png](attachment:2020-12-22_12-18-07-16745e3b2db5099225c348400331a9c8.png)\n",
    "\n",
    "df2:\n",
    "![2020-12-22_12-21-17-eaab523b85fa16a51d807d8a8d44e231.png](attachment:2020-12-22_12-21-17-eaab523b85fa16a51d807d8a8d44e231.png)\n",
    "\n",
    "data1 = {\n",
    "    'A': ['A0','A1','A2','A3'],\n",
    "    'B': ['B0', 'B1', 'B2', 'B3'],\n",
    "    'C': ['C0', 'C1', 'C2', 'C3'],\n",
    "    }\n",
    " \n",
    "data2 = {\n",
    "    'A':['A4', 'A5', 'A6', 'A7'],\n",
    "    'B':['B4', 'B5', 'B6', 'B7'],\n",
    "    'C':['C4', 'C5', 'C6', 'C7'],\n",
    "    }\n",
    " \n",
    "index = [1, 2, 3, 4]\n",
    "\n",
    "Use a função pd.concat() para concatenar os dados e obtenha:\n",
    "\n",
    "a)\n",
    "![2020-12-22_12-26-31-6020718ec129760c49066ec4a61ca66b.png](attachment:2020-12-22_12-26-31-6020718ec129760c49066ec4a61ca66b.png)\n",
    "\n",
    "b)\n",
    "![2020-12-22_12-27-18-27275c671a614f25e3488acc52def892.png](attachment:2020-12-22_12-27-18-27275c671a614f25e3488acc52def892.png)\n",
    "\n",
    "c)\n",
    "![2020-12-22_12-28-54-03ea8dba024799348a101e8e36a0d1e2.png](attachment:2020-12-22_12-28-54-03ea8dba024799348a101e8e36a0d1e2.png)\n",
    "\n",
    "d)\n",
    "![2020-12-22_12-31-14-2dcc5427e0a67f4c92cc5a75f8a5ce4c.png](attachment:2020-12-22_12-31-14-2dcc5427e0a67f4c92cc5a75f8a5ce4c.png)\n"
   ]
  },
  {
   "cell_type": "code",
   "execution_count": 2,
   "id": "d7b9f9af",
   "metadata": {},
   "outputs": [],
   "source": [
    "data1 = {\n",
    "    'A': ['A0', 'A1', 'A2', 'A3'],\n",
    "    'B': ['B0', 'B1', 'B2', 'B3'],\n",
    "    'C': ['C0', 'C1', 'C2', 'C3'],\n",
    "}\n",
    "data2 = {\n",
    "    'A': ['A4', 'A5', 'A6', 'A7'],\n",
    "    'B': ['B4', 'B5', 'B6', 'B7'],\n",
    "    'C': ['C4', 'C5', 'C6', 'C7'],\n",
    "}\n",
    "\n",
    "index = [1, 2, 3, 4]"
   ]
  },
  {
   "cell_type": "code",
   "execution_count": 3,
   "id": "89ec5d10",
   "metadata": {},
   "outputs": [],
   "source": [
    "df1 = pd.DataFrame(data1, index)\n",
    "df2 = pd.DataFrame(data2, index)"
   ]
  },
  {
   "cell_type": "code",
   "execution_count": 4,
   "id": "836794ad",
   "metadata": {},
   "outputs": [],
   "source": [
    "data1 = pd.concat([df1, df2], keys = ['Group A', 'Group B'])"
   ]
  },
  {
   "cell_type": "code",
   "execution_count": 5,
   "id": "699e12ec",
   "metadata": {},
   "outputs": [
    {
     "data": {
      "text/html": [
       "<div>\n",
       "<style scoped>\n",
       "    .dataframe tbody tr th:only-of-type {\n",
       "        vertical-align: middle;\n",
       "    }\n",
       "\n",
       "    .dataframe tbody tr th {\n",
       "        vertical-align: top;\n",
       "    }\n",
       "\n",
       "    .dataframe thead th {\n",
       "        text-align: right;\n",
       "    }\n",
       "</style>\n",
       "<table border=\"1\" class=\"dataframe\">\n",
       "  <thead>\n",
       "    <tr style=\"text-align: right;\">\n",
       "      <th></th>\n",
       "      <th></th>\n",
       "      <th>A</th>\n",
       "      <th>B</th>\n",
       "      <th>C</th>\n",
       "    </tr>\n",
       "  </thead>\n",
       "  <tbody>\n",
       "    <tr>\n",
       "      <th rowspan=\"4\" valign=\"top\">Group A</th>\n",
       "      <th>1</th>\n",
       "      <td>A0</td>\n",
       "      <td>B0</td>\n",
       "      <td>C0</td>\n",
       "    </tr>\n",
       "    <tr>\n",
       "      <th>2</th>\n",
       "      <td>A1</td>\n",
       "      <td>B1</td>\n",
       "      <td>C1</td>\n",
       "    </tr>\n",
       "    <tr>\n",
       "      <th>3</th>\n",
       "      <td>A2</td>\n",
       "      <td>B2</td>\n",
       "      <td>C2</td>\n",
       "    </tr>\n",
       "    <tr>\n",
       "      <th>4</th>\n",
       "      <td>A3</td>\n",
       "      <td>B3</td>\n",
       "      <td>C3</td>\n",
       "    </tr>\n",
       "    <tr>\n",
       "      <th rowspan=\"4\" valign=\"top\">Group B</th>\n",
       "      <th>1</th>\n",
       "      <td>A4</td>\n",
       "      <td>B4</td>\n",
       "      <td>C4</td>\n",
       "    </tr>\n",
       "    <tr>\n",
       "      <th>2</th>\n",
       "      <td>A5</td>\n",
       "      <td>B5</td>\n",
       "      <td>C5</td>\n",
       "    </tr>\n",
       "    <tr>\n",
       "      <th>3</th>\n",
       "      <td>A6</td>\n",
       "      <td>B6</td>\n",
       "      <td>C6</td>\n",
       "    </tr>\n",
       "    <tr>\n",
       "      <th>4</th>\n",
       "      <td>A7</td>\n",
       "      <td>B7</td>\n",
       "      <td>C7</td>\n",
       "    </tr>\n",
       "  </tbody>\n",
       "</table>\n",
       "</div>"
      ],
      "text/plain": [
       "            A   B   C\n",
       "Group A 1  A0  B0  C0\n",
       "        2  A1  B1  C1\n",
       "        3  A2  B2  C2\n",
       "        4  A3  B3  C3\n",
       "Group B 1  A4  B4  C4\n",
       "        2  A5  B5  C5\n",
       "        3  A6  B6  C6\n",
       "        4  A7  B7  C7"
      ]
     },
     "execution_count": 5,
     "metadata": {},
     "output_type": "execute_result"
    }
   ],
   "source": [
    "data1"
   ]
  },
  {
   "cell_type": "code",
   "execution_count": 6,
   "id": "687c526b",
   "metadata": {},
   "outputs": [],
   "source": [
    "data2 = pd.concat([df1, df2], ignore_index = True)"
   ]
  },
  {
   "cell_type": "code",
   "execution_count": 7,
   "id": "dff522e7",
   "metadata": {},
   "outputs": [
    {
     "data": {
      "text/html": [
       "<div>\n",
       "<style scoped>\n",
       "    .dataframe tbody tr th:only-of-type {\n",
       "        vertical-align: middle;\n",
       "    }\n",
       "\n",
       "    .dataframe tbody tr th {\n",
       "        vertical-align: top;\n",
       "    }\n",
       "\n",
       "    .dataframe thead th {\n",
       "        text-align: right;\n",
       "    }\n",
       "</style>\n",
       "<table border=\"1\" class=\"dataframe\">\n",
       "  <thead>\n",
       "    <tr style=\"text-align: right;\">\n",
       "      <th></th>\n",
       "      <th>A</th>\n",
       "      <th>B</th>\n",
       "      <th>C</th>\n",
       "    </tr>\n",
       "  </thead>\n",
       "  <tbody>\n",
       "    <tr>\n",
       "      <th>0</th>\n",
       "      <td>A0</td>\n",
       "      <td>B0</td>\n",
       "      <td>C0</td>\n",
       "    </tr>\n",
       "    <tr>\n",
       "      <th>1</th>\n",
       "      <td>A1</td>\n",
       "      <td>B1</td>\n",
       "      <td>C1</td>\n",
       "    </tr>\n",
       "    <tr>\n",
       "      <th>2</th>\n",
       "      <td>A2</td>\n",
       "      <td>B2</td>\n",
       "      <td>C2</td>\n",
       "    </tr>\n",
       "    <tr>\n",
       "      <th>3</th>\n",
       "      <td>A3</td>\n",
       "      <td>B3</td>\n",
       "      <td>C3</td>\n",
       "    </tr>\n",
       "    <tr>\n",
       "      <th>4</th>\n",
       "      <td>A4</td>\n",
       "      <td>B4</td>\n",
       "      <td>C4</td>\n",
       "    </tr>\n",
       "    <tr>\n",
       "      <th>5</th>\n",
       "      <td>A5</td>\n",
       "      <td>B5</td>\n",
       "      <td>C5</td>\n",
       "    </tr>\n",
       "    <tr>\n",
       "      <th>6</th>\n",
       "      <td>A6</td>\n",
       "      <td>B6</td>\n",
       "      <td>C6</td>\n",
       "    </tr>\n",
       "    <tr>\n",
       "      <th>7</th>\n",
       "      <td>A7</td>\n",
       "      <td>B7</td>\n",
       "      <td>C7</td>\n",
       "    </tr>\n",
       "  </tbody>\n",
       "</table>\n",
       "</div>"
      ],
      "text/plain": [
       "    A   B   C\n",
       "0  A0  B0  C0\n",
       "1  A1  B1  C1\n",
       "2  A2  B2  C2\n",
       "3  A3  B3  C3\n",
       "4  A4  B4  C4\n",
       "5  A5  B5  C5\n",
       "6  A6  B6  C6\n",
       "7  A7  B7  C7"
      ]
     },
     "execution_count": 7,
     "metadata": {},
     "output_type": "execute_result"
    }
   ],
   "source": [
    "data2"
   ]
  },
  {
   "cell_type": "code",
   "execution_count": 8,
   "id": "e393b0a2",
   "metadata": {},
   "outputs": [],
   "source": [
    "data3 = pd.concat([df1, df2], axis = 1)"
   ]
  },
  {
   "cell_type": "code",
   "execution_count": 9,
   "id": "5e90c98a",
   "metadata": {},
   "outputs": [
    {
     "data": {
      "text/html": [
       "<div>\n",
       "<style scoped>\n",
       "    .dataframe tbody tr th:only-of-type {\n",
       "        vertical-align: middle;\n",
       "    }\n",
       "\n",
       "    .dataframe tbody tr th {\n",
       "        vertical-align: top;\n",
       "    }\n",
       "\n",
       "    .dataframe thead th {\n",
       "        text-align: right;\n",
       "    }\n",
       "</style>\n",
       "<table border=\"1\" class=\"dataframe\">\n",
       "  <thead>\n",
       "    <tr style=\"text-align: right;\">\n",
       "      <th></th>\n",
       "      <th>A</th>\n",
       "      <th>B</th>\n",
       "      <th>C</th>\n",
       "      <th>A</th>\n",
       "      <th>B</th>\n",
       "      <th>C</th>\n",
       "    </tr>\n",
       "  </thead>\n",
       "  <tbody>\n",
       "    <tr>\n",
       "      <th>1</th>\n",
       "      <td>A0</td>\n",
       "      <td>B0</td>\n",
       "      <td>C0</td>\n",
       "      <td>A4</td>\n",
       "      <td>B4</td>\n",
       "      <td>C4</td>\n",
       "    </tr>\n",
       "    <tr>\n",
       "      <th>2</th>\n",
       "      <td>A1</td>\n",
       "      <td>B1</td>\n",
       "      <td>C1</td>\n",
       "      <td>A5</td>\n",
       "      <td>B5</td>\n",
       "      <td>C5</td>\n",
       "    </tr>\n",
       "    <tr>\n",
       "      <th>3</th>\n",
       "      <td>A2</td>\n",
       "      <td>B2</td>\n",
       "      <td>C2</td>\n",
       "      <td>A6</td>\n",
       "      <td>B6</td>\n",
       "      <td>C6</td>\n",
       "    </tr>\n",
       "    <tr>\n",
       "      <th>4</th>\n",
       "      <td>A3</td>\n",
       "      <td>B3</td>\n",
       "      <td>C3</td>\n",
       "      <td>A7</td>\n",
       "      <td>B7</td>\n",
       "      <td>C7</td>\n",
       "    </tr>\n",
       "  </tbody>\n",
       "</table>\n",
       "</div>"
      ],
      "text/plain": [
       "    A   B   C   A   B   C\n",
       "1  A0  B0  C0  A4  B4  C4\n",
       "2  A1  B1  C1  A5  B5  C5\n",
       "3  A2  B2  C2  A6  B6  C6\n",
       "4  A3  B3  C3  A7  B7  C7"
      ]
     },
     "execution_count": 9,
     "metadata": {},
     "output_type": "execute_result"
    }
   ],
   "source": [
    "data3"
   ]
  },
  {
   "cell_type": "code",
   "execution_count": 10,
   "id": "d7ee7762",
   "metadata": {},
   "outputs": [],
   "source": [
    "data4 = pd.concat([df1, df2], axis = 1, keys = ['Group A', 'Group B'])"
   ]
  },
  {
   "cell_type": "code",
   "execution_count": 11,
   "id": "3049663f",
   "metadata": {},
   "outputs": [
    {
     "data": {
      "text/html": [
       "<div>\n",
       "<style scoped>\n",
       "    .dataframe tbody tr th:only-of-type {\n",
       "        vertical-align: middle;\n",
       "    }\n",
       "\n",
       "    .dataframe tbody tr th {\n",
       "        vertical-align: top;\n",
       "    }\n",
       "\n",
       "    .dataframe thead tr th {\n",
       "        text-align: left;\n",
       "    }\n",
       "</style>\n",
       "<table border=\"1\" class=\"dataframe\">\n",
       "  <thead>\n",
       "    <tr>\n",
       "      <th></th>\n",
       "      <th colspan=\"3\" halign=\"left\">Group A</th>\n",
       "      <th colspan=\"3\" halign=\"left\">Group B</th>\n",
       "    </tr>\n",
       "    <tr>\n",
       "      <th></th>\n",
       "      <th>A</th>\n",
       "      <th>B</th>\n",
       "      <th>C</th>\n",
       "      <th>A</th>\n",
       "      <th>B</th>\n",
       "      <th>C</th>\n",
       "    </tr>\n",
       "  </thead>\n",
       "  <tbody>\n",
       "    <tr>\n",
       "      <th>1</th>\n",
       "      <td>A0</td>\n",
       "      <td>B0</td>\n",
       "      <td>C0</td>\n",
       "      <td>A4</td>\n",
       "      <td>B4</td>\n",
       "      <td>C4</td>\n",
       "    </tr>\n",
       "    <tr>\n",
       "      <th>2</th>\n",
       "      <td>A1</td>\n",
       "      <td>B1</td>\n",
       "      <td>C1</td>\n",
       "      <td>A5</td>\n",
       "      <td>B5</td>\n",
       "      <td>C5</td>\n",
       "    </tr>\n",
       "    <tr>\n",
       "      <th>3</th>\n",
       "      <td>A2</td>\n",
       "      <td>B2</td>\n",
       "      <td>C2</td>\n",
       "      <td>A6</td>\n",
       "      <td>B6</td>\n",
       "      <td>C6</td>\n",
       "    </tr>\n",
       "    <tr>\n",
       "      <th>4</th>\n",
       "      <td>A3</td>\n",
       "      <td>B3</td>\n",
       "      <td>C3</td>\n",
       "      <td>A7</td>\n",
       "      <td>B7</td>\n",
       "      <td>C7</td>\n",
       "    </tr>\n",
       "  </tbody>\n",
       "</table>\n",
       "</div>"
      ],
      "text/plain": [
       "  Group A         Group B        \n",
       "        A   B   C       A   B   C\n",
       "1      A0  B0  C0      A4  B4  C4\n",
       "2      A1  B1  C1      A5  B5  C5\n",
       "3      A2  B2  C2      A6  B6  C6\n",
       "4      A3  B3  C3      A7  B7  C7"
      ]
     },
     "execution_count": 11,
     "metadata": {},
     "output_type": "execute_result"
    }
   ],
   "source": [
    "data4"
   ]
  },
  {
   "attachments": {
    "2020-12-22_12-43-31-bf51dd85b10a9d3bb0ab778e72fecf34.png": {
     "image/png": "[encoded data removed]"
    }
   },
   "cell_type": "markdown",
   "id": "ea2b9d17",
   "metadata": {},
   "source": [
    "### Exercício 60\n",
    "Use os objetos do tipo DataFrame a seguir e use a função append() do pandas para concatenar os dados e obtenha:\n",
    "\n",
    "import pandas as pd\n",
    "\n",
    "index = [1, 2, 3]\n",
    "\n",
    "df1 = pd.DataFrame({\n",
    "\n",
    "    'A': ['A0','A1','A2',],\n",
    "\n",
    "    'B': ['B0', 'B1', 'B2'],\n",
    "\n",
    "    'C': ['C0', 'C1', 'C2'],\n",
    "\n",
    "    }, index = index)\n",
    " \n",
    "df2 = pd.DataFrame({\n",
    "\n",
    "    'A':['A3', 'A4', 'A5'],\n",
    "\n",
    "    'B':['B3', 'B4', 'B5'],\n",
    "\n",
    "    'C':['C3', 'C4', 'C5'],\n",
    "\n",
    "    }, index = index)\n",
    " \n",
    "\n",
    "df3 = pd.DataFrame({\n",
    "\n",
    "    'A': ['A6', 'A7', 'A8'],\n",
    "\n",
    "    'B': ['B6', 'B7', 'B8'],\n",
    "\n",
    "    'C': ['C6', 'C7', 'C8']\n",
    "\n",
    "    }, index = index)\n",
    "\n",
    "a)\n",
    "\n",
    "![2020-12-22_12-43-31-bf51dd85b10a9d3bb0ab778e72fecf34.png](attachment:2020-12-22_12-43-31-bf51dd85b10a9d3bb0ab778e72fecf34.png)"
   ]
  },
  {
   "attachments": {
    "2020-12-22_12-44-20-0170292a373f9d0557c45af055a96b9f.png": {
     "image/png": "[encoded data removed]"
    }
   },
   "cell_type": "markdown",
   "id": "b06d87fc",
   "metadata": {},
   "source": [
    "b)\n",
    "![2020-12-22_12-44-20-0170292a373f9d0557c45af055a96b9f.png](attachment:2020-12-22_12-44-20-0170292a373f9d0557c45af055a96b9f.png)"
   ]
  },
  {
   "cell_type": "code",
   "execution_count": 14,
   "id": "0b01cecc",
   "metadata": {},
   "outputs": [],
   "source": [
    "index = [1, 2, 3]\n",
    "df1 = pd.DataFrame({\n",
    "    'A': ['A0', 'A1', 'A2'],\n",
    "    'B': ['B0', 'B1', 'B2'],\n",
    "    'C': ['C0', 'C1', 'C2'],\n",
    "}, index = index)\n",
    "\n",
    "df2 = pd.DataFrame({\n",
    "    'A': ['A3', 'A4', 'A5'],\n",
    "    'B': ['B3', 'B4', 'B5'],\n",
    "    'C': ['C3', 'C4', 'C5'],\n",
    "}, index = index)\n",
    "\n",
    "df3 = pd.DataFrame({\n",
    "    'A': ['A6', 'A7', 'A8'],\n",
    "    'B': ['B6', 'B7', 'B8'],\n",
    "    'C': ['C6', 'C7', 'C8'],\n",
    "}, index = index)\n",
    "\n",
    "data1= df1.append(df2, ignore_index = True)\n",
    "data2= df1.append([df2, df3])"
   ]
  },
  {
   "cell_type": "code",
   "execution_count": 15,
   "id": "3ef1dfa3",
   "metadata": {},
   "outputs": [
    {
     "data": {
      "text/html": [
       "<div>\n",
       "<style scoped>\n",
       "    .dataframe tbody tr th:only-of-type {\n",
       "        vertical-align: middle;\n",
       "    }\n",
       "\n",
       "    .dataframe tbody tr th {\n",
       "        vertical-align: top;\n",
       "    }\n",
       "\n",
       "    .dataframe thead th {\n",
       "        text-align: right;\n",
       "    }\n",
       "</style>\n",
       "<table border=\"1\" class=\"dataframe\">\n",
       "  <thead>\n",
       "    <tr style=\"text-align: right;\">\n",
       "      <th></th>\n",
       "      <th>A</th>\n",
       "      <th>B</th>\n",
       "      <th>C</th>\n",
       "    </tr>\n",
       "  </thead>\n",
       "  <tbody>\n",
       "    <tr>\n",
       "      <th>0</th>\n",
       "      <td>A0</td>\n",
       "      <td>B0</td>\n",
       "      <td>C0</td>\n",
       "    </tr>\n",
       "    <tr>\n",
       "      <th>1</th>\n",
       "      <td>A1</td>\n",
       "      <td>B1</td>\n",
       "      <td>C1</td>\n",
       "    </tr>\n",
       "    <tr>\n",
       "      <th>2</th>\n",
       "      <td>A2</td>\n",
       "      <td>B2</td>\n",
       "      <td>C2</td>\n",
       "    </tr>\n",
       "    <tr>\n",
       "      <th>3</th>\n",
       "      <td>A3</td>\n",
       "      <td>B3</td>\n",
       "      <td>C3</td>\n",
       "    </tr>\n",
       "    <tr>\n",
       "      <th>4</th>\n",
       "      <td>A4</td>\n",
       "      <td>B4</td>\n",
       "      <td>C4</td>\n",
       "    </tr>\n",
       "    <tr>\n",
       "      <th>5</th>\n",
       "      <td>A5</td>\n",
       "      <td>B5</td>\n",
       "      <td>C5</td>\n",
       "    </tr>\n",
       "  </tbody>\n",
       "</table>\n",
       "</div>"
      ],
      "text/plain": [
       "    A   B   C\n",
       "0  A0  B0  C0\n",
       "1  A1  B1  C1\n",
       "2  A2  B2  C2\n",
       "3  A3  B3  C3\n",
       "4  A4  B4  C4\n",
       "5  A5  B5  C5"
      ]
     },
     "execution_count": 15,
     "metadata": {},
     "output_type": "execute_result"
    }
   ],
   "source": [
    "data1"
   ]
  },
  {
   "cell_type": "code",
   "execution_count": 16,
   "id": "949f2504",
   "metadata": {},
   "outputs": [
    {
     "data": {
      "text/html": [
       "<div>\n",
       "<style scoped>\n",
       "    .dataframe tbody tr th:only-of-type {\n",
       "        vertical-align: middle;\n",
       "    }\n",
       "\n",
       "    .dataframe tbody tr th {\n",
       "        vertical-align: top;\n",
       "    }\n",
       "\n",
       "    .dataframe thead th {\n",
       "        text-align: right;\n",
       "    }\n",
       "</style>\n",
       "<table border=\"1\" class=\"dataframe\">\n",
       "  <thead>\n",
       "    <tr style=\"text-align: right;\">\n",
       "      <th></th>\n",
       "      <th>A</th>\n",
       "      <th>B</th>\n",
       "      <th>C</th>\n",
       "    </tr>\n",
       "  </thead>\n",
       "  <tbody>\n",
       "    <tr>\n",
       "      <th>1</th>\n",
       "      <td>A0</td>\n",
       "      <td>B0</td>\n",
       "      <td>C0</td>\n",
       "    </tr>\n",
       "    <tr>\n",
       "      <th>2</th>\n",
       "      <td>A1</td>\n",
       "      <td>B1</td>\n",
       "      <td>C1</td>\n",
       "    </tr>\n",
       "    <tr>\n",
       "      <th>3</th>\n",
       "      <td>A2</td>\n",
       "      <td>B2</td>\n",
       "      <td>C2</td>\n",
       "    </tr>\n",
       "    <tr>\n",
       "      <th>1</th>\n",
       "      <td>A3</td>\n",
       "      <td>B3</td>\n",
       "      <td>C3</td>\n",
       "    </tr>\n",
       "    <tr>\n",
       "      <th>2</th>\n",
       "      <td>A4</td>\n",
       "      <td>B4</td>\n",
       "      <td>C4</td>\n",
       "    </tr>\n",
       "    <tr>\n",
       "      <th>3</th>\n",
       "      <td>A5</td>\n",
       "      <td>B5</td>\n",
       "      <td>C5</td>\n",
       "    </tr>\n",
       "    <tr>\n",
       "      <th>1</th>\n",
       "      <td>A6</td>\n",
       "      <td>B6</td>\n",
       "      <td>C6</td>\n",
       "    </tr>\n",
       "    <tr>\n",
       "      <th>2</th>\n",
       "      <td>A7</td>\n",
       "      <td>B7</td>\n",
       "      <td>C7</td>\n",
       "    </tr>\n",
       "    <tr>\n",
       "      <th>3</th>\n",
       "      <td>A8</td>\n",
       "      <td>B8</td>\n",
       "      <td>C8</td>\n",
       "    </tr>\n",
       "  </tbody>\n",
       "</table>\n",
       "</div>"
      ],
      "text/plain": [
       "    A   B   C\n",
       "1  A0  B0  C0\n",
       "2  A1  B1  C1\n",
       "3  A2  B2  C2\n",
       "1  A3  B3  C3\n",
       "2  A4  B4  C4\n",
       "3  A5  B5  C5\n",
       "1  A6  B6  C6\n",
       "2  A7  B7  C7\n",
       "3  A8  B8  C8"
      ]
     },
     "execution_count": 16,
     "metadata": {},
     "output_type": "execute_result"
    }
   ],
   "source": [
    "data2"
   ]
  },
  {
   "attachments": {
    "2021-05-23_20-37-20-ef94cec4720c29af716dd68e0035d286.png": {
     "image/png": "[encoded data removed]"
    }
   },
   "cell_type": "markdown",
   "id": "a012df29",
   "metadata": {},
   "source": [
    "### Exercício 61\n",
    "Mostre que o dataset abaixo possui missing data. Siga os seguinte passos:\n",
    "\n",
    "Construa o DataFrame;\n",
    "\n",
    "Use a função isna(), isnull(), notna() ou notnull() para verificar NaN em cada coluna do dataset;\n",
    "\n",
    "Use a função dropna() para remover as linhas com dados ausentes do dataset.\n",
    "\n",
    "![2021-05-23_20-37-20-ef94cec4720c29af716dd68e0035d286.png](attachment:2021-05-23_20-37-20-ef94cec4720c29af716dd68e0035d286.png)\n",
    "\n",
    "data = {\n",
    "    'A': [10, np.nan, 35, 47, 17, 13],\n",
    "    'B': ['A', np.nan, 'B', 'A', 'A', np.nan],\n",
    "    'C': [139, np.nan, np.nan, 199, 111, 140]}"
   ]
  },
  {
   "cell_type": "markdown",
   "id": "f08dfb11",
   "metadata": {},
   "source": [
    "#### Construção do DataFrame:\n"
   ]
  },
  {
   "cell_type": "code",
   "execution_count": 2,
   "id": "d40b9a0d",
   "metadata": {},
   "outputs": [],
   "source": [
    "index = pd.date_range(start = '2020-1-1', end = '2020-1-6', freq = 'D')\n",
    "data = {\n",
    "    'A': [10, np.nan, 35, 47, 17, 13],\n",
    "    'B': [ 'A', np.nan, 'B', 'A', 'A', np.nan],\n",
    "    'C': [139, np.nan, np.nan, 199, 111, 140]}\n",
    "df = pd.DataFrame(data = data, index = index)"
   ]
  },
  {
   "cell_type": "code",
   "execution_count": 3,
   "id": "943032a1",
   "metadata": {},
   "outputs": [
    {
     "data": {
      "text/html": [
       "<div>\n",
       "<style scoped>\n",
       "    .dataframe tbody tr th:only-of-type {\n",
       "        vertical-align: middle;\n",
       "    }\n",
       "\n",
       "    .dataframe tbody tr th {\n",
       "        vertical-align: top;\n",
       "    }\n",
       "\n",
       "    .dataframe thead th {\n",
       "        text-align: right;\n",
       "    }\n",
       "</style>\n",
       "<table border=\"1\" class=\"dataframe\">\n",
       "  <thead>\n",
       "    <tr style=\"text-align: right;\">\n",
       "      <th></th>\n",
       "      <th>A</th>\n",
       "      <th>B</th>\n",
       "      <th>C</th>\n",
       "    </tr>\n",
       "  </thead>\n",
       "  <tbody>\n",
       "    <tr>\n",
       "      <th>2020-01-01</th>\n",
       "      <td>10.0</td>\n",
       "      <td>A</td>\n",
       "      <td>139.0</td>\n",
       "    </tr>\n",
       "    <tr>\n",
       "      <th>2020-01-02</th>\n",
       "      <td>NaN</td>\n",
       "      <td>NaN</td>\n",
       "      <td>NaN</td>\n",
       "    </tr>\n",
       "    <tr>\n",
       "      <th>2020-01-03</th>\n",
       "      <td>35.0</td>\n",
       "      <td>B</td>\n",
       "      <td>NaN</td>\n",
       "    </tr>\n",
       "    <tr>\n",
       "      <th>2020-01-04</th>\n",
       "      <td>47.0</td>\n",
       "      <td>A</td>\n",
       "      <td>199.0</td>\n",
       "    </tr>\n",
       "    <tr>\n",
       "      <th>2020-01-05</th>\n",
       "      <td>17.0</td>\n",
       "      <td>A</td>\n",
       "      <td>111.0</td>\n",
       "    </tr>\n",
       "    <tr>\n",
       "      <th>2020-01-06</th>\n",
       "      <td>13.0</td>\n",
       "      <td>NaN</td>\n",
       "      <td>140.0</td>\n",
       "    </tr>\n",
       "  </tbody>\n",
       "</table>\n",
       "</div>"
      ],
      "text/plain": [
       "               A    B      C\n",
       "2020-01-01  10.0    A  139.0\n",
       "2020-01-02   NaN  NaN    NaN\n",
       "2020-01-03  35.0    B    NaN\n",
       "2020-01-04  47.0    A  199.0\n",
       "2020-01-05  17.0    A  111.0\n",
       "2020-01-06  13.0  NaN  140.0"
      ]
     },
     "execution_count": 3,
     "metadata": {},
     "output_type": "execute_result"
    }
   ],
   "source": [
    "df"
   ]
  },
  {
   "cell_type": "markdown",
   "id": "ad335c42",
   "metadata": {},
   "source": [
    "#### Verificando missing: \n"
   ]
  },
  {
   "cell_type": "code",
   "execution_count": 4,
   "id": "d32cd7d5",
   "metadata": {},
   "outputs": [
    {
     "data": {
      "text/html": [
       "<div>\n",
       "<style scoped>\n",
       "    .dataframe tbody tr th:only-of-type {\n",
       "        vertical-align: middle;\n",
       "    }\n",
       "\n",
       "    .dataframe tbody tr th {\n",
       "        vertical-align: top;\n",
       "    }\n",
       "\n",
       "    .dataframe thead th {\n",
       "        text-align: right;\n",
       "    }\n",
       "</style>\n",
       "<table border=\"1\" class=\"dataframe\">\n",
       "  <thead>\n",
       "    <tr style=\"text-align: right;\">\n",
       "      <th></th>\n",
       "      <th>A</th>\n",
       "      <th>B</th>\n",
       "      <th>C</th>\n",
       "    </tr>\n",
       "  </thead>\n",
       "  <tbody>\n",
       "    <tr>\n",
       "      <th>2020-01-01</th>\n",
       "      <td>False</td>\n",
       "      <td>False</td>\n",
       "      <td>False</td>\n",
       "    </tr>\n",
       "    <tr>\n",
       "      <th>2020-01-02</th>\n",
       "      <td>True</td>\n",
       "      <td>True</td>\n",
       "      <td>True</td>\n",
       "    </tr>\n",
       "    <tr>\n",
       "      <th>2020-01-03</th>\n",
       "      <td>False</td>\n",
       "      <td>False</td>\n",
       "      <td>True</td>\n",
       "    </tr>\n",
       "    <tr>\n",
       "      <th>2020-01-04</th>\n",
       "      <td>False</td>\n",
       "      <td>False</td>\n",
       "      <td>False</td>\n",
       "    </tr>\n",
       "    <tr>\n",
       "      <th>2020-01-05</th>\n",
       "      <td>False</td>\n",
       "      <td>False</td>\n",
       "      <td>False</td>\n",
       "    </tr>\n",
       "    <tr>\n",
       "      <th>2020-01-06</th>\n",
       "      <td>False</td>\n",
       "      <td>True</td>\n",
       "      <td>False</td>\n",
       "    </tr>\n",
       "  </tbody>\n",
       "</table>\n",
       "</div>"
      ],
      "text/plain": [
       "                A      B      C\n",
       "2020-01-01  False  False  False\n",
       "2020-01-02   True   True   True\n",
       "2020-01-03  False  False   True\n",
       "2020-01-04  False  False  False\n",
       "2020-01-05  False  False  False\n",
       "2020-01-06  False   True  False"
      ]
     },
     "execution_count": 4,
     "metadata": {},
     "output_type": "execute_result"
    }
   ],
   "source": [
    "df.isna()"
   ]
  },
  {
   "cell_type": "code",
   "execution_count": 5,
   "id": "dbec5259",
   "metadata": {},
   "outputs": [],
   "source": [
    "df = df.dropna(axis = 0)"
   ]
  },
  {
   "cell_type": "code",
   "execution_count": 6,
   "id": "fa17bf62",
   "metadata": {},
   "outputs": [
    {
     "data": {
      "text/html": [
       "<div>\n",
       "<style scoped>\n",
       "    .dataframe tbody tr th:only-of-type {\n",
       "        vertical-align: middle;\n",
       "    }\n",
       "\n",
       "    .dataframe tbody tr th {\n",
       "        vertical-align: top;\n",
       "    }\n",
       "\n",
       "    .dataframe thead th {\n",
       "        text-align: right;\n",
       "    }\n",
       "</style>\n",
       "<table border=\"1\" class=\"dataframe\">\n",
       "  <thead>\n",
       "    <tr style=\"text-align: right;\">\n",
       "      <th></th>\n",
       "      <th>A</th>\n",
       "      <th>B</th>\n",
       "      <th>C</th>\n",
       "    </tr>\n",
       "  </thead>\n",
       "  <tbody>\n",
       "    <tr>\n",
       "      <th>2020-01-01</th>\n",
       "      <td>10.0</td>\n",
       "      <td>A</td>\n",
       "      <td>139.0</td>\n",
       "    </tr>\n",
       "    <tr>\n",
       "      <th>2020-01-04</th>\n",
       "      <td>47.0</td>\n",
       "      <td>A</td>\n",
       "      <td>199.0</td>\n",
       "    </tr>\n",
       "    <tr>\n",
       "      <th>2020-01-05</th>\n",
       "      <td>17.0</td>\n",
       "      <td>A</td>\n",
       "      <td>111.0</td>\n",
       "    </tr>\n",
       "  </tbody>\n",
       "</table>\n",
       "</div>"
      ],
      "text/plain": [
       "               A  B      C\n",
       "2020-01-01  10.0  A  139.0\n",
       "2020-01-04  47.0  A  199.0\n",
       "2020-01-05  17.0  A  111.0"
      ]
     },
     "execution_count": 6,
     "metadata": {},
     "output_type": "execute_result"
    }
   ],
   "source": [
    "df"
   ]
  },
  {
   "cell_type": "markdown",
   "id": "545449c4",
   "metadata": {},
   "source": [
    "### Exercício 62\n",
    "Crie uma função que recebe um objeto DataFrame e retorne o percentual de missings em cada coluna do dataset. Se o objeto for da classe pandas.core.frame.DataFrame mostre o cálculo de missing data, caso contrário retorne None. Teste a função com o dataset anterior."
   ]
  },
  {
   "cell_type": "markdown",
   "id": "c6617efa",
   "metadata": {},
   "source": [
    "#### Escrevendo função:"
   ]
  },
  {
   "cell_type": "code",
   "execution_count": 8,
   "id": "d372c4df",
   "metadata": {},
   "outputs": [],
   "source": [
    "def mostrar_nan(data_frame):\n",
    "    import pandas as pd \n",
    "    \n",
    "    if isinstance(data_frame, pd.core.frame.DataFrame):\n",
    "        return ((data_frame.isna().sum()/data_frame.shape[0]).round(3))*100\n",
    "    else:\n",
    "        return None\n",
    "        "
   ]
  },
  {
   "cell_type": "markdown",
   "id": "b1fffd2f",
   "metadata": {},
   "source": [
    "#### Construção do DataFrame:"
   ]
  },
  {
   "cell_type": "code",
   "execution_count": 9,
   "id": "e991f1c7",
   "metadata": {},
   "outputs": [],
   "source": [
    "index = pd.date_range(start = '2020-1-1', end = '2020-1-6', freq = 'D')\n",
    "data = {\n",
    "    'A': [10, np.nan, 35, 47, 17, 13],\n",
    "    'B': ['A', np.nan, 'B', 'A', 'A', np.nan],\n",
    "    'C': [139, np.nan, np.nan, 199, 111, 140]}\n",
    "\n",
    "df = pd.DataFrame(data, index = index)"
   ]
  },
  {
   "cell_type": "markdown",
   "id": "4b06a2c3",
   "metadata": {},
   "source": [
    "#### Executando a função:"
   ]
  },
  {
   "cell_type": "code",
   "execution_count": 10,
   "id": "23110ba0",
   "metadata": {},
   "outputs": [
    {
     "data": {
      "text/plain": [
       "A    16.7\n",
       "B    33.3\n",
       "C    33.3\n",
       "dtype: float64"
      ]
     },
     "execution_count": 10,
     "metadata": {},
     "output_type": "execute_result"
    }
   ],
   "source": [
    "mostrar_nan(df)"
   ]
  },
  {
   "cell_type": "markdown",
   "id": "c2fc1c32",
   "metadata": {},
   "source": [
    "### Exercício 63\n",
    "Com o dataset do exercício 61 substitua todos os NaN pelo valor 0."
   ]
  },
  {
   "cell_type": "code",
   "execution_count": 11,
   "id": "1674232c",
   "metadata": {},
   "outputs": [],
   "source": [
    "df.fillna(value = 0, inplace = True)"
   ]
  },
  {
   "cell_type": "code",
   "execution_count": 12,
   "id": "b2af5d94",
   "metadata": {},
   "outputs": [
    {
     "data": {
      "text/html": [
       "<div>\n",
       "<style scoped>\n",
       "    .dataframe tbody tr th:only-of-type {\n",
       "        vertical-align: middle;\n",
       "    }\n",
       "\n",
       "    .dataframe tbody tr th {\n",
       "        vertical-align: top;\n",
       "    }\n",
       "\n",
       "    .dataframe thead th {\n",
       "        text-align: right;\n",
       "    }\n",
       "</style>\n",
       "<table border=\"1\" class=\"dataframe\">\n",
       "  <thead>\n",
       "    <tr style=\"text-align: right;\">\n",
       "      <th></th>\n",
       "      <th>A</th>\n",
       "      <th>B</th>\n",
       "      <th>C</th>\n",
       "    </tr>\n",
       "  </thead>\n",
       "  <tbody>\n",
       "    <tr>\n",
       "      <th>2020-01-01</th>\n",
       "      <td>10.0</td>\n",
       "      <td>A</td>\n",
       "      <td>139.0</td>\n",
       "    </tr>\n",
       "    <tr>\n",
       "      <th>2020-01-02</th>\n",
       "      <td>0.0</td>\n",
       "      <td>0</td>\n",
       "      <td>0.0</td>\n",
       "    </tr>\n",
       "    <tr>\n",
       "      <th>2020-01-03</th>\n",
       "      <td>35.0</td>\n",
       "      <td>B</td>\n",
       "      <td>0.0</td>\n",
       "    </tr>\n",
       "    <tr>\n",
       "      <th>2020-01-04</th>\n",
       "      <td>47.0</td>\n",
       "      <td>A</td>\n",
       "      <td>199.0</td>\n",
       "    </tr>\n",
       "    <tr>\n",
       "      <th>2020-01-05</th>\n",
       "      <td>17.0</td>\n",
       "      <td>A</td>\n",
       "      <td>111.0</td>\n",
       "    </tr>\n",
       "    <tr>\n",
       "      <th>2020-01-06</th>\n",
       "      <td>13.0</td>\n",
       "      <td>0</td>\n",
       "      <td>140.0</td>\n",
       "    </tr>\n",
       "  </tbody>\n",
       "</table>\n",
       "</div>"
      ],
      "text/plain": [
       "               A  B      C\n",
       "2020-01-01  10.0  A  139.0\n",
       "2020-01-02   0.0  0    0.0\n",
       "2020-01-03  35.0  B    0.0\n",
       "2020-01-04  47.0  A  199.0\n",
       "2020-01-05  17.0  A  111.0\n",
       "2020-01-06  13.0  0  140.0"
      ]
     },
     "execution_count": 12,
     "metadata": {},
     "output_type": "execute_result"
    }
   ],
   "source": [
    "df"
   ]
  },
  {
   "attachments": {
    "2020-12-22_13-07-25-adab26b3596c2fe679a7692159a7571c.png": {
     "image/png": "[encoded data removed]"
    }
   },
   "cell_type": "markdown",
   "id": "ca3cdb48",
   "metadata": {},
   "source": [
    "### Exercício 64\n",
    "Com base no DataFrame abaixo use a função fillna() para preenchar os dados ausentes em cada coluna, de acordo as seguintes regras:\n",
    "\n",
    "coluna A: substitua os NaN pela média dos valores;\n",
    "\n",
    "coluna B: substitua os NaN pela moda dos valores;\n",
    "\n",
    "coluna C: substitua os NaN pelo categoria 'A';\n",
    "\n",
    "coluna D: substitua os NaN pela mediana dos valores.\n",
    "\n",
    "![2020-12-22_13-07-25-adab26b3596c2fe679a7692159a7571c.png](attachment:2020-12-22_13-07-25-adab26b3596c2fe679a7692159a7571c.png)"
   ]
  },
  {
   "cell_type": "code",
   "execution_count": 14,
   "id": "976dae82",
   "metadata": {},
   "outputs": [],
   "source": [
    "index = pd.date_range(start = '2021-12-1', end = '2021-12-8')\n",
    "data = {\n",
    "    'A': [np.nan, 10, 11, 9, 17, 21, np.nan, np.nan],\n",
    "    'B': [np.nan, np.nan, 1, 1, 1, 0, np.nan, 1],\n",
    "    'C': ['A', 'B', 'B', 'A', np.nan, np.nan, np.nan, 'A'],\n",
    "    'D': [169, 133, np.nan, 172, np.nan, 133, 174, 170]}\n",
    "df = pd.DataFrame(data, index)"
   ]
  },
  {
   "cell_type": "code",
   "execution_count": 15,
   "id": "a9716290",
   "metadata": {},
   "outputs": [
    {
     "data": {
      "text/html": [
       "<div>\n",
       "<style scoped>\n",
       "    .dataframe tbody tr th:only-of-type {\n",
       "        vertical-align: middle;\n",
       "    }\n",
       "\n",
       "    .dataframe tbody tr th {\n",
       "        vertical-align: top;\n",
       "    }\n",
       "\n",
       "    .dataframe thead th {\n",
       "        text-align: right;\n",
       "    }\n",
       "</style>\n",
       "<table border=\"1\" class=\"dataframe\">\n",
       "  <thead>\n",
       "    <tr style=\"text-align: right;\">\n",
       "      <th></th>\n",
       "      <th>A</th>\n",
       "      <th>B</th>\n",
       "      <th>C</th>\n",
       "      <th>D</th>\n",
       "    </tr>\n",
       "  </thead>\n",
       "  <tbody>\n",
       "    <tr>\n",
       "      <th>2021-12-01</th>\n",
       "      <td>NaN</td>\n",
       "      <td>NaN</td>\n",
       "      <td>A</td>\n",
       "      <td>169.0</td>\n",
       "    </tr>\n",
       "    <tr>\n",
       "      <th>2021-12-02</th>\n",
       "      <td>10.0</td>\n",
       "      <td>NaN</td>\n",
       "      <td>B</td>\n",
       "      <td>133.0</td>\n",
       "    </tr>\n",
       "    <tr>\n",
       "      <th>2021-12-03</th>\n",
       "      <td>11.0</td>\n",
       "      <td>1.0</td>\n",
       "      <td>B</td>\n",
       "      <td>NaN</td>\n",
       "    </tr>\n",
       "    <tr>\n",
       "      <th>2021-12-04</th>\n",
       "      <td>9.0</td>\n",
       "      <td>1.0</td>\n",
       "      <td>A</td>\n",
       "      <td>172.0</td>\n",
       "    </tr>\n",
       "    <tr>\n",
       "      <th>2021-12-05</th>\n",
       "      <td>17.0</td>\n",
       "      <td>1.0</td>\n",
       "      <td>NaN</td>\n",
       "      <td>NaN</td>\n",
       "    </tr>\n",
       "    <tr>\n",
       "      <th>2021-12-06</th>\n",
       "      <td>21.0</td>\n",
       "      <td>0.0</td>\n",
       "      <td>NaN</td>\n",
       "      <td>133.0</td>\n",
       "    </tr>\n",
       "    <tr>\n",
       "      <th>2021-12-07</th>\n",
       "      <td>NaN</td>\n",
       "      <td>NaN</td>\n",
       "      <td>NaN</td>\n",
       "      <td>174.0</td>\n",
       "    </tr>\n",
       "    <tr>\n",
       "      <th>2021-12-08</th>\n",
       "      <td>NaN</td>\n",
       "      <td>1.0</td>\n",
       "      <td>A</td>\n",
       "      <td>170.0</td>\n",
       "    </tr>\n",
       "  </tbody>\n",
       "</table>\n",
       "</div>"
      ],
      "text/plain": [
       "               A    B    C      D\n",
       "2021-12-01   NaN  NaN    A  169.0\n",
       "2021-12-02  10.0  NaN    B  133.0\n",
       "2021-12-03  11.0  1.0    B    NaN\n",
       "2021-12-04   9.0  1.0    A  172.0\n",
       "2021-12-05  17.0  1.0  NaN    NaN\n",
       "2021-12-06  21.0  0.0  NaN  133.0\n",
       "2021-12-07   NaN  NaN  NaN  174.0\n",
       "2021-12-08   NaN  1.0    A  170.0"
      ]
     },
     "execution_count": 15,
     "metadata": {},
     "output_type": "execute_result"
    }
   ],
   "source": [
    "df"
   ]
  },
  {
   "cell_type": "markdown",
   "id": "0b706dff",
   "metadata": {},
   "source": [
    "#### Preenchendo o missing: "
   ]
  },
  {
   "cell_type": "code",
   "execution_count": 16,
   "id": "d9401818",
   "metadata": {},
   "outputs": [],
   "source": [
    "fill_missing = {\n",
    "    'A': df['A'].mean(),\n",
    "    'B': df['B'].mode()[0],\n",
    "    'C': 'A',\n",
    "    'D': df['D'].median()}\n",
    "\n",
    "df.fillna(fill_missing, inplace = True)"
   ]
  },
  {
   "cell_type": "code",
   "execution_count": 17,
   "id": "25bef60a",
   "metadata": {},
   "outputs": [
    {
     "data": {
      "text/html": [
       "<div>\n",
       "<style scoped>\n",
       "    .dataframe tbody tr th:only-of-type {\n",
       "        vertical-align: middle;\n",
       "    }\n",
       "\n",
       "    .dataframe tbody tr th {\n",
       "        vertical-align: top;\n",
       "    }\n",
       "\n",
       "    .dataframe thead th {\n",
       "        text-align: right;\n",
       "    }\n",
       "</style>\n",
       "<table border=\"1\" class=\"dataframe\">\n",
       "  <thead>\n",
       "    <tr style=\"text-align: right;\">\n",
       "      <th></th>\n",
       "      <th>A</th>\n",
       "      <th>B</th>\n",
       "      <th>C</th>\n",
       "      <th>D</th>\n",
       "    </tr>\n",
       "  </thead>\n",
       "  <tbody>\n",
       "    <tr>\n",
       "      <th>2021-12-01</th>\n",
       "      <td>13.6</td>\n",
       "      <td>1.0</td>\n",
       "      <td>A</td>\n",
       "      <td>169.0</td>\n",
       "    </tr>\n",
       "    <tr>\n",
       "      <th>2021-12-02</th>\n",
       "      <td>10.0</td>\n",
       "      <td>1.0</td>\n",
       "      <td>B</td>\n",
       "      <td>133.0</td>\n",
       "    </tr>\n",
       "    <tr>\n",
       "      <th>2021-12-03</th>\n",
       "      <td>11.0</td>\n",
       "      <td>1.0</td>\n",
       "      <td>B</td>\n",
       "      <td>169.5</td>\n",
       "    </tr>\n",
       "    <tr>\n",
       "      <th>2021-12-04</th>\n",
       "      <td>9.0</td>\n",
       "      <td>1.0</td>\n",
       "      <td>A</td>\n",
       "      <td>172.0</td>\n",
       "    </tr>\n",
       "    <tr>\n",
       "      <th>2021-12-05</th>\n",
       "      <td>17.0</td>\n",
       "      <td>1.0</td>\n",
       "      <td>A</td>\n",
       "      <td>169.5</td>\n",
       "    </tr>\n",
       "    <tr>\n",
       "      <th>2021-12-06</th>\n",
       "      <td>21.0</td>\n",
       "      <td>0.0</td>\n",
       "      <td>A</td>\n",
       "      <td>133.0</td>\n",
       "    </tr>\n",
       "    <tr>\n",
       "      <th>2021-12-07</th>\n",
       "      <td>13.6</td>\n",
       "      <td>1.0</td>\n",
       "      <td>A</td>\n",
       "      <td>174.0</td>\n",
       "    </tr>\n",
       "    <tr>\n",
       "      <th>2021-12-08</th>\n",
       "      <td>13.6</td>\n",
       "      <td>1.0</td>\n",
       "      <td>A</td>\n",
       "      <td>170.0</td>\n",
       "    </tr>\n",
       "  </tbody>\n",
       "</table>\n",
       "</div>"
      ],
      "text/plain": [
       "               A    B  C      D\n",
       "2021-12-01  13.6  1.0  A  169.0\n",
       "2021-12-02  10.0  1.0  B  133.0\n",
       "2021-12-03  11.0  1.0  B  169.5\n",
       "2021-12-04   9.0  1.0  A  172.0\n",
       "2021-12-05  17.0  1.0  A  169.5\n",
       "2021-12-06  21.0  0.0  A  133.0\n",
       "2021-12-07  13.6  1.0  A  174.0\n",
       "2021-12-08  13.6  1.0  A  170.0"
      ]
     },
     "execution_count": 17,
     "metadata": {},
     "output_type": "execute_result"
    }
   ],
   "source": [
    "df"
   ]
  },
  {
   "cell_type": "markdown",
   "id": "1ce6ca12",
   "metadata": {},
   "source": [
    "### Exercício 65\n",
    "Com base no DataFrame abaixo:\n",
    "\n",
    "remova as linhas duplicadas;\n",
    "\n",
    "altere o ID da brand W para 11;\n",
    "\n",
    "ordene o DataFrame pela coluna Rating;\n",
    "\n",
    "Mude o índice do DataFrame para a coluna 'ID';\n",
    "\n",
    "converta o DataFrame para um dicionário e armazene em uma variável.\n",
    "\n",
    "\n",
    "\n",
    "import pandas as pd\n",
    "\n",
    "\n",
    "\n",
    "data = {\n",
    "\n",
    "    'Brand': ['A', 'A', 'D', 'W', 'K'],\n",
    "    \n",
    "    'ID': [1, 1, 3, 5, 7],\n",
    "    \n",
    "    'Rating':[3.5, 3.5, 4, 8.2, 1]}\n",
    " \n",
    " \n",
    "df = pd.DataFrame(data)"
   ]
  },
  {
   "cell_type": "code",
   "execution_count": 18,
   "id": "15cd9b08",
   "metadata": {},
   "outputs": [],
   "source": [
    "data = {\n",
    "    'Brand': ['A', 'A', 'D', 'W', 'K'],\n",
    "    'ID': [1, 1, 3, 5, 7], \n",
    "    'Rating': [ 3.5, 3.5, 4, 8.2, 1]}\n",
    "\n",
    "df = pd. DataFrame(data)"
   ]
  },
  {
   "cell_type": "code",
   "execution_count": 19,
   "id": "e47b4e03",
   "metadata": {},
   "outputs": [
    {
     "data": {
      "text/html": [
       "<div>\n",
       "<style scoped>\n",
       "    .dataframe tbody tr th:only-of-type {\n",
       "        vertical-align: middle;\n",
       "    }\n",
       "\n",
       "    .dataframe tbody tr th {\n",
       "        vertical-align: top;\n",
       "    }\n",
       "\n",
       "    .dataframe thead th {\n",
       "        text-align: right;\n",
       "    }\n",
       "</style>\n",
       "<table border=\"1\" class=\"dataframe\">\n",
       "  <thead>\n",
       "    <tr style=\"text-align: right;\">\n",
       "      <th></th>\n",
       "      <th>Brand</th>\n",
       "      <th>ID</th>\n",
       "      <th>Rating</th>\n",
       "    </tr>\n",
       "  </thead>\n",
       "  <tbody>\n",
       "    <tr>\n",
       "      <th>0</th>\n",
       "      <td>A</td>\n",
       "      <td>1</td>\n",
       "      <td>3.5</td>\n",
       "    </tr>\n",
       "    <tr>\n",
       "      <th>1</th>\n",
       "      <td>A</td>\n",
       "      <td>1</td>\n",
       "      <td>3.5</td>\n",
       "    </tr>\n",
       "    <tr>\n",
       "      <th>2</th>\n",
       "      <td>D</td>\n",
       "      <td>3</td>\n",
       "      <td>4.0</td>\n",
       "    </tr>\n",
       "    <tr>\n",
       "      <th>3</th>\n",
       "      <td>W</td>\n",
       "      <td>5</td>\n",
       "      <td>8.2</td>\n",
       "    </tr>\n",
       "    <tr>\n",
       "      <th>4</th>\n",
       "      <td>K</td>\n",
       "      <td>7</td>\n",
       "      <td>1.0</td>\n",
       "    </tr>\n",
       "  </tbody>\n",
       "</table>\n",
       "</div>"
      ],
      "text/plain": [
       "  Brand  ID  Rating\n",
       "0     A   1     3.5\n",
       "1     A   1     3.5\n",
       "2     D   3     4.0\n",
       "3     W   5     8.2\n",
       "4     K   7     1.0"
      ]
     },
     "execution_count": 19,
     "metadata": {},
     "output_type": "execute_result"
    }
   ],
   "source": [
    "df"
   ]
  },
  {
   "cell_type": "markdown",
   "id": "9bb9d75f",
   "metadata": {},
   "source": [
    "#### Remova as linhas duplicadas;\n"
   ]
  },
  {
   "cell_type": "code",
   "execution_count": 20,
   "id": "7720c6a9",
   "metadata": {},
   "outputs": [],
   "source": [
    "df.drop_duplicates(inplace = True)"
   ]
  },
  {
   "cell_type": "code",
   "execution_count": 21,
   "id": "700b3891",
   "metadata": {},
   "outputs": [
    {
     "data": {
      "text/html": [
       "<div>\n",
       "<style scoped>\n",
       "    .dataframe tbody tr th:only-of-type {\n",
       "        vertical-align: middle;\n",
       "    }\n",
       "\n",
       "    .dataframe tbody tr th {\n",
       "        vertical-align: top;\n",
       "    }\n",
       "\n",
       "    .dataframe thead th {\n",
       "        text-align: right;\n",
       "    }\n",
       "</style>\n",
       "<table border=\"1\" class=\"dataframe\">\n",
       "  <thead>\n",
       "    <tr style=\"text-align: right;\">\n",
       "      <th></th>\n",
       "      <th>Brand</th>\n",
       "      <th>ID</th>\n",
       "      <th>Rating</th>\n",
       "    </tr>\n",
       "  </thead>\n",
       "  <tbody>\n",
       "    <tr>\n",
       "      <th>0</th>\n",
       "      <td>A</td>\n",
       "      <td>1</td>\n",
       "      <td>3.5</td>\n",
       "    </tr>\n",
       "    <tr>\n",
       "      <th>2</th>\n",
       "      <td>D</td>\n",
       "      <td>3</td>\n",
       "      <td>4.0</td>\n",
       "    </tr>\n",
       "    <tr>\n",
       "      <th>3</th>\n",
       "      <td>W</td>\n",
       "      <td>5</td>\n",
       "      <td>8.2</td>\n",
       "    </tr>\n",
       "    <tr>\n",
       "      <th>4</th>\n",
       "      <td>K</td>\n",
       "      <td>7</td>\n",
       "      <td>1.0</td>\n",
       "    </tr>\n",
       "  </tbody>\n",
       "</table>\n",
       "</div>"
      ],
      "text/plain": [
       "  Brand  ID  Rating\n",
       "0     A   1     3.5\n",
       "2     D   3     4.0\n",
       "3     W   5     8.2\n",
       "4     K   7     1.0"
      ]
     },
     "execution_count": 21,
     "metadata": {},
     "output_type": "execute_result"
    }
   ],
   "source": [
    "df"
   ]
  },
  {
   "cell_type": "markdown",
   "id": "d5db20b2",
   "metadata": {},
   "source": [
    "#### Altere o ID da brand W para 11;\n",
    "\n"
   ]
  },
  {
   "cell_type": "code",
   "execution_count": 22,
   "id": "95af793f",
   "metadata": {},
   "outputs": [],
   "source": [
    "df.at[3, 'ID'] = 11"
   ]
  },
  {
   "cell_type": "markdown",
   "id": "018b1e02",
   "metadata": {},
   "source": [
    "#### Ordene o DataFrame pela coluna Rating;"
   ]
  },
  {
   "cell_type": "code",
   "execution_count": 23,
   "id": "8acd35c1",
   "metadata": {},
   "outputs": [],
   "source": [
    "df.sort_values(by = 'Rating', inplace = True)"
   ]
  },
  {
   "cell_type": "code",
   "execution_count": 24,
   "id": "84023fb2",
   "metadata": {},
   "outputs": [
    {
     "data": {
      "text/html": [
       "<div>\n",
       "<style scoped>\n",
       "    .dataframe tbody tr th:only-of-type {\n",
       "        vertical-align: middle;\n",
       "    }\n",
       "\n",
       "    .dataframe tbody tr th {\n",
       "        vertical-align: top;\n",
       "    }\n",
       "\n",
       "    .dataframe thead th {\n",
       "        text-align: right;\n",
       "    }\n",
       "</style>\n",
       "<table border=\"1\" class=\"dataframe\">\n",
       "  <thead>\n",
       "    <tr style=\"text-align: right;\">\n",
       "      <th></th>\n",
       "      <th>Brand</th>\n",
       "      <th>ID</th>\n",
       "      <th>Rating</th>\n",
       "    </tr>\n",
       "  </thead>\n",
       "  <tbody>\n",
       "    <tr>\n",
       "      <th>4</th>\n",
       "      <td>K</td>\n",
       "      <td>7</td>\n",
       "      <td>1.0</td>\n",
       "    </tr>\n",
       "    <tr>\n",
       "      <th>0</th>\n",
       "      <td>A</td>\n",
       "      <td>1</td>\n",
       "      <td>3.5</td>\n",
       "    </tr>\n",
       "    <tr>\n",
       "      <th>2</th>\n",
       "      <td>D</td>\n",
       "      <td>3</td>\n",
       "      <td>4.0</td>\n",
       "    </tr>\n",
       "    <tr>\n",
       "      <th>3</th>\n",
       "      <td>W</td>\n",
       "      <td>11</td>\n",
       "      <td>8.2</td>\n",
       "    </tr>\n",
       "  </tbody>\n",
       "</table>\n",
       "</div>"
      ],
      "text/plain": [
       "  Brand  ID  Rating\n",
       "4     K   7     1.0\n",
       "0     A   1     3.5\n",
       "2     D   3     4.0\n",
       "3     W  11     8.2"
      ]
     },
     "execution_count": 24,
     "metadata": {},
     "output_type": "execute_result"
    }
   ],
   "source": [
    "df"
   ]
  },
  {
   "cell_type": "markdown",
   "id": "a32cb43b",
   "metadata": {},
   "source": [
    "#### Mude o índice do DataFrame para a coluna 'ID';\n",
    "\n"
   ]
  },
  {
   "cell_type": "code",
   "execution_count": 25,
   "id": "d5ac1627",
   "metadata": {},
   "outputs": [],
   "source": [
    "df.set_index('ID', inplace = True)"
   ]
  },
  {
   "cell_type": "code",
   "execution_count": 26,
   "id": "5f65aac8",
   "metadata": {},
   "outputs": [
    {
     "data": {
      "text/html": [
       "<div>\n",
       "<style scoped>\n",
       "    .dataframe tbody tr th:only-of-type {\n",
       "        vertical-align: middle;\n",
       "    }\n",
       "\n",
       "    .dataframe tbody tr th {\n",
       "        vertical-align: top;\n",
       "    }\n",
       "\n",
       "    .dataframe thead th {\n",
       "        text-align: right;\n",
       "    }\n",
       "</style>\n",
       "<table border=\"1\" class=\"dataframe\">\n",
       "  <thead>\n",
       "    <tr style=\"text-align: right;\">\n",
       "      <th></th>\n",
       "      <th>Brand</th>\n",
       "      <th>Rating</th>\n",
       "    </tr>\n",
       "    <tr>\n",
       "      <th>ID</th>\n",
       "      <th></th>\n",
       "      <th></th>\n",
       "    </tr>\n",
       "  </thead>\n",
       "  <tbody>\n",
       "    <tr>\n",
       "      <th>7</th>\n",
       "      <td>K</td>\n",
       "      <td>1.0</td>\n",
       "    </tr>\n",
       "    <tr>\n",
       "      <th>1</th>\n",
       "      <td>A</td>\n",
       "      <td>3.5</td>\n",
       "    </tr>\n",
       "    <tr>\n",
       "      <th>3</th>\n",
       "      <td>D</td>\n",
       "      <td>4.0</td>\n",
       "    </tr>\n",
       "    <tr>\n",
       "      <th>11</th>\n",
       "      <td>W</td>\n",
       "      <td>8.2</td>\n",
       "    </tr>\n",
       "  </tbody>\n",
       "</table>\n",
       "</div>"
      ],
      "text/plain": [
       "   Brand  Rating\n",
       "ID              \n",
       "7      K     1.0\n",
       "1      A     3.5\n",
       "3      D     4.0\n",
       "11     W     8.2"
      ]
     },
     "execution_count": 26,
     "metadata": {},
     "output_type": "execute_result"
    }
   ],
   "source": [
    "df"
   ]
  },
  {
   "cell_type": "code",
   "execution_count": 27,
   "id": "6d068ab8",
   "metadata": {},
   "outputs": [],
   "source": [
    "dicionario_dados = df.to_dict()"
   ]
  },
  {
   "cell_type": "code",
   "execution_count": 28,
   "id": "ce05c534",
   "metadata": {},
   "outputs": [
    {
     "data": {
      "text/plain": [
       "{'Brand': {7: 'K', 1: 'A', 3: 'D', 11: 'W'},\n",
       " 'Rating': {7: 1.0, 1: 3.5, 3: 4.0, 11: 8.2}}"
      ]
     },
     "execution_count": 28,
     "metadata": {},
     "output_type": "execute_result"
    }
   ],
   "source": [
    "dicionario_dados"
   ]
  },
  {
   "cell_type": "markdown",
   "id": "ec0a286e",
   "metadata": {},
   "source": [
    "## Exercícios 66-70\n",
    "1. Use a função pd.read_csv() para carregar o dataset insurance.csv, anexo nesta aula; armazene em uma variável;\n",
    "\n",
    "2.  Mostre a quantidade de linhas e colunas (shape);\n",
    "\n",
    "3. Mostre informações básicas do dataset com a função info();\n",
    "\n",
    "4. Mostre o dtype de cada coluna;\n",
    "\n",
    "5. Mostre as colunas do dataset;\n",
    "\n",
    "6. Mostre informações estatísticas da coluna 'age';\n",
    "\n",
    "7. Imprima os valores únicos de cada coluna, com exceção da coluna bmi;\n",
    "\n",
    "8. Mostre a distribuição das idades;\n",
    "\n",
    "9. Verifique se há missing no dataset;\n",
    "\n",
    "10. Verifique se há linhas duplicadas no DataFrame, caso existam linhas duplicadas delete;\n",
    "\n",
    "11. Mostre as variáveis com o tipo de dado object;\n",
    "\n",
    "12. Mostre apenas as colunas numéricas do dataset;\n",
    "\n",
    "13. Converta as colunas numéricas para uma lista;\n",
    "\n",
    "14. Converta as colunas não numéricas para uma lista;\n",
    "\n",
    "15. Converta o dtype das variáveis sex, smoker e region para category; confira novamente o dtype das colunas;\n",
    "\n",
    "16. Mostre estatísticas descritivas das colunas categóricas;\n",
    "\n",
    "17. Mostre estatísticas descritivas das colunas numéricas;\n",
    "\n",
    "18. Mostre a proporção entre homens e mulheres;\n",
    "\n",
    "19. Retorne todas as pessoas com idade igual ou superior a 62 anos;\n",
    "\n",
    "20. Retorne todas as pessoas com idade igual a 18 anos;\n",
    "\n",
    "21. Conte quantas pessoas residem na região 'southwest';\n",
    "\n",
    "22. Ordene o DataFrame pela coluna 'age' em ordem crescente;\n",
    "\n",
    "23. Visualize a distribuição das idades por meio de um plot boxplot;\n",
    "\n",
    "24. Visualize a distribuição das idades usando histograma."
   ]
  },
  {
   "cell_type": "markdown",
   "id": "c9eeda02",
   "metadata": {},
   "source": [
    "### 1)"
   ]
  },
  {
   "cell_type": "code",
   "execution_count": 30,
   "id": "8874eeb8",
   "metadata": {},
   "outputs": [],
   "source": [
    "df = pd.read_csv('insurance.csv')"
   ]
  },
  {
   "cell_type": "code",
   "execution_count": 31,
   "id": "c0adf5a9",
   "metadata": {},
   "outputs": [
    {
     "data": {
      "text/html": [
       "<div>\n",
       "<style scoped>\n",
       "    .dataframe tbody tr th:only-of-type {\n",
       "        vertical-align: middle;\n",
       "    }\n",
       "\n",
       "    .dataframe tbody tr th {\n",
       "        vertical-align: top;\n",
       "    }\n",
       "\n",
       "    .dataframe thead th {\n",
       "        text-align: right;\n",
       "    }\n",
       "</style>\n",
       "<table border=\"1\" class=\"dataframe\">\n",
       "  <thead>\n",
       "    <tr style=\"text-align: right;\">\n",
       "      <th></th>\n",
       "      <th>age</th>\n",
       "      <th>sex</th>\n",
       "      <th>bmi</th>\n",
       "      <th>children</th>\n",
       "      <th>smoker</th>\n",
       "      <th>region</th>\n",
       "      <th>charges</th>\n",
       "    </tr>\n",
       "  </thead>\n",
       "  <tbody>\n",
       "    <tr>\n",
       "      <th>0</th>\n",
       "      <td>19</td>\n",
       "      <td>female</td>\n",
       "      <td>27.900</td>\n",
       "      <td>0</td>\n",
       "      <td>yes</td>\n",
       "      <td>southwest</td>\n",
       "      <td>16884.92400</td>\n",
       "    </tr>\n",
       "    <tr>\n",
       "      <th>1</th>\n",
       "      <td>18</td>\n",
       "      <td>male</td>\n",
       "      <td>33.770</td>\n",
       "      <td>1</td>\n",
       "      <td>no</td>\n",
       "      <td>southeast</td>\n",
       "      <td>1725.55230</td>\n",
       "    </tr>\n",
       "    <tr>\n",
       "      <th>2</th>\n",
       "      <td>28</td>\n",
       "      <td>male</td>\n",
       "      <td>33.000</td>\n",
       "      <td>3</td>\n",
       "      <td>no</td>\n",
       "      <td>southeast</td>\n",
       "      <td>4449.46200</td>\n",
       "    </tr>\n",
       "    <tr>\n",
       "      <th>3</th>\n",
       "      <td>33</td>\n",
       "      <td>male</td>\n",
       "      <td>22.705</td>\n",
       "      <td>0</td>\n",
       "      <td>no</td>\n",
       "      <td>northwest</td>\n",
       "      <td>21984.47061</td>\n",
       "    </tr>\n",
       "    <tr>\n",
       "      <th>4</th>\n",
       "      <td>32</td>\n",
       "      <td>male</td>\n",
       "      <td>28.880</td>\n",
       "      <td>0</td>\n",
       "      <td>no</td>\n",
       "      <td>northwest</td>\n",
       "      <td>3866.85520</td>\n",
       "    </tr>\n",
       "  </tbody>\n",
       "</table>\n",
       "</div>"
      ],
      "text/plain": [
       "   age     sex     bmi  children smoker     region      charges\n",
       "0   19  female  27.900         0    yes  southwest  16884.92400\n",
       "1   18    male  33.770         1     no  southeast   1725.55230\n",
       "2   28    male  33.000         3     no  southeast   4449.46200\n",
       "3   33    male  22.705         0     no  northwest  21984.47061\n",
       "4   32    male  28.880         0     no  northwest   3866.85520"
      ]
     },
     "execution_count": 31,
     "metadata": {},
     "output_type": "execute_result"
    }
   ],
   "source": [
    "df.head()"
   ]
  },
  {
   "cell_type": "markdown",
   "id": "10f01727",
   "metadata": {},
   "source": [
    "### 2)"
   ]
  },
  {
   "cell_type": "code",
   "execution_count": 33,
   "id": "2a2e0f51",
   "metadata": {},
   "outputs": [
    {
     "data": {
      "text/plain": [
       "(1338, 7)"
      ]
     },
     "execution_count": 33,
     "metadata": {},
     "output_type": "execute_result"
    }
   ],
   "source": [
    "df.shape"
   ]
  },
  {
   "cell_type": "markdown",
   "id": "1f867412",
   "metadata": {},
   "source": [
    "### 3)"
   ]
  },
  {
   "cell_type": "code",
   "execution_count": 34,
   "id": "8befffb3",
   "metadata": {},
   "outputs": [
    {
     "name": "stdout",
     "output_type": "stream",
     "text": [
      "<class 'pandas.core.frame.DataFrame'>\n",
      "RangeIndex: 1338 entries, 0 to 1337\n",
      "Data columns (total 7 columns):\n",
      " #   Column    Non-Null Count  Dtype  \n",
      "---  ------    --------------  -----  \n",
      " 0   age       1338 non-null   int64  \n",
      " 1   sex       1338 non-null   object \n",
      " 2   bmi       1338 non-null   float64\n",
      " 3   children  1338 non-null   int64  \n",
      " 4   smoker    1338 non-null   object \n",
      " 5   region    1338 non-null   object \n",
      " 6   charges   1338 non-null   float64\n",
      "dtypes: float64(2), int64(2), object(3)\n",
      "memory usage: 73.3+ KB\n"
     ]
    }
   ],
   "source": [
    "df.info()"
   ]
  },
  {
   "cell_type": "markdown",
   "id": "662516db",
   "metadata": {},
   "source": [
    "### 4)"
   ]
  },
  {
   "cell_type": "code",
   "execution_count": 35,
   "id": "d73a1590",
   "metadata": {},
   "outputs": [
    {
     "data": {
      "text/plain": [
       "age           int64\n",
       "sex          object\n",
       "bmi         float64\n",
       "children      int64\n",
       "smoker       object\n",
       "region       object\n",
       "charges     float64\n",
       "dtype: object"
      ]
     },
     "execution_count": 35,
     "metadata": {},
     "output_type": "execute_result"
    }
   ],
   "source": [
    "df.dtypes"
   ]
  },
  {
   "cell_type": "markdown",
   "id": "ba283121",
   "metadata": {},
   "source": [
    "### 5)"
   ]
  },
  {
   "cell_type": "code",
   "execution_count": 36,
   "id": "d5d29428",
   "metadata": {},
   "outputs": [
    {
     "data": {
      "text/plain": [
       "Index(['age', 'sex', 'bmi', 'children', 'smoker', 'region', 'charges'], dtype='object')"
      ]
     },
     "execution_count": 36,
     "metadata": {},
     "output_type": "execute_result"
    }
   ],
   "source": [
    "df.columns"
   ]
  },
  {
   "cell_type": "markdown",
   "id": "fb21c7f3",
   "metadata": {},
   "source": [
    "### 6)"
   ]
  },
  {
   "cell_type": "code",
   "execution_count": 37,
   "id": "14933287",
   "metadata": {},
   "outputs": [
    {
     "data": {
      "text/plain": [
       "count    1338.000000\n",
       "mean       39.207025\n",
       "std        14.049960\n",
       "min        18.000000\n",
       "25%        27.000000\n",
       "50%        39.000000\n",
       "75%        51.000000\n",
       "max        64.000000\n",
       "Name: age, dtype: float64"
      ]
     },
     "execution_count": 37,
     "metadata": {},
     "output_type": "execute_result"
    }
   ],
   "source": [
    "df['age'].describe()"
   ]
  },
  {
   "cell_type": "markdown",
   "id": "98c695b5",
   "metadata": {},
   "source": [
    "### 7)"
   ]
  },
  {
   "cell_type": "code",
   "execution_count": 38,
   "id": "54576a7c",
   "metadata": {},
   "outputs": [
    {
     "name": "stdout",
     "output_type": "stream",
     "text": [
      "AGE\n",
      "[19 18 28 33 32 31 46 37 60 25 62 23 56 27 52 30 34 59 63 55 22 26 35 24\n",
      " 41 38 36 21 48 40 58 53 43 64 20 61 44 57 29 45 54 49 47 51 42 50 39]\n",
      "\n",
      "SEX\n",
      "['female' 'male']\n",
      "\n",
      "CHILDREN\n",
      "[0 1 3 2 5 4]\n",
      "\n",
      "SMOKER\n",
      "['yes' 'no']\n",
      "\n",
      "REGION\n",
      "['southwest' 'southeast' 'northwest' 'northeast']\n",
      "\n",
      "CHARGES\n",
      "[16884.924   1725.5523  4449.462  ...  1629.8335  2007.945  29141.3603]\n",
      "\n"
     ]
    }
   ],
   "source": [
    "# Cria um Loop para mostrar os valores únicos de cada coluna, exclusive coluna bmi\n",
    "\n",
    "for col in df:\n",
    "    if col == 'bmi':\n",
    "        continue\n",
    "    else:\n",
    "        print(col.upper())\n",
    "        print(df[col].unique())\n",
    "        print()"
   ]
  },
  {
   "cell_type": "markdown",
   "id": "ce12d45b",
   "metadata": {},
   "source": [
    "### 8)"
   ]
  },
  {
   "cell_type": "code",
   "execution_count": 39,
   "id": "13dd3b68",
   "metadata": {},
   "outputs": [
    {
     "data": {
      "text/plain": [
       "18    69\n",
       "19    68\n",
       "20    29\n",
       "21    28\n",
       "22    28\n",
       "23    28\n",
       "24    28\n",
       "25    28\n",
       "26    28\n",
       "27    28\n",
       "28    28\n",
       "29    27\n",
       "30    27\n",
       "31    27\n",
       "32    26\n",
       "33    26\n",
       "34    26\n",
       "35    25\n",
       "36    25\n",
       "37    25\n",
       "38    25\n",
       "39    25\n",
       "40    27\n",
       "41    27\n",
       "42    27\n",
       "43    27\n",
       "44    27\n",
       "45    29\n",
       "46    29\n",
       "47    29\n",
       "48    29\n",
       "49    28\n",
       "50    29\n",
       "51    29\n",
       "52    29\n",
       "53    28\n",
       "54    28\n",
       "55    26\n",
       "56    26\n",
       "57    26\n",
       "58    25\n",
       "59    25\n",
       "60    23\n",
       "61    23\n",
       "62    23\n",
       "63    23\n",
       "64    22\n",
       "Name: age, dtype: int64"
      ]
     },
     "execution_count": 39,
     "metadata": {},
     "output_type": "execute_result"
    }
   ],
   "source": [
    "df['age'].value_counts().sort_index()"
   ]
  },
  {
   "cell_type": "markdown",
   "id": "02a63464",
   "metadata": {},
   "source": [
    "### 9)"
   ]
  },
  {
   "cell_type": "code",
   "execution_count": 40,
   "id": "d24de927",
   "metadata": {},
   "outputs": [
    {
     "data": {
      "text/plain": [
       "age         0\n",
       "sex         0\n",
       "bmi         0\n",
       "children    0\n",
       "smoker      0\n",
       "region      0\n",
       "charges     0\n",
       "dtype: int64"
      ]
     },
     "execution_count": 40,
     "metadata": {},
     "output_type": "execute_result"
    }
   ],
   "source": [
    "# Soma a quantidade de missing data em cada coluna \n",
    "df.isna().sum()"
   ]
  },
  {
   "cell_type": "markdown",
   "id": "94fe837e",
   "metadata": {},
   "source": [
    "### 10)"
   ]
  },
  {
   "cell_type": "code",
   "execution_count": 41,
   "id": "37171904",
   "metadata": {},
   "outputs": [
    {
     "data": {
      "text/html": [
       "<div>\n",
       "<style scoped>\n",
       "    .dataframe tbody tr th:only-of-type {\n",
       "        vertical-align: middle;\n",
       "    }\n",
       "\n",
       "    .dataframe tbody tr th {\n",
       "        vertical-align: top;\n",
       "    }\n",
       "\n",
       "    .dataframe thead th {\n",
       "        text-align: right;\n",
       "    }\n",
       "</style>\n",
       "<table border=\"1\" class=\"dataframe\">\n",
       "  <thead>\n",
       "    <tr style=\"text-align: right;\">\n",
       "      <th></th>\n",
       "      <th>age</th>\n",
       "      <th>sex</th>\n",
       "      <th>bmi</th>\n",
       "      <th>children</th>\n",
       "      <th>smoker</th>\n",
       "      <th>region</th>\n",
       "      <th>charges</th>\n",
       "    </tr>\n",
       "  </thead>\n",
       "  <tbody>\n",
       "    <tr>\n",
       "      <th>581</th>\n",
       "      <td>19</td>\n",
       "      <td>male</td>\n",
       "      <td>30.59</td>\n",
       "      <td>0</td>\n",
       "      <td>no</td>\n",
       "      <td>northwest</td>\n",
       "      <td>1639.5631</td>\n",
       "    </tr>\n",
       "  </tbody>\n",
       "</table>\n",
       "</div>"
      ],
      "text/plain": [
       "     age   sex    bmi  children smoker     region    charges\n",
       "581   19  male  30.59         0     no  northwest  1639.5631"
      ]
     },
     "execution_count": 41,
     "metadata": {},
     "output_type": "execute_result"
    }
   ],
   "source": [
    "# Verifica de há linhas duplicadas\n",
    "df[df.duplicated()]"
   ]
  },
  {
   "cell_type": "code",
   "execution_count": 42,
   "id": "4a9cdd03",
   "metadata": {},
   "outputs": [],
   "source": [
    "# Remove as linhas duplicadas \n",
    "df = df.drop_duplicates()"
   ]
  },
  {
   "cell_type": "code",
   "execution_count": 43,
   "id": "920603cd",
   "metadata": {},
   "outputs": [
    {
     "data": {
      "text/html": [
       "<div>\n",
       "<style scoped>\n",
       "    .dataframe tbody tr th:only-of-type {\n",
       "        vertical-align: middle;\n",
       "    }\n",
       "\n",
       "    .dataframe tbody tr th {\n",
       "        vertical-align: top;\n",
       "    }\n",
       "\n",
       "    .dataframe thead th {\n",
       "        text-align: right;\n",
       "    }\n",
       "</style>\n",
       "<table border=\"1\" class=\"dataframe\">\n",
       "  <thead>\n",
       "    <tr style=\"text-align: right;\">\n",
       "      <th></th>\n",
       "      <th>age</th>\n",
       "      <th>sex</th>\n",
       "      <th>bmi</th>\n",
       "      <th>children</th>\n",
       "      <th>smoker</th>\n",
       "      <th>region</th>\n",
       "      <th>charges</th>\n",
       "    </tr>\n",
       "  </thead>\n",
       "  <tbody>\n",
       "    <tr>\n",
       "      <th>0</th>\n",
       "      <td>19</td>\n",
       "      <td>female</td>\n",
       "      <td>27.900</td>\n",
       "      <td>0</td>\n",
       "      <td>yes</td>\n",
       "      <td>southwest</td>\n",
       "      <td>16884.92400</td>\n",
       "    </tr>\n",
       "    <tr>\n",
       "      <th>1</th>\n",
       "      <td>18</td>\n",
       "      <td>male</td>\n",
       "      <td>33.770</td>\n",
       "      <td>1</td>\n",
       "      <td>no</td>\n",
       "      <td>southeast</td>\n",
       "      <td>1725.55230</td>\n",
       "    </tr>\n",
       "    <tr>\n",
       "      <th>2</th>\n",
       "      <td>28</td>\n",
       "      <td>male</td>\n",
       "      <td>33.000</td>\n",
       "      <td>3</td>\n",
       "      <td>no</td>\n",
       "      <td>southeast</td>\n",
       "      <td>4449.46200</td>\n",
       "    </tr>\n",
       "    <tr>\n",
       "      <th>3</th>\n",
       "      <td>33</td>\n",
       "      <td>male</td>\n",
       "      <td>22.705</td>\n",
       "      <td>0</td>\n",
       "      <td>no</td>\n",
       "      <td>northwest</td>\n",
       "      <td>21984.47061</td>\n",
       "    </tr>\n",
       "    <tr>\n",
       "      <th>4</th>\n",
       "      <td>32</td>\n",
       "      <td>male</td>\n",
       "      <td>28.880</td>\n",
       "      <td>0</td>\n",
       "      <td>no</td>\n",
       "      <td>northwest</td>\n",
       "      <td>3866.85520</td>\n",
       "    </tr>\n",
       "    <tr>\n",
       "      <th>...</th>\n",
       "      <td>...</td>\n",
       "      <td>...</td>\n",
       "      <td>...</td>\n",
       "      <td>...</td>\n",
       "      <td>...</td>\n",
       "      <td>...</td>\n",
       "      <td>...</td>\n",
       "    </tr>\n",
       "    <tr>\n",
       "      <th>1333</th>\n",
       "      <td>50</td>\n",
       "      <td>male</td>\n",
       "      <td>30.970</td>\n",
       "      <td>3</td>\n",
       "      <td>no</td>\n",
       "      <td>northwest</td>\n",
       "      <td>10600.54830</td>\n",
       "    </tr>\n",
       "    <tr>\n",
       "      <th>1334</th>\n",
       "      <td>18</td>\n",
       "      <td>female</td>\n",
       "      <td>31.920</td>\n",
       "      <td>0</td>\n",
       "      <td>no</td>\n",
       "      <td>northeast</td>\n",
       "      <td>2205.98080</td>\n",
       "    </tr>\n",
       "    <tr>\n",
       "      <th>1335</th>\n",
       "      <td>18</td>\n",
       "      <td>female</td>\n",
       "      <td>36.850</td>\n",
       "      <td>0</td>\n",
       "      <td>no</td>\n",
       "      <td>southeast</td>\n",
       "      <td>1629.83350</td>\n",
       "    </tr>\n",
       "    <tr>\n",
       "      <th>1336</th>\n",
       "      <td>21</td>\n",
       "      <td>female</td>\n",
       "      <td>25.800</td>\n",
       "      <td>0</td>\n",
       "      <td>no</td>\n",
       "      <td>southwest</td>\n",
       "      <td>2007.94500</td>\n",
       "    </tr>\n",
       "    <tr>\n",
       "      <th>1337</th>\n",
       "      <td>61</td>\n",
       "      <td>female</td>\n",
       "      <td>29.070</td>\n",
       "      <td>0</td>\n",
       "      <td>yes</td>\n",
       "      <td>northwest</td>\n",
       "      <td>29141.36030</td>\n",
       "    </tr>\n",
       "  </tbody>\n",
       "</table>\n",
       "<p>1337 rows × 7 columns</p>\n",
       "</div>"
      ],
      "text/plain": [
       "      age     sex     bmi  children smoker     region      charges\n",
       "0      19  female  27.900         0    yes  southwest  16884.92400\n",
       "1      18    male  33.770         1     no  southeast   1725.55230\n",
       "2      28    male  33.000         3     no  southeast   4449.46200\n",
       "3      33    male  22.705         0     no  northwest  21984.47061\n",
       "4      32    male  28.880         0     no  northwest   3866.85520\n",
       "...   ...     ...     ...       ...    ...        ...          ...\n",
       "1333   50    male  30.970         3     no  northwest  10600.54830\n",
       "1334   18  female  31.920         0     no  northeast   2205.98080\n",
       "1335   18  female  36.850         0     no  southeast   1629.83350\n",
       "1336   21  female  25.800         0     no  southwest   2007.94500\n",
       "1337   61  female  29.070         0    yes  northwest  29141.36030\n",
       "\n",
       "[1337 rows x 7 columns]"
      ]
     },
     "execution_count": 43,
     "metadata": {},
     "output_type": "execute_result"
    }
   ],
   "source": [
    "df"
   ]
  },
  {
   "cell_type": "markdown",
   "id": "ae7e2d0c",
   "metadata": {},
   "source": [
    "### 11)"
   ]
  },
  {
   "cell_type": "code",
   "execution_count": 44,
   "id": "3625fc53",
   "metadata": {},
   "outputs": [
    {
     "data": {
      "text/html": [
       "<div>\n",
       "<style scoped>\n",
       "    .dataframe tbody tr th:only-of-type {\n",
       "        vertical-align: middle;\n",
       "    }\n",
       "\n",
       "    .dataframe tbody tr th {\n",
       "        vertical-align: top;\n",
       "    }\n",
       "\n",
       "    .dataframe thead th {\n",
       "        text-align: right;\n",
       "    }\n",
       "</style>\n",
       "<table border=\"1\" class=\"dataframe\">\n",
       "  <thead>\n",
       "    <tr style=\"text-align: right;\">\n",
       "      <th></th>\n",
       "      <th>sex</th>\n",
       "      <th>smoker</th>\n",
       "      <th>region</th>\n",
       "    </tr>\n",
       "  </thead>\n",
       "  <tbody>\n",
       "    <tr>\n",
       "      <th>0</th>\n",
       "      <td>female</td>\n",
       "      <td>yes</td>\n",
       "      <td>southwest</td>\n",
       "    </tr>\n",
       "    <tr>\n",
       "      <th>1</th>\n",
       "      <td>male</td>\n",
       "      <td>no</td>\n",
       "      <td>southeast</td>\n",
       "    </tr>\n",
       "    <tr>\n",
       "      <th>2</th>\n",
       "      <td>male</td>\n",
       "      <td>no</td>\n",
       "      <td>southeast</td>\n",
       "    </tr>\n",
       "    <tr>\n",
       "      <th>3</th>\n",
       "      <td>male</td>\n",
       "      <td>no</td>\n",
       "      <td>northwest</td>\n",
       "    </tr>\n",
       "    <tr>\n",
       "      <th>4</th>\n",
       "      <td>male</td>\n",
       "      <td>no</td>\n",
       "      <td>northwest</td>\n",
       "    </tr>\n",
       "    <tr>\n",
       "      <th>...</th>\n",
       "      <td>...</td>\n",
       "      <td>...</td>\n",
       "      <td>...</td>\n",
       "    </tr>\n",
       "    <tr>\n",
       "      <th>1333</th>\n",
       "      <td>male</td>\n",
       "      <td>no</td>\n",
       "      <td>northwest</td>\n",
       "    </tr>\n",
       "    <tr>\n",
       "      <th>1334</th>\n",
       "      <td>female</td>\n",
       "      <td>no</td>\n",
       "      <td>northeast</td>\n",
       "    </tr>\n",
       "    <tr>\n",
       "      <th>1335</th>\n",
       "      <td>female</td>\n",
       "      <td>no</td>\n",
       "      <td>southeast</td>\n",
       "    </tr>\n",
       "    <tr>\n",
       "      <th>1336</th>\n",
       "      <td>female</td>\n",
       "      <td>no</td>\n",
       "      <td>southwest</td>\n",
       "    </tr>\n",
       "    <tr>\n",
       "      <th>1337</th>\n",
       "      <td>female</td>\n",
       "      <td>yes</td>\n",
       "      <td>northwest</td>\n",
       "    </tr>\n",
       "  </tbody>\n",
       "</table>\n",
       "<p>1337 rows × 3 columns</p>\n",
       "</div>"
      ],
      "text/plain": [
       "         sex smoker     region\n",
       "0     female    yes  southwest\n",
       "1       male     no  southeast\n",
       "2       male     no  southeast\n",
       "3       male     no  northwest\n",
       "4       male     no  northwest\n",
       "...      ...    ...        ...\n",
       "1333    male     no  northwest\n",
       "1334  female     no  northeast\n",
       "1335  female     no  southeast\n",
       "1336  female     no  southwest\n",
       "1337  female    yes  northwest\n",
       "\n",
       "[1337 rows x 3 columns]"
      ]
     },
     "execution_count": 44,
     "metadata": {},
     "output_type": "execute_result"
    }
   ],
   "source": [
    "df.select_dtypes(include = 'object')"
   ]
  },
  {
   "cell_type": "markdown",
   "id": "3dac9eca",
   "metadata": {},
   "source": [
    "### 12)"
   ]
  },
  {
   "cell_type": "code",
   "execution_count": 45,
   "id": "da9e3125",
   "metadata": {},
   "outputs": [
    {
     "data": {
      "text/html": [
       "<div>\n",
       "<style scoped>\n",
       "    .dataframe tbody tr th:only-of-type {\n",
       "        vertical-align: middle;\n",
       "    }\n",
       "\n",
       "    .dataframe tbody tr th {\n",
       "        vertical-align: top;\n",
       "    }\n",
       "\n",
       "    .dataframe thead th {\n",
       "        text-align: right;\n",
       "    }\n",
       "</style>\n",
       "<table border=\"1\" class=\"dataframe\">\n",
       "  <thead>\n",
       "    <tr style=\"text-align: right;\">\n",
       "      <th></th>\n",
       "      <th>age</th>\n",
       "      <th>bmi</th>\n",
       "      <th>children</th>\n",
       "      <th>charges</th>\n",
       "    </tr>\n",
       "  </thead>\n",
       "  <tbody>\n",
       "    <tr>\n",
       "      <th>0</th>\n",
       "      <td>19</td>\n",
       "      <td>27.900</td>\n",
       "      <td>0</td>\n",
       "      <td>16884.92400</td>\n",
       "    </tr>\n",
       "    <tr>\n",
       "      <th>1</th>\n",
       "      <td>18</td>\n",
       "      <td>33.770</td>\n",
       "      <td>1</td>\n",
       "      <td>1725.55230</td>\n",
       "    </tr>\n",
       "    <tr>\n",
       "      <th>2</th>\n",
       "      <td>28</td>\n",
       "      <td>33.000</td>\n",
       "      <td>3</td>\n",
       "      <td>4449.46200</td>\n",
       "    </tr>\n",
       "    <tr>\n",
       "      <th>3</th>\n",
       "      <td>33</td>\n",
       "      <td>22.705</td>\n",
       "      <td>0</td>\n",
       "      <td>21984.47061</td>\n",
       "    </tr>\n",
       "    <tr>\n",
       "      <th>4</th>\n",
       "      <td>32</td>\n",
       "      <td>28.880</td>\n",
       "      <td>0</td>\n",
       "      <td>3866.85520</td>\n",
       "    </tr>\n",
       "    <tr>\n",
       "      <th>...</th>\n",
       "      <td>...</td>\n",
       "      <td>...</td>\n",
       "      <td>...</td>\n",
       "      <td>...</td>\n",
       "    </tr>\n",
       "    <tr>\n",
       "      <th>1333</th>\n",
       "      <td>50</td>\n",
       "      <td>30.970</td>\n",
       "      <td>3</td>\n",
       "      <td>10600.54830</td>\n",
       "    </tr>\n",
       "    <tr>\n",
       "      <th>1334</th>\n",
       "      <td>18</td>\n",
       "      <td>31.920</td>\n",
       "      <td>0</td>\n",
       "      <td>2205.98080</td>\n",
       "    </tr>\n",
       "    <tr>\n",
       "      <th>1335</th>\n",
       "      <td>18</td>\n",
       "      <td>36.850</td>\n",
       "      <td>0</td>\n",
       "      <td>1629.83350</td>\n",
       "    </tr>\n",
       "    <tr>\n",
       "      <th>1336</th>\n",
       "      <td>21</td>\n",
       "      <td>25.800</td>\n",
       "      <td>0</td>\n",
       "      <td>2007.94500</td>\n",
       "    </tr>\n",
       "    <tr>\n",
       "      <th>1337</th>\n",
       "      <td>61</td>\n",
       "      <td>29.070</td>\n",
       "      <td>0</td>\n",
       "      <td>29141.36030</td>\n",
       "    </tr>\n",
       "  </tbody>\n",
       "</table>\n",
       "<p>1337 rows × 4 columns</p>\n",
       "</div>"
      ],
      "text/plain": [
       "      age     bmi  children      charges\n",
       "0      19  27.900         0  16884.92400\n",
       "1      18  33.770         1   1725.55230\n",
       "2      28  33.000         3   4449.46200\n",
       "3      33  22.705         0  21984.47061\n",
       "4      32  28.880         0   3866.85520\n",
       "...   ...     ...       ...          ...\n",
       "1333   50  30.970         3  10600.54830\n",
       "1334   18  31.920         0   2205.98080\n",
       "1335   18  36.850         0   1629.83350\n",
       "1336   21  25.800         0   2007.94500\n",
       "1337   61  29.070         0  29141.36030\n",
       "\n",
       "[1337 rows x 4 columns]"
      ]
     },
     "execution_count": 45,
     "metadata": {},
     "output_type": "execute_result"
    }
   ],
   "source": [
    "df.select_dtypes(include = ['float', 'int']) # Ou df.select_dtypes(exclude = 'object')"
   ]
  },
  {
   "cell_type": "markdown",
   "id": "9a86d7a3",
   "metadata": {},
   "source": [
    "### 13)"
   ]
  },
  {
   "cell_type": "code",
   "execution_count": 48,
   "id": "22aeab35",
   "metadata": {},
   "outputs": [],
   "source": [
    "colunas_numericas = df.select_dtypes(include = ['float', 'int']).columns.tolist()"
   ]
  },
  {
   "cell_type": "code",
   "execution_count": 49,
   "id": "e07b2c63",
   "metadata": {},
   "outputs": [
    {
     "data": {
      "text/plain": [
       "['age', 'bmi', 'children', 'charges']"
      ]
     },
     "execution_count": 49,
     "metadata": {},
     "output_type": "execute_result"
    }
   ],
   "source": [
    "colunas_numericas"
   ]
  },
  {
   "cell_type": "markdown",
   "id": "993bedce",
   "metadata": {},
   "source": [
    "### 14)"
   ]
  },
  {
   "cell_type": "code",
   "execution_count": 50,
   "id": "3a28de8d",
   "metadata": {},
   "outputs": [],
   "source": [
    "colunas_categoricas = df.select_dtypes(include = 'object').columns.tolist()"
   ]
  },
  {
   "cell_type": "code",
   "execution_count": 51,
   "id": "8fa2c47f",
   "metadata": {},
   "outputs": [
    {
     "data": {
      "text/plain": [
       "['sex', 'smoker', 'region']"
      ]
     },
     "execution_count": 51,
     "metadata": {},
     "output_type": "execute_result"
    }
   ],
   "source": [
    "colunas_categoricas"
   ]
  },
  {
   "cell_type": "markdown",
   "id": "7b62980c",
   "metadata": {},
   "source": [
    "### 15)"
   ]
  },
  {
   "cell_type": "code",
   "execution_count": 52,
   "id": "231a153b",
   "metadata": {},
   "outputs": [],
   "source": [
    "for col in colunas_categoricas:\n",
    "    df[col] = df[col].astype('category')"
   ]
  },
  {
   "cell_type": "code",
   "execution_count": 53,
   "id": "ad3ad9ba",
   "metadata": {},
   "outputs": [
    {
     "data": {
      "text/plain": [
       "age            int64\n",
       "sex         category\n",
       "bmi          float64\n",
       "children       int64\n",
       "smoker      category\n",
       "region      category\n",
       "charges      float64\n",
       "dtype: object"
      ]
     },
     "execution_count": 53,
     "metadata": {},
     "output_type": "execute_result"
    }
   ],
   "source": [
    "df.dtypes"
   ]
  },
  {
   "cell_type": "markdown",
   "id": "5f8ed0ef",
   "metadata": {},
   "source": [
    "### 16)"
   ]
  },
  {
   "cell_type": "code",
   "execution_count": 54,
   "id": "20fb3505",
   "metadata": {},
   "outputs": [
    {
     "data": {
      "text/html": [
       "<div>\n",
       "<style scoped>\n",
       "    .dataframe tbody tr th:only-of-type {\n",
       "        vertical-align: middle;\n",
       "    }\n",
       "\n",
       "    .dataframe tbody tr th {\n",
       "        vertical-align: top;\n",
       "    }\n",
       "\n",
       "    .dataframe thead th {\n",
       "        text-align: right;\n",
       "    }\n",
       "</style>\n",
       "<table border=\"1\" class=\"dataframe\">\n",
       "  <thead>\n",
       "    <tr style=\"text-align: right;\">\n",
       "      <th></th>\n",
       "      <th>count</th>\n",
       "      <th>unique</th>\n",
       "      <th>top</th>\n",
       "      <th>freq</th>\n",
       "    </tr>\n",
       "  </thead>\n",
       "  <tbody>\n",
       "    <tr>\n",
       "      <th>sex</th>\n",
       "      <td>1337</td>\n",
       "      <td>2</td>\n",
       "      <td>male</td>\n",
       "      <td>675</td>\n",
       "    </tr>\n",
       "    <tr>\n",
       "      <th>smoker</th>\n",
       "      <td>1337</td>\n",
       "      <td>2</td>\n",
       "      <td>no</td>\n",
       "      <td>1063</td>\n",
       "    </tr>\n",
       "    <tr>\n",
       "      <th>region</th>\n",
       "      <td>1337</td>\n",
       "      <td>4</td>\n",
       "      <td>southeast</td>\n",
       "      <td>364</td>\n",
       "    </tr>\n",
       "  </tbody>\n",
       "</table>\n",
       "</div>"
      ],
      "text/plain": [
       "       count unique        top  freq\n",
       "sex     1337      2       male   675\n",
       "smoker  1337      2         no  1063\n",
       "region  1337      4  southeast   364"
      ]
     },
     "execution_count": 54,
     "metadata": {},
     "output_type": "execute_result"
    }
   ],
   "source": [
    "df[colunas_categoricas].describe().T"
   ]
  },
  {
   "cell_type": "markdown",
   "id": "54744251",
   "metadata": {},
   "source": [
    "### 17) \n"
   ]
  },
  {
   "cell_type": "code",
   "execution_count": 55,
   "id": "282896b8",
   "metadata": {},
   "outputs": [
    {
     "data": {
      "text/html": [
       "<div>\n",
       "<style scoped>\n",
       "    .dataframe tbody tr th:only-of-type {\n",
       "        vertical-align: middle;\n",
       "    }\n",
       "\n",
       "    .dataframe tbody tr th {\n",
       "        vertical-align: top;\n",
       "    }\n",
       "\n",
       "    .dataframe thead th {\n",
       "        text-align: right;\n",
       "    }\n",
       "</style>\n",
       "<table border=\"1\" class=\"dataframe\">\n",
       "  <thead>\n",
       "    <tr style=\"text-align: right;\">\n",
       "      <th></th>\n",
       "      <th>count</th>\n",
       "      <th>mean</th>\n",
       "      <th>std</th>\n",
       "      <th>min</th>\n",
       "      <th>25%</th>\n",
       "      <th>50%</th>\n",
       "      <th>75%</th>\n",
       "      <th>max</th>\n",
       "    </tr>\n",
       "  </thead>\n",
       "  <tbody>\n",
       "    <tr>\n",
       "      <th>age</th>\n",
       "      <td>1337.0</td>\n",
       "      <td>39.222139</td>\n",
       "      <td>14.044333</td>\n",
       "      <td>18.0000</td>\n",
       "      <td>27.000</td>\n",
       "      <td>39.0000</td>\n",
       "      <td>51.00000</td>\n",
       "      <td>64.00000</td>\n",
       "    </tr>\n",
       "    <tr>\n",
       "      <th>bmi</th>\n",
       "      <td>1337.0</td>\n",
       "      <td>30.663452</td>\n",
       "      <td>6.100468</td>\n",
       "      <td>15.9600</td>\n",
       "      <td>26.290</td>\n",
       "      <td>30.4000</td>\n",
       "      <td>34.70000</td>\n",
       "      <td>53.13000</td>\n",
       "    </tr>\n",
       "    <tr>\n",
       "      <th>children</th>\n",
       "      <td>1337.0</td>\n",
       "      <td>1.095737</td>\n",
       "      <td>1.205571</td>\n",
       "      <td>0.0000</td>\n",
       "      <td>0.000</td>\n",
       "      <td>1.0000</td>\n",
       "      <td>2.00000</td>\n",
       "      <td>5.00000</td>\n",
       "    </tr>\n",
       "    <tr>\n",
       "      <th>charges</th>\n",
       "      <td>1337.0</td>\n",
       "      <td>13279.121487</td>\n",
       "      <td>12110.359656</td>\n",
       "      <td>1121.8739</td>\n",
       "      <td>4746.344</td>\n",
       "      <td>9386.1613</td>\n",
       "      <td>16657.71745</td>\n",
       "      <td>63770.42801</td>\n",
       "    </tr>\n",
       "  </tbody>\n",
       "</table>\n",
       "</div>"
      ],
      "text/plain": [
       "           count          mean           std        min       25%        50%  \\\n",
       "age       1337.0     39.222139     14.044333    18.0000    27.000    39.0000   \n",
       "bmi       1337.0     30.663452      6.100468    15.9600    26.290    30.4000   \n",
       "children  1337.0      1.095737      1.205571     0.0000     0.000     1.0000   \n",
       "charges   1337.0  13279.121487  12110.359656  1121.8739  4746.344  9386.1613   \n",
       "\n",
       "                  75%          max  \n",
       "age          51.00000     64.00000  \n",
       "bmi          34.70000     53.13000  \n",
       "children      2.00000      5.00000  \n",
       "charges   16657.71745  63770.42801  "
      ]
     },
     "execution_count": 55,
     "metadata": {},
     "output_type": "execute_result"
    }
   ],
   "source": [
    "df[colunas_numericas].describe().T"
   ]
  },
  {
   "cell_type": "markdown",
   "id": "04772cca",
   "metadata": {},
   "source": [
    "### 18)"
   ]
  },
  {
   "cell_type": "code",
   "execution_count": 56,
   "id": "c46d29ad",
   "metadata": {},
   "outputs": [
    {
     "data": {
      "text/plain": [
       "male      675\n",
       "female    662\n",
       "Name: sex, dtype: int64"
      ]
     },
     "execution_count": 56,
     "metadata": {},
     "output_type": "execute_result"
    }
   ],
   "source": [
    "df['sex'].value_counts()"
   ]
  },
  {
   "cell_type": "markdown",
   "id": "de2fe9cf",
   "metadata": {},
   "source": [
    "### 19)\n",
    "Forma 1"
   ]
  },
  {
   "cell_type": "code",
   "execution_count": 57,
   "id": "f498fc5d",
   "metadata": {},
   "outputs": [
    {
     "data": {
      "text/html": [
       "<div>\n",
       "<style scoped>\n",
       "    .dataframe tbody tr th:only-of-type {\n",
       "        vertical-align: middle;\n",
       "    }\n",
       "\n",
       "    .dataframe tbody tr th {\n",
       "        vertical-align: top;\n",
       "    }\n",
       "\n",
       "    .dataframe thead th {\n",
       "        text-align: right;\n",
       "    }\n",
       "</style>\n",
       "<table border=\"1\" class=\"dataframe\">\n",
       "  <thead>\n",
       "    <tr style=\"text-align: right;\">\n",
       "      <th></th>\n",
       "      <th>age</th>\n",
       "      <th>sex</th>\n",
       "      <th>bmi</th>\n",
       "      <th>children</th>\n",
       "      <th>smoker</th>\n",
       "      <th>region</th>\n",
       "      <th>charges</th>\n",
       "    </tr>\n",
       "  </thead>\n",
       "  <tbody>\n",
       "    <tr>\n",
       "      <th>11</th>\n",
       "      <td>62</td>\n",
       "      <td>female</td>\n",
       "      <td>26.290</td>\n",
       "      <td>0</td>\n",
       "      <td>yes</td>\n",
       "      <td>southeast</td>\n",
       "      <td>27808.72510</td>\n",
       "    </tr>\n",
       "    <tr>\n",
       "      <th>26</th>\n",
       "      <td>63</td>\n",
       "      <td>female</td>\n",
       "      <td>23.085</td>\n",
       "      <td>0</td>\n",
       "      <td>no</td>\n",
       "      <td>northeast</td>\n",
       "      <td>14451.83515</td>\n",
       "    </tr>\n",
       "    <tr>\n",
       "      <th>33</th>\n",
       "      <td>63</td>\n",
       "      <td>male</td>\n",
       "      <td>28.310</td>\n",
       "      <td>0</td>\n",
       "      <td>no</td>\n",
       "      <td>northwest</td>\n",
       "      <td>13770.09790</td>\n",
       "    </tr>\n",
       "    <tr>\n",
       "      <th>36</th>\n",
       "      <td>62</td>\n",
       "      <td>female</td>\n",
       "      <td>32.965</td>\n",
       "      <td>3</td>\n",
       "      <td>no</td>\n",
       "      <td>northwest</td>\n",
       "      <td>15612.19335</td>\n",
       "    </tr>\n",
       "    <tr>\n",
       "      <th>62</th>\n",
       "      <td>64</td>\n",
       "      <td>male</td>\n",
       "      <td>24.700</td>\n",
       "      <td>1</td>\n",
       "      <td>no</td>\n",
       "      <td>northwest</td>\n",
       "      <td>30166.61817</td>\n",
       "    </tr>\n",
       "    <tr>\n",
       "      <th>...</th>\n",
       "      <td>...</td>\n",
       "      <td>...</td>\n",
       "      <td>...</td>\n",
       "      <td>...</td>\n",
       "      <td>...</td>\n",
       "      <td>...</td>\n",
       "      <td>...</td>\n",
       "    </tr>\n",
       "    <tr>\n",
       "      <th>1241</th>\n",
       "      <td>64</td>\n",
       "      <td>male</td>\n",
       "      <td>36.960</td>\n",
       "      <td>2</td>\n",
       "      <td>yes</td>\n",
       "      <td>southeast</td>\n",
       "      <td>49577.66240</td>\n",
       "    </tr>\n",
       "    <tr>\n",
       "      <th>1265</th>\n",
       "      <td>64</td>\n",
       "      <td>male</td>\n",
       "      <td>23.760</td>\n",
       "      <td>0</td>\n",
       "      <td>yes</td>\n",
       "      <td>southeast</td>\n",
       "      <td>26926.51440</td>\n",
       "    </tr>\n",
       "    <tr>\n",
       "      <th>1301</th>\n",
       "      <td>62</td>\n",
       "      <td>male</td>\n",
       "      <td>30.875</td>\n",
       "      <td>3</td>\n",
       "      <td>yes</td>\n",
       "      <td>northwest</td>\n",
       "      <td>46718.16325</td>\n",
       "    </tr>\n",
       "    <tr>\n",
       "      <th>1321</th>\n",
       "      <td>62</td>\n",
       "      <td>male</td>\n",
       "      <td>26.695</td>\n",
       "      <td>0</td>\n",
       "      <td>yes</td>\n",
       "      <td>northeast</td>\n",
       "      <td>28101.33305</td>\n",
       "    </tr>\n",
       "    <tr>\n",
       "      <th>1322</th>\n",
       "      <td>62</td>\n",
       "      <td>male</td>\n",
       "      <td>38.830</td>\n",
       "      <td>0</td>\n",
       "      <td>no</td>\n",
       "      <td>southeast</td>\n",
       "      <td>12981.34570</td>\n",
       "    </tr>\n",
       "  </tbody>\n",
       "</table>\n",
       "<p>68 rows × 7 columns</p>\n",
       "</div>"
      ],
      "text/plain": [
       "      age     sex     bmi  children smoker     region      charges\n",
       "11     62  female  26.290         0    yes  southeast  27808.72510\n",
       "26     63  female  23.085         0     no  northeast  14451.83515\n",
       "33     63    male  28.310         0     no  northwest  13770.09790\n",
       "36     62  female  32.965         3     no  northwest  15612.19335\n",
       "62     64    male  24.700         1     no  northwest  30166.61817\n",
       "...   ...     ...     ...       ...    ...        ...          ...\n",
       "1241   64    male  36.960         2    yes  southeast  49577.66240\n",
       "1265   64    male  23.760         0    yes  southeast  26926.51440\n",
       "1301   62    male  30.875         3    yes  northwest  46718.16325\n",
       "1321   62    male  26.695         0    yes  northeast  28101.33305\n",
       "1322   62    male  38.830         0     no  southeast  12981.34570\n",
       "\n",
       "[68 rows x 7 columns]"
      ]
     },
     "execution_count": 57,
     "metadata": {},
     "output_type": "execute_result"
    }
   ],
   "source": [
    "df.loc[df['age']>= 62]"
   ]
  },
  {
   "cell_type": "markdown",
   "id": "bf1e3ae3",
   "metadata": {},
   "source": [
    "Forma 2"
   ]
  },
  {
   "cell_type": "code",
   "execution_count": 58,
   "id": "9408e444",
   "metadata": {},
   "outputs": [
    {
     "data": {
      "text/html": [
       "<div>\n",
       "<style scoped>\n",
       "    .dataframe tbody tr th:only-of-type {\n",
       "        vertical-align: middle;\n",
       "    }\n",
       "\n",
       "    .dataframe tbody tr th {\n",
       "        vertical-align: top;\n",
       "    }\n",
       "\n",
       "    .dataframe thead th {\n",
       "        text-align: right;\n",
       "    }\n",
       "</style>\n",
       "<table border=\"1\" class=\"dataframe\">\n",
       "  <thead>\n",
       "    <tr style=\"text-align: right;\">\n",
       "      <th></th>\n",
       "      <th>age</th>\n",
       "      <th>sex</th>\n",
       "      <th>bmi</th>\n",
       "      <th>children</th>\n",
       "      <th>smoker</th>\n",
       "      <th>region</th>\n",
       "      <th>charges</th>\n",
       "    </tr>\n",
       "  </thead>\n",
       "  <tbody>\n",
       "    <tr>\n",
       "      <th>11</th>\n",
       "      <td>62</td>\n",
       "      <td>female</td>\n",
       "      <td>26.290</td>\n",
       "      <td>0</td>\n",
       "      <td>yes</td>\n",
       "      <td>southeast</td>\n",
       "      <td>27808.72510</td>\n",
       "    </tr>\n",
       "    <tr>\n",
       "      <th>26</th>\n",
       "      <td>63</td>\n",
       "      <td>female</td>\n",
       "      <td>23.085</td>\n",
       "      <td>0</td>\n",
       "      <td>no</td>\n",
       "      <td>northeast</td>\n",
       "      <td>14451.83515</td>\n",
       "    </tr>\n",
       "    <tr>\n",
       "      <th>33</th>\n",
       "      <td>63</td>\n",
       "      <td>male</td>\n",
       "      <td>28.310</td>\n",
       "      <td>0</td>\n",
       "      <td>no</td>\n",
       "      <td>northwest</td>\n",
       "      <td>13770.09790</td>\n",
       "    </tr>\n",
       "    <tr>\n",
       "      <th>36</th>\n",
       "      <td>62</td>\n",
       "      <td>female</td>\n",
       "      <td>32.965</td>\n",
       "      <td>3</td>\n",
       "      <td>no</td>\n",
       "      <td>northwest</td>\n",
       "      <td>15612.19335</td>\n",
       "    </tr>\n",
       "    <tr>\n",
       "      <th>62</th>\n",
       "      <td>64</td>\n",
       "      <td>male</td>\n",
       "      <td>24.700</td>\n",
       "      <td>1</td>\n",
       "      <td>no</td>\n",
       "      <td>northwest</td>\n",
       "      <td>30166.61817</td>\n",
       "    </tr>\n",
       "    <tr>\n",
       "      <th>...</th>\n",
       "      <td>...</td>\n",
       "      <td>...</td>\n",
       "      <td>...</td>\n",
       "      <td>...</td>\n",
       "      <td>...</td>\n",
       "      <td>...</td>\n",
       "      <td>...</td>\n",
       "    </tr>\n",
       "    <tr>\n",
       "      <th>1241</th>\n",
       "      <td>64</td>\n",
       "      <td>male</td>\n",
       "      <td>36.960</td>\n",
       "      <td>2</td>\n",
       "      <td>yes</td>\n",
       "      <td>southeast</td>\n",
       "      <td>49577.66240</td>\n",
       "    </tr>\n",
       "    <tr>\n",
       "      <th>1265</th>\n",
       "      <td>64</td>\n",
       "      <td>male</td>\n",
       "      <td>23.760</td>\n",
       "      <td>0</td>\n",
       "      <td>yes</td>\n",
       "      <td>southeast</td>\n",
       "      <td>26926.51440</td>\n",
       "    </tr>\n",
       "    <tr>\n",
       "      <th>1301</th>\n",
       "      <td>62</td>\n",
       "      <td>male</td>\n",
       "      <td>30.875</td>\n",
       "      <td>3</td>\n",
       "      <td>yes</td>\n",
       "      <td>northwest</td>\n",
       "      <td>46718.16325</td>\n",
       "    </tr>\n",
       "    <tr>\n",
       "      <th>1321</th>\n",
       "      <td>62</td>\n",
       "      <td>male</td>\n",
       "      <td>26.695</td>\n",
       "      <td>0</td>\n",
       "      <td>yes</td>\n",
       "      <td>northeast</td>\n",
       "      <td>28101.33305</td>\n",
       "    </tr>\n",
       "    <tr>\n",
       "      <th>1322</th>\n",
       "      <td>62</td>\n",
       "      <td>male</td>\n",
       "      <td>38.830</td>\n",
       "      <td>0</td>\n",
       "      <td>no</td>\n",
       "      <td>southeast</td>\n",
       "      <td>12981.34570</td>\n",
       "    </tr>\n",
       "  </tbody>\n",
       "</table>\n",
       "<p>68 rows × 7 columns</p>\n",
       "</div>"
      ],
      "text/plain": [
       "      age     sex     bmi  children smoker     region      charges\n",
       "11     62  female  26.290         0    yes  southeast  27808.72510\n",
       "26     63  female  23.085         0     no  northeast  14451.83515\n",
       "33     63    male  28.310         0     no  northwest  13770.09790\n",
       "36     62  female  32.965         3     no  northwest  15612.19335\n",
       "62     64    male  24.700         1     no  northwest  30166.61817\n",
       "...   ...     ...     ...       ...    ...        ...          ...\n",
       "1241   64    male  36.960         2    yes  southeast  49577.66240\n",
       "1265   64    male  23.760         0    yes  southeast  26926.51440\n",
       "1301   62    male  30.875         3    yes  northwest  46718.16325\n",
       "1321   62    male  26.695         0    yes  northeast  28101.33305\n",
       "1322   62    male  38.830         0     no  southeast  12981.34570\n",
       "\n",
       "[68 rows x 7 columns]"
      ]
     },
     "execution_count": 58,
     "metadata": {},
     "output_type": "execute_result"
    }
   ],
   "source": [
    "df[df['age']>= 62]"
   ]
  },
  {
   "cell_type": "markdown",
   "id": "074fdc15",
   "metadata": {},
   "source": [
    "Forma 3"
   ]
  },
  {
   "cell_type": "code",
   "execution_count": 59,
   "id": "943a4b50",
   "metadata": {},
   "outputs": [
    {
     "data": {
      "text/html": [
       "<div>\n",
       "<style scoped>\n",
       "    .dataframe tbody tr th:only-of-type {\n",
       "        vertical-align: middle;\n",
       "    }\n",
       "\n",
       "    .dataframe tbody tr th {\n",
       "        vertical-align: top;\n",
       "    }\n",
       "\n",
       "    .dataframe thead th {\n",
       "        text-align: right;\n",
       "    }\n",
       "</style>\n",
       "<table border=\"1\" class=\"dataframe\">\n",
       "  <thead>\n",
       "    <tr style=\"text-align: right;\">\n",
       "      <th></th>\n",
       "      <th>age</th>\n",
       "      <th>sex</th>\n",
       "      <th>bmi</th>\n",
       "      <th>children</th>\n",
       "      <th>smoker</th>\n",
       "      <th>region</th>\n",
       "      <th>charges</th>\n",
       "    </tr>\n",
       "  </thead>\n",
       "  <tbody>\n",
       "    <tr>\n",
       "      <th>11</th>\n",
       "      <td>62</td>\n",
       "      <td>female</td>\n",
       "      <td>26.290</td>\n",
       "      <td>0</td>\n",
       "      <td>yes</td>\n",
       "      <td>southeast</td>\n",
       "      <td>27808.72510</td>\n",
       "    </tr>\n",
       "    <tr>\n",
       "      <th>26</th>\n",
       "      <td>63</td>\n",
       "      <td>female</td>\n",
       "      <td>23.085</td>\n",
       "      <td>0</td>\n",
       "      <td>no</td>\n",
       "      <td>northeast</td>\n",
       "      <td>14451.83515</td>\n",
       "    </tr>\n",
       "    <tr>\n",
       "      <th>33</th>\n",
       "      <td>63</td>\n",
       "      <td>male</td>\n",
       "      <td>28.310</td>\n",
       "      <td>0</td>\n",
       "      <td>no</td>\n",
       "      <td>northwest</td>\n",
       "      <td>13770.09790</td>\n",
       "    </tr>\n",
       "    <tr>\n",
       "      <th>36</th>\n",
       "      <td>62</td>\n",
       "      <td>female</td>\n",
       "      <td>32.965</td>\n",
       "      <td>3</td>\n",
       "      <td>no</td>\n",
       "      <td>northwest</td>\n",
       "      <td>15612.19335</td>\n",
       "    </tr>\n",
       "    <tr>\n",
       "      <th>62</th>\n",
       "      <td>64</td>\n",
       "      <td>male</td>\n",
       "      <td>24.700</td>\n",
       "      <td>1</td>\n",
       "      <td>no</td>\n",
       "      <td>northwest</td>\n",
       "      <td>30166.61817</td>\n",
       "    </tr>\n",
       "    <tr>\n",
       "      <th>...</th>\n",
       "      <td>...</td>\n",
       "      <td>...</td>\n",
       "      <td>...</td>\n",
       "      <td>...</td>\n",
       "      <td>...</td>\n",
       "      <td>...</td>\n",
       "      <td>...</td>\n",
       "    </tr>\n",
       "    <tr>\n",
       "      <th>1241</th>\n",
       "      <td>64</td>\n",
       "      <td>male</td>\n",
       "      <td>36.960</td>\n",
       "      <td>2</td>\n",
       "      <td>yes</td>\n",
       "      <td>southeast</td>\n",
       "      <td>49577.66240</td>\n",
       "    </tr>\n",
       "    <tr>\n",
       "      <th>1265</th>\n",
       "      <td>64</td>\n",
       "      <td>male</td>\n",
       "      <td>23.760</td>\n",
       "      <td>0</td>\n",
       "      <td>yes</td>\n",
       "      <td>southeast</td>\n",
       "      <td>26926.51440</td>\n",
       "    </tr>\n",
       "    <tr>\n",
       "      <th>1301</th>\n",
       "      <td>62</td>\n",
       "      <td>male</td>\n",
       "      <td>30.875</td>\n",
       "      <td>3</td>\n",
       "      <td>yes</td>\n",
       "      <td>northwest</td>\n",
       "      <td>46718.16325</td>\n",
       "    </tr>\n",
       "    <tr>\n",
       "      <th>1321</th>\n",
       "      <td>62</td>\n",
       "      <td>male</td>\n",
       "      <td>26.695</td>\n",
       "      <td>0</td>\n",
       "      <td>yes</td>\n",
       "      <td>northeast</td>\n",
       "      <td>28101.33305</td>\n",
       "    </tr>\n",
       "    <tr>\n",
       "      <th>1322</th>\n",
       "      <td>62</td>\n",
       "      <td>male</td>\n",
       "      <td>38.830</td>\n",
       "      <td>0</td>\n",
       "      <td>no</td>\n",
       "      <td>southeast</td>\n",
       "      <td>12981.34570</td>\n",
       "    </tr>\n",
       "  </tbody>\n",
       "</table>\n",
       "<p>68 rows × 7 columns</p>\n",
       "</div>"
      ],
      "text/plain": [
       "      age     sex     bmi  children smoker     region      charges\n",
       "11     62  female  26.290         0    yes  southeast  27808.72510\n",
       "26     63  female  23.085         0     no  northeast  14451.83515\n",
       "33     63    male  28.310         0     no  northwest  13770.09790\n",
       "36     62  female  32.965         3     no  northwest  15612.19335\n",
       "62     64    male  24.700         1     no  northwest  30166.61817\n",
       "...   ...     ...     ...       ...    ...        ...          ...\n",
       "1241   64    male  36.960         2    yes  southeast  49577.66240\n",
       "1265   64    male  23.760         0    yes  southeast  26926.51440\n",
       "1301   62    male  30.875         3    yes  northwest  46718.16325\n",
       "1321   62    male  26.695         0    yes  northeast  28101.33305\n",
       "1322   62    male  38.830         0     no  southeast  12981.34570\n",
       "\n",
       "[68 rows x 7 columns]"
      ]
     },
     "execution_count": 59,
     "metadata": {},
     "output_type": "execute_result"
    }
   ],
   "source": [
    "df.query('age>= 62')"
   ]
  },
  {
   "cell_type": "markdown",
   "id": "d7f98473",
   "metadata": {},
   "source": [
    "### 20)"
   ]
  },
  {
   "cell_type": "code",
   "execution_count": 60,
   "id": "a924c45a",
   "metadata": {},
   "outputs": [
    {
     "data": {
      "text/html": [
       "<div>\n",
       "<style scoped>\n",
       "    .dataframe tbody tr th:only-of-type {\n",
       "        vertical-align: middle;\n",
       "    }\n",
       "\n",
       "    .dataframe tbody tr th {\n",
       "        vertical-align: top;\n",
       "    }\n",
       "\n",
       "    .dataframe thead th {\n",
       "        text-align: right;\n",
       "    }\n",
       "</style>\n",
       "<table border=\"1\" class=\"dataframe\">\n",
       "  <thead>\n",
       "    <tr style=\"text-align: right;\">\n",
       "      <th></th>\n",
       "      <th>age</th>\n",
       "      <th>sex</th>\n",
       "      <th>bmi</th>\n",
       "      <th>children</th>\n",
       "      <th>smoker</th>\n",
       "      <th>region</th>\n",
       "      <th>charges</th>\n",
       "    </tr>\n",
       "  </thead>\n",
       "  <tbody>\n",
       "    <tr>\n",
       "      <th>1</th>\n",
       "      <td>18</td>\n",
       "      <td>male</td>\n",
       "      <td>33.770</td>\n",
       "      <td>1</td>\n",
       "      <td>no</td>\n",
       "      <td>southeast</td>\n",
       "      <td>1725.55230</td>\n",
       "    </tr>\n",
       "    <tr>\n",
       "      <th>22</th>\n",
       "      <td>18</td>\n",
       "      <td>male</td>\n",
       "      <td>34.100</td>\n",
       "      <td>0</td>\n",
       "      <td>no</td>\n",
       "      <td>southeast</td>\n",
       "      <td>1137.01100</td>\n",
       "    </tr>\n",
       "    <tr>\n",
       "      <th>31</th>\n",
       "      <td>18</td>\n",
       "      <td>female</td>\n",
       "      <td>26.315</td>\n",
       "      <td>0</td>\n",
       "      <td>no</td>\n",
       "      <td>northeast</td>\n",
       "      <td>2198.18985</td>\n",
       "    </tr>\n",
       "    <tr>\n",
       "      <th>46</th>\n",
       "      <td>18</td>\n",
       "      <td>female</td>\n",
       "      <td>38.665</td>\n",
       "      <td>2</td>\n",
       "      <td>no</td>\n",
       "      <td>northeast</td>\n",
       "      <td>3393.35635</td>\n",
       "    </tr>\n",
       "    <tr>\n",
       "      <th>50</th>\n",
       "      <td>18</td>\n",
       "      <td>female</td>\n",
       "      <td>35.625</td>\n",
       "      <td>0</td>\n",
       "      <td>no</td>\n",
       "      <td>northeast</td>\n",
       "      <td>2211.13075</td>\n",
       "    </tr>\n",
       "    <tr>\n",
       "      <th>...</th>\n",
       "      <td>...</td>\n",
       "      <td>...</td>\n",
       "      <td>...</td>\n",
       "      <td>...</td>\n",
       "      <td>...</td>\n",
       "      <td>...</td>\n",
       "      <td>...</td>\n",
       "    </tr>\n",
       "    <tr>\n",
       "      <th>1296</th>\n",
       "      <td>18</td>\n",
       "      <td>male</td>\n",
       "      <td>26.125</td>\n",
       "      <td>0</td>\n",
       "      <td>no</td>\n",
       "      <td>northeast</td>\n",
       "      <td>1708.92575</td>\n",
       "    </tr>\n",
       "    <tr>\n",
       "      <th>1315</th>\n",
       "      <td>18</td>\n",
       "      <td>male</td>\n",
       "      <td>28.310</td>\n",
       "      <td>1</td>\n",
       "      <td>no</td>\n",
       "      <td>northeast</td>\n",
       "      <td>11272.33139</td>\n",
       "    </tr>\n",
       "    <tr>\n",
       "      <th>1317</th>\n",
       "      <td>18</td>\n",
       "      <td>male</td>\n",
       "      <td>53.130</td>\n",
       "      <td>0</td>\n",
       "      <td>no</td>\n",
       "      <td>southeast</td>\n",
       "      <td>1163.46270</td>\n",
       "    </tr>\n",
       "    <tr>\n",
       "      <th>1334</th>\n",
       "      <td>18</td>\n",
       "      <td>female</td>\n",
       "      <td>31.920</td>\n",
       "      <td>0</td>\n",
       "      <td>no</td>\n",
       "      <td>northeast</td>\n",
       "      <td>2205.98080</td>\n",
       "    </tr>\n",
       "    <tr>\n",
       "      <th>1335</th>\n",
       "      <td>18</td>\n",
       "      <td>female</td>\n",
       "      <td>36.850</td>\n",
       "      <td>0</td>\n",
       "      <td>no</td>\n",
       "      <td>southeast</td>\n",
       "      <td>1629.83350</td>\n",
       "    </tr>\n",
       "  </tbody>\n",
       "</table>\n",
       "<p>69 rows × 7 columns</p>\n",
       "</div>"
      ],
      "text/plain": [
       "      age     sex     bmi  children smoker     region      charges\n",
       "1      18    male  33.770         1     no  southeast   1725.55230\n",
       "22     18    male  34.100         0     no  southeast   1137.01100\n",
       "31     18  female  26.315         0     no  northeast   2198.18985\n",
       "46     18  female  38.665         2     no  northeast   3393.35635\n",
       "50     18  female  35.625         0     no  northeast   2211.13075\n",
       "...   ...     ...     ...       ...    ...        ...          ...\n",
       "1296   18    male  26.125         0     no  northeast   1708.92575\n",
       "1315   18    male  28.310         1     no  northeast  11272.33139\n",
       "1317   18    male  53.130         0     no  southeast   1163.46270\n",
       "1334   18  female  31.920         0     no  northeast   2205.98080\n",
       "1335   18  female  36.850         0     no  southeast   1629.83350\n",
       "\n",
       "[69 rows x 7 columns]"
      ]
     },
     "execution_count": 60,
     "metadata": {},
     "output_type": "execute_result"
    }
   ],
   "source": [
    "df.loc[df['age'] == 18]"
   ]
  },
  {
   "cell_type": "markdown",
   "id": "0279c374",
   "metadata": {},
   "source": [
    "### 21)"
   ]
  },
  {
   "cell_type": "code",
   "execution_count": 61,
   "id": "8141919b",
   "metadata": {},
   "outputs": [
    {
     "data": {
      "text/plain": [
       "325"
      ]
     },
     "execution_count": 61,
     "metadata": {},
     "output_type": "execute_result"
    }
   ],
   "source": [
    "df.loc[df['region'] == 'southwest'].shape[0]"
   ]
  },
  {
   "cell_type": "markdown",
   "id": "12d7834b",
   "metadata": {},
   "source": [
    "### 22)"
   ]
  },
  {
   "cell_type": "code",
   "execution_count": 62,
   "id": "65bbfc5d",
   "metadata": {},
   "outputs": [],
   "source": [
    "df = df.sort_values(by = 'age', ascending = True)"
   ]
  },
  {
   "cell_type": "code",
   "execution_count": 63,
   "id": "b296457c",
   "metadata": {},
   "outputs": [
    {
     "data": {
      "text/html": [
       "<div>\n",
       "<style scoped>\n",
       "    .dataframe tbody tr th:only-of-type {\n",
       "        vertical-align: middle;\n",
       "    }\n",
       "\n",
       "    .dataframe tbody tr th {\n",
       "        vertical-align: top;\n",
       "    }\n",
       "\n",
       "    .dataframe thead th {\n",
       "        text-align: right;\n",
       "    }\n",
       "</style>\n",
       "<table border=\"1\" class=\"dataframe\">\n",
       "  <thead>\n",
       "    <tr style=\"text-align: right;\">\n",
       "      <th></th>\n",
       "      <th>age</th>\n",
       "      <th>sex</th>\n",
       "      <th>bmi</th>\n",
       "      <th>children</th>\n",
       "      <th>smoker</th>\n",
       "      <th>region</th>\n",
       "      <th>charges</th>\n",
       "    </tr>\n",
       "  </thead>\n",
       "  <tbody>\n",
       "    <tr>\n",
       "      <th>866</th>\n",
       "      <td>18</td>\n",
       "      <td>male</td>\n",
       "      <td>37.290</td>\n",
       "      <td>0</td>\n",
       "      <td>no</td>\n",
       "      <td>southeast</td>\n",
       "      <td>1141.44510</td>\n",
       "    </tr>\n",
       "    <tr>\n",
       "      <th>911</th>\n",
       "      <td>18</td>\n",
       "      <td>male</td>\n",
       "      <td>31.730</td>\n",
       "      <td>0</td>\n",
       "      <td>yes</td>\n",
       "      <td>northeast</td>\n",
       "      <td>33732.68670</td>\n",
       "    </tr>\n",
       "    <tr>\n",
       "      <th>1248</th>\n",
       "      <td>18</td>\n",
       "      <td>female</td>\n",
       "      <td>39.820</td>\n",
       "      <td>0</td>\n",
       "      <td>no</td>\n",
       "      <td>southeast</td>\n",
       "      <td>1633.96180</td>\n",
       "    </tr>\n",
       "    <tr>\n",
       "      <th>781</th>\n",
       "      <td>18</td>\n",
       "      <td>male</td>\n",
       "      <td>41.140</td>\n",
       "      <td>0</td>\n",
       "      <td>no</td>\n",
       "      <td>southeast</td>\n",
       "      <td>1146.79660</td>\n",
       "    </tr>\n",
       "    <tr>\n",
       "      <th>600</th>\n",
       "      <td>18</td>\n",
       "      <td>female</td>\n",
       "      <td>39.160</td>\n",
       "      <td>0</td>\n",
       "      <td>no</td>\n",
       "      <td>southeast</td>\n",
       "      <td>1633.04440</td>\n",
       "    </tr>\n",
       "    <tr>\n",
       "      <th>...</th>\n",
       "      <td>...</td>\n",
       "      <td>...</td>\n",
       "      <td>...</td>\n",
       "      <td>...</td>\n",
       "      <td>...</td>\n",
       "      <td>...</td>\n",
       "      <td>...</td>\n",
       "    </tr>\n",
       "    <tr>\n",
       "      <th>1241</th>\n",
       "      <td>64</td>\n",
       "      <td>male</td>\n",
       "      <td>36.960</td>\n",
       "      <td>2</td>\n",
       "      <td>yes</td>\n",
       "      <td>southeast</td>\n",
       "      <td>49577.66240</td>\n",
       "    </tr>\n",
       "    <tr>\n",
       "      <th>378</th>\n",
       "      <td>64</td>\n",
       "      <td>female</td>\n",
       "      <td>30.115</td>\n",
       "      <td>3</td>\n",
       "      <td>no</td>\n",
       "      <td>northwest</td>\n",
       "      <td>16455.70785</td>\n",
       "    </tr>\n",
       "    <tr>\n",
       "      <th>752</th>\n",
       "      <td>64</td>\n",
       "      <td>male</td>\n",
       "      <td>37.905</td>\n",
       "      <td>0</td>\n",
       "      <td>no</td>\n",
       "      <td>northwest</td>\n",
       "      <td>14210.53595</td>\n",
       "    </tr>\n",
       "    <tr>\n",
       "      <th>335</th>\n",
       "      <td>64</td>\n",
       "      <td>male</td>\n",
       "      <td>34.500</td>\n",
       "      <td>0</td>\n",
       "      <td>no</td>\n",
       "      <td>southwest</td>\n",
       "      <td>13822.80300</td>\n",
       "    </tr>\n",
       "    <tr>\n",
       "      <th>664</th>\n",
       "      <td>64</td>\n",
       "      <td>female</td>\n",
       "      <td>22.990</td>\n",
       "      <td>0</td>\n",
       "      <td>yes</td>\n",
       "      <td>southeast</td>\n",
       "      <td>27037.91410</td>\n",
       "    </tr>\n",
       "  </tbody>\n",
       "</table>\n",
       "<p>1337 rows × 7 columns</p>\n",
       "</div>"
      ],
      "text/plain": [
       "      age     sex     bmi  children smoker     region      charges\n",
       "866    18    male  37.290         0     no  southeast   1141.44510\n",
       "911    18    male  31.730         0    yes  northeast  33732.68670\n",
       "1248   18  female  39.820         0     no  southeast   1633.96180\n",
       "781    18    male  41.140         0     no  southeast   1146.79660\n",
       "600    18  female  39.160         0     no  southeast   1633.04440\n",
       "...   ...     ...     ...       ...    ...        ...          ...\n",
       "1241   64    male  36.960         2    yes  southeast  49577.66240\n",
       "378    64  female  30.115         3     no  northwest  16455.70785\n",
       "752    64    male  37.905         0     no  northwest  14210.53595\n",
       "335    64    male  34.500         0     no  southwest  13822.80300\n",
       "664    64  female  22.990         0    yes  southeast  27037.91410\n",
       "\n",
       "[1337 rows x 7 columns]"
      ]
     },
     "execution_count": 63,
     "metadata": {},
     "output_type": "execute_result"
    }
   ],
   "source": [
    "df"
   ]
  },
  {
   "cell_type": "markdown",
   "id": "24394de4",
   "metadata": {},
   "source": [
    "### 23)"
   ]
  },
  {
   "cell_type": "code",
   "execution_count": 64,
   "id": "8d15ee25",
   "metadata": {},
   "outputs": [
    {
     "data": {
      "image/png": "[encoded data removed]",
      "text/plain": [
       "<Figure size 432x288 with 1 Axes>"
      ]
     },
     "metadata": {
      "needs_background": "light"
     },
     "output_type": "display_data"
    }
   ],
   "source": [
    "df['age'].plot(kind = 'box');"
   ]
  },
  {
   "cell_type": "markdown",
   "id": "bfbb6f31",
   "metadata": {},
   "source": [
    "### 24)"
   ]
  },
  {
   "cell_type": "code",
   "execution_count": 66,
   "id": "6d44fe11",
   "metadata": {},
   "outputs": [
    {
     "data": {
      "text/plain": [
       "<AxesSubplot:ylabel='Frequency'>"
      ]
     },
     "execution_count": 66,
     "metadata": {},
     "output_type": "execute_result"
    },
    {
     "data": {
      "image/png": "[encoded data removed]",
      "text/plain": [
       "<Figure size 432x288 with 1 Axes>"
      ]
     },
     "metadata": {
      "needs_background": "light"
     },
     "output_type": "display_data"
    }
   ],
   "source": [
    "df['age'].plot(kind = 'hist', bins = 30)"
   ]
  },
  {
   "cell_type": "code",
   "execution_count": null,
   "id": "24441c13",
   "metadata": {},
   "outputs": [],
   "source": []
  }
 ],
 "metadata": {
  "kernelspec": {
   "display_name": "Python 3 (ipykernel)",
   "language": "python",
   "name": "python3"
  },
  "language_info": {
   "codemirror_mode": {
    "name": "ipython",
    "version": 3
   },
   "file_extension": ".py",
   "mimetype": "text/x-python",
   "name": "python",
   "nbconvert_exporter": "python",
   "pygments_lexer": "ipython3",
   "version": "3.9.7"
  }
 },
 "nbformat": 4,
 "nbformat_minor": 5
}
